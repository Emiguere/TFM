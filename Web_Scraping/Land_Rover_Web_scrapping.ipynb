{
 "cells": [
  {
   "cell_type": "markdown",
   "metadata": {},
   "source": [
    "# <div align=\"center\"> Web scrapping Europe"
   ]
  },
  {
   "cell_type": "markdown",
   "metadata": {},
   "source": [
    "### Imports"
   ]
  },
  {
   "cell_type": "code",
   "execution_count": 1,
   "metadata": {},
   "outputs": [],
   "source": [
    "import bs4 #Beautiful Soup\n",
    "from urllib.request import urlopen as uReq\n",
    "from bs4 import BeautifulSoup as soup"
   ]
  },
  {
   "cell_type": "markdown",
   "metadata": {},
   "source": [
    "### Web Scrapping Funtion"
   ]
  },
  {
   "cell_type": "code",
   "execution_count": 2,
   "metadata": {},
   "outputs": [],
   "source": [
    "def getcars(my,page,filename):\n",
    "    headers='vehicle;  km; year; power; transmision; fuel_type; consume; country;emisions;price \\n'\n",
    "    f=open(filename,'w')\n",
    "    f.write(headers)\n",
    "    for i in range(1,21):\n",
    "        #page \n",
    "        page_i = my+str(i)+page\n",
    "        #Open the conexion\n",
    "        uClient = uReq(page_i)\n",
    "        #Save the html code\n",
    "        page_html = uClient.read()\n",
    "        #close the conexion\n",
    "        uClient.close()\n",
    "        #Parse\n",
    "        page_soup = soup(page_html,'html.parser')\n",
    "\n",
    "        #List of cars\n",
    "        cars = page_soup.findAll(\"div\",{\"class\":\"cldt-summary-full-item\"})\n",
    "\n",
    "        #Getting the features for each car\n",
    "        for car in cars:\n",
    "            try:\n",
    "                vehicle = car.div.div.div.a.div.div.h2.text\n",
    "            except:\n",
    "                vehicle='Unknown'\n",
    "            try:    \n",
    "                price = car.div.findAll('div',{'class':'cldt-summary-payment'})[0].text.strip()[0:9]\n",
    "            except:\n",
    "                price='-'\n",
    "            km = car.div.findAll('div',{'class':'cldt-summary-vehicle-data'})[0].li.text.strip()\n",
    "            year = car.div.findAll('div',{'class':'cldt-summary-vehicle-data'})[0].ul.findAll('li')[1].text.strip()\n",
    "            power = car.div.findAll('div',{'class':'cldt-summary-vehicle-data'})[0].ul.findAll('li')[2].text.strip()\n",
    "            transmision = car.div.findAll('div',{'class':'cldt-summary-vehicle-data'})[0].ul.findAll('li')[5].text.strip()\n",
    "            fuel_type = car.div.findAll('div',{'class':'cldt-summary-vehicle-data'})[0].ul.findAll('li')[6].text.strip()\n",
    "            consume = car.div.findAll('div',{'class':'cldt-summary-vehicle-data'})[0].ul.findAll('li')[7].text.strip()[0:4]\n",
    "            try:\n",
    "                country = car.findAll('div',{'class':'cldt-summary-seller'})[0].div.findAll('div',{'class':'cldf-summary-seller-contact-address'})[0].text.strip()[0:2]\n",
    "            except:\n",
    "                country = 'Unknown'\n",
    "            emisions = car.div.findAll('div',{'class':'cldt-summary-vehicle-data'})[0].ul.findAll('li')[8].text.strip()[0:4]  \n",
    "            price = car.div.findAll('div',{'class':'cldt-summary-payment'})[0].text.strip()[0:8]\n",
    "            #Writing the csv\n",
    "            f.write(vehicle +';'+ km +';'+ year +';'+ power +';'+ transmision +';'+ fuel_type +';'+ consume +';'+ country +';'+ emisions +';'+ price +'\\n')\n",
    "    f.close()"
   ]
  },
  {
   "cell_type": "markdown",
   "metadata": {},
   "source": [
    "### Land Rover  UE 2010-2012"
   ]
  },
  {
   "cell_type": "code",
   "execution_count": 3,
   "metadata": {},
   "outputs": [],
   "source": [
    "getcars(my='https://www.autoscout24.es/lst/land-rover?sort=age&desc=1&ustate=N%2CU&size=20&page=',\n",
    "        page='&fregto=2012&fregfrom=2010&atype=C&',\n",
    "        filename='Land_Rover_EU_2010_2012.csv')"
   ]
  },
  {
   "cell_type": "markdown",
   "metadata": {},
   "source": [
    "### Land Rover UE 2013-2015"
   ]
  },
  {
   "cell_type": "code",
   "execution_count": 4,
   "metadata": {},
   "outputs": [],
   "source": [
    "getcars(my='https://www.autoscout24.es/lst/land-rover?sort=age&desc=1&ustate=N%2CU&size=20&page=',\n",
    "        page='&fregto=2015&fregfrom=2013&atype=C&',\n",
    "        filename='Land_Rover_EU_2013_2015.csv')"
   ]
  },
  {
   "cell_type": "markdown",
   "metadata": {},
   "source": [
    "### Land Rover UE 2016-2018"
   ]
  },
  {
   "cell_type": "code",
   "execution_count": 5,
   "metadata": {},
   "outputs": [],
   "source": [
    "getcars(my='https://www.autoscout24.es/lst/land-rover?sort=age&desc=1&ustate=N%2CU&size=20&page=',\n",
    "        page='&fregto=2018&fregfrom=2016&atype=C&',\n",
    "        filename='Land_Rover_EU_2016_2018.csv')"
   ]
  },
  {
   "cell_type": "markdown",
   "metadata": {},
   "source": [
    "### Land Rover UE 2019-2020"
   ]
  },
  {
   "cell_type": "code",
   "execution_count": 7,
   "metadata": {},
   "outputs": [],
   "source": [
    "getcars(my='https://www.autoscout24.es/lst/land-rover?sort=age&desc=1&ustate=N%2CU&size=20&page=1&fregfrom=2019&atype=C&',\n",
    "        page='&fregfrom=2019&atype=C&',\n",
    "        filename='Land_Rover_EU_2019_2020.csv')\n"
   ]
  },
  {
   "cell_type": "markdown",
   "metadata": {},
   "source": [
    "# <div align=\"center\"> Web scrapping "
   ]
  },
  {
   "cell_type": "markdown",
   "metadata": {},
   "source": [
    "### Imports"
   ]
  },
  {
   "cell_type": "code",
   "execution_count": 1,
   "metadata": {},
   "outputs": [],
   "source": [
    "import bs4 #Beautiful Soup\n",
    "from urllib.request import urlopen as uReq\n",
    "from bs4 import BeautifulSoup as soup"
   ]
  },
  {
   "cell_type": "markdown",
   "metadata": {},
   "source": [
    "## <div align=\"center\"> Land Rover 2010-2013 </div>"
   ]
  },
  {
   "cell_type": "markdown",
   "metadata": {},
   "source": [
    "##### CSV file"
   ]
  },
  {
   "cell_type": "code",
   "execution_count": 2,
   "metadata": {},
   "outputs": [
    {
     "data": {
      "text/plain": [
       "84"
      ]
     },
     "execution_count": 2,
     "metadata": {},
     "output_type": "execute_result"
    }
   ],
   "source": [
    "headers='vehicle;  km; year; power; transmision; fuel_type; consume; country;emisions;price \\n'\n",
    "filename='land_rover_2010_2013.csv'\n",
    "f=open(filename,'w')\n",
    "f.write(headers)"
   ]
  },
  {
   "cell_type": "markdown",
   "metadata": {},
   "source": [
    "##### Data acquisition"
   ]
  },
  {
   "cell_type": "code",
   "execution_count": 3,
   "metadata": {},
   "outputs": [],
   "source": [
    "#https://www.autoscout24.es/lst/land-rover?sort=age&desc=1&ustate=N%2CU&size=20&page=1&cy=E&fregto=2013&fregfrom=2010&atype=C&\n",
    "my = 'https://www.autoscout24.es/lst/land-rover?sort=age&desc=1&ustate=N%2CU&size=20&page='\n",
    "page = '&cy=E&fregto=2013&fregfrom=2010&atype=C&'"
   ]
  },
  {
   "cell_type": "code",
   "execution_count": 4,
   "metadata": {
    "collapsed": true
   },
   "outputs": [
    {
     "name": "stdout",
     "output_type": "stream",
     "text": [
      "1\n",
      "2\n",
      "3\n",
      "4\n",
      "5\n",
      "6\n",
      "7\n",
      "8\n",
      "9\n",
      "10\n",
      "11\n",
      "12\n",
      "13\n",
      "14\n",
      "15\n",
      "16\n",
      "17\n",
      "18\n",
      "19\n",
      "20\n"
     ]
    }
   ],
   "source": [
    "for i in range(1,21):\n",
    "    #page \n",
    "    print (i)\n",
    "    page_i = my+str(i)+page\n",
    "    #print (page_i)\n",
    "    \n",
    "    #Open the conexion\n",
    "    uClient = uReq(page_i)\n",
    "    #Save the html code\n",
    "    page_html = uClient.read()\n",
    "    #close the conexion\n",
    "    uClient.close()\n",
    "    #Parse\n",
    "    page_soup = soup(page_html,'html.parser')\n",
    "    \n",
    "    #List of cars\n",
    "    cars = page_soup.findAll(\"div\",{\"class\":\"cldt-summary-full-item\"})\n",
    "    \n",
    "    #We'll get the features for each car\n",
    "    for car in cars:\n",
    "        vehicle = car.div.div.div.a.div.div.h2.text\n",
    "        price = car.div.findAll('div',{'class':'cldt-summary-payment'})[0].text.strip()[0:8]\n",
    "        km = car.div.findAll('div',{'class':'cldt-summary-vehicle-data'})[0].li.text.strip()\n",
    "        year = car.div.findAll('div',{'class':'cldt-summary-vehicle-data'})[0].ul.findAll('li')[1].text.strip()\n",
    "        power = car.div.findAll('div',{'class':'cldt-summary-vehicle-data'})[0].ul.findAll('li')[2].text.strip()\n",
    "        transmision = car.div.findAll('div',{'class':'cldt-summary-vehicle-data'})[0].ul.findAll('li')[5].text.strip()\n",
    "        fuel_type = car.div.findAll('div',{'class':'cldt-summary-vehicle-data'})[0].ul.findAll('li')[6].text.strip()\n",
    "        consume = car.div.findAll('div',{'class':'cldt-summary-vehicle-data'})[0].ul.findAll('li')[7].text.strip()[0:4]\n",
    "        ##country = car.findAll('div',{'class':'cldt-summary-seller'})[0].div.find('div',{'class':'cldf-summary-seller-contact-address'}).text\n",
    "        try:\n",
    "            country = car.findAll('div',{'class':'cldt-summary-seller'})[0].div.findAll('div',{'class':'cldf-summary-seller-contact-address'})[0].text.strip()[0:2]\n",
    "        except:\n",
    "            country = 'Unknown'\n",
    "        emisions = car.div.findAll('div',{'class':'cldt-summary-vehicle-data'})[0].ul.findAll('li')[8].text.strip()[0:4]  \n",
    "        price = car.div.findAll('div',{'class':'cldt-summary-payment'})[0].text.strip()[0:8]\n",
    "        #Writing the csv\n",
    "        f.write(vehicle +';'+ km +';'+ year +';'+ power +';'+ transmision +';'+ fuel_type +';'+ consume +';'+ country +';'+ emisions +';'+ price +'\\n')"
   ]
  },
  {
   "cell_type": "code",
   "execution_count": 5,
   "metadata": {},
   "outputs": [],
   "source": [
    "f.close()"
   ]
  },
  {
   "cell_type": "markdown",
   "metadata": {},
   "source": [
    "## <div align=\"center\"> Land Rover   2014-2015 </div>"
   ]
  },
  {
   "cell_type": "markdown",
   "metadata": {},
   "source": [
    "##### CSV file"
   ]
  },
  {
   "cell_type": "code",
   "execution_count": 6,
   "metadata": {},
   "outputs": [
    {
     "data": {
      "text/plain": [
       "84"
      ]
     },
     "execution_count": 6,
     "metadata": {},
     "output_type": "execute_result"
    }
   ],
   "source": [
    "headers='vehicle;  km; year; power; transmision; fuel_type; consume; country;emisions;price \\n'\n",
    "filename='land_rover_2014_2015.csv'\n",
    "f=open(filename,'w')\n",
    "f.write(headers)"
   ]
  },
  {
   "cell_type": "markdown",
   "metadata": {},
   "source": [
    "##### Data acquisition"
   ]
  },
  {
   "cell_type": "code",
   "execution_count": 7,
   "metadata": {},
   "outputs": [],
   "source": [
    "#https://www.autoscout24.es/lst/land-rover?sort=age&desc=1&ustate=N%2CU&size=20&page=1&cy=E&fregto=2013&fregfrom=2010&atype=C&\n",
    "my = 'https://www.autoscout24.es/lst/land-rover?sort=age&desc=1&ustate=N%2CU&size=20&page='\n",
    "page = '&cy=E&fregto=2015&fregfrom=2014&atype=C&'"
   ]
  },
  {
   "cell_type": "code",
   "execution_count": 8,
   "metadata": {
    "collapsed": true
   },
   "outputs": [
    {
     "name": "stdout",
     "output_type": "stream",
     "text": [
      "1\n",
      "2\n",
      "3\n",
      "4\n",
      "5\n",
      "6\n",
      "7\n",
      "8\n",
      "9\n",
      "10\n",
      "11\n",
      "12\n",
      "13\n",
      "14\n",
      "15\n",
      "16\n",
      "17\n",
      "18\n",
      "19\n",
      "20\n"
     ]
    }
   ],
   "source": [
    "for i in range(1,21):\n",
    "    #page \n",
    "    print (i)\n",
    "    page_i = my+str(i)+page\n",
    "    #print (page_i)\n",
    "    \n",
    "    #Open the conexion\n",
    "    uClient = uReq(page_i)\n",
    "    #Save the html code\n",
    "    page_html = uClient.read()\n",
    "    #close the conexion\n",
    "    uClient.close()\n",
    "    #Parse\n",
    "    page_soup = soup(page_html,'html.parser')\n",
    "    \n",
    "    #List of cars\n",
    "    cars = page_soup.findAll(\"div\",{\"class\":\"cldt-summary-full-item\"})\n",
    "    \n",
    "    #We'll get the features for each car\n",
    "    for car in cars:\n",
    "        vehicle = car.div.div.div.a.div.div.h2.text\n",
    "        price = car.div.findAll('div',{'class':'cldt-summary-payment'})[0].text.strip()[0:8]\n",
    "        km = car.div.findAll('div',{'class':'cldt-summary-vehicle-data'})[0].li.text.strip()\n",
    "        year = car.div.findAll('div',{'class':'cldt-summary-vehicle-data'})[0].ul.findAll('li')[1].text.strip()\n",
    "        power = car.div.findAll('div',{'class':'cldt-summary-vehicle-data'})[0].ul.findAll('li')[2].text.strip()\n",
    "        transmision = car.div.findAll('div',{'class':'cldt-summary-vehicle-data'})[0].ul.findAll('li')[5].text.strip()\n",
    "        fuel_type = car.div.findAll('div',{'class':'cldt-summary-vehicle-data'})[0].ul.findAll('li')[6].text.strip()\n",
    "        consume = car.div.findAll('div',{'class':'cldt-summary-vehicle-data'})[0].ul.findAll('li')[7].text.strip()[0:4]\n",
    "        ##country = car.findAll('div',{'class':'cldt-summary-seller'})[0].div.find('div',{'class':'cldf-summary-seller-contact-address'}).text\n",
    "        try:\n",
    "            country = car.findAll('div',{'class':'cldt-summary-seller'})[0].div.findAll('div',{'class':'cldf-summary-seller-contact-address'})[0].text.strip()[0:2]\n",
    "        except:\n",
    "            country = 'Unknown'\n",
    "        emisions = car.div.findAll('div',{'class':'cldt-summary-vehicle-data'})[0].ul.findAll('li')[8].text.strip()[0:4]  \n",
    "        price = car.div.findAll('div',{'class':'cldt-summary-payment'})[0].text.strip()[0:8]\n",
    "        #Writing the csv\n",
    "        f.write(vehicle +';'+ km +';'+ year +';'+ power +';'+ transmision +';'+ fuel_type +';'+ consume +';'+ country +';'+ emisions +';'+ price +'\\n')"
   ]
  },
  {
   "cell_type": "code",
   "execution_count": 9,
   "metadata": {},
   "outputs": [],
   "source": [
    "f.close()"
   ]
  },
  {
   "cell_type": "markdown",
   "metadata": {},
   "source": [
    "-----------------------------------------------------------------------------------------------------------------------"
   ]
  },
  {
   "cell_type": "markdown",
   "metadata": {},
   "source": [
    "## <div align=\"center\"> Land Rover 2016"
   ]
  },
  {
   "cell_type": "markdown",
   "metadata": {},
   "source": [
    "##### CSV file"
   ]
  },
  {
   "cell_type": "code",
   "execution_count": 14,
   "metadata": {},
   "outputs": [
    {
     "data": {
      "text/plain": [
       "84"
      ]
     },
     "execution_count": 14,
     "metadata": {},
     "output_type": "execute_result"
    }
   ],
   "source": [
    "headers='vehicle;  km; year; power; transmision; fuel_type; consume; country;emisions;price \\n'\n",
    "filename='land_rover_2016.csv'\n",
    "f=open(filename,'w')\n",
    "f.write(headers)"
   ]
  },
  {
   "cell_type": "markdown",
   "metadata": {},
   "source": [
    "##### Data acquisition"
   ]
  },
  {
   "cell_type": "code",
   "execution_count": 15,
   "metadata": {},
   "outputs": [],
   "source": [
    "# https://www.autoscout24.es/lst/land-rover?sort=age&desc=1&ustate=N%2CU&size=20&page=1&cy=E&fregto=2016&fregfrom=2016&atype=C&\n",
    "my = 'https://www.autoscout24.es/lst/land-rover?sort=age&desc=1&ustate=N%2CU&size=20&page='\n",
    "page = '&cy=E&fregto=2016&fregfrom=2016&atype=C&'"
   ]
  },
  {
   "cell_type": "code",
   "execution_count": 16,
   "metadata": {
    "collapsed": true
   },
   "outputs": [
    {
     "name": "stdout",
     "output_type": "stream",
     "text": [
      "1\n",
      "2\n",
      "3\n",
      "4\n",
      "5\n",
      "6\n",
      "7\n",
      "8\n",
      "9\n",
      "10\n",
      "11\n",
      "12\n",
      "13\n",
      "14\n",
      "15\n",
      "16\n",
      "17\n",
      "18\n",
      "19\n",
      "20\n"
     ]
    }
   ],
   "source": [
    "for i in range(1,21):\n",
    "    #page \n",
    "    print (i)\n",
    "    page_i = my+str(i)+page\n",
    "    #print (page_i)\n",
    "    \n",
    "    #Open the conexion\n",
    "    uClient = uReq(page_i)\n",
    "    #Save the html code\n",
    "    page_html = uClient.read()\n",
    "    #close the conexion\n",
    "    uClient.close()\n",
    "    #Parse\n",
    "    page_soup = soup(page_html,'html.parser')\n",
    "    \n",
    "    #List of cars\n",
    "    cars = page_soup.findAll(\"div\",{\"class\":\"cldt-summary-full-item\"})\n",
    "    \n",
    "    #We'll get the features for each car\n",
    "    for car in cars:\n",
    "        vehicle = car.div.div.div.a.div.div.h2.text\n",
    "        price = car.div.findAll('div',{'class':'cldt-summary-payment'})[0].text.strip()[0:8]\n",
    "        km = car.div.findAll('div',{'class':'cldt-summary-vehicle-data'})[0].li.text.strip()\n",
    "        year = car.div.findAll('div',{'class':'cldt-summary-vehicle-data'})[0].ul.findAll('li')[1].text.strip()\n",
    "        power = car.div.findAll('div',{'class':'cldt-summary-vehicle-data'})[0].ul.findAll('li')[2].text.strip()\n",
    "        transmision = car.div.findAll('div',{'class':'cldt-summary-vehicle-data'})[0].ul.findAll('li')[5].text.strip()\n",
    "        fuel_type = car.div.findAll('div',{'class':'cldt-summary-vehicle-data'})[0].ul.findAll('li')[6].text.strip()\n",
    "        consume = car.div.findAll('div',{'class':'cldt-summary-vehicle-data'})[0].ul.findAll('li')[7].text.strip()[0:4]\n",
    "        ##country = car.findAll('div',{'class':'cldt-summary-seller'})[0].div.find('div',{'class':'cldf-summary-seller-contact-address'}).text\n",
    "        try:\n",
    "            country = car.findAll('div',{'class':'cldt-summary-seller'})[0].div.findAll('div',{'class':'cldf-summary-seller-contact-address'})[0].text.strip()[0:2]\n",
    "        except:\n",
    "            country = 'Unknown'\n",
    "        emisions = car.div.findAll('div',{'class':'cldt-summary-vehicle-data'})[0].ul.findAll('li')[8].text.strip()[0:4]  \n",
    "        price = car.div.findAll('div',{'class':'cldt-summary-payment'})[0].text.strip()[0:8]\n",
    "        #Writing the csv\n",
    "        f.write(vehicle +';'+ km +';'+ year +';'+ power +';'+ transmision +';'+ fuel_type +';'+ consume +';'+ country +';'+ emisions +';'+ price +'\\n')"
   ]
  },
  {
   "cell_type": "code",
   "execution_count": 17,
   "metadata": {},
   "outputs": [],
   "source": [
    "f.close()"
   ]
  },
  {
   "cell_type": "markdown",
   "metadata": {},
   "source": [
    "-------------------------------------------------------------------------------------------------------------------------------"
   ]
  },
  {
   "cell_type": "markdown",
   "metadata": {},
   "source": [
    "## <div align=\"center\"> Land Rover 2017"
   ]
  },
  {
   "cell_type": "markdown",
   "metadata": {},
   "source": [
    "##### CSV file"
   ]
  },
  {
   "cell_type": "code",
   "execution_count": 18,
   "metadata": {},
   "outputs": [
    {
     "data": {
      "text/plain": [
       "84"
      ]
     },
     "execution_count": 18,
     "metadata": {},
     "output_type": "execute_result"
    }
   ],
   "source": [
    "headers='vehicle;  km; year; power; transmision; fuel_type; consume; country;emisions;price \\n'\n",
    "filename='land_rover_2017.csv'\n",
    "f=open(filename,'w')\n",
    "f.write(headers)"
   ]
  },
  {
   "cell_type": "markdown",
   "metadata": {},
   "source": [
    "##### Data acquisition"
   ]
  },
  {
   "cell_type": "code",
   "execution_count": 19,
   "metadata": {},
   "outputs": [],
   "source": [
    "# https://www.autoscout24.es/lst/land-rover?sort=age&desc=1&ustate=N%2CU&size=20&page=1&cy=E&fregto=2016&fregfrom=2016&atype=C&\n",
    "my = 'https://www.autoscout24.es/lst/land-rover?sort=age&desc=1&ustate=N%2CU&size=20&page='\n",
    "page = '&cy=E&fregto=2017&fregfrom=2017&atype=C&'"
   ]
  },
  {
   "cell_type": "code",
   "execution_count": 20,
   "metadata": {
    "collapsed": true
   },
   "outputs": [
    {
     "name": "stdout",
     "output_type": "stream",
     "text": [
      "1\n",
      "2\n",
      "3\n",
      "4\n",
      "5\n",
      "6\n",
      "7\n",
      "8\n",
      "9\n",
      "10\n",
      "11\n",
      "12\n",
      "13\n",
      "14\n",
      "15\n",
      "16\n",
      "17\n",
      "18\n",
      "19\n",
      "20\n"
     ]
    }
   ],
   "source": [
    "for i in range(1,21):\n",
    "    #page \n",
    "    print (i)\n",
    "    page_i = my+str(i)+page\n",
    "    #print (page_i)\n",
    "    \n",
    "    #Open the conexion\n",
    "    uClient = uReq(page_i)\n",
    "    #Save the html code\n",
    "    page_html = uClient.read()\n",
    "    #close the conexion\n",
    "    uClient.close()\n",
    "    #Parse\n",
    "    page_soup = soup(page_html,'html.parser')\n",
    "    \n",
    "    #List of cars\n",
    "    cars = page_soup.findAll(\"div\",{\"class\":\"cldt-summary-full-item\"})\n",
    "    \n",
    "    #We'll get the features for each car\n",
    "    for car in cars:\n",
    "        vehicle = car.div.div.div.a.div.div.h2.text\n",
    "        price = car.div.findAll('div',{'class':'cldt-summary-payment'})[0].text.strip()[0:8]\n",
    "        km = car.div.findAll('div',{'class':'cldt-summary-vehicle-data'})[0].li.text.strip()\n",
    "        year = car.div.findAll('div',{'class':'cldt-summary-vehicle-data'})[0].ul.findAll('li')[1].text.strip()\n",
    "        power = car.div.findAll('div',{'class':'cldt-summary-vehicle-data'})[0].ul.findAll('li')[2].text.strip()\n",
    "        transmision = car.div.findAll('div',{'class':'cldt-summary-vehicle-data'})[0].ul.findAll('li')[5].text.strip()\n",
    "        fuel_type = car.div.findAll('div',{'class':'cldt-summary-vehicle-data'})[0].ul.findAll('li')[6].text.strip()\n",
    "        consume = car.div.findAll('div',{'class':'cldt-summary-vehicle-data'})[0].ul.findAll('li')[7].text.strip()[0:4]\n",
    "        ##country = car.findAll('div',{'class':'cldt-summary-seller'})[0].div.find('div',{'class':'cldf-summary-seller-contact-address'}).text\n",
    "        try:\n",
    "            country = car.findAll('div',{'class':'cldt-summary-seller'})[0].div.findAll('div',{'class':'cldf-summary-seller-contact-address'})[0].text.strip()[0:2]\n",
    "        except:\n",
    "            country = 'Unknown'\n",
    "        emisions = car.div.findAll('div',{'class':'cldt-summary-vehicle-data'})[0].ul.findAll('li')[8].text.strip()[0:4]  \n",
    "        price = car.div.findAll('div',{'class':'cldt-summary-payment'})[0].text.strip()[0:8]\n",
    "        #Writing the csv\n",
    "        f.write(vehicle +';'+ km +';'+ year +';'+ power +';'+ transmision +';'+ fuel_type +';'+ consume +';'+ country +';'+ emisions +';'+ price +'\\n')"
   ]
  },
  {
   "cell_type": "code",
   "execution_count": 21,
   "metadata": {},
   "outputs": [],
   "source": [
    "f.close()"
   ]
  },
  {
   "cell_type": "markdown",
   "metadata": {},
   "source": [
    "-------------------------------------------------------------------------------------------------------------------------------"
   ]
  },
  {
   "cell_type": "markdown",
   "metadata": {},
   "source": [
    "## <div align=\"center\"> Land Rover 2018-2019"
   ]
  },
  {
   "cell_type": "markdown",
   "metadata": {},
   "source": [
    "##### CSV file"
   ]
  },
  {
   "cell_type": "code",
   "execution_count": 22,
   "metadata": {},
   "outputs": [
    {
     "data": {
      "text/plain": [
       "84"
      ]
     },
     "execution_count": 22,
     "metadata": {},
     "output_type": "execute_result"
    }
   ],
   "source": [
    "headers='vehicle;  km; year; power; transmision; fuel_type; consume; country;emisions;price \\n'\n",
    "filename='land_rover_2018_2019.csv'\n",
    "f=open(filename,'w')\n",
    "f.write(headers)"
   ]
  },
  {
   "cell_type": "markdown",
   "metadata": {},
   "source": [
    "##### Data acquisition"
   ]
  },
  {
   "cell_type": "code",
   "execution_count": 25,
   "metadata": {},
   "outputs": [],
   "source": [
    "# https://www.autoscout24.es/lst/land-rover?sort=age&desc=1&ustate=N%2CU&size=20&page=1&cy=E&fregto=2016&fregfrom=2016&atype=C&\n",
    "my = 'https://www.autoscout24.es/lst/land-rover?sort=age&desc=1&ustate=N%2CU&size=20&page='\n",
    "page = '&cy=E&fregto=2019&fregfrom=2018&atype=C&'"
   ]
  },
  {
   "cell_type": "code",
   "execution_count": 26,
   "metadata": {
    "collapsed": true
   },
   "outputs": [
    {
     "name": "stdout",
     "output_type": "stream",
     "text": [
      "1\n",
      "2\n",
      "3\n",
      "4\n",
      "5\n",
      "6\n",
      "7\n",
      "8\n",
      "9\n",
      "10\n",
      "11\n",
      "12\n",
      "13\n",
      "14\n",
      "15\n",
      "16\n",
      "17\n",
      "18\n",
      "19\n",
      "20\n"
     ]
    }
   ],
   "source": [
    "for i in range(1,21):\n",
    "    #page \n",
    "    print (i)\n",
    "    page_i = my+str(i)+page\n",
    "    #print (page_i)\n",
    "    \n",
    "    #Open the conexion\n",
    "    uClient = uReq(page_i)\n",
    "    #Save the html code\n",
    "    page_html = uClient.read()\n",
    "    #close the conexion\n",
    "    uClient.close()\n",
    "    #Parse\n",
    "    page_soup = soup(page_html,'html.parser')\n",
    "    \n",
    "    #List of cars\n",
    "    cars = page_soup.findAll(\"div\",{\"class\":\"cldt-summary-full-item\"})\n",
    "    \n",
    "    #We'll get the features for each car\n",
    "    for car in cars:\n",
    "        vehicle = car.div.div.div.a.div.div.h2.text\n",
    "        price = car.div.findAll('div',{'class':'cldt-summary-payment'})[0].text.strip()[0:8]\n",
    "        km = car.div.findAll('div',{'class':'cldt-summary-vehicle-data'})[0].li.text.strip()\n",
    "        year = car.div.findAll('div',{'class':'cldt-summary-vehicle-data'})[0].ul.findAll('li')[1].text.strip()\n",
    "        power = car.div.findAll('div',{'class':'cldt-summary-vehicle-data'})[0].ul.findAll('li')[2].text.strip()\n",
    "        transmision = car.div.findAll('div',{'class':'cldt-summary-vehicle-data'})[0].ul.findAll('li')[5].text.strip()\n",
    "        fuel_type = car.div.findAll('div',{'class':'cldt-summary-vehicle-data'})[0].ul.findAll('li')[6].text.strip()\n",
    "        consume = car.div.findAll('div',{'class':'cldt-summary-vehicle-data'})[0].ul.findAll('li')[7].text.strip()[0:4]\n",
    "        ##country = car.findAll('div',{'class':'cldt-summary-seller'})[0].div.find('div',{'class':'cldf-summary-seller-contact-address'}).text\n",
    "        try:\n",
    "            country = car.findAll('div',{'class':'cldt-summary-seller'})[0].div.findAll('div',{'class':'cldf-summary-seller-contact-address'})[0].text.strip()[0:2]\n",
    "        except:\n",
    "            country = 'Unknown'\n",
    "        emisions = car.div.findAll('div',{'class':'cldt-summary-vehicle-data'})[0].ul.findAll('li')[8].text.strip()[0:4]  \n",
    "        price = car.div.findAll('div',{'class':'cldt-summary-payment'})[0].text.strip()[0:8]\n",
    "        #Writing the csv\n",
    "        f.write(vehicle +';'+ km +';'+ year +';'+ power +';'+ transmision +';'+ fuel_type +';'+ consume +';'+ country +';'+ emisions +';'+ price +'\\n')"
   ]
  },
  {
   "cell_type": "code",
   "execution_count": 27,
   "metadata": {},
   "outputs": [],
   "source": [
    "f.close()"
   ]
  },
  {
   "cell_type": "markdown",
   "metadata": {},
   "source": [
    "## <div align=\"center\"> Land Rover 2020"
   ]
  },
  {
   "cell_type": "markdown",
   "metadata": {},
   "source": [
    "##### CSV file"
   ]
  },
  {
   "cell_type": "code",
   "execution_count": 33,
   "metadata": {},
   "outputs": [
    {
     "data": {
      "text/plain": [
       "84"
      ]
     },
     "execution_count": 33,
     "metadata": {},
     "output_type": "execute_result"
    }
   ],
   "source": [
    "headers='vehicle;  km; year; power; transmision; fuel_type; consume; country;emisions;price \\n'\n",
    "filename='land_rover_2020.csv'\n",
    "f=open(filename,'w')\n",
    "f.write(headers)"
   ]
  },
  {
   "cell_type": "markdown",
   "metadata": {},
   "source": [
    "##### Data acquisition"
   ]
  },
  {
   "cell_type": "code",
   "execution_count": 34,
   "metadata": {},
   "outputs": [],
   "source": [
    "# https://www.autoscout24.es/lst/land-rover?sort=standard&desc=0&ustate=N%2CU&size=20&page=1&cy=E&fregfrom=2020&atype=C&\n",
    "my = 'https://www.autoscout24.es/lst/land-rover?sort=standard&desc=0&ustate=N%2CU&size=20&page='\n",
    "page = '&cy=E&fregfrom=2020&atype=C&'"
   ]
  },
  {
   "cell_type": "code",
   "execution_count": 35,
   "metadata": {
    "collapsed": true
   },
   "outputs": [
    {
     "name": "stdout",
     "output_type": "stream",
     "text": [
      "1\n",
      "2\n",
      "3\n",
      "4\n",
      "5\n",
      "6\n",
      "7\n",
      "8\n",
      "9\n",
      "10\n",
      "11\n",
      "12\n",
      "13\n",
      "14\n",
      "15\n",
      "16\n",
      "17\n",
      "18\n",
      "19\n",
      "20\n"
     ]
    }
   ],
   "source": [
    "for i in range(1,21):\n",
    "    #page \n",
    "    print (i)\n",
    "    page_i = my+str(i)+page\n",
    "    #print (page_i)\n",
    "    \n",
    "    #Open the conexion\n",
    "    uClient = uReq(page_i)\n",
    "    #Save the html code\n",
    "    page_html = uClient.read()\n",
    "    #close the conexion\n",
    "    uClient.close()\n",
    "    #Parse\n",
    "    page_soup = soup(page_html,'html.parser')\n",
    "    \n",
    "    #List of cars\n",
    "    cars = page_soup.findAll(\"div\",{\"class\":\"cldt-summary-full-item\"})\n",
    "    \n",
    "    #We'll get the features for each car\n",
    "    for car in cars:\n",
    "        vehicle = car.div.div.div.a.div.div.h2.text\n",
    "        price = car.div.findAll('div',{'class':'cldt-summary-payment'})[0].text.strip()[0:8]\n",
    "        km = car.div.findAll('div',{'class':'cldt-summary-vehicle-data'})[0].li.text.strip()\n",
    "        year = car.div.findAll('div',{'class':'cldt-summary-vehicle-data'})[0].ul.findAll('li')[1].text.strip()\n",
    "        power = car.div.findAll('div',{'class':'cldt-summary-vehicle-data'})[0].ul.findAll('li')[2].text.strip()\n",
    "        transmision = car.div.findAll('div',{'class':'cldt-summary-vehicle-data'})[0].ul.findAll('li')[5].text.strip()\n",
    "        fuel_type = car.div.findAll('div',{'class':'cldt-summary-vehicle-data'})[0].ul.findAll('li')[6].text.strip()\n",
    "        consume = car.div.findAll('div',{'class':'cldt-summary-vehicle-data'})[0].ul.findAll('li')[7].text.strip()[0:4]\n",
    "        ##country = car.findAll('div',{'class':'cldt-summary-seller'})[0].div.find('div',{'class':'cldf-summary-seller-contact-address'}).text\n",
    "        try:\n",
    "            country = car.findAll('div',{'class':'cldt-summary-seller'})[0].div.findAll('div',{'class':'cldf-summary-seller-contact-address'})[0].text.strip()[0:2]\n",
    "        except:\n",
    "            country = 'Unknown'\n",
    "        emisions = car.div.findAll('div',{'class':'cldt-summary-vehicle-data'})[0].ul.findAll('li')[8].text.strip()[0:4]  \n",
    "        price = car.div.findAll('div',{'class':'cldt-summary-payment'})[0].text.strip()[0:8]\n",
    "        #Writing the csv\n",
    "        f.write(vehicle +';'+ km +';'+ year +';'+ power +';'+ transmision +';'+ fuel_type +';'+ consume +';'+ country +';'+ emisions +';'+ price +'\\n')"
   ]
  },
  {
   "cell_type": "code",
   "execution_count": 36,
   "metadata": {},
   "outputs": [],
   "source": [
    "f.close()"
   ]
  },
  {
   "cell_type": "markdown",
   "metadata": {},
   "source": [
    "-------------------------------------------------------------------------------------------------------------------------------"
   ]
  }
 ],
 "metadata": {
  "kernelspec": {
   "display_name": "Python 3",
   "language": "python",
   "name": "python3"
  },
  "language_info": {
   "codemirror_mode": {
    "name": "ipython",
    "version": 3
   },
   "file_extension": ".py",
   "mimetype": "text/x-python",
   "name": "python",
   "nbconvert_exporter": "python",
   "pygments_lexer": "ipython3",
   "version": "3.7.6"
  }
 },
 "nbformat": 4,
 "nbformat_minor": 4
}
