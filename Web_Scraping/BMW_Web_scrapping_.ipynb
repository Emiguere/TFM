{
 "cells": [
  {
   "cell_type": "markdown",
   "metadata": {},
   "source": [
    "# <div align=\"center\"> Web scrapping Europe"
   ]
  },
  {
   "cell_type": "markdown",
   "metadata": {},
   "source": [
    "### Imports"
   ]
  },
  {
   "cell_type": "code",
   "execution_count": 1,
   "metadata": {},
   "outputs": [],
   "source": [
    "import bs4 #Beautiful Soup\n",
    "from urllib.request import urlopen as uReq\n",
    "from bs4 import BeautifulSoup as soup"
   ]
  },
  {
   "cell_type": "markdown",
   "metadata": {},
   "source": [
    "### Web Scrapping Funtion"
   ]
  },
  {
   "cell_type": "code",
   "execution_count": 2,
   "metadata": {},
   "outputs": [],
   "source": [
    "def getcars(my,page,filename):\n",
    "    headers='vehicle;  km; year; power; transmision; fuel_type; consume; country;emisions;price \\n'\n",
    "    f=open(filename,'w')\n",
    "    f.write(headers)\n",
    "    for i in range(1,21):\n",
    "        #page \n",
    "        page_i = my+str(i)+page\n",
    "        #Open the conexion\n",
    "        uClient = uReq(page_i)\n",
    "        #Save the html code\n",
    "        page_html = uClient.read()\n",
    "        #close the conexion\n",
    "        uClient.close()\n",
    "        #Parse\n",
    "        page_soup = soup(page_html,'html.parser')\n",
    "\n",
    "        #List of cars\n",
    "        cars = page_soup.findAll(\"div\",{\"class\":\"cldt-summary-full-item\"})\n",
    "\n",
    "        #Getting the features for each car\n",
    "        for car in cars:\n",
    "            try:\n",
    "                vehicle = car.div.div.div.a.div.div.h2.text\n",
    "            except:\n",
    "                vehicle='Unknown'\n",
    "            try:    \n",
    "                price = car.div.findAll('div',{'class':'cldt-summary-payment'})[0].text.strip()[0:9]\n",
    "            except:\n",
    "                price='-'\n",
    "            km = car.div.findAll('div',{'class':'cldt-summary-vehicle-data'})[0].li.text.strip()\n",
    "            year = car.div.findAll('div',{'class':'cldt-summary-vehicle-data'})[0].ul.findAll('li')[1].text.strip()\n",
    "            power = car.div.findAll('div',{'class':'cldt-summary-vehicle-data'})[0].ul.findAll('li')[2].text.strip()\n",
    "            transmision = car.div.findAll('div',{'class':'cldt-summary-vehicle-data'})[0].ul.findAll('li')[5].text.strip()\n",
    "            fuel_type = car.div.findAll('div',{'class':'cldt-summary-vehicle-data'})[0].ul.findAll('li')[6].text.strip()\n",
    "            consume = car.div.findAll('div',{'class':'cldt-summary-vehicle-data'})[0].ul.findAll('li')[7].text.strip()[0:4]\n",
    "            try:\n",
    "                country = car.findAll('div',{'class':'cldt-summary-seller'})[0].div.findAll('div',{'class':'cldf-summary-seller-contact-address'})[0].text.strip()[0:2]\n",
    "            except:\n",
    "                country = 'Unknown'\n",
    "            emisions = car.div.findAll('div',{'class':'cldt-summary-vehicle-data'})[0].ul.findAll('li')[8].text.strip()[0:4]  \n",
    "            price = car.div.findAll('div',{'class':'cldt-summary-payment'})[0].text.strip()[0:8]\n",
    "            #Writing the csv\n",
    "            f.write(vehicle +';'+ km +';'+ year +';'+ power +';'+ transmision +';'+ fuel_type +';'+ consume +';'+ country +';'+ emisions +';'+ price +'\\n')\n",
    "    f.close()"
   ]
  },
  {
   "cell_type": "markdown",
   "metadata": {},
   "source": [
    "### BMW UE 2010-2012"
   ]
  },
  {
   "cell_type": "code",
   "execution_count": 3,
   "metadata": {},
   "outputs": [],
   "source": [
    "getcars(my='https://www.autoscout24.es/lst/bmw?sort=age&desc=1&ustate=N%2CU&size=20&page=',\n",
    "        page='&fregto=2012&fregfrom=2010&atype=C&',\n",
    "        filename='bmw_EU_2010_2012.csv')"
   ]
  },
  {
   "cell_type": "markdown",
   "metadata": {},
   "source": [
    "### BMW UE 2013-2015"
   ]
  },
  {
   "cell_type": "code",
   "execution_count": 5,
   "metadata": {},
   "outputs": [],
   "source": [
    "getcars(my='https://www.autoscout24.es/lst/bmw?sort=age&desc=1&ustate=N%2CU&size=20&page=',\n",
    "        page='&fregto=2015&fregfrom=2013&atype=C&',\n",
    "        filename='bmw_EU_2013_2015.csv')"
   ]
  },
  {
   "cell_type": "markdown",
   "metadata": {},
   "source": [
    "### BMW UE 2016-2018"
   ]
  },
  {
   "cell_type": "code",
   "execution_count": 10,
   "metadata": {},
   "outputs": [],
   "source": [
    "getcars(my='https://www.autoscout24.es/lst/bmw?sort=age&desc=1&ustate=N%2CU&size=20&page=',\n",
    "        page='&fregto=2018&fregfrom=2016&atype=C&',\n",
    "        filename='bmw_EU_2016_2018.csv')"
   ]
  },
  {
   "cell_type": "markdown",
   "metadata": {},
   "source": [
    "### BMW UE 2019-2020"
   ]
  },
  {
   "cell_type": "code",
   "execution_count": 15,
   "metadata": {},
   "outputs": [],
   "source": [
    "getcars(my='https://www.autoscout24.es/lst/bmw?sort=age&desc=1&ustate=N%2CU&size=20&page=1&fregfrom=2019&atype=C&',\n",
    "        page='&fregfrom=2019&atype=C&',\n",
    "        filename='bmw_EU_2019_2020.csv')"
   ]
  },
  {
   "cell_type": "markdown",
   "metadata": {},
   "source": [
    "# <div align=\"center\"> Web scrapping "
   ]
  },
  {
   "cell_type": "markdown",
   "metadata": {},
   "source": [
    "### Imports"
   ]
  },
  {
   "cell_type": "code",
   "execution_count": 1,
   "metadata": {},
   "outputs": [],
   "source": [
    "import bs4 #Beautiful Soup\n",
    "from urllib.request import urlopen as uReq\n",
    "from bs4 import BeautifulSoup as soup"
   ]
  },
  {
   "cell_type": "markdown",
   "metadata": {},
   "source": [
    "## <div align=\"center\"> BMW  2010 </div>"
   ]
  },
  {
   "cell_type": "markdown",
   "metadata": {},
   "source": [
    "##### CSV file"
   ]
  },
  {
   "cell_type": "code",
   "execution_count": 3,
   "metadata": {},
   "outputs": [
    {
     "data": {
      "text/plain": [
       "84"
      ]
     },
     "execution_count": 3,
     "metadata": {},
     "output_type": "execute_result"
    }
   ],
   "source": [
    "headers='vehicle;  km; year; power; transmision; fuel_type; consume; country;emisions;price \\n'\n",
    "filename='bmw_2010.csv'\n",
    "f=open(filename,'w')\n",
    "f.write(headers)"
   ]
  },
  {
   "cell_type": "markdown",
   "metadata": {},
   "source": [
    "##### Data acquisition"
   ]
  },
  {
   "cell_type": "code",
   "execution_count": 4,
   "metadata": {},
   "outputs": [],
   "source": [
    "#https://www.autoscout24.es/lst/bmw?sort=age&desc=1&ustate=N%2CU&size=20&page=1&cy=E&fregto=2010&fregfrom=2010&atype=C&\n",
    "my = 'https://www.autoscout24.es/lst/bmw?sort=age&desc=1&ustate=N%2CU&size=20&page='\n",
    "page = '&cy=E&fregto=2010&fregfrom=2010&atype=C&'"
   ]
  },
  {
   "cell_type": "code",
   "execution_count": 5,
   "metadata": {},
   "outputs": [],
   "source": [
    "for i in range(1,21):\n",
    "    #page \n",
    "    page_i = my+str(i)+page\n",
    "    \n",
    "    #Open the conexion\n",
    "    uClient = uReq(page_i)\n",
    "    #Save the html code\n",
    "    page_html = uClient.read()\n",
    "    #close the conexion\n",
    "    uClient.close()\n",
    "    #Parse\n",
    "    page_soup = soup(page_html,'html.parser')\n",
    "    \n",
    "    #List of cars\n",
    "    cars = page_soup.findAll(\"div\",{\"class\":\"cldt-summary-full-item\"})\n",
    "    \n",
    "    #We'll get the features for each car\n",
    "    for car in cars:\n",
    "        vehicle = car.div.div.div.a.div.div.h2.text\n",
    "        price = car.div.findAll('div',{'class':'cldt-summary-payment'})[0].text.strip()[0:8]\n",
    "        km = car.div.findAll('div',{'class':'cldt-summary-vehicle-data'})[0].li.text.strip()\n",
    "        year = car.div.findAll('div',{'class':'cldt-summary-vehicle-data'})[0].ul.findAll('li')[1].text.strip()\n",
    "        power = car.div.findAll('div',{'class':'cldt-summary-vehicle-data'})[0].ul.findAll('li')[2].text.strip()\n",
    "        transmision = car.div.findAll('div',{'class':'cldt-summary-vehicle-data'})[0].ul.findAll('li')[5].text.strip()\n",
    "        fuel_type = car.div.findAll('div',{'class':'cldt-summary-vehicle-data'})[0].ul.findAll('li')[6].text.strip()\n",
    "        consume = car.div.findAll('div',{'class':'cldt-summary-vehicle-data'})[0].ul.findAll('li')[7].text.strip()[0:4]\n",
    "        ##country = car.findAll('div',{'class':'cldt-summary-seller'})[0].div.find('div',{'class':'cldf-summary-seller-contact-address'}).text\n",
    "        try:\n",
    "            country = car.findAll('div',{'class':'cldt-summary-seller'})[0].div.findAll('div',{'class':'cldf-summary-seller-contact-address'})[0].text.strip()[0:2]\n",
    "        except:\n",
    "            country = 'Unknown'\n",
    "        emisions = car.div.findAll('div',{'class':'cldt-summary-vehicle-data'})[0].ul.findAll('li')[8].text.strip()[0:4]  \n",
    "        price = car.div.findAll('div',{'class':'cldt-summary-payment'})[0].text.strip()[0:8]\n",
    "        #Writing the csv\n",
    "        f.write(vehicle +';'+ km +';'+ year +';'+ power +';'+ transmision +';'+ fuel_type +';'+ consume +';'+ country +';'+ emisions +';'+ price +'\\n')"
   ]
  },
  {
   "cell_type": "code",
   "execution_count": 9,
   "metadata": {},
   "outputs": [
    {
     "ename": "NameError",
     "evalue": "name 'f' is not defined",
     "output_type": "error",
     "traceback": [
      "\u001b[1;31m---------------------------------------------------------------------------\u001b[0m",
      "\u001b[1;31mNameError\u001b[0m                                 Traceback (most recent call last)",
      "\u001b[1;32m<ipython-input-9-b5edb7b78a9a>\u001b[0m in \u001b[0;36m<module>\u001b[1;34m\u001b[0m\n\u001b[1;32m----> 1\u001b[1;33m \u001b[0mf\u001b[0m\u001b[1;33m.\u001b[0m\u001b[0mclose\u001b[0m\u001b[1;33m(\u001b[0m\u001b[1;33m)\u001b[0m\u001b[1;33m\u001b[0m\u001b[1;33m\u001b[0m\u001b[0m\n\u001b[0m",
      "\u001b[1;31mNameError\u001b[0m: name 'f' is not defined"
     ]
    }
   ],
   "source": [
    "f.close()"
   ]
  },
  {
   "cell_type": "markdown",
   "metadata": {},
   "source": [
    "## <div align=\"center\"> BMW  2011 </div>"
   ]
  },
  {
   "cell_type": "markdown",
   "metadata": {},
   "source": [
    "##### CSV file"
   ]
  },
  {
   "cell_type": "code",
   "execution_count": 7,
   "metadata": {},
   "outputs": [
    {
     "data": {
      "text/plain": [
       "84"
      ]
     },
     "execution_count": 7,
     "metadata": {},
     "output_type": "execute_result"
    }
   ],
   "source": [
    "headers='vehicle;  km; year; power; transmision; fuel_type; consume; country;emisions;price \\n'\n",
    "filename='bmw_2011.csv'\n",
    "f=open(filename,'w')\n",
    "f.write(headers)"
   ]
  },
  {
   "cell_type": "markdown",
   "metadata": {},
   "source": [
    "##### Data acquisition"
   ]
  },
  {
   "cell_type": "code",
   "execution_count": 8,
   "metadata": {},
   "outputs": [],
   "source": [
    "#https://www.autoscout24.es/lst/bmw?sort=age&desc=1&ustate=N%2CU&size=20&page=1&cy=E&fregto=2010&fregfrom=2010&atype=C&\n",
    "my = 'https://www.autoscout24.es/lst/bmw?sort=age&desc=1&ustate=N%2CU&size=20&page='\n",
    "page = '&cy=E&fregto=2011&fregfrom=2011&atype=C&'"
   ]
  },
  {
   "cell_type": "code",
   "execution_count": 9,
   "metadata": {},
   "outputs": [],
   "source": [
    "for i in range(1,21):\n",
    "    #page \n",
    "    page_i = my+str(i)+page\n",
    "    \n",
    "    #Open the conexion\n",
    "    uClient = uReq(page_i)\n",
    "    #Save the html code\n",
    "    page_html = uClient.read()\n",
    "    #close the conexion\n",
    "    uClient.close()\n",
    "    #Parse\n",
    "    page_soup = soup(page_html,'html.parser')\n",
    "    \n",
    "    #List of cars\n",
    "    cars = page_soup.findAll(\"div\",{\"class\":\"cldt-summary-full-item\"})\n",
    "    \n",
    "    #We'll get the features for each car\n",
    "    for car in cars:\n",
    "        vehicle = car.div.div.div.a.div.div.h2.text\n",
    "        price = car.div.findAll('div',{'class':'cldt-summary-payment'})[0].text.strip()[0:8]\n",
    "        km = car.div.findAll('div',{'class':'cldt-summary-vehicle-data'})[0].li.text.strip()\n",
    "        year = car.div.findAll('div',{'class':'cldt-summary-vehicle-data'})[0].ul.findAll('li')[1].text.strip()\n",
    "        power = car.div.findAll('div',{'class':'cldt-summary-vehicle-data'})[0].ul.findAll('li')[2].text.strip()\n",
    "        transmision = car.div.findAll('div',{'class':'cldt-summary-vehicle-data'})[0].ul.findAll('li')[5].text.strip()\n",
    "        fuel_type = car.div.findAll('div',{'class':'cldt-summary-vehicle-data'})[0].ul.findAll('li')[6].text.strip()\n",
    "        consume = car.div.findAll('div',{'class':'cldt-summary-vehicle-data'})[0].ul.findAll('li')[7].text.strip()[0:4]\n",
    "        ##country = car.findAll('div',{'class':'cldt-summary-seller'})[0].div.find('div',{'class':'cldf-summary-seller-contact-address'}).text\n",
    "        try:\n",
    "            country = car.findAll('div',{'class':'cldt-summary-seller'})[0].div.findAll('div',{'class':'cldf-summary-seller-contact-address'})[0].text.strip()[0:2]\n",
    "        except:\n",
    "            country = 'Unknown'\n",
    "        emisions = car.div.findAll('div',{'class':'cldt-summary-vehicle-data'})[0].ul.findAll('li')[8].text.strip()[0:4]  \n",
    "        price = car.div.findAll('div',{'class':'cldt-summary-payment'})[0].text.strip()[0:8]\n",
    "        #Writing the csv\n",
    "        f.write(vehicle +';'+ km +';'+ year +';'+ power +';'+ transmision +';'+ fuel_type +';'+ consume +';'+ country +';'+ emisions +';'+ price +'\\n')"
   ]
  },
  {
   "cell_type": "code",
   "execution_count": 13,
   "metadata": {},
   "outputs": [
    {
     "ename": "NameError",
     "evalue": "name 'f' is not defined",
     "output_type": "error",
     "traceback": [
      "\u001b[1;31m---------------------------------------------------------------------------\u001b[0m",
      "\u001b[1;31mNameError\u001b[0m                                 Traceback (most recent call last)",
      "\u001b[1;32m<ipython-input-13-b5edb7b78a9a>\u001b[0m in \u001b[0;36m<module>\u001b[1;34m\u001b[0m\n\u001b[1;32m----> 1\u001b[1;33m \u001b[0mf\u001b[0m\u001b[1;33m.\u001b[0m\u001b[0mclose\u001b[0m\u001b[1;33m(\u001b[0m\u001b[1;33m)\u001b[0m\u001b[1;33m\u001b[0m\u001b[1;33m\u001b[0m\u001b[0m\n\u001b[0m",
      "\u001b[1;31mNameError\u001b[0m: name 'f' is not defined"
     ]
    }
   ],
   "source": [
    "f.close()"
   ]
  },
  {
   "cell_type": "markdown",
   "metadata": {},
   "source": [
    "-----------------------------------------------------------------------------------------------------------------------"
   ]
  },
  {
   "cell_type": "markdown",
   "metadata": {},
   "source": [
    "## <div align=\"center\"> BMW 2012"
   ]
  },
  {
   "cell_type": "markdown",
   "metadata": {},
   "source": [
    "##### CSV file"
   ]
  },
  {
   "cell_type": "code",
   "execution_count": 11,
   "metadata": {},
   "outputs": [
    {
     "data": {
      "text/plain": [
       "84"
      ]
     },
     "execution_count": 11,
     "metadata": {},
     "output_type": "execute_result"
    }
   ],
   "source": [
    "headers='vehicle;  km; year; power; transmision; fuel_type; consume; country;emisions;price \\n'\n",
    "filename='bmw_2012.csv'\n",
    "f=open(filename,'w')\n",
    "f.write(headers)"
   ]
  },
  {
   "cell_type": "markdown",
   "metadata": {},
   "source": [
    "##### Data acquisition"
   ]
  },
  {
   "cell_type": "code",
   "execution_count": 12,
   "metadata": {},
   "outputs": [],
   "source": [
    "#https://www.autoscout24.es/lst/bmw?sort=age&desc=1&ustate=N%2CU&size=20&page=1&cy=E&fregto=2010&fregfrom=2010&atype=C&\n",
    "my = 'https://www.autoscout24.es/lst/bmw?sort=age&desc=1&ustate=N%2CU&size=20&page='\n",
    "page = '&cy=E&fregto=2012&fregfrom=2012&atype=C&'"
   ]
  },
  {
   "cell_type": "code",
   "execution_count": 13,
   "metadata": {},
   "outputs": [],
   "source": [
    "for i in range(1,21):\n",
    "    #page \n",
    "    page_i = my+str(i)+page\n",
    "    \n",
    "    #Open the conexion\n",
    "    uClient = uReq(page_i)\n",
    "    #Save the html code\n",
    "    page_html = uClient.read()\n",
    "    #close the conexion\n",
    "    uClient.close()\n",
    "    #Parse\n",
    "    page_soup = soup(page_html,'html.parser')\n",
    "    \n",
    "    #List of cars\n",
    "    cars = page_soup.findAll(\"div\",{\"class\":\"cldt-summary-full-item\"})\n",
    "    \n",
    "    #We'll get the features for each car\n",
    "    for car in cars:\n",
    "        vehicle = car.div.div.div.a.div.div.h2.text\n",
    "        price = car.div.findAll('div',{'class':'cldt-summary-payment'})[0].text.strip()[0:8]\n",
    "        km = car.div.findAll('div',{'class':'cldt-summary-vehicle-data'})[0].li.text.strip()\n",
    "        year = car.div.findAll('div',{'class':'cldt-summary-vehicle-data'})[0].ul.findAll('li')[1].text.strip()\n",
    "        power = car.div.findAll('div',{'class':'cldt-summary-vehicle-data'})[0].ul.findAll('li')[2].text.strip()\n",
    "        transmision = car.div.findAll('div',{'class':'cldt-summary-vehicle-data'})[0].ul.findAll('li')[5].text.strip()\n",
    "        fuel_type = car.div.findAll('div',{'class':'cldt-summary-vehicle-data'})[0].ul.findAll('li')[6].text.strip()\n",
    "        consume = car.div.findAll('div',{'class':'cldt-summary-vehicle-data'})[0].ul.findAll('li')[7].text.strip()[0:4]\n",
    "        ##country = car.findAll('div',{'class':'cldt-summary-seller'})[0].div.find('div',{'class':'cldf-summary-seller-contact-address'}).text\n",
    "        try:\n",
    "            country = car.findAll('div',{'class':'cldt-summary-seller'})[0].div.findAll('div',{'class':'cldf-summary-seller-contact-address'})[0].text.strip()[0:2]\n",
    "        except:\n",
    "            country = 'Unknown'\n",
    "        emisions = car.div.findAll('div',{'class':'cldt-summary-vehicle-data'})[0].ul.findAll('li')[8].text.strip()[0:4]  \n",
    "        price = car.div.findAll('div',{'class':'cldt-summary-payment'})[0].text.strip()[0:8]\n",
    "        #Writing the csv\n",
    "        f.write(vehicle +';'+ km +';'+ year +';'+ power +';'+ transmision +';'+ fuel_type +';'+ consume +';'+ country +';'+ emisions +';'+ price +'\\n')"
   ]
  },
  {
   "cell_type": "code",
   "execution_count": 14,
   "metadata": {},
   "outputs": [],
   "source": [
    "f.close()"
   ]
  },
  {
   "cell_type": "markdown",
   "metadata": {},
   "source": [
    "-------------------------------------------------------------------------------------------------------------------------------"
   ]
  },
  {
   "cell_type": "markdown",
   "metadata": {},
   "source": [
    "## <div align=\"center\"> BMW 2013"
   ]
  },
  {
   "cell_type": "markdown",
   "metadata": {},
   "source": [
    "##### CSV file"
   ]
  },
  {
   "cell_type": "code",
   "execution_count": 15,
   "metadata": {},
   "outputs": [
    {
     "data": {
      "text/plain": [
       "84"
      ]
     },
     "execution_count": 15,
     "metadata": {},
     "output_type": "execute_result"
    }
   ],
   "source": [
    "headers='vehicle;  km; year; power; transmision; fuel_type; consume; country;emisions;price \\n'\n",
    "filename='bmw_2013.csv'\n",
    "f=open(filename,'w')\n",
    "f.write(headers)"
   ]
  },
  {
   "cell_type": "markdown",
   "metadata": {},
   "source": [
    "##### Data acquisition"
   ]
  },
  {
   "cell_type": "code",
   "execution_count": 16,
   "metadata": {},
   "outputs": [],
   "source": [
    "#https://www.autoscout24.es/lst/bmw?sort=age&desc=1&ustate=N%2CU&size=20&page=1&cy=E&fregto=2010&fregfrom=2010&atype=C&\n",
    "my = 'https://www.autoscout24.es/lst/bmw?sort=age&desc=1&ustate=N%2CU&size=20&page='\n",
    "page = '&cy=E&fregto=2013&fregfrom=2013&atype=C&'"
   ]
  },
  {
   "cell_type": "code",
   "execution_count": 17,
   "metadata": {},
   "outputs": [],
   "source": [
    "for i in range(1,21):\n",
    "    #page \n",
    "    page_i = my+str(i)+page\n",
    "    \n",
    "    #Open the conexion\n",
    "    uClient = uReq(page_i)\n",
    "    #Save the html code\n",
    "    page_html = uClient.read()\n",
    "    #close the conexion\n",
    "    uClient.close()\n",
    "    #Parse\n",
    "    page_soup = soup(page_html,'html.parser')\n",
    "    \n",
    "    #List of cars\n",
    "    cars = page_soup.findAll(\"div\",{\"class\":\"cldt-summary-full-item\"})\n",
    "    \n",
    "    #We'll get the features for each car\n",
    "    for car in cars:\n",
    "        vehicle = car.div.div.div.a.div.div.h2.text\n",
    "        price = car.div.findAll('div',{'class':'cldt-summary-payment'})[0].text.strip()[0:8]\n",
    "        km = car.div.findAll('div',{'class':'cldt-summary-vehicle-data'})[0].li.text.strip()\n",
    "        year = car.div.findAll('div',{'class':'cldt-summary-vehicle-data'})[0].ul.findAll('li')[1].text.strip()\n",
    "        power = car.div.findAll('div',{'class':'cldt-summary-vehicle-data'})[0].ul.findAll('li')[2].text.strip()\n",
    "        transmision = car.div.findAll('div',{'class':'cldt-summary-vehicle-data'})[0].ul.findAll('li')[5].text.strip()\n",
    "        fuel_type = car.div.findAll('div',{'class':'cldt-summary-vehicle-data'})[0].ul.findAll('li')[6].text.strip()\n",
    "        consume = car.div.findAll('div',{'class':'cldt-summary-vehicle-data'})[0].ul.findAll('li')[7].text.strip()[0:4]\n",
    "        ##country = car.findAll('div',{'class':'cldt-summary-seller'})[0].div.find('div',{'class':'cldf-summary-seller-contact-address'}).text\n",
    "        try:\n",
    "            country = car.findAll('div',{'class':'cldt-summary-seller'})[0].div.findAll('div',{'class':'cldf-summary-seller-contact-address'})[0].text.strip()[0:2]\n",
    "        except:\n",
    "            country = 'Unknown'\n",
    "        emisions = car.div.findAll('div',{'class':'cldt-summary-vehicle-data'})[0].ul.findAll('li')[8].text.strip()[0:4]  \n",
    "        price = car.div.findAll('div',{'class':'cldt-summary-payment'})[0].text.strip()[0:8]\n",
    "        #Writing the csv\n",
    "        f.write(vehicle +';'+ km +';'+ year +';'+ power +';'+ transmision +';'+ fuel_type +';'+ consume +';'+ country +';'+ emisions +';'+ price +'\\n')"
   ]
  },
  {
   "cell_type": "code",
   "execution_count": 18,
   "metadata": {},
   "outputs": [],
   "source": [
    "f.close()"
   ]
  },
  {
   "cell_type": "markdown",
   "metadata": {},
   "source": [
    "-------------------------------------------------------------------------------------------------------------------------------"
   ]
  },
  {
   "cell_type": "markdown",
   "metadata": {},
   "source": [
    "## <div align=\"center\"> BMW 2014"
   ]
  },
  {
   "cell_type": "markdown",
   "metadata": {},
   "source": [
    "##### CSV file"
   ]
  },
  {
   "cell_type": "code",
   "execution_count": 19,
   "metadata": {},
   "outputs": [
    {
     "data": {
      "text/plain": [
       "84"
      ]
     },
     "execution_count": 19,
     "metadata": {},
     "output_type": "execute_result"
    }
   ],
   "source": [
    "headers='vehicle;  km; year; power; transmision; fuel_type; consume; country;emisions;price \\n'\n",
    "filename='bmw_2014_r.csv'\n",
    "f=open(filename,'w')\n",
    "f.write(headers)"
   ]
  },
  {
   "cell_type": "markdown",
   "metadata": {},
   "source": [
    "##### Data acquisition"
   ]
  },
  {
   "cell_type": "code",
   "execution_count": 20,
   "metadata": {},
   "outputs": [],
   "source": [
    "#https://www.autoscout24.es/lst/bmw?sort=age&desc=1&fuel=2%2CB%2CE&ustate=N%2CU&size=20&page=1&cy=E&fregto=2017&fregfrom=2017&atype=C&\n",
    "my = 'https://www.autoscout24.es/lst/bmw?sort=age&desc=1&fuel=2%2CB%2CE&ustate=N%2CU&size=20&page='\n",
    "page = '&cy=E&fregto=2014&fregfrom=2014&atype=C&'"
   ]
  },
  {
   "cell_type": "code",
   "execution_count": 21,
   "metadata": {},
   "outputs": [],
   "source": [
    "for i in range(1,21):\n",
    "    #page \n",
    "    page_i = my+str(i)+page\n",
    "    \n",
    "    #Open the conexion\n",
    "    uClient = uReq(page_i)\n",
    "    #Save the html code\n",
    "    page_html = uClient.read()\n",
    "    #close the conexion\n",
    "    uClient.close()\n",
    "    #Parse\n",
    "    page_soup = soup(page_html,'html.parser')\n",
    "    \n",
    "    #List of cars\n",
    "    cars = page_soup.findAll(\"div\",{\"class\":\"cldt-summary-full-item\"})\n",
    "    \n",
    "    #We'll get the features for each car\n",
    "    for car in cars:\n",
    "        vehicle = car.div.div.div.a.div.div.h2.text\n",
    "        price = car.div.findAll('div',{'class':'cldt-summary-payment'})[0].text.strip()[0:8]\n",
    "        km = car.div.findAll('div',{'class':'cldt-summary-vehicle-data'})[0].li.text.strip()\n",
    "        year = car.div.findAll('div',{'class':'cldt-summary-vehicle-data'})[0].ul.findAll('li')[1].text.strip()\n",
    "        power = car.div.findAll('div',{'class':'cldt-summary-vehicle-data'})[0].ul.findAll('li')[2].text.strip()\n",
    "        transmision = car.div.findAll('div',{'class':'cldt-summary-vehicle-data'})[0].ul.findAll('li')[5].text.strip()\n",
    "        fuel_type = car.div.findAll('div',{'class':'cldt-summary-vehicle-data'})[0].ul.findAll('li')[6].text.strip()\n",
    "        consume = car.div.findAll('div',{'class':'cldt-summary-vehicle-data'})[0].ul.findAll('li')[7].text.strip()[0:4]\n",
    "        ##country = car.findAll('div',{'class':'cldt-summary-seller'})[0].div.find('div',{'class':'cldf-summary-seller-contact-address'}).text\n",
    "        try:\n",
    "            country = car.findAll('div',{'class':'cldt-summary-seller'})[0].div.findAll('div',{'class':'cldf-summary-seller-contact-address'})[0].text.strip()[0:2]\n",
    "        except:\n",
    "            country = 'Unknown'\n",
    "        emisions = car.div.findAll('div',{'class':'cldt-summary-vehicle-data'})[0].ul.findAll('li')[8].text.strip()[0:4]  \n",
    "        price = car.div.findAll('div',{'class':'cldt-summary-payment'})[0].text.strip()[0:8]\n",
    "        #Writing the csv\n",
    "        f.write(vehicle +';'+ km +';'+ year +';'+ power +';'+ transmision +';'+ fuel_type +';'+ consume +';'+ country +';'+ emisions +';'+ price +'\\n')"
   ]
  },
  {
   "cell_type": "code",
   "execution_count": 22,
   "metadata": {},
   "outputs": [],
   "source": [
    "f.close()"
   ]
  },
  {
   "cell_type": "markdown",
   "metadata": {},
   "source": [
    "-------------------------------------------------------------------------------------------------------------------------------"
   ]
  },
  {
   "cell_type": "markdown",
   "metadata": {},
   "source": [
    "## <div align=\"center\"> BMW 2014 DIESEL"
   ]
  },
  {
   "cell_type": "markdown",
   "metadata": {},
   "source": [
    "##### CSV file"
   ]
  },
  {
   "cell_type": "code",
   "execution_count": 25,
   "metadata": {},
   "outputs": [
    {
     "data": {
      "text/plain": [
       "84"
      ]
     },
     "execution_count": 25,
     "metadata": {},
     "output_type": "execute_result"
    }
   ],
   "source": [
    "headers='vehicle;  km; year; power; transmision; fuel_type; consume; country;emisions;price \\n'\n",
    "filename='bmw_2014_d.csv'\n",
    "f=open(filename,'w')\n",
    "f.write(headers)"
   ]
  },
  {
   "cell_type": "markdown",
   "metadata": {},
   "source": [
    "##### Data acquisition"
   ]
  },
  {
   "cell_type": "code",
   "execution_count": 26,
   "metadata": {},
   "outputs": [],
   "source": [
    "#https://www.autoscout24.es/lst/bmw?sort=age&desc=1&fuel=D&ustate=N%2CU&size=20&page=8&cy=E&fregto=2015&fregfrom=2015&atype=C&\n",
    "my = 'https://www.autoscout24.es/lst/bmw?sort=age&desc=1&fuel=D&ustate=N%2CU&size=20&page='\n",
    "page = '&cy=E&fregto=2014&fregfrom=2014&atype=C&'"
   ]
  },
  {
   "cell_type": "code",
   "execution_count": 27,
   "metadata": {},
   "outputs": [],
   "source": [
    "for i in range(1,21):\n",
    "    #page \n",
    "    page_i = my+str(i)+page\n",
    "    \n",
    "    #Open the conexion\n",
    "    uClient = uReq(page_i)\n",
    "    #Save the html code\n",
    "    page_html = uClient.read()\n",
    "    #close the conexion\n",
    "    uClient.close()\n",
    "    #Parse\n",
    "    page_soup = soup(page_html,'html.parser')\n",
    "    \n",
    "    #List of cars\n",
    "    cars = page_soup.findAll(\"div\",{\"class\":\"cldt-summary-full-item\"})\n",
    "    \n",
    "    #We'll get the features for each car\n",
    "    for car in cars:\n",
    "        vehicle = car.div.div.div.a.div.div.h2.text\n",
    "        price = car.div.findAll('div',{'class':'cldt-summary-payment'})[0].text.strip()[0:8]\n",
    "        km = car.div.findAll('div',{'class':'cldt-summary-vehicle-data'})[0].li.text.strip()\n",
    "        year = car.div.findAll('div',{'class':'cldt-summary-vehicle-data'})[0].ul.findAll('li')[1].text.strip()\n",
    "        power = car.div.findAll('div',{'class':'cldt-summary-vehicle-data'})[0].ul.findAll('li')[2].text.strip()\n",
    "        transmision = car.div.findAll('div',{'class':'cldt-summary-vehicle-data'})[0].ul.findAll('li')[5].text.strip()\n",
    "        fuel_type = car.div.findAll('div',{'class':'cldt-summary-vehicle-data'})[0].ul.findAll('li')[6].text.strip()\n",
    "        consume = car.div.findAll('div',{'class':'cldt-summary-vehicle-data'})[0].ul.findAll('li')[7].text.strip()[0:4]\n",
    "        ##country = car.findAll('div',{'class':'cldt-summary-seller'})[0].div.find('div',{'class':'cldf-summary-seller-contact-address'}).text\n",
    "        try:\n",
    "            country = car.findAll('div',{'class':'cldt-summary-seller'})[0].div.findAll('div',{'class':'cldf-summary-seller-contact-address'})[0].text.strip()[0:2]\n",
    "        except:\n",
    "            country = 'Unknown'\n",
    "        emisions = car.div.findAll('div',{'class':'cldt-summary-vehicle-data'})[0].ul.findAll('li')[8].text.strip()[0:4]  \n",
    "        price = car.div.findAll('div',{'class':'cldt-summary-payment'})[0].text.strip()[0:8]\n",
    "        #Writing the csv\n",
    "        f.write(vehicle +';'+ km +';'+ year +';'+ power +';'+ transmision +';'+ fuel_type +';'+ consume +';'+ country +';'+ emisions +';'+ price +'\\n')"
   ]
  },
  {
   "cell_type": "code",
   "execution_count": 28,
   "metadata": {},
   "outputs": [],
   "source": [
    "f.close()"
   ]
  },
  {
   "cell_type": "markdown",
   "metadata": {},
   "source": [
    "-------------------------------------------------------------------------------------------------------------------------------"
   ]
  },
  {
   "cell_type": "markdown",
   "metadata": {},
   "source": [
    "## <div align=\"center\"> BMW 2015"
   ]
  },
  {
   "cell_type": "markdown",
   "metadata": {},
   "source": [
    "##### CSV file"
   ]
  },
  {
   "cell_type": "code",
   "execution_count": 29,
   "metadata": {},
   "outputs": [
    {
     "data": {
      "text/plain": [
       "84"
      ]
     },
     "execution_count": 29,
     "metadata": {},
     "output_type": "execute_result"
    }
   ],
   "source": [
    "headers='vehicle;  km; year; power; transmision; fuel_type; consume; country;emisions;price \\n'\n",
    "filename='bmw_2015_r.csv'\n",
    "f=open(filename,'w')\n",
    "f.write(headers)"
   ]
  },
  {
   "cell_type": "markdown",
   "metadata": {},
   "source": [
    "##### Data acquisition"
   ]
  },
  {
   "cell_type": "code",
   "execution_count": 30,
   "metadata": {},
   "outputs": [],
   "source": [
    "#https://www.autoscout24.es/lst/bmw?sort=age&desc=1&fuel=2%2CB%2CE&ustate=N%2CU&size=20&page=1&cy=E&fregto=2017&fregfrom=2017&atype=C&\n",
    "my = 'https://www.autoscout24.es/lst/bmw?sort=age&desc=1&fuel=2%2CB%2CE&ustate=N%2CU&size=20&page='\n",
    "page = '&cy=E&fregto=2015&fregfrom=2015&atype=C&'"
   ]
  },
  {
   "cell_type": "code",
   "execution_count": 31,
   "metadata": {},
   "outputs": [],
   "source": [
    "for i in range(1,21):\n",
    "    #page \n",
    "    page_i = my+str(i)+page\n",
    "    \n",
    "    #Open the conexion\n",
    "    uClient = uReq(page_i)\n",
    "    #Save the html code\n",
    "    page_html = uClient.read()\n",
    "    #close the conexion\n",
    "    uClient.close()\n",
    "    #Parse\n",
    "    page_soup = soup(page_html,'html.parser')\n",
    "    \n",
    "    #List of cars\n",
    "    cars = page_soup.findAll(\"div\",{\"class\":\"cldt-summary-full-item\"})\n",
    "    \n",
    "    #We'll get the features for each car\n",
    "    for car in cars:\n",
    "        vehicle = car.div.div.div.a.div.div.h2.text\n",
    "        price = car.div.findAll('div',{'class':'cldt-summary-payment'})[0].text.strip()[0:8]\n",
    "        km = car.div.findAll('div',{'class':'cldt-summary-vehicle-data'})[0].li.text.strip()\n",
    "        year = car.div.findAll('div',{'class':'cldt-summary-vehicle-data'})[0].ul.findAll('li')[1].text.strip()\n",
    "        power = car.div.findAll('div',{'class':'cldt-summary-vehicle-data'})[0].ul.findAll('li')[2].text.strip()\n",
    "        transmision = car.div.findAll('div',{'class':'cldt-summary-vehicle-data'})[0].ul.findAll('li')[5].text.strip()\n",
    "        fuel_type = car.div.findAll('div',{'class':'cldt-summary-vehicle-data'})[0].ul.findAll('li')[6].text.strip()\n",
    "        consume = car.div.findAll('div',{'class':'cldt-summary-vehicle-data'})[0].ul.findAll('li')[7].text.strip()[0:4]\n",
    "        ##country = car.findAll('div',{'class':'cldt-summary-seller'})[0].div.find('div',{'class':'cldf-summary-seller-contact-address'}).text\n",
    "        try:\n",
    "            country = car.findAll('div',{'class':'cldt-summary-seller'})[0].div.findAll('div',{'class':'cldf-summary-seller-contact-address'})[0].text.strip()[0:2]\n",
    "        except:\n",
    "            country = 'Unknown'\n",
    "        emisions = car.div.findAll('div',{'class':'cldt-summary-vehicle-data'})[0].ul.findAll('li')[8].text.strip()[0:4]  \n",
    "        price = car.div.findAll('div',{'class':'cldt-summary-payment'})[0].text.strip()[0:8]\n",
    "        #Writing the csv\n",
    "        f.write(vehicle +';'+ km +';'+ year +';'+ power +';'+ transmision +';'+ fuel_type +';'+ consume +';'+ country +';'+ emisions +';'+ price +'\\n')"
   ]
  },
  {
   "cell_type": "code",
   "execution_count": 32,
   "metadata": {},
   "outputs": [],
   "source": [
    "f.close()"
   ]
  },
  {
   "cell_type": "markdown",
   "metadata": {},
   "source": [
    "-------------------------------------------------------------------------------------------------------------------------------"
   ]
  },
  {
   "cell_type": "markdown",
   "metadata": {},
   "source": [
    "## <div align=\"center\"> BMW 2015 DIESEL"
   ]
  },
  {
   "cell_type": "markdown",
   "metadata": {},
   "source": [
    "##### CSV file"
   ]
  },
  {
   "cell_type": "code",
   "execution_count": 45,
   "metadata": {},
   "outputs": [
    {
     "data": {
      "text/plain": [
       "84"
      ]
     },
     "execution_count": 45,
     "metadata": {},
     "output_type": "execute_result"
    }
   ],
   "source": [
    "headers='vehicle;  km; year; power; transmision; fuel_type; consume; country;emisions;price \\n'\n",
    "filename='bmw_2015_d.csv'\n",
    "f=open(filename,'w')\n",
    "f.write(headers)"
   ]
  },
  {
   "cell_type": "markdown",
   "metadata": {},
   "source": [
    "##### Data acquisition"
   ]
  },
  {
   "cell_type": "code",
   "execution_count": 46,
   "metadata": {},
   "outputs": [],
   "source": [
    "#https://www.autoscout24.es/lst/bmw?sort=age&desc=1&fuel=D&ustate=N%2CU&size=20&page=8&cy=E&fregto=2015&fregfrom=2015&atype=C&\n",
    "my = 'https://www.autoscout24.es/lst/bmw?sort=age&desc=1&fuel=D&ustate=N%2CU&size=20&page='\n",
    "page = '&cy=E&fregto=2015&fregfrom=2015&atype=C&'"
   ]
  },
  {
   "cell_type": "code",
   "execution_count": 47,
   "metadata": {},
   "outputs": [],
   "source": [
    "for i in range(1,21):\n",
    "    #page \n",
    "    page_i = my+str(i)+page\n",
    "    \n",
    "    #Open the conexion\n",
    "    uClient = uReq(page_i)\n",
    "    #Save the html code\n",
    "    page_html = uClient.read()\n",
    "    #close the conexion\n",
    "    uClient.close()\n",
    "    #Parse\n",
    "    page_soup = soup(page_html,'html.parser')\n",
    "    \n",
    "    #List of cars\n",
    "    cars = page_soup.findAll(\"div\",{\"class\":\"cldt-summary-full-item\"})\n",
    "    \n",
    "    #We'll get the features for each car\n",
    "    for car in cars:\n",
    "        vehicle = car.div.div.div.a.div.div.h2.text\n",
    "        price = car.div.findAll('div',{'class':'cldt-summary-payment'})[0].text.strip()[0:8]\n",
    "        km = car.div.findAll('div',{'class':'cldt-summary-vehicle-data'})[0].li.text.strip()\n",
    "        year = car.div.findAll('div',{'class':'cldt-summary-vehicle-data'})[0].ul.findAll('li')[1].text.strip()\n",
    "        power = car.div.findAll('div',{'class':'cldt-summary-vehicle-data'})[0].ul.findAll('li')[2].text.strip()\n",
    "        transmision = car.div.findAll('div',{'class':'cldt-summary-vehicle-data'})[0].ul.findAll('li')[5].text.strip()\n",
    "        fuel_type = car.div.findAll('div',{'class':'cldt-summary-vehicle-data'})[0].ul.findAll('li')[6].text.strip()\n",
    "        consume = car.div.findAll('div',{'class':'cldt-summary-vehicle-data'})[0].ul.findAll('li')[7].text.strip()[0:4]\n",
    "        ##country = car.findAll('div',{'class':'cldt-summary-seller'})[0].div.find('div',{'class':'cldf-summary-seller-contact-address'}).text\n",
    "        try:\n",
    "            country = car.findAll('div',{'class':'cldt-summary-seller'})[0].div.findAll('div',{'class':'cldf-summary-seller-contact-address'})[0].text.strip()[0:2]\n",
    "        except:\n",
    "            country = 'Unknown'\n",
    "        emisions = car.div.findAll('div',{'class':'cldt-summary-vehicle-data'})[0].ul.findAll('li')[8].text.strip()[0:4]  \n",
    "        price = car.div.findAll('div',{'class':'cldt-summary-payment'})[0].text.strip()[0:8]\n",
    "        #Writing the csv\n",
    "        f.write(vehicle +';'+ km +';'+ year +';'+ power +';'+ transmision +';'+ fuel_type +';'+ consume +';'+ country +';'+ emisions +';'+ price +'\\n')"
   ]
  },
  {
   "cell_type": "code",
   "execution_count": 48,
   "metadata": {},
   "outputs": [],
   "source": [
    "f.close()"
   ]
  },
  {
   "cell_type": "markdown",
   "metadata": {},
   "source": [
    "-------------------------------------------------------------------------------------------------------------------------------"
   ]
  },
  {
   "cell_type": "markdown",
   "metadata": {},
   "source": [
    "## <div align=\"center\"> BMW 2016"
   ]
  },
  {
   "cell_type": "markdown",
   "metadata": {},
   "source": [
    "##### CSV file"
   ]
  },
  {
   "cell_type": "code",
   "execution_count": 49,
   "metadata": {},
   "outputs": [
    {
     "data": {
      "text/plain": [
       "84"
      ]
     },
     "execution_count": 49,
     "metadata": {},
     "output_type": "execute_result"
    }
   ],
   "source": [
    "headers='vehicle;  km; year; power; transmision; fuel_type; consume; country;emisions;price \\n'\n",
    "filename='bmw_2016_r.csv'\n",
    "f=open(filename,'w')\n",
    "f.write(headers)"
   ]
  },
  {
   "cell_type": "markdown",
   "metadata": {},
   "source": [
    "##### Data acquisition"
   ]
  },
  {
   "cell_type": "code",
   "execution_count": 50,
   "metadata": {},
   "outputs": [],
   "source": [
    "#https://www.autoscout24.es/lst/bmw?sort=age&desc=1&fuel=2%2CB%2CE&ustate=N%2CU&size=20&page=1&cy=E&fregto=2016&fregfrom=2016&atype=C&\n",
    "my = 'https://www.autoscout24.es/lst/bmw?sort=age&desc=1&fuel=2%2CB%2CE&ustate=N%2CU&size=20&page='\n",
    "page = '&cy=E&fregto=2016&fregfrom=2016&atype=C&'"
   ]
  },
  {
   "cell_type": "code",
   "execution_count": 51,
   "metadata": {},
   "outputs": [],
   "source": [
    "for i in range(1,21):\n",
    "    #page \n",
    "    page_i = my+str(i)+page\n",
    "    \n",
    "    #Open the conexion\n",
    "    uClient = uReq(page_i)\n",
    "    #Save the html code\n",
    "    page_html = uClient.read()\n",
    "    #close the conexion\n",
    "    uClient.close()\n",
    "    #Parse\n",
    "    page_soup = soup(page_html,'html.parser')\n",
    "    \n",
    "    #List of cars\n",
    "    cars = page_soup.findAll(\"div\",{\"class\":\"cldt-summary-full-item\"})\n",
    "    \n",
    "    #We'll get the features for each car\n",
    "    for car in cars:\n",
    "        vehicle = car.div.div.div.a.div.div.h2.text\n",
    "        price = car.div.findAll('div',{'class':'cldt-summary-payment'})[0].text.strip()[0:8]\n",
    "        km = car.div.findAll('div',{'class':'cldt-summary-vehicle-data'})[0].li.text.strip()\n",
    "        year = car.div.findAll('div',{'class':'cldt-summary-vehicle-data'})[0].ul.findAll('li')[1].text.strip()\n",
    "        power = car.div.findAll('div',{'class':'cldt-summary-vehicle-data'})[0].ul.findAll('li')[2].text.strip()\n",
    "        transmision = car.div.findAll('div',{'class':'cldt-summary-vehicle-data'})[0].ul.findAll('li')[5].text.strip()\n",
    "        fuel_type = car.div.findAll('div',{'class':'cldt-summary-vehicle-data'})[0].ul.findAll('li')[6].text.strip()\n",
    "        consume = car.div.findAll('div',{'class':'cldt-summary-vehicle-data'})[0].ul.findAll('li')[7].text.strip()[0:4]\n",
    "        ##country = car.findAll('div',{'class':'cldt-summary-seller'})[0].div.find('div',{'class':'cldf-summary-seller-contact-address'}).text\n",
    "        try:\n",
    "            country = car.findAll('div',{'class':'cldt-summary-seller'})[0].div.findAll('div',{'class':'cldf-summary-seller-contact-address'})[0].text.strip()[0:2]\n",
    "        except:\n",
    "            country = 'Unknown'\n",
    "        emisions = car.div.findAll('div',{'class':'cldt-summary-vehicle-data'})[0].ul.findAll('li')[8].text.strip()[0:4]  \n",
    "        price = car.div.findAll('div',{'class':'cldt-summary-payment'})[0].text.strip()[0:8]\n",
    "        #Writing the csv\n",
    "        f.write(vehicle +';'+ km +';'+ year +';'+ power +';'+ transmision +';'+ fuel_type +';'+ consume +';'+ country +';'+ emisions +';'+ price +'\\n')"
   ]
  },
  {
   "cell_type": "code",
   "execution_count": 52,
   "metadata": {},
   "outputs": [],
   "source": [
    "f.close()"
   ]
  },
  {
   "cell_type": "markdown",
   "metadata": {},
   "source": [
    "-------------------------------------------------------------------------------------------------------------------------------"
   ]
  },
  {
   "cell_type": "markdown",
   "metadata": {},
   "source": [
    "## <div align=\"center\"> BMW 2016 DIESEL"
   ]
  },
  {
   "cell_type": "markdown",
   "metadata": {},
   "source": [
    "##### CSV file"
   ]
  },
  {
   "cell_type": "code",
   "execution_count": 58,
   "metadata": {},
   "outputs": [
    {
     "data": {
      "text/plain": [
       "84"
      ]
     },
     "execution_count": 58,
     "metadata": {},
     "output_type": "execute_result"
    }
   ],
   "source": [
    "headers='vehicle;  km; year; power; transmision; fuel_type; consume; country;emisions;price \\n'\n",
    "filename='bmw_2016_d.csv'\n",
    "f=open(filename,'w')\n",
    "f.write(headers)"
   ]
  },
  {
   "cell_type": "markdown",
   "metadata": {},
   "source": [
    "##### Data acquisition"
   ]
  },
  {
   "cell_type": "code",
   "execution_count": 59,
   "metadata": {},
   "outputs": [],
   "source": [
    "#https://www.autoscout24.es/lst/bmw?sort=age&desc=1&fuel=D&ustate=N%2CU&size=20&page=8&cy=E&fregto=2015&fregfrom=2015&atype=C&\n",
    "my = 'https://www.autoscout24.es/lst/bmw?sort=age&desc=1&fuel=D&ustate=N%2CU&size=20&page='\n",
    "page = '&cy=E&fregto=2016&fregfrom=2016&atype=C&'"
   ]
  },
  {
   "cell_type": "code",
   "execution_count": 60,
   "metadata": {},
   "outputs": [],
   "source": [
    "for i in range(1,21):\n",
    "    #page \n",
    "    page_i = my+str(i)+page\n",
    "    \n",
    "    #Open the conexion\n",
    "    uClient = uReq(page_i)\n",
    "    #Save the html code\n",
    "    page_html = uClient.read()\n",
    "    #close the conexion\n",
    "    uClient.close()\n",
    "    #Parse\n",
    "    page_soup = soup(page_html,'html.parser')\n",
    "    \n",
    "    #List of cars\n",
    "    cars = page_soup.findAll(\"div\",{\"class\":\"cldt-summary-full-item\"})\n",
    "    \n",
    "    #We'll get the features for each car\n",
    "    for car in cars:\n",
    "        vehicle = car.div.div.div.a.div.div.h2.text\n",
    "        price = car.div.findAll('div',{'class':'cldt-summary-payment'})[0].text.strip()[0:8]\n",
    "        km = car.div.findAll('div',{'class':'cldt-summary-vehicle-data'})[0].li.text.strip()\n",
    "        year = car.div.findAll('div',{'class':'cldt-summary-vehicle-data'})[0].ul.findAll('li')[1].text.strip()\n",
    "        power = car.div.findAll('div',{'class':'cldt-summary-vehicle-data'})[0].ul.findAll('li')[2].text.strip()\n",
    "        transmision = car.div.findAll('div',{'class':'cldt-summary-vehicle-data'})[0].ul.findAll('li')[5].text.strip()\n",
    "        fuel_type = car.div.findAll('div',{'class':'cldt-summary-vehicle-data'})[0].ul.findAll('li')[6].text.strip()\n",
    "        consume = car.div.findAll('div',{'class':'cldt-summary-vehicle-data'})[0].ul.findAll('li')[7].text.strip()[0:4]\n",
    "        ##country = car.findAll('div',{'class':'cldt-summary-seller'})[0].div.find('div',{'class':'cldf-summary-seller-contact-address'}).text\n",
    "        try:\n",
    "            country = car.findAll('div',{'class':'cldt-summary-seller'})[0].div.findAll('div',{'class':'cldf-summary-seller-contact-address'})[0].text.strip()[0:2]\n",
    "        except:\n",
    "            country = 'Unknown'\n",
    "        emisions = car.div.findAll('div',{'class':'cldt-summary-vehicle-data'})[0].ul.findAll('li')[8].text.strip()[0:4]  \n",
    "        price = car.div.findAll('div',{'class':'cldt-summary-payment'})[0].text.strip()[0:8]\n",
    "        #Writing the csv\n",
    "        f.write(vehicle +';'+ km +';'+ year +';'+ power +';'+ transmision +';'+ fuel_type +';'+ consume +';'+ country +';'+ emisions +';'+ price +'\\n')"
   ]
  },
  {
   "cell_type": "code",
   "execution_count": 61,
   "metadata": {},
   "outputs": [],
   "source": [
    "f.close()"
   ]
  },
  {
   "cell_type": "markdown",
   "metadata": {},
   "source": [
    "-------------------------------------------------------------------------------------------------------------------------------"
   ]
  },
  {
   "cell_type": "markdown",
   "metadata": {},
   "source": [
    "## <div align=\"center\"> BMW 2017"
   ]
  },
  {
   "cell_type": "markdown",
   "metadata": {},
   "source": [
    "##### CSV file"
   ]
  },
  {
   "cell_type": "code",
   "execution_count": 62,
   "metadata": {},
   "outputs": [
    {
     "data": {
      "text/plain": [
       "84"
      ]
     },
     "execution_count": 62,
     "metadata": {},
     "output_type": "execute_result"
    }
   ],
   "source": [
    "headers='vehicle;  km; year; power; transmision; fuel_type; consume; country;emisions;price \\n'\n",
    "filename='bmw_2017_r.csv'\n",
    "f=open(filename,'w')\n",
    "f.write(headers)"
   ]
  },
  {
   "cell_type": "markdown",
   "metadata": {},
   "source": [
    "##### Data acquisition"
   ]
  },
  {
   "cell_type": "code",
   "execution_count": 64,
   "metadata": {},
   "outputs": [],
   "source": [
    "#https://www.autoscout24.es/lst/bmw?sort=age&desc=1&fuel=2%2CB%2CE&ustate=N%2CU&size=20&page=1&cy=E&fregto=2017&fregfrom=2017&atype=C&\n",
    "my = 'https://www.autoscout24.es/lst/bmw?sort=age&desc=1&fuel=2%2CB%2CE&ustate=N%2CU&size=20&page='\n",
    "page = '&cy=E&fregto=2017&fregfrom=2017&atype=C&'"
   ]
  },
  {
   "cell_type": "code",
   "execution_count": 65,
   "metadata": {},
   "outputs": [],
   "source": [
    "for i in range(1,21):\n",
    "    #page \n",
    "    page_i = my+str(i)+page\n",
    "    #print (page_i)\n",
    "    \n",
    "    #Open the conexion\n",
    "    uClient = uReq(page_i)\n",
    "    #Save the html code\n",
    "    page_html = uClient.read()\n",
    "    #close the conexion\n",
    "    uClient.close()\n",
    "    #Parse\n",
    "    page_soup = soup(page_html,'html.parser')\n",
    "    \n",
    "    #List of cars\n",
    "    cars = page_soup.findAll(\"div\",{\"class\":\"cldt-summary-full-item\"})\n",
    "    \n",
    "    #We'll get the features for each car\n",
    "    for car in cars:\n",
    "        vehicle = car.div.div.div.a.div.div.h2.text\n",
    "        price = car.div.findAll('div',{'class':'cldt-summary-payment'})[0].text.strip()[0:8]\n",
    "        km = car.div.findAll('div',{'class':'cldt-summary-vehicle-data'})[0].li.text.strip()\n",
    "        year = car.div.findAll('div',{'class':'cldt-summary-vehicle-data'})[0].ul.findAll('li')[1].text.strip()\n",
    "        power = car.div.findAll('div',{'class':'cldt-summary-vehicle-data'})[0].ul.findAll('li')[2].text.strip()\n",
    "        transmision = car.div.findAll('div',{'class':'cldt-summary-vehicle-data'})[0].ul.findAll('li')[5].text.strip()\n",
    "        fuel_type = car.div.findAll('div',{'class':'cldt-summary-vehicle-data'})[0].ul.findAll('li')[6].text.strip()\n",
    "        consume = car.div.findAll('div',{'class':'cldt-summary-vehicle-data'})[0].ul.findAll('li')[7].text.strip()[0:4]\n",
    "        ##country = car.findAll('div',{'class':'cldt-summary-seller'})[0].div.find('div',{'class':'cldf-summary-seller-contact-address'}).text\n",
    "        try:\n",
    "            country = car.findAll('div',{'class':'cldt-summary-seller'})[0].div.findAll('div',{'class':'cldf-summary-seller-contact-address'})[0].text.strip()[0:2]\n",
    "        except:\n",
    "            country = 'Unknown'\n",
    "        emisions = car.div.findAll('div',{'class':'cldt-summary-vehicle-data'})[0].ul.findAll('li')[8].text.strip()[0:4]  \n",
    "        price = car.div.findAll('div',{'class':'cldt-summary-payment'})[0].text.strip()[0:8]\n",
    "        #Writing the csv\n",
    "        f.write(vehicle +';'+ km +';'+ year +';'+ power +';'+ transmision +';'+ fuel_type +';'+ consume +';'+ country +';'+ emisions +';'+ price +'\\n')"
   ]
  },
  {
   "cell_type": "code",
   "execution_count": 66,
   "metadata": {},
   "outputs": [],
   "source": [
    "f.close()"
   ]
  },
  {
   "cell_type": "markdown",
   "metadata": {},
   "source": [
    "-------------------------------------------------------------------------------------------------------------------------------"
   ]
  },
  {
   "cell_type": "markdown",
   "metadata": {},
   "source": [
    "## <div align=\"center\"> BMW 2017 DIESEL"
   ]
  },
  {
   "cell_type": "markdown",
   "metadata": {},
   "source": [
    "##### CSV file"
   ]
  },
  {
   "cell_type": "code",
   "execution_count": 67,
   "metadata": {},
   "outputs": [
    {
     "data": {
      "text/plain": [
       "84"
      ]
     },
     "execution_count": 67,
     "metadata": {},
     "output_type": "execute_result"
    }
   ],
   "source": [
    "headers='vehicle;  km; year; power; transmision; fuel_type; consume; country;emisions;price \\n'\n",
    "filename='bmw_2017_d.csv'\n",
    "f=open(filename,'w')\n",
    "f.write(headers)"
   ]
  },
  {
   "cell_type": "markdown",
   "metadata": {},
   "source": [
    "##### Data acquisition"
   ]
  },
  {
   "cell_type": "code",
   "execution_count": 68,
   "metadata": {},
   "outputs": [],
   "source": [
    "#https://www.autoscout24.es/lst/bmw?sort=age&desc=1&fuel=D&ustate=N%2CU&size=20&page=8&cy=E&fregto=2015&fregfrom=2015&atype=C&\n",
    "my = 'https://www.autoscout24.es/lst/bmw?sort=age&desc=1&fuel=D&ustate=N%2CU&size=20&page='\n",
    "page = '&cy=E&fregto=2017&fregfrom=2017&atype=C&'"
   ]
  },
  {
   "cell_type": "code",
   "execution_count": 69,
   "metadata": {},
   "outputs": [],
   "source": [
    "for i in range(1,21):\n",
    "    #page \n",
    "    page_i = my+str(i)+page\n",
    "    \n",
    "    #Open the conexion\n",
    "    uClient = uReq(page_i)\n",
    "    #Save the html code\n",
    "    page_html = uClient.read()\n",
    "    #close the conexion\n",
    "    uClient.close()\n",
    "    #Parse\n",
    "    page_soup = soup(page_html,'html.parser')\n",
    "    \n",
    "    #List of cars\n",
    "    cars = page_soup.findAll(\"div\",{\"class\":\"cldt-summary-full-item\"})\n",
    "    \n",
    "    #We'll get the features for each car\n",
    "    for car in cars:\n",
    "        vehicle = car.div.div.div.a.div.div.h2.text\n",
    "        price = car.div.findAll('div',{'class':'cldt-summary-payment'})[0].text.strip()[0:8]\n",
    "        km = car.div.findAll('div',{'class':'cldt-summary-vehicle-data'})[0].li.text.strip()\n",
    "        year = car.div.findAll('div',{'class':'cldt-summary-vehicle-data'})[0].ul.findAll('li')[1].text.strip()\n",
    "        power = car.div.findAll('div',{'class':'cldt-summary-vehicle-data'})[0].ul.findAll('li')[2].text.strip()\n",
    "        transmision = car.div.findAll('div',{'class':'cldt-summary-vehicle-data'})[0].ul.findAll('li')[5].text.strip()\n",
    "        fuel_type = car.div.findAll('div',{'class':'cldt-summary-vehicle-data'})[0].ul.findAll('li')[6].text.strip()\n",
    "        consume = car.div.findAll('div',{'class':'cldt-summary-vehicle-data'})[0].ul.findAll('li')[7].text.strip()[0:4]\n",
    "        ##country = car.findAll('div',{'class':'cldt-summary-seller'})[0].div.find('div',{'class':'cldf-summary-seller-contact-address'}).text\n",
    "        try:\n",
    "            country = car.findAll('div',{'class':'cldt-summary-seller'})[0].div.findAll('div',{'class':'cldf-summary-seller-contact-address'})[0].text.strip()[0:2]\n",
    "        except:\n",
    "            country = 'Unknown'\n",
    "        emisions = car.div.findAll('div',{'class':'cldt-summary-vehicle-data'})[0].ul.findAll('li')[8].text.strip()[0:4]  \n",
    "        price = car.div.findAll('div',{'class':'cldt-summary-payment'})[0].text.strip()[0:8]\n",
    "        #Writing the csv\n",
    "        f.write(vehicle +';'+ km +';'+ year +';'+ power +';'+ transmision +';'+ fuel_type +';'+ consume +';'+ country +';'+ emisions +';'+ price +'\\n')"
   ]
  },
  {
   "cell_type": "code",
   "execution_count": 70,
   "metadata": {},
   "outputs": [],
   "source": [
    "f.close()"
   ]
  },
  {
   "cell_type": "markdown",
   "metadata": {},
   "source": [
    "-------------------------------------------------------------------------------------------------------------------------------"
   ]
  },
  {
   "cell_type": "markdown",
   "metadata": {},
   "source": [
    "## <div align=\"center\"> BMW 2018"
   ]
  },
  {
   "cell_type": "markdown",
   "metadata": {},
   "source": [
    "##### CSV file"
   ]
  },
  {
   "cell_type": "code",
   "execution_count": 71,
   "metadata": {},
   "outputs": [
    {
     "data": {
      "text/plain": [
       "84"
      ]
     },
     "execution_count": 71,
     "metadata": {},
     "output_type": "execute_result"
    }
   ],
   "source": [
    "headers='vehicle;  km; year; power; transmision; fuel_type; consume; country;emisions;price \\n'\n",
    "filename='bmw_2018_r.csv'\n",
    "f=open(filename,'w')\n",
    "f.write(headers)"
   ]
  },
  {
   "cell_type": "markdown",
   "metadata": {},
   "source": [
    "##### Data acquisition"
   ]
  },
  {
   "cell_type": "code",
   "execution_count": 72,
   "metadata": {},
   "outputs": [],
   "source": [
    "#https://www.autoscout24.es/lst/bmw?sort=age&desc=1&fuel=2%2CB%2CE&ustate=N%2CU&size=20&page=1&cy=E&fregto=2017&fregfrom=2017&atype=C&\n",
    "my = 'https://www.autoscout24.es/lst/bmw?sort=age&desc=1&fuel=2%2CB%2CE&ustate=N%2CU&size=20&page='\n",
    "page = '&cy=E&fregto=2018&fregfrom=2018&atype=C&'"
   ]
  },
  {
   "cell_type": "code",
   "execution_count": 73,
   "metadata": {},
   "outputs": [],
   "source": [
    "for i in range(1,21):\n",
    "    #page \n",
    "    page_i = my+str(i)+page\n",
    "    #print (page_i)\n",
    "    \n",
    "    #Open the conexion\n",
    "    uClient = uReq(page_i)\n",
    "    #Save the html code\n",
    "    page_html = uClient.read()\n",
    "    #close the conexion\n",
    "    uClient.close()\n",
    "    #Parse\n",
    "    page_soup = soup(page_html,'html.parser')\n",
    "    \n",
    "    #List of cars\n",
    "    cars = page_soup.findAll(\"div\",{\"class\":\"cldt-summary-full-item\"})\n",
    "    \n",
    "    #We'll get the features for each car\n",
    "    for car in cars:\n",
    "        vehicle = car.div.div.div.a.div.div.h2.text\n",
    "        price = car.div.findAll('div',{'class':'cldt-summary-payment'})[0].text.strip()[0:8]\n",
    "        km = car.div.findAll('div',{'class':'cldt-summary-vehicle-data'})[0].li.text.strip()\n",
    "        year = car.div.findAll('div',{'class':'cldt-summary-vehicle-data'})[0].ul.findAll('li')[1].text.strip()\n",
    "        power = car.div.findAll('div',{'class':'cldt-summary-vehicle-data'})[0].ul.findAll('li')[2].text.strip()\n",
    "        transmision = car.div.findAll('div',{'class':'cldt-summary-vehicle-data'})[0].ul.findAll('li')[5].text.strip()\n",
    "        fuel_type = car.div.findAll('div',{'class':'cldt-summary-vehicle-data'})[0].ul.findAll('li')[6].text.strip()\n",
    "        consume = car.div.findAll('div',{'class':'cldt-summary-vehicle-data'})[0].ul.findAll('li')[7].text.strip()[0:4]\n",
    "        ##country = car.findAll('div',{'class':'cldt-summary-seller'})[0].div.find('div',{'class':'cldf-summary-seller-contact-address'}).text\n",
    "        try:\n",
    "            country = car.findAll('div',{'class':'cldt-summary-seller'})[0].div.findAll('div',{'class':'cldf-summary-seller-contact-address'})[0].text.strip()[0:2]\n",
    "        except:\n",
    "            country = 'Unknown'\n",
    "        emisions = car.div.findAll('div',{'class':'cldt-summary-vehicle-data'})[0].ul.findAll('li')[8].text.strip()[0:4]  \n",
    "        price = car.div.findAll('div',{'class':'cldt-summary-payment'})[0].text.strip()[0:8]\n",
    "        #Writing the csv\n",
    "        f.write(vehicle +';'+ km +';'+ year +';'+ power +';'+ transmision +';'+ fuel_type +';'+ consume +';'+ country +';'+ emisions +';'+ price +'\\n')"
   ]
  },
  {
   "cell_type": "code",
   "execution_count": 74,
   "metadata": {},
   "outputs": [],
   "source": [
    "f.close()"
   ]
  },
  {
   "cell_type": "markdown",
   "metadata": {},
   "source": [
    "-------------------------------------------------------------------------------------------------------------------------------"
   ]
  },
  {
   "cell_type": "markdown",
   "metadata": {},
   "source": [
    "## <div align=\"center\"> BMW 2018 DIESEL"
   ]
  },
  {
   "cell_type": "markdown",
   "metadata": {},
   "source": [
    "##### CSV file"
   ]
  },
  {
   "cell_type": "code",
   "execution_count": 75,
   "metadata": {},
   "outputs": [
    {
     "data": {
      "text/plain": [
       "84"
      ]
     },
     "execution_count": 75,
     "metadata": {},
     "output_type": "execute_result"
    }
   ],
   "source": [
    "headers='vehicle;  km; year; power; transmision; fuel_type; consume; country;emisions;price \\n'\n",
    "filename='bmw_2018_d.csv'\n",
    "f=open(filename,'w')\n",
    "f.write(headers)"
   ]
  },
  {
   "cell_type": "markdown",
   "metadata": {},
   "source": [
    "##### Data acquisition"
   ]
  },
  {
   "cell_type": "code",
   "execution_count": 76,
   "metadata": {},
   "outputs": [],
   "source": [
    "#https://www.autoscout24.es/lst/bmw?sort=age&desc=1&fuel=D&ustate=N%2CU&size=20&page=8&cy=E&fregto=2015&fregfrom=2015&atype=C&\n",
    "my = 'https://www.autoscout24.es/lst/bmw?sort=age&desc=1&fuel=D&ustate=N%2CU&size=20&page='\n",
    "page = '&cy=E&fregto=2018&fregfrom=2018&atype=C&'"
   ]
  },
  {
   "cell_type": "code",
   "execution_count": 77,
   "metadata": {},
   "outputs": [],
   "source": [
    "for i in range(1,21):\n",
    "    #page \n",
    "    page_i = my+str(i)+page\n",
    "    \n",
    "    #Open the conexion\n",
    "    uClient = uReq(page_i)\n",
    "    #Save the html code\n",
    "    page_html = uClient.read()\n",
    "    #close the conexion\n",
    "    uClient.close()\n",
    "    #Parse\n",
    "    page_soup = soup(page_html,'html.parser')\n",
    "    \n",
    "    #List of cars\n",
    "    cars = page_soup.findAll(\"div\",{\"class\":\"cldt-summary-full-item\"})\n",
    "    \n",
    "    #We'll get the features for each car\n",
    "    for car in cars:\n",
    "        vehicle = car.div.div.div.a.div.div.h2.text\n",
    "        price = car.div.findAll('div',{'class':'cldt-summary-payment'})[0].text.strip()[0:8]\n",
    "        km = car.div.findAll('div',{'class':'cldt-summary-vehicle-data'})[0].li.text.strip()\n",
    "        year = car.div.findAll('div',{'class':'cldt-summary-vehicle-data'})[0].ul.findAll('li')[1].text.strip()\n",
    "        power = car.div.findAll('div',{'class':'cldt-summary-vehicle-data'})[0].ul.findAll('li')[2].text.strip()\n",
    "        transmision = car.div.findAll('div',{'class':'cldt-summary-vehicle-data'})[0].ul.findAll('li')[5].text.strip()\n",
    "        fuel_type = car.div.findAll('div',{'class':'cldt-summary-vehicle-data'})[0].ul.findAll('li')[6].text.strip()\n",
    "        consume = car.div.findAll('div',{'class':'cldt-summary-vehicle-data'})[0].ul.findAll('li')[7].text.strip()[0:4]\n",
    "        ##country = car.findAll('div',{'class':'cldt-summary-seller'})[0].div.find('div',{'class':'cldf-summary-seller-contact-address'}).text\n",
    "        try:\n",
    "            country = car.findAll('div',{'class':'cldt-summary-seller'})[0].div.findAll('div',{'class':'cldf-summary-seller-contact-address'})[0].text.strip()[0:2]\n",
    "        except:\n",
    "            country = 'Unknown'\n",
    "        emisions = car.div.findAll('div',{'class':'cldt-summary-vehicle-data'})[0].ul.findAll('li')[8].text.strip()[0:4]  \n",
    "        price = car.div.findAll('div',{'class':'cldt-summary-payment'})[0].text.strip()[0:8]\n",
    "        #Writing the csv\n",
    "        f.write(vehicle +';'+ km +';'+ year +';'+ power +';'+ transmision +';'+ fuel_type +';'+ consume +';'+ country +';'+ emisions +';'+ price +'\\n')"
   ]
  },
  {
   "cell_type": "code",
   "execution_count": 78,
   "metadata": {},
   "outputs": [],
   "source": [
    "f.close()"
   ]
  },
  {
   "cell_type": "markdown",
   "metadata": {},
   "source": [
    "-------------------------------------------------------------------------------------------------------------------------------"
   ]
  },
  {
   "cell_type": "markdown",
   "metadata": {},
   "source": [
    "## <div align=\"center\"> BMW 2019"
   ]
  },
  {
   "cell_type": "markdown",
   "metadata": {},
   "source": [
    "##### CSV file"
   ]
  },
  {
   "cell_type": "code",
   "execution_count": 79,
   "metadata": {},
   "outputs": [
    {
     "data": {
      "text/plain": [
       "84"
      ]
     },
     "execution_count": 79,
     "metadata": {},
     "output_type": "execute_result"
    }
   ],
   "source": [
    "headers='vehicle;  km; year; power; transmision; fuel_type; consume; country;emisions;price \\n'\n",
    "filename='bmw_2019_r.csv'\n",
    "f=open(filename,'w')\n",
    "f.write(headers)"
   ]
  },
  {
   "cell_type": "markdown",
   "metadata": {},
   "source": [
    "##### Data acquisition"
   ]
  },
  {
   "cell_type": "code",
   "execution_count": 80,
   "metadata": {},
   "outputs": [],
   "source": [
    "#https://www.autoscout24.es/lst/bmw?sort=age&desc=1&fuel=2%2CB%2CE&ustate=N%2CU&size=20&page=1&cy=E&fregto=2017&fregfrom=2017&atype=C&\n",
    "my = 'https://www.autoscout24.es/lst/bmw?sort=age&desc=1&fuel=2%2CB%2CE&ustate=N%2CU&size=20&page='\n",
    "page = '&cy=E&fregto=2019&fregfrom=2019&atype=C&'"
   ]
  },
  {
   "cell_type": "code",
   "execution_count": 81,
   "metadata": {},
   "outputs": [],
   "source": [
    "for i in range(1,21):\n",
    "    #page \n",
    "    page_i = my+str(i)+page\n",
    "    #print (page_i)\n",
    "    \n",
    "    #Open the conexion\n",
    "    uClient = uReq(page_i)\n",
    "    #Save the html code\n",
    "    page_html = uClient.read()\n",
    "    #close the conexion\n",
    "    uClient.close()\n",
    "    #Parse\n",
    "    page_soup = soup(page_html,'html.parser')\n",
    "    \n",
    "    #List of cars\n",
    "    cars = page_soup.findAll(\"div\",{\"class\":\"cldt-summary-full-item\"})\n",
    "    \n",
    "    #We'll get the features for each car\n",
    "    for car in cars:\n",
    "        vehicle = car.div.div.div.a.div.div.h2.text\n",
    "        price = car.div.findAll('div',{'class':'cldt-summary-payment'})[0].text.strip()[0:8]\n",
    "        km = car.div.findAll('div',{'class':'cldt-summary-vehicle-data'})[0].li.text.strip()\n",
    "        year = car.div.findAll('div',{'class':'cldt-summary-vehicle-data'})[0].ul.findAll('li')[1].text.strip()\n",
    "        power = car.div.findAll('div',{'class':'cldt-summary-vehicle-data'})[0].ul.findAll('li')[2].text.strip()\n",
    "        transmision = car.div.findAll('div',{'class':'cldt-summary-vehicle-data'})[0].ul.findAll('li')[5].text.strip()\n",
    "        fuel_type = car.div.findAll('div',{'class':'cldt-summary-vehicle-data'})[0].ul.findAll('li')[6].text.strip()\n",
    "        consume = car.div.findAll('div',{'class':'cldt-summary-vehicle-data'})[0].ul.findAll('li')[7].text.strip()[0:4]\n",
    "        ##country = car.findAll('div',{'class':'cldt-summary-seller'})[0].div.find('div',{'class':'cldf-summary-seller-contact-address'}).text\n",
    "        try:\n",
    "            country = car.findAll('div',{'class':'cldt-summary-seller'})[0].div.findAll('div',{'class':'cldf-summary-seller-contact-address'})[0].text.strip()[0:2]\n",
    "        except:\n",
    "            country = 'Unknown'\n",
    "        emisions = car.div.findAll('div',{'class':'cldt-summary-vehicle-data'})[0].ul.findAll('li')[8].text.strip()[0:4]  \n",
    "        price = car.div.findAll('div',{'class':'cldt-summary-payment'})[0].text.strip()[0:8]\n",
    "        #Writing the csv\n",
    "        f.write(vehicle +';'+ km +';'+ year +';'+ power +';'+ transmision +';'+ fuel_type +';'+ consume +';'+ country +';'+ emisions +';'+ price +'\\n')"
   ]
  },
  {
   "cell_type": "code",
   "execution_count": 82,
   "metadata": {},
   "outputs": [],
   "source": [
    "f.close()"
   ]
  },
  {
   "cell_type": "markdown",
   "metadata": {},
   "source": [
    "-------------------------------------------------------------------------------------------------------------------------------"
   ]
  },
  {
   "cell_type": "markdown",
   "metadata": {},
   "source": [
    "## <div align=\"center\"> BMW 2019 DIESEL"
   ]
  },
  {
   "cell_type": "markdown",
   "metadata": {},
   "source": [
    "##### CSV file"
   ]
  },
  {
   "cell_type": "code",
   "execution_count": 83,
   "metadata": {},
   "outputs": [
    {
     "data": {
      "text/plain": [
       "84"
      ]
     },
     "execution_count": 83,
     "metadata": {},
     "output_type": "execute_result"
    }
   ],
   "source": [
    "headers='vehicle;  km; year; power; transmision; fuel_type; consume; country;emisions;price \\n'\n",
    "filename='bmw_2019_d.csv'\n",
    "f=open(filename,'w')\n",
    "f.write(headers)"
   ]
  },
  {
   "cell_type": "markdown",
   "metadata": {},
   "source": [
    "##### Data acquisition"
   ]
  },
  {
   "cell_type": "code",
   "execution_count": 84,
   "metadata": {},
   "outputs": [],
   "source": [
    "#https://www.autoscout24.es/lst/bmw?sort=age&desc=1&fuel=D&ustate=N%2CU&size=20&page=8&cy=E&fregto=2015&fregfrom=2015&atype=C&\n",
    "my = 'https://www.autoscout24.es/lst/bmw?sort=age&desc=1&fuel=D&ustate=N%2CU&size=20&page='\n",
    "page = '&cy=E&fregto=2019&fregfrom=2019&atype=C&'"
   ]
  },
  {
   "cell_type": "code",
   "execution_count": 85,
   "metadata": {},
   "outputs": [],
   "source": [
    "for i in range(1,21):\n",
    "    #page \n",
    "    page_i = my+str(i)+page\n",
    "    \n",
    "    #Open the conexion\n",
    "    uClient = uReq(page_i)\n",
    "    #Save the html code\n",
    "    page_html = uClient.read()\n",
    "    #close the conexion\n",
    "    uClient.close()\n",
    "    #Parse\n",
    "    page_soup = soup(page_html,'html.parser')\n",
    "    \n",
    "    #List of cars\n",
    "    cars = page_soup.findAll(\"div\",{\"class\":\"cldt-summary-full-item\"})\n",
    "    \n",
    "    #We'll get the features for each car\n",
    "    for car in cars:\n",
    "        vehicle = car.div.div.div.a.div.div.h2.text\n",
    "        price = car.div.findAll('div',{'class':'cldt-summary-payment'})[0].text.strip()[0:8]\n",
    "        km = car.div.findAll('div',{'class':'cldt-summary-vehicle-data'})[0].li.text.strip()\n",
    "        year = car.div.findAll('div',{'class':'cldt-summary-vehicle-data'})[0].ul.findAll('li')[1].text.strip()\n",
    "        power = car.div.findAll('div',{'class':'cldt-summary-vehicle-data'})[0].ul.findAll('li')[2].text.strip()\n",
    "        transmision = car.div.findAll('div',{'class':'cldt-summary-vehicle-data'})[0].ul.findAll('li')[5].text.strip()\n",
    "        fuel_type = car.div.findAll('div',{'class':'cldt-summary-vehicle-data'})[0].ul.findAll('li')[6].text.strip()\n",
    "        consume = car.div.findAll('div',{'class':'cldt-summary-vehicle-data'})[0].ul.findAll('li')[7].text.strip()[0:4]\n",
    "        ##country = car.findAll('div',{'class':'cldt-summary-seller'})[0].div.find('div',{'class':'cldf-summary-seller-contact-address'}).text\n",
    "        try:\n",
    "            country = car.findAll('div',{'class':'cldt-summary-seller'})[0].div.findAll('div',{'class':'cldf-summary-seller-contact-address'})[0].text.strip()[0:2]\n",
    "        except:\n",
    "            country = 'Unknown'\n",
    "        emisions = car.div.findAll('div',{'class':'cldt-summary-vehicle-data'})[0].ul.findAll('li')[8].text.strip()[0:4]  \n",
    "        price = car.div.findAll('div',{'class':'cldt-summary-payment'})[0].text.strip()[0:8]\n",
    "        #Writing the csv\n",
    "        f.write(vehicle +';'+ km +';'+ year +';'+ power +';'+ transmision +';'+ fuel_type +';'+ consume +';'+ country +';'+ emisions +';'+ price +'\\n')"
   ]
  },
  {
   "cell_type": "code",
   "execution_count": 86,
   "metadata": {},
   "outputs": [],
   "source": [
    "f.close()"
   ]
  },
  {
   "cell_type": "markdown",
   "metadata": {},
   "source": [
    "-------------------------------------------------------------------------------------------------------------------------------"
   ]
  },
  {
   "cell_type": "markdown",
   "metadata": {},
   "source": [
    "## <div align=\"center\"> BMW 2020"
   ]
  },
  {
   "cell_type": "markdown",
   "metadata": {},
   "source": [
    "##### CSV file"
   ]
  },
  {
   "cell_type": "code",
   "execution_count": 87,
   "metadata": {},
   "outputs": [
    {
     "data": {
      "text/plain": [
       "84"
      ]
     },
     "execution_count": 87,
     "metadata": {},
     "output_type": "execute_result"
    }
   ],
   "source": [
    "headers='vehicle;  km; year; power; transmision; fuel_type; consume; country;emisions;price \\n'\n",
    "filename='bmw_2020_r.csv'\n",
    "f=open(filename,'w')\n",
    "f.write(headers)"
   ]
  },
  {
   "cell_type": "markdown",
   "metadata": {},
   "source": [
    "##### Data acquisition"
   ]
  },
  {
   "cell_type": "code",
   "execution_count": 88,
   "metadata": {},
   "outputs": [],
   "source": [
    "#https://www.autoscout24.es/lst/bmw?sort=age&desc=1&fuel=2%2CB%2CE&ustate=N%2CU&size=20&page=1&cy=E&fregto=2017&fregfrom=2017&atype=C&\n",
    "my = 'https://www.autoscout24.es/lst/bmw?sort=age&desc=1&fuel=2%2CB%2CE&ustate=N%2CU&size=20&page='\n",
    "page = '&cy=E&fregto=2020&fregfrom=2020&atype=C&'"
   ]
  },
  {
   "cell_type": "code",
   "execution_count": 89,
   "metadata": {
    "collapsed": true
   },
   "outputs": [
    {
     "name": "stdout",
     "output_type": "stream",
     "text": [
      "1\n",
      "2\n",
      "3\n",
      "4\n",
      "5\n",
      "6\n",
      "7\n",
      "8\n",
      "9\n",
      "10\n",
      "11\n",
      "12\n",
      "13\n",
      "14\n",
      "15\n",
      "16\n",
      "17\n",
      "18\n",
      "19\n",
      "20\n"
     ]
    }
   ],
   "source": [
    "for i in range(1,21):\n",
    "    #page \n",
    "    page_i = my+str(i)+page\n",
    "    #print (page_i)\n",
    "    \n",
    "    #Open the conexion\n",
    "    uClient = uReq(page_i)\n",
    "    #Save the html code\n",
    "    page_html = uClient.read()\n",
    "    #close the conexion\n",
    "    uClient.close()\n",
    "    #Parse\n",
    "    page_soup = soup(page_html,'html.parser')\n",
    "    \n",
    "    #List of cars\n",
    "    cars = page_soup.findAll(\"div\",{\"class\":\"cldt-summary-full-item\"})\n",
    "    \n",
    "    #We'll get the features for each car\n",
    "    for car in cars:\n",
    "        vehicle = car.div.div.div.a.div.div.h2.text\n",
    "        price = car.div.findAll('div',{'class':'cldt-summary-payment'})[0].text.strip()[0:8]\n",
    "        km = car.div.findAll('div',{'class':'cldt-summary-vehicle-data'})[0].li.text.strip()\n",
    "        year = car.div.findAll('div',{'class':'cldt-summary-vehicle-data'})[0].ul.findAll('li')[1].text.strip()\n",
    "        power = car.div.findAll('div',{'class':'cldt-summary-vehicle-data'})[0].ul.findAll('li')[2].text.strip()\n",
    "        transmision = car.div.findAll('div',{'class':'cldt-summary-vehicle-data'})[0].ul.findAll('li')[5].text.strip()\n",
    "        fuel_type = car.div.findAll('div',{'class':'cldt-summary-vehicle-data'})[0].ul.findAll('li')[6].text.strip()\n",
    "        consume = car.div.findAll('div',{'class':'cldt-summary-vehicle-data'})[0].ul.findAll('li')[7].text.strip()[0:4]\n",
    "        ##country = car.findAll('div',{'class':'cldt-summary-seller'})[0].div.find('div',{'class':'cldf-summary-seller-contact-address'}).text\n",
    "        try:\n",
    "            country = car.findAll('div',{'class':'cldt-summary-seller'})[0].div.findAll('div',{'class':'cldf-summary-seller-contact-address'})[0].text.strip()[0:2]\n",
    "        except:\n",
    "            country = 'Unknown'\n",
    "        emisions = car.div.findAll('div',{'class':'cldt-summary-vehicle-data'})[0].ul.findAll('li')[8].text.strip()[0:4]  \n",
    "        price = car.div.findAll('div',{'class':'cldt-summary-payment'})[0].text.strip()[0:8]\n",
    "        #Writing the csv\n",
    "        f.write(vehicle +';'+ km +';'+ year +';'+ power +';'+ transmision +';'+ fuel_type +';'+ consume +';'+ country +';'+ emisions +';'+ price +'\\n')"
   ]
  },
  {
   "cell_type": "code",
   "execution_count": 90,
   "metadata": {},
   "outputs": [],
   "source": [
    "f.close()"
   ]
  },
  {
   "cell_type": "markdown",
   "metadata": {},
   "source": [
    "-------------------------------------------------------------------------------------------------------------------------------"
   ]
  },
  {
   "cell_type": "markdown",
   "metadata": {},
   "source": [
    "## <div align=\"center\"> BMW 2020 DIESEL"
   ]
  },
  {
   "cell_type": "markdown",
   "metadata": {},
   "source": [
    "##### CSV file"
   ]
  },
  {
   "cell_type": "code",
   "execution_count": 91,
   "metadata": {},
   "outputs": [
    {
     "data": {
      "text/plain": [
       "84"
      ]
     },
     "execution_count": 91,
     "metadata": {},
     "output_type": "execute_result"
    }
   ],
   "source": [
    "headers='vehicle;  km; year; power; transmision; fuel_type; consume; country;emisions;price \\n'\n",
    "filename='bmw_2020_d.csv'\n",
    "f=open(filename,'w')\n",
    "f.write(headers)"
   ]
  },
  {
   "cell_type": "markdown",
   "metadata": {},
   "source": [
    "##### Data acquisition"
   ]
  },
  {
   "cell_type": "code",
   "execution_count": 92,
   "metadata": {},
   "outputs": [],
   "source": [
    "#https://www.autoscout24.es/lst/bmw?sort=age&desc=1&fuel=D&ustate=N%2CU&size=20&page=8&cy=E&fregto=2015&fregfrom=2015&atype=C&\n",
    "my = 'https://www.autoscout24.es/lst/bmw?sort=age&desc=1&fuel=D&ustate=N%2CU&size=20&page='\n",
    "page = '&cy=E&fregto=2019&fregfrom=2019&atype=C&'"
   ]
  },
  {
   "cell_type": "code",
   "execution_count": 93,
   "metadata": {},
   "outputs": [],
   "source": [
    "for i in range(1,21):\n",
    "    #page \n",
    "    page_i = my+str(i)+page\n",
    "    \n",
    "    #Open the conexion\n",
    "    uClient = uReq(page_i)\n",
    "    #Save the html code\n",
    "    page_html = uClient.read()\n",
    "    #close the conexion\n",
    "    uClient.close()\n",
    "    #Parse\n",
    "    page_soup = soup(page_html,'html.parser')\n",
    "    \n",
    "    #List of cars\n",
    "    cars = page_soup.findAll(\"div\",{\"class\":\"cldt-summary-full-item\"})\n",
    "    \n",
    "    #We'll get the features for each car\n",
    "    for car in cars:\n",
    "        vehicle = car.div.div.div.a.div.div.h2.text\n",
    "        price = car.div.findAll('div',{'class':'cldt-summary-payment'})[0].text.strip()[0:8]\n",
    "        km = car.div.findAll('div',{'class':'cldt-summary-vehicle-data'})[0].li.text.strip()\n",
    "        year = car.div.findAll('div',{'class':'cldt-summary-vehicle-data'})[0].ul.findAll('li')[1].text.strip()\n",
    "        power = car.div.findAll('div',{'class':'cldt-summary-vehicle-data'})[0].ul.findAll('li')[2].text.strip()\n",
    "        transmision = car.div.findAll('div',{'class':'cldt-summary-vehicle-data'})[0].ul.findAll('li')[5].text.strip()\n",
    "        fuel_type = car.div.findAll('div',{'class':'cldt-summary-vehicle-data'})[0].ul.findAll('li')[6].text.strip()\n",
    "        consume = car.div.findAll('div',{'class':'cldt-summary-vehicle-data'})[0].ul.findAll('li')[7].text.strip()[0:4]\n",
    "        ##country = car.findAll('div',{'class':'cldt-summary-seller'})[0].div.find('div',{'class':'cldf-summary-seller-contact-address'}).text\n",
    "        try:\n",
    "            country = car.findAll('div',{'class':'cldt-summary-seller'})[0].div.findAll('div',{'class':'cldf-summary-seller-contact-address'})[0].text.strip()[0:2]\n",
    "        except:\n",
    "            country = 'Unknown'\n",
    "        emisions = car.div.findAll('div',{'class':'cldt-summary-vehicle-data'})[0].ul.findAll('li')[8].text.strip()[0:4]  \n",
    "        price = car.div.findAll('div',{'class':'cldt-summary-payment'})[0].text.strip()[0:8]\n",
    "        #Writing the csv\n",
    "        f.write(vehicle +';'+ km +';'+ year +';'+ power +';'+ transmision +';'+ fuel_type +';'+ consume +';'+ country +';'+ emisions +';'+ price +'\\n')"
   ]
  },
  {
   "cell_type": "code",
   "execution_count": 94,
   "metadata": {},
   "outputs": [],
   "source": [
    "f.close()"
   ]
  },
  {
   "cell_type": "markdown",
   "metadata": {},
   "source": [
    "-------------------------------------------------------------------------------------------------------------------------------"
   ]
  }
 ],
 "metadata": {
  "kernelspec": {
   "display_name": "Python 3",
   "language": "python",
   "name": "python3"
  },
  "language_info": {
   "codemirror_mode": {
    "name": "ipython",
    "version": 3
   },
   "file_extension": ".py",
   "mimetype": "text/x-python",
   "name": "python",
   "nbconvert_exporter": "python",
   "pygments_lexer": "ipython3",
   "version": "3.7.6"
  }
 },
 "nbformat": 4,
 "nbformat_minor": 4
}
