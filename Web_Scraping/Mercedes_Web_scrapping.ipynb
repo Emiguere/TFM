{
 "cells": [
  {
   "cell_type": "markdown",
   "metadata": {},
   "source": [
    "# <div align=\"center\"> Web scrapping Europe"
   ]
  },
  {
   "cell_type": "markdown",
   "metadata": {},
   "source": [
    "### Imports"
   ]
  },
  {
   "cell_type": "code",
   "execution_count": 1,
   "metadata": {},
   "outputs": [],
   "source": [
    "import bs4 #Beautiful Soup\n",
    "from urllib.request import urlopen as uReq\n",
    "from bs4 import BeautifulSoup as soup"
   ]
  },
  {
   "cell_type": "markdown",
   "metadata": {},
   "source": [
    "### Web Scrapping Funtion"
   ]
  },
  {
   "cell_type": "code",
   "execution_count": 2,
   "metadata": {},
   "outputs": [],
   "source": [
    "def getcars(my,page,filename):\n",
    "    headers='vehicle;  km; year; power; transmision; fuel_type; consume; country;emisions;price \\n'\n",
    "    f=open(filename,'w')\n",
    "    f.write(headers)\n",
    "    for i in range(1,21):\n",
    "        #page \n",
    "        page_i = my+str(i)+page\n",
    "        #Open the conexion\n",
    "        uClient = uReq(page_i)\n",
    "        #Save the html code\n",
    "        page_html = uClient.read()\n",
    "        #close the conexion\n",
    "        uClient.close()\n",
    "        #Parse\n",
    "        page_soup = soup(page_html,'html.parser')\n",
    "\n",
    "        #List of cars\n",
    "        cars = page_soup.findAll(\"div\",{\"class\":\"cldt-summary-full-item\"})\n",
    "\n",
    "        #Getting the features for each car\n",
    "        for car in cars:\n",
    "            try:\n",
    "                vehicle = car.div.div.div.a.div.div.h2.text\n",
    "            except:\n",
    "                vehicle='Unknown'\n",
    "            price = car.div.findAll('div',{'class':'cldt-summary-payment'})[0].text.strip()[0:9]\n",
    "            km = car.div.findAll('div',{'class':'cldt-summary-vehicle-data'})[0].li.text.strip()\n",
    "            year = car.div.findAll('div',{'class':'cldt-summary-vehicle-data'})[0].ul.findAll('li')[1].text.strip()\n",
    "            power = car.div.findAll('div',{'class':'cldt-summary-vehicle-data'})[0].ul.findAll('li')[2].text.strip()\n",
    "            transmision = car.div.findAll('div',{'class':'cldt-summary-vehicle-data'})[0].ul.findAll('li')[5].text.strip()\n",
    "            fuel_type = car.div.findAll('div',{'class':'cldt-summary-vehicle-data'})[0].ul.findAll('li')[6].text.strip()\n",
    "            consume = car.div.findAll('div',{'class':'cldt-summary-vehicle-data'})[0].ul.findAll('li')[7].text.strip()[0:4]\n",
    "            try:\n",
    "                country = car.findAll('div',{'class':'cldt-summary-seller'})[0].div.findAll('div',{'class':'cldf-summary-seller-contact-address'})[0].text.strip()[0:2]\n",
    "            except:\n",
    "                country = 'Unknown'\n",
    "            emisions = car.div.findAll('div',{'class':'cldt-summary-vehicle-data'})[0].ul.findAll('li')[8].text.strip()[0:4]  \n",
    "            price = car.div.findAll('div',{'class':'cldt-summary-payment'})[0].text.strip()[0:8]\n",
    "            #Writing the csv\n",
    "            f.write(vehicle +';'+ km +';'+ year +';'+ power +';'+ transmision +';'+ fuel_type +';'+ consume +';'+ country +';'+ emisions +';'+ price +'\\n')\n",
    "    f.close()"
   ]
  },
  {
   "cell_type": "markdown",
   "metadata": {},
   "source": [
    "### mercedes UE 2010-2012"
   ]
  },
  {
   "cell_type": "code",
   "execution_count": 3,
   "metadata": {},
   "outputs": [],
   "source": [
    "getcars(my='https://www.autoscout24.es/lst/mercedes-benz?sort=age&desc=1&ustate=N%2CU&size=20&page=',\n",
    "        page='&fregto=2012&fregfrom=2010&atype=C&',\n",
    "        filename='mercedes_EU_2010_2012.csv')"
   ]
  },
  {
   "cell_type": "markdown",
   "metadata": {},
   "source": [
    "### mercedes UE 2013-2015"
   ]
  },
  {
   "cell_type": "code",
   "execution_count": 4,
   "metadata": {},
   "outputs": [],
   "source": [
    "getcars(my='https://www.autoscout24.es/lst/mercedes-benz?sort=age&desc=1&ustate=N%2CU&size=20&page=',\n",
    "        page='&fregto=2015&fregfrom=2013&atype=C&',\n",
    "        filename='mercedes_EU_2013_2015.csv')"
   ]
  },
  {
   "cell_type": "markdown",
   "metadata": {},
   "source": [
    "### mercedes UE 2016-2018"
   ]
  },
  {
   "cell_type": "code",
   "execution_count": 5,
   "metadata": {},
   "outputs": [],
   "source": [
    "getcars(my='https://www.autoscout24.es/lst/mercedes-benz?sort=age&desc=1&ustate=N%2CU&size=20&page=',\n",
    "        page='&fregto=2018&fregfrom=2016&atype=C&',\n",
    "        filename='mercedes-benz_EU_2016_2018.csv')"
   ]
  },
  {
   "cell_type": "markdown",
   "metadata": {},
   "source": [
    "### mercedes UE 2019-2020"
   ]
  },
  {
   "cell_type": "code",
   "execution_count": 6,
   "metadata": {},
   "outputs": [],
   "source": [
    "getcars(my='https://www.autoscout24.es/lst/mercedes-benz?sort=age&desc=1&ustate=N%2CU&size=20&page=1&fregfrom=2019&atype=C&',\n",
    "        page='&fregfrom=2019&atype=C&',\n",
    "        filename='mercedes-benz_EU_2019_2020.csv')"
   ]
  },
  {
   "cell_type": "markdown",
   "metadata": {},
   "source": [
    "# <div align=\"center\"> Web scrapping "
   ]
  },
  {
   "cell_type": "markdown",
   "metadata": {},
   "source": [
    "### Imports"
   ]
  },
  {
   "cell_type": "code",
   "execution_count": 2,
   "metadata": {},
   "outputs": [],
   "source": [
    "import bs4 #Beautiful Soup\n",
    "from urllib.request import urlopen as uReq\n",
    "from bs4 import BeautifulSoup as soup"
   ]
  },
  {
   "cell_type": "markdown",
   "metadata": {},
   "source": [
    "## <div align=\"center\"> Mercedes-Benz  2010 </div>"
   ]
  },
  {
   "cell_type": "markdown",
   "metadata": {},
   "source": [
    "##### CSV file"
   ]
  },
  {
   "cell_type": "code",
   "execution_count": 8,
   "metadata": {},
   "outputs": [
    {
     "data": {
      "text/plain": [
       "84"
      ]
     },
     "execution_count": 8,
     "metadata": {},
     "output_type": "execute_result"
    }
   ],
   "source": [
    "headers='vehicle;  km; year; power; transmision; fuel_type; consume; country;emisions;price \\n'\n",
    "filename='mercedes_2010.csv'\n",
    "f=open(filename,'w')\n",
    "f.write(headers)"
   ]
  },
  {
   "cell_type": "markdown",
   "metadata": {},
   "source": [
    "##### Data acquisition"
   ]
  },
  {
   "cell_type": "code",
   "execution_count": 9,
   "metadata": {},
   "outputs": [],
   "source": [
    "#'https://www.autoscout24.es/lst/mercedes-benz?sort=age&desc=1&ustate=N%2CU&size=20&page=1&cy=E&fregto=2011&fregfrom=2011&atype=C&\n",
    "my = 'https://www.autoscout24.es/lst/mercedes-benz?sort=age&desc=1&ustate=N%2CU&size=20&page='\n",
    "page = '&cy=E&fregto=2010&fregfrom=2010&atype=C&'"
   ]
  },
  {
   "cell_type": "code",
   "execution_count": 10,
   "metadata": {},
   "outputs": [
    {
     "name": "stdout",
     "output_type": "stream",
     "text": [
      "1\n",
      "2\n",
      "3\n",
      "4\n",
      "5\n",
      "6\n",
      "7\n",
      "8\n",
      "9\n",
      "10\n",
      "11\n",
      "12\n",
      "13\n",
      "14\n",
      "15\n",
      "16\n",
      "17\n",
      "18\n",
      "19\n",
      "20\n"
     ]
    }
   ],
   "source": [
    "for i in range(1,21):\n",
    "    #page \n",
    "    page_i = my+str(i)+page\n",
    "    \n",
    "    #Open the conexion\n",
    "    uClient = uReq(page_i)\n",
    "    #Save the html code\n",
    "    page_html = uClient.read()\n",
    "    #close the conexion\n",
    "    uClient.close()\n",
    "    #Parse\n",
    "    page_soup = soup(page_html,'html.parser')\n",
    "    \n",
    "    #List of cars\n",
    "    cars = page_soup.findAll(\"div\",{\"class\":\"cldt-summary-full-item\"})\n",
    "    \n",
    "    #We'll get the features for each car\n",
    "    for car in cars:\n",
    "        vehicle = car.div.div.div.a.div.div.h2.text\n",
    "        price = car.div.findAll('div',{'class':'cldt-summary-payment'})[0].text.strip()[0:8]\n",
    "        km = car.div.findAll('div',{'class':'cldt-summary-vehicle-data'})[0].li.text.strip()\n",
    "        year = car.div.findAll('div',{'class':'cldt-summary-vehicle-data'})[0].ul.findAll('li')[1].text.strip()\n",
    "        power = car.div.findAll('div',{'class':'cldt-summary-vehicle-data'})[0].ul.findAll('li')[2].text.strip()\n",
    "        transmision = car.div.findAll('div',{'class':'cldt-summary-vehicle-data'})[0].ul.findAll('li')[5].text.strip()\n",
    "        fuel_type = car.div.findAll('div',{'class':'cldt-summary-vehicle-data'})[0].ul.findAll('li')[6].text.strip()\n",
    "        consume = car.div.findAll('div',{'class':'cldt-summary-vehicle-data'})[0].ul.findAll('li')[7].text.strip()[0:4]\n",
    "        ##country = car.findAll('div',{'class':'cldt-summary-seller'})[0].div.find('div',{'class':'cldf-summary-seller-contact-address'}).text\n",
    "        try:\n",
    "            country = car.findAll('div',{'class':'cldt-summary-seller'})[0].div.findAll('div',{'class':'cldf-summary-seller-contact-address'})[0].text.strip()[0:2]\n",
    "        except:\n",
    "            country = 'Unknown'\n",
    "        emisions = car.div.findAll('div',{'class':'cldt-summary-vehicle-data'})[0].ul.findAll('li')[8].text.strip()[0:4]  \n",
    "        price = car.div.findAll('div',{'class':'cldt-summary-payment'})[0].text.strip()[0:8]\n",
    "        #Writing the csv\n",
    "        f.write(vehicle +';'+ km +';'+ year +';'+ power +';'+ transmision +';'+ fuel_type +';'+ consume +';'+ country +';'+ emisions +';'+ price +'\\n')"
   ]
  },
  {
   "cell_type": "code",
   "execution_count": 11,
   "metadata": {},
   "outputs": [],
   "source": [
    "f.close()"
   ]
  },
  {
   "cell_type": "markdown",
   "metadata": {},
   "source": [
    "-----------------------------------------------------------------------------------------------------------------------"
   ]
  },
  {
   "cell_type": "markdown",
   "metadata": {},
   "source": [
    "## <div align=\"center\"> Mercedes-Benz  2011 </div>"
   ]
  },
  {
   "cell_type": "markdown",
   "metadata": {},
   "source": [
    "##### CSV file"
   ]
  },
  {
   "cell_type": "code",
   "execution_count": 19,
   "metadata": {},
   "outputs": [
    {
     "data": {
      "text/plain": [
       "84"
      ]
     },
     "execution_count": 19,
     "metadata": {},
     "output_type": "execute_result"
    }
   ],
   "source": [
    "headers='vehicle;  km; year; power; transmision; fuel_type; consume; country;emisions;price \\n'\n",
    "filename='mercedes_2011.csv'\n",
    "f=open(filename,'w')\n",
    "f.write(headers)"
   ]
  },
  {
   "cell_type": "markdown",
   "metadata": {},
   "source": [
    "##### Data acquisition"
   ]
  },
  {
   "cell_type": "code",
   "execution_count": 20,
   "metadata": {},
   "outputs": [],
   "source": [
    "#https://www.autoscout24.es/lst/mercedes-benz?sort=standard&desc=0&ustate=N%2CU&size=20&page=1&cy=E&fregto=2011&fregfrom=2011&atype=C&\n",
    "my = 'https://www.autoscout24.es/lst/mercedes-benz?sort=standard&desc=0&ustate=N%2CU&size=20&page='\n",
    "page = '&cy=E&fregto=2011&fregfrom=2011&atype=C&'"
   ]
  },
  {
   "cell_type": "code",
   "execution_count": 21,
   "metadata": {},
   "outputs": [
    {
     "name": "stdout",
     "output_type": "stream",
     "text": [
      "1\n",
      "2\n",
      "3\n",
      "4\n",
      "5\n",
      "6\n",
      "7\n",
      "8\n",
      "9\n",
      "10\n",
      "11\n",
      "12\n",
      "13\n",
      "14\n",
      "15\n",
      "16\n",
      "17\n",
      "18\n",
      "19\n",
      "20\n"
     ]
    }
   ],
   "source": [
    "for i in range(1,21):\n",
    "    #page \n",
    "    page_i = my+str(i)+page\n",
    "    \n",
    "    #Open the conexion\n",
    "    uClient = uReq(page_i)\n",
    "    #Save the html code\n",
    "    page_html = uClient.read()\n",
    "    #close the conexion\n",
    "    uClient.close()\n",
    "    #Parse\n",
    "    page_soup = soup(page_html,'html.parser')\n",
    "    \n",
    "    #List of cars\n",
    "    cars = page_soup.findAll(\"div\",{\"class\":\"cldt-summary-full-item\"})\n",
    "    \n",
    "    #We'll get the features for each car\n",
    "    for car in cars:\n",
    "        vehicle = car.div.div.div.a.div.div.h2.text\n",
    "        price = car.div.findAll('div',{'class':'cldt-summary-payment'})[0].text.strip()[0:8]\n",
    "        km = car.div.findAll('div',{'class':'cldt-summary-vehicle-data'})[0].li.text.strip()\n",
    "        year = car.div.findAll('div',{'class':'cldt-summary-vehicle-data'})[0].ul.findAll('li')[1].text.strip()\n",
    "        power = car.div.findAll('div',{'class':'cldt-summary-vehicle-data'})[0].ul.findAll('li')[2].text.strip()\n",
    "        transmision = car.div.findAll('div',{'class':'cldt-summary-vehicle-data'})[0].ul.findAll('li')[5].text.strip()\n",
    "        fuel_type = car.div.findAll('div',{'class':'cldt-summary-vehicle-data'})[0].ul.findAll('li')[6].text.strip()\n",
    "        consume = car.div.findAll('div',{'class':'cldt-summary-vehicle-data'})[0].ul.findAll('li')[7].text.strip()[0:4]\n",
    "        ##country = car.findAll('div',{'class':'cldt-summary-seller'})[0].div.find('div',{'class':'cldf-summary-seller-contact-address'}).text\n",
    "        try:\n",
    "            country = car.findAll('div',{'class':'cldt-summary-seller'})[0].div.findAll('div',{'class':'cldf-summary-seller-contact-address'})[0].text.strip()[0:2]\n",
    "        except:\n",
    "            country = 'Unknown'\n",
    "        emisions = car.div.findAll('div',{'class':'cldt-summary-vehicle-data'})[0].ul.findAll('li')[8].text.strip()[0:4]  \n",
    "        price = car.div.findAll('div',{'class':'cldt-summary-payment'})[0].text.strip()[0:8]\n",
    "        #Writing the csv\n",
    "        f.write(vehicle +';'+ km +';'+ year +';'+ power +';'+ transmision +';'+ fuel_type +';'+ consume +';'+ country +';'+ emisions +';'+ price +'\\n')"
   ]
  },
  {
   "cell_type": "code",
   "execution_count": 22,
   "metadata": {},
   "outputs": [],
   "source": [
    "f.close()"
   ]
  },
  {
   "cell_type": "markdown",
   "metadata": {},
   "source": [
    "-----------------------------------------------------------------------------------------------------------------------"
   ]
  },
  {
   "cell_type": "markdown",
   "metadata": {},
   "source": [
    "## <div align=\"center\"> Mercedes-Benz  2012 </div>"
   ]
  },
  {
   "cell_type": "markdown",
   "metadata": {},
   "source": [
    "##### CSV file"
   ]
  },
  {
   "cell_type": "code",
   "execution_count": 34,
   "metadata": {},
   "outputs": [
    {
     "data": {
      "text/plain": [
       "84"
      ]
     },
     "execution_count": 34,
     "metadata": {},
     "output_type": "execute_result"
    }
   ],
   "source": [
    "headers='vehicle;  km; year; power; transmision; fuel_type; consume; country;emisions;price \\n'\n",
    "filename='mercedes_2012.csv'\n",
    "f=open(filename,'w')\n",
    "f.write(headers)"
   ]
  },
  {
   "cell_type": "markdown",
   "metadata": {},
   "source": [
    "##### Data acquisition"
   ]
  },
  {
   "cell_type": "code",
   "execution_count": 35,
   "metadata": {},
   "outputs": [],
   "source": [
    "#https://www.autoscout24.es/lst/mercedes-benz?sort=standard&desc=0&ustate=N%2CU&size=20&page=1&cy=E&fregto=2011&fregfrom=2011&atype=C&\n",
    "my = 'https://www.autoscout24.es/lst/mercedes-benz?sort=standard&desc=0&ustate=N%2CU&size=20&page='\n",
    "page = '&cy=E&fregto=2012&fregfrom=2012&atype=C&'"
   ]
  },
  {
   "cell_type": "code",
   "execution_count": 36,
   "metadata": {},
   "outputs": [
    {
     "name": "stdout",
     "output_type": "stream",
     "text": [
      "1\n",
      "2\n",
      "3\n",
      "4\n",
      "5\n",
      "6\n",
      "7\n",
      "8\n",
      "9\n",
      "10\n",
      "11\n",
      "12\n",
      "13\n",
      "14\n",
      "15\n",
      "16\n",
      "17\n",
      "18\n",
      "19\n",
      "20\n"
     ]
    }
   ],
   "source": [
    "for i in range(1,21):\n",
    "    #page \n",
    "    page_i = my+str(i)+page\n",
    "    \n",
    "    #Open the conexion\n",
    "    uClient = uReq(page_i)\n",
    "    #Save the html code\n",
    "    page_html = uClient.read()\n",
    "    #close the conexion\n",
    "    uClient.close()\n",
    "    #Parse\n",
    "    page_soup = soup(page_html,'html.parser')\n",
    "    \n",
    "    #List of cars\n",
    "    cars = page_soup.findAll(\"div\",{\"class\":\"cldt-summary-full-item\"})\n",
    "    \n",
    "    #We'll get the features for each car\n",
    "    for car in cars:\n",
    "        vehicle = car.div.div.div.a.div.div.h2.text\n",
    "        price = car.div.findAll('div',{'class':'cldt-summary-payment'})[0].text.strip()[0:8]\n",
    "        km = car.div.findAll('div',{'class':'cldt-summary-vehicle-data'})[0].li.text.strip()\n",
    "        year = car.div.findAll('div',{'class':'cldt-summary-vehicle-data'})[0].ul.findAll('li')[1].text.strip()\n",
    "        power = car.div.findAll('div',{'class':'cldt-summary-vehicle-data'})[0].ul.findAll('li')[2].text.strip()\n",
    "        transmision = car.div.findAll('div',{'class':'cldt-summary-vehicle-data'})[0].ul.findAll('li')[5].text.strip()\n",
    "        fuel_type = car.div.findAll('div',{'class':'cldt-summary-vehicle-data'})[0].ul.findAll('li')[6].text.strip()\n",
    "        consume = car.div.findAll('div',{'class':'cldt-summary-vehicle-data'})[0].ul.findAll('li')[7].text.strip()[0:4]\n",
    "        ##country = car.findAll('div',{'class':'cldt-summary-seller'})[0].div.find('div',{'class':'cldf-summary-seller-contact-address'}).text\n",
    "        try:\n",
    "            country = car.findAll('div',{'class':'cldt-summary-seller'})[0].div.findAll('div',{'class':'cldf-summary-seller-contact-address'})[0].text.strip()[0:2]\n",
    "        except:\n",
    "            country = 'Unknown'\n",
    "        emisions = car.div.findAll('div',{'class':'cldt-summary-vehicle-data'})[0].ul.findAll('li')[8].text.strip()[0:4]  \n",
    "        price = car.div.findAll('div',{'class':'cldt-summary-payment'})[0].text.strip()[0:8]\n",
    "        #Writing the csv\n",
    "        f.write(vehicle +';'+ km +';'+ year +';'+ power +';'+ transmision +';'+ fuel_type +';'+ consume +';'+ country +';'+ emisions +';'+ price +'\\n')"
   ]
  },
  {
   "cell_type": "code",
   "execution_count": 37,
   "metadata": {},
   "outputs": [],
   "source": [
    "f.close()"
   ]
  },
  {
   "cell_type": "markdown",
   "metadata": {},
   "source": [
    "-----------------------------------------------------------------------------------------------------------------------"
   ]
  },
  {
   "cell_type": "markdown",
   "metadata": {},
   "source": [
    "## <div align=\"center\"> Mercedes-Benz 2013"
   ]
  },
  {
   "cell_type": "markdown",
   "metadata": {},
   "source": [
    "##### CSV file"
   ]
  },
  {
   "cell_type": "code",
   "execution_count": 3,
   "metadata": {},
   "outputs": [
    {
     "data": {
      "text/plain": [
       "84"
      ]
     },
     "execution_count": 3,
     "metadata": {},
     "output_type": "execute_result"
    }
   ],
   "source": [
    "headers='vehicle;  km; year; power; transmision; fuel_type; consume; country;emisions;price \\n'\n",
    "filename='mercedes_2013.csv'\n",
    "f=open(filename,'w')\n",
    "f.write(headers)"
   ]
  },
  {
   "cell_type": "markdown",
   "metadata": {},
   "source": [
    "##### Data acquisition"
   ]
  },
  {
   "cell_type": "code",
   "execution_count": 4,
   "metadata": {},
   "outputs": [],
   "source": [
    "#'https://www.autoscout24.es/lst/mercedes-benz?sort=age&desc=1&ustate=N%2CU&size=20&page=1&cy=E&fregto=2011&fregfrom=2011&atype=C&\n",
    "my = 'https://www.autoscout24.es/lst/mercedes-benz?sort=age&desc=1&ustate=N%2CU&size=20&page='\n",
    "page = '&cy=E&fregto=2013&fregfrom=2013&atype=C&'"
   ]
  },
  {
   "cell_type": "code",
   "execution_count": 5,
   "metadata": {},
   "outputs": [],
   "source": [
    "for i in range(1,21):\n",
    "    #page \n",
    "    page_i = my+str(i)+page\n",
    "    \n",
    "    #Open the conexion\n",
    "    uClient = uReq(page_i)\n",
    "    #Save the html code\n",
    "    page_html = uClient.read()\n",
    "    #close the conexion\n",
    "    uClient.close()\n",
    "    #Parse\n",
    "    page_soup = soup(page_html,'html.parser')\n",
    "    \n",
    "    #List of cars\n",
    "    cars = page_soup.findAll(\"div\",{\"class\":\"cldt-summary-full-item\"})\n",
    "    \n",
    "    #We'll get the features for each car\n",
    "    for car in cars:\n",
    "        vehicle = car.div.div.div.a.div.div.h2.text\n",
    "        price = car.div.findAll('div',{'class':'cldt-summary-payment'})[0].text.strip()[0:8]\n",
    "        km = car.div.findAll('div',{'class':'cldt-summary-vehicle-data'})[0].li.text.strip()\n",
    "        year = car.div.findAll('div',{'class':'cldt-summary-vehicle-data'})[0].ul.findAll('li')[1].text.strip()\n",
    "        power = car.div.findAll('div',{'class':'cldt-summary-vehicle-data'})[0].ul.findAll('li')[2].text.strip()\n",
    "        transmision = car.div.findAll('div',{'class':'cldt-summary-vehicle-data'})[0].ul.findAll('li')[5].text.strip()\n",
    "        fuel_type = car.div.findAll('div',{'class':'cldt-summary-vehicle-data'})[0].ul.findAll('li')[6].text.strip()\n",
    "        consume = car.div.findAll('div',{'class':'cldt-summary-vehicle-data'})[0].ul.findAll('li')[7].text.strip()[0:4]\n",
    "        ##country = car.findAll('div',{'class':'cldt-summary-seller'})[0].div.find('div',{'class':'cldf-summary-seller-contact-address'}).text\n",
    "        try:\n",
    "            country = car.findAll('div',{'class':'cldt-summary-seller'})[0].div.findAll('div',{'class':'cldf-summary-seller-contact-address'})[0].text.strip()[0:2]\n",
    "        except:\n",
    "            country = 'Unknown'\n",
    "        emisions = car.div.findAll('div',{'class':'cldt-summary-vehicle-data'})[0].ul.findAll('li')[8].text.strip()[0:4]  \n",
    "        price = car.div.findAll('div',{'class':'cldt-summary-payment'})[0].text.strip()[0:8]\n",
    "        #Writing the csv\n",
    "        f.write(vehicle +';'+ km +';'+ year +';'+ power +';'+ transmision +';'+ fuel_type +';'+ consume +';'+ country +';'+ emisions +';'+ price +'\\n')"
   ]
  },
  {
   "cell_type": "code",
   "execution_count": 6,
   "metadata": {},
   "outputs": [],
   "source": [
    "f.close()"
   ]
  },
  {
   "cell_type": "markdown",
   "metadata": {},
   "source": [
    "-------------------------------------------------------------------------------------------------------------------------------"
   ]
  },
  {
   "cell_type": "markdown",
   "metadata": {},
   "source": [
    "## <div align=\"center\"> Mercedes-Benz 2014 DIESEL"
   ]
  },
  {
   "cell_type": "markdown",
   "metadata": {},
   "source": [
    "##### CSV file"
   ]
  },
  {
   "cell_type": "code",
   "execution_count": 13,
   "metadata": {},
   "outputs": [
    {
     "data": {
      "text/plain": [
       "84"
      ]
     },
     "execution_count": 13,
     "metadata": {},
     "output_type": "execute_result"
    }
   ],
   "source": [
    "headers='vehicle;  km; year; power; transmision; fuel_type; consume; country;emisions;price \\n'\n",
    "filename='mercedes_2014_d.csv'\n",
    "f=open(filename,'w')\n",
    "f.write(headers)"
   ]
  },
  {
   "cell_type": "markdown",
   "metadata": {},
   "source": [
    "##### Data acquisition"
   ]
  },
  {
   "cell_type": "code",
   "execution_count": 14,
   "metadata": {},
   "outputs": [],
   "source": [
    "#https://www.autoscout24.es/lst/mercedes-benz?sort=age&desc=1&fuel=D&ustate=N%2CU&size=20&page=1&cy=E&fregto=2014&fregfrom=2014&atype=C&\n",
    "my = 'https://www.autoscout24.es/lst/mercedes-benz?sort=age&desc=1&fuel=D&ustate=N%2CU&size=20&page='\n",
    "page = '&cy=E&fregto=2014&fregfrom=2014&atype=C&'"
   ]
  },
  {
   "cell_type": "code",
   "execution_count": 15,
   "metadata": {},
   "outputs": [],
   "source": [
    "for i in range(1,21):\n",
    "    #page \n",
    "    page_i = my+str(i)+page\n",
    "    \n",
    "    #Open the conexion\n",
    "    uClient = uReq(page_i)\n",
    "    #Save the html code\n",
    "    page_html = uClient.read()\n",
    "    #close the conexion\n",
    "    uClient.close()\n",
    "    #Parse\n",
    "    page_soup = soup(page_html,'html.parser')\n",
    "    \n",
    "    #List of cars\n",
    "    cars = page_soup.findAll(\"div\",{\"class\":\"cldt-summary-full-item\"})\n",
    "    \n",
    "    #We'll get the features for each car\n",
    "    for car in cars:\n",
    "        vehicle = car.div.div.div.a.div.div.h2.text\n",
    "        price = car.div.findAll('div',{'class':'cldt-summary-payment'})[0].text.strip()[0:8]\n",
    "        km = car.div.findAll('div',{'class':'cldt-summary-vehicle-data'})[0].li.text.strip()\n",
    "        year = car.div.findAll('div',{'class':'cldt-summary-vehicle-data'})[0].ul.findAll('li')[1].text.strip()\n",
    "        power = car.div.findAll('div',{'class':'cldt-summary-vehicle-data'})[0].ul.findAll('li')[2].text.strip()\n",
    "        transmision = car.div.findAll('div',{'class':'cldt-summary-vehicle-data'})[0].ul.findAll('li')[5].text.strip()\n",
    "        fuel_type = car.div.findAll('div',{'class':'cldt-summary-vehicle-data'})[0].ul.findAll('li')[6].text.strip()\n",
    "        consume = car.div.findAll('div',{'class':'cldt-summary-vehicle-data'})[0].ul.findAll('li')[7].text.strip()[0:4]\n",
    "        ##country = car.findAll('div',{'class':'cldt-summary-seller'})[0].div.find('div',{'class':'cldf-summary-seller-contact-address'}).text\n",
    "        try:\n",
    "            country = car.findAll('div',{'class':'cldt-summary-seller'})[0].div.findAll('div',{'class':'cldf-summary-seller-contact-address'})[0].text.strip()[0:2]\n",
    "        except:\n",
    "            country = 'Unknown'\n",
    "        emisions = car.div.findAll('div',{'class':'cldt-summary-vehicle-data'})[0].ul.findAll('li')[8].text.strip()[0:4]  \n",
    "        price = car.div.findAll('div',{'class':'cldt-summary-payment'})[0].text.strip()[0:8]\n",
    "        #Writing the csv\n",
    "        f.write(vehicle +';'+ km +';'+ year +';'+ power +';'+ transmision +';'+ fuel_type +';'+ consume +';'+ country +';'+ emisions +';'+ price +'\\n')"
   ]
  },
  {
   "cell_type": "code",
   "execution_count": 17,
   "metadata": {},
   "outputs": [],
   "source": [
    "f.close()"
   ]
  },
  {
   "cell_type": "markdown",
   "metadata": {},
   "source": [
    "-------------------------------------------------------------------------------------------------------------------------------"
   ]
  },
  {
   "cell_type": "markdown",
   "metadata": {},
   "source": [
    "## <div align=\"center\"> Mercedes-Benz 2014 NO DIESEL"
   ]
  },
  {
   "cell_type": "markdown",
   "metadata": {},
   "source": [
    "##### CSV file"
   ]
  },
  {
   "cell_type": "code",
   "execution_count": 42,
   "metadata": {},
   "outputs": [
    {
     "data": {
      "text/plain": [
       "84"
      ]
     },
     "execution_count": 42,
     "metadata": {},
     "output_type": "execute_result"
    }
   ],
   "source": [
    "headers='vehicle;  km; year; power; transmision; fuel_type; consume; country;emisions;price \\n'\n",
    "filename='mercedes_2014_r.csv'\n",
    "f=open(filename,'w')\n",
    "f.write(headers)"
   ]
  },
  {
   "cell_type": "markdown",
   "metadata": {},
   "source": [
    "##### Data acquisition"
   ]
  },
  {
   "cell_type": "code",
   "execution_count": 43,
   "metadata": {},
   "outputs": [],
   "source": [
    "#https://www.autoscout24.es/lst/mercedes-benz?sort=age&desc=1&fuel=2%2C3%2CB%2CC%2CE%2CL%2CO&ustate=N%2CU&size=20&page=1&cy=E&fregto=2014&fregfrom=2014&atype=C&\n",
    "my = 'https://www.autoscout24.es/lst/mercedes-benz?sort=age&desc=1&fuel=2%2C3%2CB%2CC%2CE%2CL%2CO&ustate=N%2CU&size=20&page='\n",
    "page = '&cy=E&fregto=2014&fregfrom=2014&atype=C&'"
   ]
  },
  {
   "cell_type": "code",
   "execution_count": 44,
   "metadata": {},
   "outputs": [],
   "source": [
    "for i in range(1,21):\n",
    "    #page \n",
    "    page_i = my+str(i)+page\n",
    "    \n",
    "    #Open the conexion\n",
    "    uClient = uReq(page_i)\n",
    "    #Save the html code\n",
    "    page_html = uClient.read()\n",
    "    #close the conexion\n",
    "    uClient.close()\n",
    "    #Parse\n",
    "    page_soup = soup(page_html,'html.parser')\n",
    "    \n",
    "    #List of cars\n",
    "    cars = page_soup.findAll(\"div\",{\"class\":\"cldt-summary-full-item\"})\n",
    "    \n",
    "    #We'll get the features for each car\n",
    "    for car in cars:\n",
    "        vehicle = car.div.div.div.a.div.div.h2.text\n",
    "        price = car.div.findAll('div',{'class':'cldt-summary-payment'})[0].text.strip()[0:8]\n",
    "        km = car.div.findAll('div',{'class':'cldt-summary-vehicle-data'})[0].li.text.strip()\n",
    "        year = car.div.findAll('div',{'class':'cldt-summary-vehicle-data'})[0].ul.findAll('li')[1].text.strip()\n",
    "        power = car.div.findAll('div',{'class':'cldt-summary-vehicle-data'})[0].ul.findAll('li')[2].text.strip()\n",
    "        transmision = car.div.findAll('div',{'class':'cldt-summary-vehicle-data'})[0].ul.findAll('li')[5].text.strip()\n",
    "        fuel_type = car.div.findAll('div',{'class':'cldt-summary-vehicle-data'})[0].ul.findAll('li')[6].text.strip()\n",
    "        consume = car.div.findAll('div',{'class':'cldt-summary-vehicle-data'})[0].ul.findAll('li')[7].text.strip()[0:4]\n",
    "        ##country = car.findAll('div',{'class':'cldt-summary-seller'})[0].div.find('div',{'class':'cldf-summary-seller-contact-address'}).text\n",
    "        try:\n",
    "            country = car.findAll('div',{'class':'cldt-summary-seller'})[0].div.findAll('div',{'class':'cldf-summary-seller-contact-address'})[0].text.strip()[0:2]\n",
    "        except:\n",
    "            country = 'Unknown'\n",
    "        emisions = car.div.findAll('div',{'class':'cldt-summary-vehicle-data'})[0].ul.findAll('li')[8].text.strip()[0:4]  \n",
    "        price = car.div.findAll('div',{'class':'cldt-summary-payment'})[0].text.strip()[0:8]\n",
    "        #Writing the csv\n",
    "        f.write(vehicle +';'+ km +';'+ year +';'+ power +';'+ transmision +';'+ fuel_type +';'+ consume +';'+ country +';'+ emisions +';'+ price +'\\n')"
   ]
  },
  {
   "cell_type": "code",
   "execution_count": 45,
   "metadata": {},
   "outputs": [],
   "source": [
    "f.close()"
   ]
  },
  {
   "cell_type": "markdown",
   "metadata": {},
   "source": [
    "-------------------------------------------------------------------------------------------------------------------------------"
   ]
  },
  {
   "cell_type": "markdown",
   "metadata": {},
   "source": [
    "## <div align=\"center\"> Mercedes-Benz 2015 DIESEL"
   ]
  },
  {
   "cell_type": "markdown",
   "metadata": {},
   "source": [
    "##### CSV file"
   ]
  },
  {
   "cell_type": "code",
   "execution_count": 18,
   "metadata": {},
   "outputs": [
    {
     "data": {
      "text/plain": [
       "84"
      ]
     },
     "execution_count": 18,
     "metadata": {},
     "output_type": "execute_result"
    }
   ],
   "source": [
    "headers='vehicle;  km; year; power; transmision; fuel_type; consume; country;emisions;price \\n'\n",
    "filename='mercedes_2015_d.csv'\n",
    "f=open(filename,'w')\n",
    "f.write(headers)"
   ]
  },
  {
   "cell_type": "markdown",
   "metadata": {},
   "source": [
    "##### Data acquisition"
   ]
  },
  {
   "cell_type": "code",
   "execution_count": 19,
   "metadata": {},
   "outputs": [],
   "source": [
    "#https://www.autoscout24.es/lst/mercedes-benz?sort=age&desc=1&fuel=D&ustate=N%2CU&size=20&page=1&cy=E&fregto=2014&fregfrom=2014&atype=C&\n",
    "my = 'https://www.autoscout24.es/lst/mercedes-benz?sort=age&desc=1&fuel=D&ustate=N%2CU&size=20&page='\n",
    "page = '&cy=E&fregto=2015&fregfrom=2015&atype=C&'"
   ]
  },
  {
   "cell_type": "code",
   "execution_count": 20,
   "metadata": {},
   "outputs": [],
   "source": [
    "for i in range(1,21):\n",
    "    #page \n",
    "    page_i = my+str(i)+page\n",
    "    \n",
    "    #Open the conexion\n",
    "    uClient = uReq(page_i)\n",
    "    #Save the html code\n",
    "    page_html = uClient.read()\n",
    "    #close the conexion\n",
    "    uClient.close()\n",
    "    #Parse\n",
    "    page_soup = soup(page_html,'html.parser')\n",
    "    \n",
    "    #List of cars\n",
    "    cars = page_soup.findAll(\"div\",{\"class\":\"cldt-summary-full-item\"})\n",
    "    \n",
    "    #We'll get the features for each car\n",
    "    for car in cars:\n",
    "        vehicle = car.div.div.div.a.div.div.h2.text\n",
    "        price = car.div.findAll('div',{'class':'cldt-summary-payment'})[0].text.strip()[0:8]\n",
    "        km = car.div.findAll('div',{'class':'cldt-summary-vehicle-data'})[0].li.text.strip()\n",
    "        year = car.div.findAll('div',{'class':'cldt-summary-vehicle-data'})[0].ul.findAll('li')[1].text.strip()\n",
    "        power = car.div.findAll('div',{'class':'cldt-summary-vehicle-data'})[0].ul.findAll('li')[2].text.strip()\n",
    "        transmision = car.div.findAll('div',{'class':'cldt-summary-vehicle-data'})[0].ul.findAll('li')[5].text.strip()\n",
    "        fuel_type = car.div.findAll('div',{'class':'cldt-summary-vehicle-data'})[0].ul.findAll('li')[6].text.strip()\n",
    "        consume = car.div.findAll('div',{'class':'cldt-summary-vehicle-data'})[0].ul.findAll('li')[7].text.strip()[0:4]\n",
    "        ##country = car.findAll('div',{'class':'cldt-summary-seller'})[0].div.find('div',{'class':'cldf-summary-seller-contact-address'}).text\n",
    "        try:\n",
    "            country = car.findAll('div',{'class':'cldt-summary-seller'})[0].div.findAll('div',{'class':'cldf-summary-seller-contact-address'})[0].text.strip()[0:2]\n",
    "        except:\n",
    "            country = 'Unknown'\n",
    "        emisions = car.div.findAll('div',{'class':'cldt-summary-vehicle-data'})[0].ul.findAll('li')[8].text.strip()[0:4]  \n",
    "        price = car.div.findAll('div',{'class':'cldt-summary-payment'})[0].text.strip()[0:8]\n",
    "        #Writing the csv\n",
    "        f.write(vehicle +';'+ km +';'+ year +';'+ power +';'+ transmision +';'+ fuel_type +';'+ consume +';'+ country +';'+ emisions +';'+ price +'\\n')"
   ]
  },
  {
   "cell_type": "code",
   "execution_count": 21,
   "metadata": {},
   "outputs": [],
   "source": [
    "f.close()"
   ]
  },
  {
   "cell_type": "markdown",
   "metadata": {},
   "source": [
    "-------------------------------------------------------------------------------------------------------------------------------"
   ]
  },
  {
   "cell_type": "markdown",
   "metadata": {},
   "source": [
    "## <div align=\"center\"> Mercedes-Benz 2015 NO DIESEL"
   ]
  },
  {
   "cell_type": "markdown",
   "metadata": {},
   "source": [
    "##### CSV file"
   ]
  },
  {
   "cell_type": "code",
   "execution_count": 46,
   "metadata": {},
   "outputs": [
    {
     "data": {
      "text/plain": [
       "84"
      ]
     },
     "execution_count": 46,
     "metadata": {},
     "output_type": "execute_result"
    }
   ],
   "source": [
    "headers='vehicle;  km; year; power; transmision; fuel_type; consume; country;emisions;price \\n'\n",
    "filename='mercedes_2015_r.csv'\n",
    "f=open(filename,'w')\n",
    "f.write(headers)"
   ]
  },
  {
   "cell_type": "markdown",
   "metadata": {},
   "source": [
    "##### Data acquisition"
   ]
  },
  {
   "cell_type": "code",
   "execution_count": 47,
   "metadata": {},
   "outputs": [],
   "source": [
    "#https://www.autoscout24.es/lst/mercedes-benz?sort=age&desc=1&fuel=2%2C3%2CB%2CC%2CE%2CL%2CO&ustate=N%2CU&size=20&page=1&cy=E&fregto=2014&fregfrom=2014&atype=C&\n",
    "my = 'https://www.autoscout24.es/lst/mercedes-benz?sort=age&desc=1&fuel=2%2C3%2CB%2CC%2CE%2CL%2CO&ustate=N%2CU&size=20&page='\n",
    "page = '&cy=E&fregto=2015&fregfrom=2015&atype=C&'"
   ]
  },
  {
   "cell_type": "code",
   "execution_count": 48,
   "metadata": {},
   "outputs": [],
   "source": [
    "for i in range(1,21):\n",
    "    #page \n",
    "    page_i = my+str(i)+page\n",
    "    \n",
    "    #Open the conexion\n",
    "    uClient = uReq(page_i)\n",
    "    #Save the html code\n",
    "    page_html = uClient.read()\n",
    "    #close the conexion\n",
    "    uClient.close()\n",
    "    #Parse\n",
    "    page_soup = soup(page_html,'html.parser')\n",
    "    \n",
    "    #List of cars\n",
    "    cars = page_soup.findAll(\"div\",{\"class\":\"cldt-summary-full-item\"})\n",
    "    \n",
    "    #We'll get the features for each car\n",
    "    for car in cars:\n",
    "        vehicle = car.div.div.div.a.div.div.h2.text\n",
    "        price = car.div.findAll('div',{'class':'cldt-summary-payment'})[0].text.strip()[0:8]\n",
    "        km = car.div.findAll('div',{'class':'cldt-summary-vehicle-data'})[0].li.text.strip()\n",
    "        year = car.div.findAll('div',{'class':'cldt-summary-vehicle-data'})[0].ul.findAll('li')[1].text.strip()\n",
    "        power = car.div.findAll('div',{'class':'cldt-summary-vehicle-data'})[0].ul.findAll('li')[2].text.strip()\n",
    "        transmision = car.div.findAll('div',{'class':'cldt-summary-vehicle-data'})[0].ul.findAll('li')[5].text.strip()\n",
    "        fuel_type = car.div.findAll('div',{'class':'cldt-summary-vehicle-data'})[0].ul.findAll('li')[6].text.strip()\n",
    "        consume = car.div.findAll('div',{'class':'cldt-summary-vehicle-data'})[0].ul.findAll('li')[7].text.strip()[0:4]\n",
    "        ##country = car.findAll('div',{'class':'cldt-summary-seller'})[0].div.find('div',{'class':'cldf-summary-seller-contact-address'}).text\n",
    "        try:\n",
    "            country = car.findAll('div',{'class':'cldt-summary-seller'})[0].div.findAll('div',{'class':'cldf-summary-seller-contact-address'})[0].text.strip()[0:2]\n",
    "        except:\n",
    "            country = 'Unknown'\n",
    "        emisions = car.div.findAll('div',{'class':'cldt-summary-vehicle-data'})[0].ul.findAll('li')[8].text.strip()[0:4]  \n",
    "        price = car.div.findAll('div',{'class':'cldt-summary-payment'})[0].text.strip()[0:8]\n",
    "        #Writing the csv\n",
    "        f.write(vehicle +';'+ km +';'+ year +';'+ power +';'+ transmision +';'+ fuel_type +';'+ consume +';'+ country +';'+ emisions +';'+ price +'\\n')"
   ]
  },
  {
   "cell_type": "code",
   "execution_count": 49,
   "metadata": {},
   "outputs": [],
   "source": [
    "f.close()"
   ]
  },
  {
   "cell_type": "markdown",
   "metadata": {},
   "source": [
    "-------------------------------------------------------------------------------------------------------------------------------"
   ]
  },
  {
   "cell_type": "markdown",
   "metadata": {},
   "source": [
    "## <div align=\"center\"> Mercedes-Benz 2016 DIESEL"
   ]
  },
  {
   "cell_type": "markdown",
   "metadata": {},
   "source": [
    "##### CSV file"
   ]
  },
  {
   "cell_type": "code",
   "execution_count": 22,
   "metadata": {},
   "outputs": [
    {
     "data": {
      "text/plain": [
       "84"
      ]
     },
     "execution_count": 22,
     "metadata": {},
     "output_type": "execute_result"
    }
   ],
   "source": [
    "headers='vehicle;  km; year; power; transmision; fuel_type; consume; country;emisions;price \\n'\n",
    "filename='mercedes_2016_d.csv'\n",
    "f=open(filename,'w')\n",
    "f.write(headers)"
   ]
  },
  {
   "cell_type": "markdown",
   "metadata": {},
   "source": [
    "##### Data acquisition"
   ]
  },
  {
   "cell_type": "code",
   "execution_count": 23,
   "metadata": {},
   "outputs": [],
   "source": [
    "#https://www.autoscout24.es/lst/mercedes-benz?sort=age&desc=1&fuel=D&ustate=N%2CU&size=20&page=1&cy=E&fregto=2014&fregfrom=2014&atype=C&\n",
    "my = 'https://www.autoscout24.es/lst/mercedes-benz?sort=age&desc=1&fuel=D&ustate=N%2CU&size=20&page='\n",
    "page = '&cy=E&fregto=2016&fregfrom=2016&atype=C&'"
   ]
  },
  {
   "cell_type": "code",
   "execution_count": 24,
   "metadata": {},
   "outputs": [],
   "source": [
    "for i in range(1,21):\n",
    "    #page \n",
    "    page_i = my+str(i)+page\n",
    "    \n",
    "    #Open the conexion\n",
    "    uClient = uReq(page_i)\n",
    "    #Save the html code\n",
    "    page_html = uClient.read()\n",
    "    #close the conexion\n",
    "    uClient.close()\n",
    "    #Parse\n",
    "    page_soup = soup(page_html,'html.parser')\n",
    "    \n",
    "    #List of cars\n",
    "    cars = page_soup.findAll(\"div\",{\"class\":\"cldt-summary-full-item\"})\n",
    "    \n",
    "    #We'll get the features for each car\n",
    "    for car in cars:\n",
    "        vehicle = car.div.div.div.a.div.div.h2.text\n",
    "        price = car.div.findAll('div',{'class':'cldt-summary-payment'})[0].text.strip()[0:8]\n",
    "        km = car.div.findAll('div',{'class':'cldt-summary-vehicle-data'})[0].li.text.strip()\n",
    "        year = car.div.findAll('div',{'class':'cldt-summary-vehicle-data'})[0].ul.findAll('li')[1].text.strip()\n",
    "        power = car.div.findAll('div',{'class':'cldt-summary-vehicle-data'})[0].ul.findAll('li')[2].text.strip()\n",
    "        transmision = car.div.findAll('div',{'class':'cldt-summary-vehicle-data'})[0].ul.findAll('li')[5].text.strip()\n",
    "        fuel_type = car.div.findAll('div',{'class':'cldt-summary-vehicle-data'})[0].ul.findAll('li')[6].text.strip()\n",
    "        consume = car.div.findAll('div',{'class':'cldt-summary-vehicle-data'})[0].ul.findAll('li')[7].text.strip()[0:4]\n",
    "        ##country = car.findAll('div',{'class':'cldt-summary-seller'})[0].div.find('div',{'class':'cldf-summary-seller-contact-address'}).text\n",
    "        try:\n",
    "            country = car.findAll('div',{'class':'cldt-summary-seller'})[0].div.findAll('div',{'class':'cldf-summary-seller-contact-address'})[0].text.strip()[0:2]\n",
    "        except:\n",
    "            country = 'Unknown'\n",
    "        emisions = car.div.findAll('div',{'class':'cldt-summary-vehicle-data'})[0].ul.findAll('li')[8].text.strip()[0:4]  \n",
    "        price = car.div.findAll('div',{'class':'cldt-summary-payment'})[0].text.strip()[0:8]\n",
    "        #Writing the csv\n",
    "        f.write(vehicle +';'+ km +';'+ year +';'+ power +';'+ transmision +';'+ fuel_type +';'+ consume +';'+ country +';'+ emisions +';'+ price +'\\n')"
   ]
  },
  {
   "cell_type": "code",
   "execution_count": 25,
   "metadata": {},
   "outputs": [],
   "source": [
    "f.close()"
   ]
  },
  {
   "cell_type": "markdown",
   "metadata": {},
   "source": [
    "-------------------------------------------------------------------------------------------------------------------------------"
   ]
  },
  {
   "cell_type": "markdown",
   "metadata": {},
   "source": [
    "## <div align=\"center\"> Mercedes-Benz 2016 NO DIESEL"
   ]
  },
  {
   "cell_type": "markdown",
   "metadata": {},
   "source": [
    "##### CSV file"
   ]
  },
  {
   "cell_type": "code",
   "execution_count": 50,
   "metadata": {},
   "outputs": [
    {
     "data": {
      "text/plain": [
       "84"
      ]
     },
     "execution_count": 50,
     "metadata": {},
     "output_type": "execute_result"
    }
   ],
   "source": [
    "headers='vehicle;  km; year; power; transmision; fuel_type; consume; country;emisions;price \\n'\n",
    "filename='mercedes_2016_r.csv'\n",
    "f=open(filename,'w')\n",
    "f.write(headers)"
   ]
  },
  {
   "cell_type": "markdown",
   "metadata": {},
   "source": [
    "##### Data acquisition"
   ]
  },
  {
   "cell_type": "code",
   "execution_count": 51,
   "metadata": {},
   "outputs": [],
   "source": [
    "#https://www.autoscout24.es/lst/mercedes-benz?sort=age&desc=1&fuel=2%2C3%2CB%2CC%2CE%2CL%2CO&ustate=N%2CU&size=20&page=1&cy=E&fregto=2014&fregfrom=2014&atype=C&\n",
    "my = 'https://www.autoscout24.es/lst/mercedes-benz?sort=age&desc=1&fuel=2%2C3%2CB%2CC%2CE%2CL%2CO&ustate=N%2CU&size=20&page='\n",
    "page = '&cy=E&fregto=2016&fregfrom=2016&atype=C&'"
   ]
  },
  {
   "cell_type": "code",
   "execution_count": 52,
   "metadata": {},
   "outputs": [],
   "source": [
    "for i in range(1,21):\n",
    "    #page \n",
    "    page_i = my+str(i)+page\n",
    "    \n",
    "    #Open the conexion\n",
    "    uClient = uReq(page_i)\n",
    "    #Save the html code\n",
    "    page_html = uClient.read()\n",
    "    #close the conexion\n",
    "    uClient.close()\n",
    "    #Parse\n",
    "    page_soup = soup(page_html,'html.parser')\n",
    "    \n",
    "    #List of cars\n",
    "    cars = page_soup.findAll(\"div\",{\"class\":\"cldt-summary-full-item\"})\n",
    "    \n",
    "    #We'll get the features for each car\n",
    "    for car in cars:\n",
    "        vehicle = car.div.div.div.a.div.div.h2.text\n",
    "        price = car.div.findAll('div',{'class':'cldt-summary-payment'})[0].text.strip()[0:8]\n",
    "        km = car.div.findAll('div',{'class':'cldt-summary-vehicle-data'})[0].li.text.strip()\n",
    "        year = car.div.findAll('div',{'class':'cldt-summary-vehicle-data'})[0].ul.findAll('li')[1].text.strip()\n",
    "        power = car.div.findAll('div',{'class':'cldt-summary-vehicle-data'})[0].ul.findAll('li')[2].text.strip()\n",
    "        transmision = car.div.findAll('div',{'class':'cldt-summary-vehicle-data'})[0].ul.findAll('li')[5].text.strip()\n",
    "        fuel_type = car.div.findAll('div',{'class':'cldt-summary-vehicle-data'})[0].ul.findAll('li')[6].text.strip()\n",
    "        consume = car.div.findAll('div',{'class':'cldt-summary-vehicle-data'})[0].ul.findAll('li')[7].text.strip()[0:4]\n",
    "        ##country = car.findAll('div',{'class':'cldt-summary-seller'})[0].div.find('div',{'class':'cldf-summary-seller-contact-address'}).text\n",
    "        try:\n",
    "            country = car.findAll('div',{'class':'cldt-summary-seller'})[0].div.findAll('div',{'class':'cldf-summary-seller-contact-address'})[0].text.strip()[0:2]\n",
    "        except:\n",
    "            country = 'Unknown'\n",
    "        emisions = car.div.findAll('div',{'class':'cldt-summary-vehicle-data'})[0].ul.findAll('li')[8].text.strip()[0:4]  \n",
    "        price = car.div.findAll('div',{'class':'cldt-summary-payment'})[0].text.strip()[0:8]\n",
    "        #Writing the csv\n",
    "        f.write(vehicle +';'+ km +';'+ year +';'+ power +';'+ transmision +';'+ fuel_type +';'+ consume +';'+ country +';'+ emisions +';'+ price +'\\n')"
   ]
  },
  {
   "cell_type": "code",
   "execution_count": 53,
   "metadata": {},
   "outputs": [],
   "source": [
    "f.close()"
   ]
  },
  {
   "cell_type": "markdown",
   "metadata": {},
   "source": [
    "-------------------------------------------------------------------------------------------------------------------------------"
   ]
  },
  {
   "cell_type": "markdown",
   "metadata": {},
   "source": [
    "## <div align=\"center\"> Mercedes-Benz 2017 DIESEL"
   ]
  },
  {
   "cell_type": "markdown",
   "metadata": {},
   "source": [
    "##### CSV file"
   ]
  },
  {
   "cell_type": "code",
   "execution_count": 26,
   "metadata": {},
   "outputs": [
    {
     "data": {
      "text/plain": [
       "84"
      ]
     },
     "execution_count": 26,
     "metadata": {},
     "output_type": "execute_result"
    }
   ],
   "source": [
    "headers='vehicle;  km; year; power; transmision; fuel_type; consume; country;emisions;price \\n'\n",
    "filename='mercedes_2017_d.csv'\n",
    "f=open(filename,'w')\n",
    "f.write(headers)"
   ]
  },
  {
   "cell_type": "markdown",
   "metadata": {},
   "source": [
    "##### Data acquisition"
   ]
  },
  {
   "cell_type": "code",
   "execution_count": 27,
   "metadata": {},
   "outputs": [],
   "source": [
    "#https://www.autoscout24.es/lst/mercedes-benz?sort=age&desc=1&fuel=D&ustate=N%2CU&size=20&page=1&cy=E&fregto=2014&fregfrom=2014&atype=C&\n",
    "my = 'https://www.autoscout24.es/lst/mercedes-benz?sort=age&desc=1&fuel=D&ustate=N%2CU&size=20&page='\n",
    "page = '&cy=E&fregto=2017&fregfrom=2017&atype=C&'"
   ]
  },
  {
   "cell_type": "code",
   "execution_count": 28,
   "metadata": {},
   "outputs": [],
   "source": [
    "for i in range(1,21):\n",
    "    #page \n",
    "    page_i = my+str(i)+page\n",
    "    \n",
    "    #Open the conexion\n",
    "    uClient = uReq(page_i)\n",
    "    #Save the html code\n",
    "    page_html = uClient.read()\n",
    "    #close the conexion\n",
    "    uClient.close()\n",
    "    #Parse\n",
    "    page_soup = soup(page_html,'html.parser')\n",
    "    \n",
    "    #List of cars\n",
    "    cars = page_soup.findAll(\"div\",{\"class\":\"cldt-summary-full-item\"})\n",
    "    \n",
    "    #We'll get the features for each car\n",
    "    for car in cars:\n",
    "        vehicle = car.div.div.div.a.div.div.h2.text\n",
    "        price = car.div.findAll('div',{'class':'cldt-summary-payment'})[0].text.strip()[0:8]\n",
    "        km = car.div.findAll('div',{'class':'cldt-summary-vehicle-data'})[0].li.text.strip()\n",
    "        year = car.div.findAll('div',{'class':'cldt-summary-vehicle-data'})[0].ul.findAll('li')[1].text.strip()\n",
    "        power = car.div.findAll('div',{'class':'cldt-summary-vehicle-data'})[0].ul.findAll('li')[2].text.strip()\n",
    "        transmision = car.div.findAll('div',{'class':'cldt-summary-vehicle-data'})[0].ul.findAll('li')[5].text.strip()\n",
    "        fuel_type = car.div.findAll('div',{'class':'cldt-summary-vehicle-data'})[0].ul.findAll('li')[6].text.strip()\n",
    "        consume = car.div.findAll('div',{'class':'cldt-summary-vehicle-data'})[0].ul.findAll('li')[7].text.strip()[0:4]\n",
    "        ##country = car.findAll('div',{'class':'cldt-summary-seller'})[0].div.find('div',{'class':'cldf-summary-seller-contact-address'}).text\n",
    "        try:\n",
    "            country = car.findAll('div',{'class':'cldt-summary-seller'})[0].div.findAll('div',{'class':'cldf-summary-seller-contact-address'})[0].text.strip()[0:2]\n",
    "        except:\n",
    "            country = 'Unknown'\n",
    "        emisions = car.div.findAll('div',{'class':'cldt-summary-vehicle-data'})[0].ul.findAll('li')[8].text.strip()[0:4]  \n",
    "        price = car.div.findAll('div',{'class':'cldt-summary-payment'})[0].text.strip()[0:8]\n",
    "        #Writing the csv\n",
    "        f.write(vehicle +';'+ km +';'+ year +';'+ power +';'+ transmision +';'+ fuel_type +';'+ consume +';'+ country +';'+ emisions +';'+ price +'\\n')"
   ]
  },
  {
   "cell_type": "code",
   "execution_count": 29,
   "metadata": {},
   "outputs": [],
   "source": [
    "f.close()"
   ]
  },
  {
   "cell_type": "markdown",
   "metadata": {},
   "source": [
    "-------------------------------------------------------------------------------------------------------------------------------"
   ]
  },
  {
   "cell_type": "markdown",
   "metadata": {},
   "source": [
    "## <div align=\"center\"> Mercedes-Benz 2017 NO DIESEL"
   ]
  },
  {
   "cell_type": "markdown",
   "metadata": {},
   "source": [
    "##### CSV file"
   ]
  },
  {
   "cell_type": "code",
   "execution_count": 54,
   "metadata": {},
   "outputs": [
    {
     "data": {
      "text/plain": [
       "84"
      ]
     },
     "execution_count": 54,
     "metadata": {},
     "output_type": "execute_result"
    }
   ],
   "source": [
    "headers='vehicle;  km; year; power; transmision; fuel_type; consume; country;emisions;price \\n'\n",
    "filename='mercedes_2017_r.csv'\n",
    "f=open(filename,'w')\n",
    "f.write(headers)"
   ]
  },
  {
   "cell_type": "markdown",
   "metadata": {},
   "source": [
    "##### Data acquisition"
   ]
  },
  {
   "cell_type": "code",
   "execution_count": 55,
   "metadata": {},
   "outputs": [],
   "source": [
    "#https://www.autoscout24.es/lst/mercedes-benz?sort=age&desc=1&fuel=2%2C3%2CB%2CC%2CE%2CL%2CO&ustate=N%2CU&size=20&page=1&cy=E&fregto=2014&fregfrom=2014&atype=C&\n",
    "my = 'https://www.autoscout24.es/lst/mercedes-benz?sort=age&desc=1&fuel=2%2C3%2CB%2CC%2CE%2CL%2CO&ustate=N%2CU&size=20&page='\n",
    "page = '&cy=E&fregto=2017&fregfrom=2017&atype=C&'"
   ]
  },
  {
   "cell_type": "code",
   "execution_count": 56,
   "metadata": {},
   "outputs": [],
   "source": [
    "for i in range(1,21):\n",
    "    #page \n",
    "    page_i = my+str(i)+page\n",
    "    \n",
    "    #Open the conexion\n",
    "    uClient = uReq(page_i)\n",
    "    #Save the html code\n",
    "    page_html = uClient.read()\n",
    "    #close the conexion\n",
    "    uClient.close()\n",
    "    #Parse\n",
    "    page_soup = soup(page_html,'html.parser')\n",
    "    \n",
    "    #List of cars\n",
    "    cars = page_soup.findAll(\"div\",{\"class\":\"cldt-summary-full-item\"})\n",
    "    \n",
    "    #We'll get the features for each car\n",
    "    for car in cars:\n",
    "        vehicle = car.div.div.div.a.div.div.h2.text\n",
    "        price = car.div.findAll('div',{'class':'cldt-summary-payment'})[0].text.strip()[0:8]\n",
    "        km = car.div.findAll('div',{'class':'cldt-summary-vehicle-data'})[0].li.text.strip()\n",
    "        year = car.div.findAll('div',{'class':'cldt-summary-vehicle-data'})[0].ul.findAll('li')[1].text.strip()\n",
    "        power = car.div.findAll('div',{'class':'cldt-summary-vehicle-data'})[0].ul.findAll('li')[2].text.strip()\n",
    "        transmision = car.div.findAll('div',{'class':'cldt-summary-vehicle-data'})[0].ul.findAll('li')[5].text.strip()\n",
    "        fuel_type = car.div.findAll('div',{'class':'cldt-summary-vehicle-data'})[0].ul.findAll('li')[6].text.strip()\n",
    "        consume = car.div.findAll('div',{'class':'cldt-summary-vehicle-data'})[0].ul.findAll('li')[7].text.strip()[0:4]\n",
    "        ##country = car.findAll('div',{'class':'cldt-summary-seller'})[0].div.find('div',{'class':'cldf-summary-seller-contact-address'}).text\n",
    "        try:\n",
    "            country = car.findAll('div',{'class':'cldt-summary-seller'})[0].div.findAll('div',{'class':'cldf-summary-seller-contact-address'})[0].text.strip()[0:2]\n",
    "        except:\n",
    "            country = 'Unknown'\n",
    "        emisions = car.div.findAll('div',{'class':'cldt-summary-vehicle-data'})[0].ul.findAll('li')[8].text.strip()[0:4]  \n",
    "        price = car.div.findAll('div',{'class':'cldt-summary-payment'})[0].text.strip()[0:8]\n",
    "        #Writing the csv\n",
    "        f.write(vehicle +';'+ km +';'+ year +';'+ power +';'+ transmision +';'+ fuel_type +';'+ consume +';'+ country +';'+ emisions +';'+ price +'\\n')"
   ]
  },
  {
   "cell_type": "code",
   "execution_count": 57,
   "metadata": {},
   "outputs": [],
   "source": [
    "f.close()"
   ]
  },
  {
   "cell_type": "markdown",
   "metadata": {},
   "source": [
    "-------------------------------------------------------------------------------------------------------------------------------"
   ]
  },
  {
   "cell_type": "markdown",
   "metadata": {},
   "source": [
    "## <div align=\"center\"> Mercedes-Benz 2018 DIESEL"
   ]
  },
  {
   "cell_type": "markdown",
   "metadata": {},
   "source": [
    "##### CSV file"
   ]
  },
  {
   "cell_type": "code",
   "execution_count": 30,
   "metadata": {},
   "outputs": [
    {
     "data": {
      "text/plain": [
       "84"
      ]
     },
     "execution_count": 30,
     "metadata": {},
     "output_type": "execute_result"
    }
   ],
   "source": [
    "headers='vehicle;  km; year; power; transmision; fuel_type; consume; country;emisions;price \\n'\n",
    "filename='mercedes_2018_d.csv'\n",
    "f=open(filename,'w')\n",
    "f.write(headers)"
   ]
  },
  {
   "cell_type": "markdown",
   "metadata": {},
   "source": [
    "##### Data acquisition"
   ]
  },
  {
   "cell_type": "code",
   "execution_count": 31,
   "metadata": {},
   "outputs": [],
   "source": [
    "#https://www.autoscout24.es/lst/mercedes-benz?sort=age&desc=1&fuel=D&ustate=N%2CU&size=20&page=1&cy=E&fregto=2014&fregfrom=2014&atype=C&\n",
    "my = 'https://www.autoscout24.es/lst/mercedes-benz?sort=age&desc=1&fuel=D&ustate=N%2CU&size=20&page='\n",
    "page = '&cy=E&fregto=2018&fregfrom=2018&atype=C&'"
   ]
  },
  {
   "cell_type": "code",
   "execution_count": 32,
   "metadata": {},
   "outputs": [],
   "source": [
    "for i in range(1,21):\n",
    "    #page \n",
    "    page_i = my+str(i)+page\n",
    "    \n",
    "    #Open the conexion\n",
    "    uClient = uReq(page_i)\n",
    "    #Save the html code\n",
    "    page_html = uClient.read()\n",
    "    #close the conexion\n",
    "    uClient.close()\n",
    "    #Parse\n",
    "    page_soup = soup(page_html,'html.parser')\n",
    "    \n",
    "    #List of cars\n",
    "    cars = page_soup.findAll(\"div\",{\"class\":\"cldt-summary-full-item\"})\n",
    "    \n",
    "    #We'll get the features for each car\n",
    "    for car in cars:\n",
    "        vehicle = car.div.div.div.a.div.div.h2.text\n",
    "        price = car.div.findAll('div',{'class':'cldt-summary-payment'})[0].text.strip()[0:8]\n",
    "        km = car.div.findAll('div',{'class':'cldt-summary-vehicle-data'})[0].li.text.strip()\n",
    "        year = car.div.findAll('div',{'class':'cldt-summary-vehicle-data'})[0].ul.findAll('li')[1].text.strip()\n",
    "        power = car.div.findAll('div',{'class':'cldt-summary-vehicle-data'})[0].ul.findAll('li')[2].text.strip()\n",
    "        transmision = car.div.findAll('div',{'class':'cldt-summary-vehicle-data'})[0].ul.findAll('li')[5].text.strip()\n",
    "        fuel_type = car.div.findAll('div',{'class':'cldt-summary-vehicle-data'})[0].ul.findAll('li')[6].text.strip()\n",
    "        consume = car.div.findAll('div',{'class':'cldt-summary-vehicle-data'})[0].ul.findAll('li')[7].text.strip()[0:4]\n",
    "        ##country = car.findAll('div',{'class':'cldt-summary-seller'})[0].div.find('div',{'class':'cldf-summary-seller-contact-address'}).text\n",
    "        try:\n",
    "            country = car.findAll('div',{'class':'cldt-summary-seller'})[0].div.findAll('div',{'class':'cldf-summary-seller-contact-address'})[0].text.strip()[0:2]\n",
    "        except:\n",
    "            country = 'Unknown'\n",
    "        emisions = car.div.findAll('div',{'class':'cldt-summary-vehicle-data'})[0].ul.findAll('li')[8].text.strip()[0:4]  \n",
    "        price = car.div.findAll('div',{'class':'cldt-summary-payment'})[0].text.strip()[0:8]\n",
    "        #Writing the csv\n",
    "        f.write(vehicle +';'+ km +';'+ year +';'+ power +';'+ transmision +';'+ fuel_type +';'+ consume +';'+ country +';'+ emisions +';'+ price +'\\n')"
   ]
  },
  {
   "cell_type": "code",
   "execution_count": 33,
   "metadata": {},
   "outputs": [],
   "source": [
    "f.close()"
   ]
  },
  {
   "cell_type": "markdown",
   "metadata": {},
   "source": [
    "-------------------------------------------------------------------------------------------------------------------------------"
   ]
  },
  {
   "cell_type": "markdown",
   "metadata": {},
   "source": [
    "## <div align=\"center\"> Mercedes-Benz 2018 NO DIESEL"
   ]
  },
  {
   "cell_type": "markdown",
   "metadata": {},
   "source": [
    "##### CSV file"
   ]
  },
  {
   "cell_type": "code",
   "execution_count": 58,
   "metadata": {},
   "outputs": [
    {
     "data": {
      "text/plain": [
       "84"
      ]
     },
     "execution_count": 58,
     "metadata": {},
     "output_type": "execute_result"
    }
   ],
   "source": [
    "headers='vehicle;  km; year; power; transmision; fuel_type; consume; country;emisions;price \\n'\n",
    "filename='mercedes_2018_r.csv'\n",
    "f=open(filename,'w')\n",
    "f.write(headers)"
   ]
  },
  {
   "cell_type": "markdown",
   "metadata": {},
   "source": [
    "##### Data acquisition"
   ]
  },
  {
   "cell_type": "code",
   "execution_count": 59,
   "metadata": {},
   "outputs": [],
   "source": [
    "#https://www.autoscout24.es/lst/mercedes-benz?sort=age&desc=1&fuel=2%2C3%2CB%2CC%2CE%2CL%2CO&ustate=N%2CU&size=20&page=1&cy=E&fregto=2014&fregfrom=2014&atype=C&\n",
    "my = 'https://www.autoscout24.es/lst/mercedes-benz?sort=age&desc=1&fuel=2%2C3%2CB%2CC%2CE%2CL%2CO&ustate=N%2CU&size=20&page='\n",
    "page = '&cy=E&fregto=2018&fregfrom=2018&atype=C&'"
   ]
  },
  {
   "cell_type": "code",
   "execution_count": 60,
   "metadata": {},
   "outputs": [],
   "source": [
    "for i in range(1,21):\n",
    "    #page \n",
    "    page_i = my+str(i)+page\n",
    "    \n",
    "    #Open the conexion\n",
    "    uClient = uReq(page_i)\n",
    "    #Save the html code\n",
    "    page_html = uClient.read()\n",
    "    #close the conexion\n",
    "    uClient.close()\n",
    "    #Parse\n",
    "    page_soup = soup(page_html,'html.parser')\n",
    "    \n",
    "    #List of cars\n",
    "    cars = page_soup.findAll(\"div\",{\"class\":\"cldt-summary-full-item\"})\n",
    "    \n",
    "    #We'll get the features for each car\n",
    "    for car in cars:\n",
    "        vehicle = car.div.div.div.a.div.div.h2.text\n",
    "        price = car.div.findAll('div',{'class':'cldt-summary-payment'})[0].text.strip()[0:8]\n",
    "        km = car.div.findAll('div',{'class':'cldt-summary-vehicle-data'})[0].li.text.strip()\n",
    "        year = car.div.findAll('div',{'class':'cldt-summary-vehicle-data'})[0].ul.findAll('li')[1].text.strip()\n",
    "        power = car.div.findAll('div',{'class':'cldt-summary-vehicle-data'})[0].ul.findAll('li')[2].text.strip()\n",
    "        transmision = car.div.findAll('div',{'class':'cldt-summary-vehicle-data'})[0].ul.findAll('li')[5].text.strip()\n",
    "        fuel_type = car.div.findAll('div',{'class':'cldt-summary-vehicle-data'})[0].ul.findAll('li')[6].text.strip()\n",
    "        consume = car.div.findAll('div',{'class':'cldt-summary-vehicle-data'})[0].ul.findAll('li')[7].text.strip()[0:4]\n",
    "        ##country = car.findAll('div',{'class':'cldt-summary-seller'})[0].div.find('div',{'class':'cldf-summary-seller-contact-address'}).text\n",
    "        try:\n",
    "            country = car.findAll('div',{'class':'cldt-summary-seller'})[0].div.findAll('div',{'class':'cldf-summary-seller-contact-address'})[0].text.strip()[0:2]\n",
    "        except:\n",
    "            country = 'Unknown'\n",
    "        emisions = car.div.findAll('div',{'class':'cldt-summary-vehicle-data'})[0].ul.findAll('li')[8].text.strip()[0:4]  \n",
    "        price = car.div.findAll('div',{'class':'cldt-summary-payment'})[0].text.strip()[0:8]\n",
    "        #Writing the csv\n",
    "        f.write(vehicle +';'+ km +';'+ year +';'+ power +';'+ transmision +';'+ fuel_type +';'+ consume +';'+ country +';'+ emisions +';'+ price +'\\n')"
   ]
  },
  {
   "cell_type": "code",
   "execution_count": 61,
   "metadata": {},
   "outputs": [],
   "source": [
    "f.close()"
   ]
  },
  {
   "cell_type": "markdown",
   "metadata": {},
   "source": [
    "-------------------------------------------------------------------------------------------------------------------------------"
   ]
  },
  {
   "cell_type": "markdown",
   "metadata": {},
   "source": [
    "## <div align=\"center\"> Mercedes-Benz 2019 DIESEL"
   ]
  },
  {
   "cell_type": "markdown",
   "metadata": {},
   "source": [
    "##### CSV file"
   ]
  },
  {
   "cell_type": "code",
   "execution_count": 34,
   "metadata": {},
   "outputs": [
    {
     "data": {
      "text/plain": [
       "84"
      ]
     },
     "execution_count": 34,
     "metadata": {},
     "output_type": "execute_result"
    }
   ],
   "source": [
    "headers='vehicle;  km; year; power; transmision; fuel_type; consume; country;emisions;price \\n'\n",
    "filename='mercedes_2019_d.csv'\n",
    "f=open(filename,'w')\n",
    "f.write(headers)"
   ]
  },
  {
   "cell_type": "markdown",
   "metadata": {},
   "source": [
    "##### Data acquisition"
   ]
  },
  {
   "cell_type": "code",
   "execution_count": 35,
   "metadata": {},
   "outputs": [],
   "source": [
    "#https://www.autoscout24.es/lst/mercedes-benz?sort=age&desc=1&fuel=D&ustate=N%2CU&size=20&page=1&cy=E&fregto=2014&fregfrom=2014&atype=C&\n",
    "my = 'https://www.autoscout24.es/lst/mercedes-benz?sort=age&desc=1&fuel=D&ustate=N%2CU&size=20&page='\n",
    "page = '&cy=E&fregto=2019&fregfrom=2019&atype=C&'"
   ]
  },
  {
   "cell_type": "code",
   "execution_count": 36,
   "metadata": {},
   "outputs": [],
   "source": [
    "for i in range(1,21):\n",
    "    #page \n",
    "    page_i = my+str(i)+page\n",
    "    \n",
    "    #Open the conexion\n",
    "    uClient = uReq(page_i)\n",
    "    #Save the html code\n",
    "    page_html = uClient.read()\n",
    "    #close the conexion\n",
    "    uClient.close()\n",
    "    #Parse\n",
    "    page_soup = soup(page_html,'html.parser')\n",
    "    \n",
    "    #List of cars\n",
    "    cars = page_soup.findAll(\"div\",{\"class\":\"cldt-summary-full-item\"})\n",
    "    \n",
    "    #We'll get the features for each car\n",
    "    for car in cars:\n",
    "        vehicle = car.div.div.div.a.div.div.h2.text\n",
    "        price = car.div.findAll('div',{'class':'cldt-summary-payment'})[0].text.strip()[0:8]\n",
    "        km = car.div.findAll('div',{'class':'cldt-summary-vehicle-data'})[0].li.text.strip()\n",
    "        year = car.div.findAll('div',{'class':'cldt-summary-vehicle-data'})[0].ul.findAll('li')[1].text.strip()\n",
    "        power = car.div.findAll('div',{'class':'cldt-summary-vehicle-data'})[0].ul.findAll('li')[2].text.strip()\n",
    "        transmision = car.div.findAll('div',{'class':'cldt-summary-vehicle-data'})[0].ul.findAll('li')[5].text.strip()\n",
    "        fuel_type = car.div.findAll('div',{'class':'cldt-summary-vehicle-data'})[0].ul.findAll('li')[6].text.strip()\n",
    "        consume = car.div.findAll('div',{'class':'cldt-summary-vehicle-data'})[0].ul.findAll('li')[7].text.strip()[0:4]\n",
    "        ##country = car.findAll('div',{'class':'cldt-summary-seller'})[0].div.find('div',{'class':'cldf-summary-seller-contact-address'}).text\n",
    "        try:\n",
    "            country = car.findAll('div',{'class':'cldt-summary-seller'})[0].div.findAll('div',{'class':'cldf-summary-seller-contact-address'})[0].text.strip()[0:2]\n",
    "        except:\n",
    "            country = 'Unknown'\n",
    "        emisions = car.div.findAll('div',{'class':'cldt-summary-vehicle-data'})[0].ul.findAll('li')[8].text.strip()[0:4]  \n",
    "        price = car.div.findAll('div',{'class':'cldt-summary-payment'})[0].text.strip()[0:8]\n",
    "        #Writing the csv\n",
    "        f.write(vehicle +';'+ km +';'+ year +';'+ power +';'+ transmision +';'+ fuel_type +';'+ consume +';'+ country +';'+ emisions +';'+ price +'\\n')"
   ]
  },
  {
   "cell_type": "code",
   "execution_count": 37,
   "metadata": {},
   "outputs": [],
   "source": [
    "f.close()"
   ]
  },
  {
   "cell_type": "markdown",
   "metadata": {},
   "source": [
    "-------------------------------------------------------------------------------------------------------------------------------"
   ]
  },
  {
   "cell_type": "markdown",
   "metadata": {},
   "source": [
    "## <div align=\"center\"> Mercedes-Benz 2019 NO DIESEL"
   ]
  },
  {
   "cell_type": "markdown",
   "metadata": {},
   "source": [
    "##### CSV file"
   ]
  },
  {
   "cell_type": "code",
   "execution_count": 62,
   "metadata": {},
   "outputs": [
    {
     "data": {
      "text/plain": [
       "84"
      ]
     },
     "execution_count": 62,
     "metadata": {},
     "output_type": "execute_result"
    }
   ],
   "source": [
    "headers='vehicle;  km; year; power; transmision; fuel_type; consume; country;emisions;price \\n'\n",
    "filename='mercedes_2019_r.csv'\n",
    "f=open(filename,'w')\n",
    "f.write(headers)"
   ]
  },
  {
   "cell_type": "markdown",
   "metadata": {},
   "source": [
    "##### Data acquisition"
   ]
  },
  {
   "cell_type": "code",
   "execution_count": 63,
   "metadata": {},
   "outputs": [],
   "source": [
    "#https://www.autoscout24.es/lst/mercedes-benz?sort=age&desc=1&fuel=2%2C3%2CB%2CC%2CE%2CL%2CO&ustate=N%2CU&size=20&page=1&cy=E&fregto=2014&fregfrom=2014&atype=C&\n",
    "my = 'https://www.autoscout24.es/lst/mercedes-benz?sort=age&desc=1&fuel=2%2C3%2CB%2CC%2CE%2CL%2CO&ustate=N%2CU&size=20&page='\n",
    "page = '&cy=E&fregto=2019&fregfrom=2019&atype=C&'"
   ]
  },
  {
   "cell_type": "code",
   "execution_count": 64,
   "metadata": {},
   "outputs": [],
   "source": [
    "for i in range(1,21):\n",
    "    #page \n",
    "    page_i = my+str(i)+page\n",
    "    \n",
    "    #Open the conexion\n",
    "    uClient = uReq(page_i)\n",
    "    #Save the html code\n",
    "    page_html = uClient.read()\n",
    "    #close the conexion\n",
    "    uClient.close()\n",
    "    #Parse\n",
    "    page_soup = soup(page_html,'html.parser')\n",
    "    \n",
    "    #List of cars\n",
    "    cars = page_soup.findAll(\"div\",{\"class\":\"cldt-summary-full-item\"})\n",
    "    \n",
    "    #We'll get the features for each car\n",
    "    for car in cars:\n",
    "        vehicle = car.div.div.div.a.div.div.h2.text\n",
    "        price = car.div.findAll('div',{'class':'cldt-summary-payment'})[0].text.strip()[0:8]\n",
    "        km = car.div.findAll('div',{'class':'cldt-summary-vehicle-data'})[0].li.text.strip()\n",
    "        year = car.div.findAll('div',{'class':'cldt-summary-vehicle-data'})[0].ul.findAll('li')[1].text.strip()\n",
    "        power = car.div.findAll('div',{'class':'cldt-summary-vehicle-data'})[0].ul.findAll('li')[2].text.strip()\n",
    "        transmision = car.div.findAll('div',{'class':'cldt-summary-vehicle-data'})[0].ul.findAll('li')[5].text.strip()\n",
    "        fuel_type = car.div.findAll('div',{'class':'cldt-summary-vehicle-data'})[0].ul.findAll('li')[6].text.strip()\n",
    "        consume = car.div.findAll('div',{'class':'cldt-summary-vehicle-data'})[0].ul.findAll('li')[7].text.strip()[0:4]\n",
    "        ##country = car.findAll('div',{'class':'cldt-summary-seller'})[0].div.find('div',{'class':'cldf-summary-seller-contact-address'}).text\n",
    "        try:\n",
    "            country = car.findAll('div',{'class':'cldt-summary-seller'})[0].div.findAll('div',{'class':'cldf-summary-seller-contact-address'})[0].text.strip()[0:2]\n",
    "        except:\n",
    "            country = 'Unknown'\n",
    "        emisions = car.div.findAll('div',{'class':'cldt-summary-vehicle-data'})[0].ul.findAll('li')[8].text.strip()[0:4]  \n",
    "        price = car.div.findAll('div',{'class':'cldt-summary-payment'})[0].text.strip()[0:8]\n",
    "        #Writing the csv\n",
    "        f.write(vehicle +';'+ km +';'+ year +';'+ power +';'+ transmision +';'+ fuel_type +';'+ consume +';'+ country +';'+ emisions +';'+ price +'\\n')"
   ]
  },
  {
   "cell_type": "code",
   "execution_count": 65,
   "metadata": {},
   "outputs": [],
   "source": [
    "f.close()"
   ]
  },
  {
   "cell_type": "markdown",
   "metadata": {},
   "source": [
    "-------------------------------------------------------------------------------------------------------------------------------"
   ]
  },
  {
   "cell_type": "markdown",
   "metadata": {},
   "source": [
    "## <div align=\"center\"> Mercedes-Benz 2020 DIESEL"
   ]
  },
  {
   "cell_type": "markdown",
   "metadata": {},
   "source": [
    "##### CSV file"
   ]
  },
  {
   "cell_type": "code",
   "execution_count": 66,
   "metadata": {},
   "outputs": [
    {
     "data": {
      "text/plain": [
       "84"
      ]
     },
     "execution_count": 66,
     "metadata": {},
     "output_type": "execute_result"
    }
   ],
   "source": [
    "headers='vehicle;  km; year; power; transmision; fuel_type; consume; country;emisions;price \\n'\n",
    "filename='mercedes_2020_d.csv'\n",
    "f=open(filename,'w')\n",
    "f.write(headers)"
   ]
  },
  {
   "cell_type": "markdown",
   "metadata": {},
   "source": [
    "##### Data acquisition"
   ]
  },
  {
   "cell_type": "code",
   "execution_count": 39,
   "metadata": {},
   "outputs": [],
   "source": [
    "#https://www.autoscout24.es/lst/mercedes-benz?sort=age&desc=1&fuel=D&ustate=N%2CU&size=20&page=1&cy=E&fregto=2014&fregfrom=2014&atype=C&\n",
    "my = 'https://www.autoscout24.es/lst/mercedes-benz?sort=age&desc=1&fuel=D&ustate=N%2CU&size=20&page='\n",
    "page = '&cy=E&fregto=2020&fregfrom=2020&atype=C&'"
   ]
  },
  {
   "cell_type": "code",
   "execution_count": 40,
   "metadata": {},
   "outputs": [],
   "source": [
    "for i in range(1,21):\n",
    "    #page \n",
    "    page_i = my+str(i)+page\n",
    "    \n",
    "    #Open the conexion\n",
    "    uClient = uReq(page_i)\n",
    "    #Save the html code\n",
    "    page_html = uClient.read()\n",
    "    #close the conexion\n",
    "    uClient.close()\n",
    "    #Parse\n",
    "    page_soup = soup(page_html,'html.parser')\n",
    "    \n",
    "    #List of cars\n",
    "    cars = page_soup.findAll(\"div\",{\"class\":\"cldt-summary-full-item\"})\n",
    "    \n",
    "    #We'll get the features for each car\n",
    "    for car in cars:\n",
    "        vehicle = car.div.div.div.a.div.div.h2.text\n",
    "        price = car.div.findAll('div',{'class':'cldt-summary-payment'})[0].text.strip()[0:8]\n",
    "        km = car.div.findAll('div',{'class':'cldt-summary-vehicle-data'})[0].li.text.strip()\n",
    "        year = car.div.findAll('div',{'class':'cldt-summary-vehicle-data'})[0].ul.findAll('li')[1].text.strip()\n",
    "        power = car.div.findAll('div',{'class':'cldt-summary-vehicle-data'})[0].ul.findAll('li')[2].text.strip()\n",
    "        transmision = car.div.findAll('div',{'class':'cldt-summary-vehicle-data'})[0].ul.findAll('li')[5].text.strip()\n",
    "        fuel_type = car.div.findAll('div',{'class':'cldt-summary-vehicle-data'})[0].ul.findAll('li')[6].text.strip()\n",
    "        consume = car.div.findAll('div',{'class':'cldt-summary-vehicle-data'})[0].ul.findAll('li')[7].text.strip()[0:4]\n",
    "        ##country = car.findAll('div',{'class':'cldt-summary-seller'})[0].div.find('div',{'class':'cldf-summary-seller-contact-address'}).text\n",
    "        try:\n",
    "            country = car.findAll('div',{'class':'cldt-summary-seller'})[0].div.findAll('div',{'class':'cldf-summary-seller-contact-address'})[0].text.strip()[0:2]\n",
    "        except:\n",
    "            country = 'Unknown'\n",
    "        emisions = car.div.findAll('div',{'class':'cldt-summary-vehicle-data'})[0].ul.findAll('li')[8].text.strip()[0:4]  \n",
    "        price = car.div.findAll('div',{'class':'cldt-summary-payment'})[0].text.strip()[0:8]\n",
    "        #Writing the csv\n",
    "        f.write(vehicle +';'+ km +';'+ year +';'+ power +';'+ transmision +';'+ fuel_type +';'+ consume +';'+ country +';'+ emisions +';'+ price +'\\n')"
   ]
  },
  {
   "cell_type": "code",
   "execution_count": 41,
   "metadata": {},
   "outputs": [],
   "source": [
    "f.close()"
   ]
  },
  {
   "cell_type": "markdown",
   "metadata": {},
   "source": [
    "-------------------------------------------------------------------------------------------------------------------------------"
   ]
  },
  {
   "cell_type": "markdown",
   "metadata": {},
   "source": [
    "## <div align=\"center\"> Mercedes-Benz 2020 NO DIESEL"
   ]
  },
  {
   "cell_type": "markdown",
   "metadata": {},
   "source": [
    "##### CSV file"
   ]
  },
  {
   "cell_type": "code",
   "execution_count": 67,
   "metadata": {},
   "outputs": [
    {
     "data": {
      "text/plain": [
       "84"
      ]
     },
     "execution_count": 67,
     "metadata": {},
     "output_type": "execute_result"
    }
   ],
   "source": [
    "headers='vehicle;  km; year; power; transmision; fuel_type; consume; country;emisions;price \\n'\n",
    "filename='mercedes_2020_r.csv'\n",
    "f=open(filename,'w')\n",
    "f.write(headers)"
   ]
  },
  {
   "cell_type": "markdown",
   "metadata": {},
   "source": [
    "##### Data acquisition"
   ]
  },
  {
   "cell_type": "code",
   "execution_count": 68,
   "metadata": {},
   "outputs": [],
   "source": [
    "#https://www.autoscout24.es/lst/mercedes-benz?sort=age&desc=1&fuel=2%2C3%2CB%2CC%2CE%2CL%2CO&ustate=N%2CU&size=20&page=1&cy=E&fregto=2014&fregfrom=2014&atype=C&\n",
    "my = 'https://www.autoscout24.es/lst/mercedes-benz?sort=age&desc=1&fuel=2%2C3%2CB%2CC%2CE%2CL%2CO&ustate=N%2CU&size=20&page='\n",
    "page = '&cy=E&fregto=2020&fregfrom=2020&atype=C&'"
   ]
  },
  {
   "cell_type": "code",
   "execution_count": 69,
   "metadata": {},
   "outputs": [],
   "source": [
    "for i in range(1,21):\n",
    "    #page \n",
    "    page_i = my+str(i)+page\n",
    "    \n",
    "    #Open the conexion\n",
    "    uClient = uReq(page_i)\n",
    "    #Save the html code\n",
    "    page_html = uClient.read()\n",
    "    #close the conexion\n",
    "    uClient.close()\n",
    "    #Parse\n",
    "    page_soup = soup(page_html,'html.parser')\n",
    "    \n",
    "    #List of cars\n",
    "    cars = page_soup.findAll(\"div\",{\"class\":\"cldt-summary-full-item\"})\n",
    "    \n",
    "    #We'll get the features for each car\n",
    "    for car in cars:\n",
    "        vehicle = car.div.div.div.a.div.div.h2.text\n",
    "        price = car.div.findAll('div',{'class':'cldt-summary-payment'})[0].text.strip()[0:8]\n",
    "        km = car.div.findAll('div',{'class':'cldt-summary-vehicle-data'})[0].li.text.strip()\n",
    "        year = car.div.findAll('div',{'class':'cldt-summary-vehicle-data'})[0].ul.findAll('li')[1].text.strip()\n",
    "        power = car.div.findAll('div',{'class':'cldt-summary-vehicle-data'})[0].ul.findAll('li')[2].text.strip()\n",
    "        transmision = car.div.findAll('div',{'class':'cldt-summary-vehicle-data'})[0].ul.findAll('li')[5].text.strip()\n",
    "        fuel_type = car.div.findAll('div',{'class':'cldt-summary-vehicle-data'})[0].ul.findAll('li')[6].text.strip()\n",
    "        consume = car.div.findAll('div',{'class':'cldt-summary-vehicle-data'})[0].ul.findAll('li')[7].text.strip()[0:4]\n",
    "        ##country = car.findAll('div',{'class':'cldt-summary-seller'})[0].div.find('div',{'class':'cldf-summary-seller-contact-address'}).text\n",
    "        try:\n",
    "            country = car.findAll('div',{'class':'cldt-summary-seller'})[0].div.findAll('div',{'class':'cldf-summary-seller-contact-address'})[0].text.strip()[0:2]\n",
    "        except:\n",
    "            country = 'Unknown'\n",
    "        emisions = car.div.findAll('div',{'class':'cldt-summary-vehicle-data'})[0].ul.findAll('li')[8].text.strip()[0:4]  \n",
    "        price = car.div.findAll('div',{'class':'cldt-summary-payment'})[0].text.strip()[0:8]\n",
    "        #Writing the csv\n",
    "        f.write(vehicle +';'+ km +';'+ year +';'+ power +';'+ transmision +';'+ fuel_type +';'+ consume +';'+ country +';'+ emisions +';'+ price +'\\n')"
   ]
  },
  {
   "cell_type": "code",
   "execution_count": 70,
   "metadata": {},
   "outputs": [],
   "source": [
    "f.close()"
   ]
  },
  {
   "cell_type": "markdown",
   "metadata": {},
   "source": [
    "-------------------------------------------------------------------------------------------------------------------------------"
   ]
  }
 ],
 "metadata": {
  "kernelspec": {
   "display_name": "Python 3",
   "language": "python",
   "name": "python3"
  },
  "language_info": {
   "codemirror_mode": {
    "name": "ipython",
    "version": 3
   },
   "file_extension": ".py",
   "mimetype": "text/x-python",
   "name": "python",
   "nbconvert_exporter": "python",
   "pygments_lexer": "ipython3",
   "version": "3.7.6"
  }
 },
 "nbformat": 4,
 "nbformat_minor": 4
}
