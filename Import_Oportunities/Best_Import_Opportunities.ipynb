{
 "cells": [
  {
   "cell_type": "markdown",
   "metadata": {},
   "source": [
    "# <div align=\"center\"> Machine Learning GradientBoostingRegresor"
   ]
  },
  {
   "cell_type": "markdown",
   "metadata": {},
   "source": [
    "#### Imports"
   ]
  },
  {
   "cell_type": "code",
   "execution_count": 1,
   "metadata": {},
   "outputs": [],
   "source": [
    "import pandas as pd\n",
    "import numpy as np\n",
    "import seaborn as sns\n",
    "from sklearn.model_selection import train_test_split\n",
    "from sklearn.model_selection import cross_val_score\n",
    "from sklearn.metrics import mean_absolute_error\n",
    "import matplotlib.pyplot as plt"
   ]
  },
  {
   "cell_type": "code",
   "execution_count": 2,
   "metadata": {},
   "outputs": [],
   "source": [
    "mercedes = pd.read_csv('mercedes_esp.csv')\n",
    "audi = pd.read_csv('audi_esp.csv')\n",
    "land_rover = pd.read_csv('land_rover_esp.csv')\n",
    "bmw = pd.read_csv('BMW_esp.csv')\n",
    "porsche = pd.read_csv('porsche_esp.csv')"
   ]
  },
  {
   "cell_type": "code",
   "execution_count": 3,
   "metadata": {},
   "outputs": [
    {
     "data": {
      "text/plain": [
       "(13094, 7)"
      ]
     },
     "execution_count": 3,
     "metadata": {},
     "output_type": "execute_result"
    }
   ],
   "source": [
    "df = pd.concat([mercedes,audi,land_rover,bmw,porsche],axis = 0)\n",
    "df=df.reset_index(drop=True)\n",
    "df.shape"
   ]
  },
  {
   "cell_type": "code",
   "execution_count": 4,
   "metadata": {},
   "outputs": [],
   "source": [
    "limit = len(df)"
   ]
  },
  {
   "cell_type": "code",
   "execution_count": 5,
   "metadata": {},
   "outputs": [],
   "source": [
    "mercedes_eu = pd.read_csv('mercedes_ue.csv')\n",
    "audi_eu = pd.read_csv('audi_ue.csv')\n",
    "land_rover_eu = pd.read_csv('land_rover_eu.csv')\n",
    "bmw_eu = pd.read_csv('BMW_ue.csv')\n",
    "porsche_eu = pd.read_csv('porsche_ue.csv')"
   ]
  },
  {
   "cell_type": "code",
   "execution_count": 6,
   "metadata": {},
   "outputs": [
    {
     "data": {
      "text/plain": [
       "(17572, 7)"
      ]
     },
     "execution_count": 6,
     "metadata": {},
     "output_type": "execute_result"
    }
   ],
   "source": [
    "df = pd.concat([df,mercedes_eu,audi_eu,land_rover_eu,bmw_eu,porsche_eu],axis = 0)\n",
    "df=df.reset_index(drop=True)\n",
    "df.shape"
   ]
  },
  {
   "cell_type": "markdown",
   "metadata": {},
   "source": [
    "#### Encoding variables"
   ]
  },
  {
   "cell_type": "code",
   "execution_count": 7,
   "metadata": {},
   "outputs": [],
   "source": [
    "df_t = pd.get_dummies(df, columns=['Brand','Model','Fuel_type'])"
   ]
  },
  {
   "cell_type": "code",
   "execution_count": 8,
   "metadata": {},
   "outputs": [],
   "source": [
    "X =  df_t.drop(columns='Price')\n",
    "y = df_t.loc[:,'Price']"
   ]
  },
  {
   "cell_type": "code",
   "execution_count": 9,
   "metadata": {},
   "outputs": [],
   "source": [
    "X_eu = X[limit:]\n",
    "y_eu = y[limit:]\n",
    "X = X[:limit]\n",
    "y = y[:limit]"
   ]
  },
  {
   "cell_type": "markdown",
   "metadata": {},
   "source": [
    "### Train Test Split"
   ]
  },
  {
   "cell_type": "code",
   "execution_count": 10,
   "metadata": {},
   "outputs": [],
   "source": [
    "X_train, X_test, y_train, y_test = train_test_split(X, y, test_size=1/10, random_state=1)"
   ]
  },
  {
   "cell_type": "code",
   "execution_count": 11,
   "metadata": {
    "scrolled": false
   },
   "outputs": [
    {
     "data": {
      "text/plain": [
       "((11784, 96), (11784,), (1310, 96), (1310,))"
      ]
     },
     "execution_count": 11,
     "metadata": {},
     "output_type": "execute_result"
    }
   ],
   "source": [
    "X_train.shape,y_train.shape,X_test.shape,y_test.shape"
   ]
  },
  {
   "cell_type": "markdown",
   "metadata": {},
   "source": [
    "### GradientBoostingRegressor"
   ]
  },
  {
   "cell_type": "code",
   "execution_count": 12,
   "metadata": {},
   "outputs": [],
   "source": [
    "from sklearn.ensemble import GradientBoostingRegressor"
   ]
  },
  {
   "cell_type": "code",
   "execution_count": 13,
   "metadata": {},
   "outputs": [],
   "source": [
    "gbr = GradientBoostingRegressor(loss='huber',criterion='mse',max_depth=8,n_estimators=115)"
   ]
  },
  {
   "cell_type": "code",
   "execution_count": 14,
   "metadata": {},
   "outputs": [
    {
     "data": {
      "text/plain": [
       "GradientBoostingRegressor(alpha=0.9, ccp_alpha=0.0, criterion='mse', init=None,\n",
       "                          learning_rate=0.1, loss='huber', max_depth=8,\n",
       "                          max_features=None, max_leaf_nodes=None,\n",
       "                          min_impurity_decrease=0.0, min_impurity_split=None,\n",
       "                          min_samples_leaf=1, min_samples_split=2,\n",
       "                          min_weight_fraction_leaf=0.0, n_estimators=115,\n",
       "                          n_iter_no_change=None, presort='deprecated',\n",
       "                          random_state=None, subsample=1.0, tol=0.0001,\n",
       "                          validation_fraction=0.1, verbose=0, warm_start=False)"
      ]
     },
     "execution_count": 14,
     "metadata": {},
     "output_type": "execute_result"
    }
   ],
   "source": [
    "gbr.fit(X_train,y_train)"
   ]
  },
  {
   "cell_type": "markdown",
   "metadata": {},
   "source": [
    "------------------------------------------------------------------------------------------------------------------------------"
   ]
  },
  {
   "cell_type": "markdown",
   "metadata": {},
   "source": [
    "### Predictions"
   ]
  },
  {
   "cell_type": "code",
   "execution_count": 15,
   "metadata": {},
   "outputs": [],
   "source": [
    "y_pred = gbr.predict(X_test)\n",
    "d = {'Price':y_test, 'Predictions':y_pred}\n",
    "test_predictions = pd.DataFrame(data=d)\n",
    "test_predictions['Error']=test_predictions['Price']-test_predictions['Predictions']\n",
    "test_predictions['Brand']=df.loc[test_predictions.index,'Brand']\n",
    "test_predictions['Model']=df.loc[test_predictions.index,'Model']\n",
    "test_predictions['Year']=df.loc[test_predictions.index,'Year']\n",
    "test_predictions['Km']=df.loc[test_predictions.index,'Km']\n",
    "test_predictions['Power']=df.loc[test_predictions.index,'Power']\n",
    "test_predictions['Fuel_type']=df.loc[test_predictions.index,'Fuel_type']\n",
    "test_predictions=test_predictions[['Brand', 'Model', 'Year', 'Km', 'Power','Fuel_type', 'Price','Predictions', 'Error']]"
   ]
  },
  {
   "cell_type": "markdown",
   "metadata": {},
   "source": [
    "### MEAN ABSOLUTE ERROR"
   ]
  },
  {
   "cell_type": "code",
   "execution_count": 16,
   "metadata": {},
   "outputs": [
    {
     "data": {
      "text/plain": [
       "count     1310.000000\n",
       "mean      2689.523067\n",
       "std       2729.709252\n",
       "min          0.012916\n",
       "25%        882.872029\n",
       "50%       1888.999363\n",
       "75%       3633.043791\n",
       "max      21571.726864\n",
       "Name: Error, dtype: float64"
      ]
     },
     "execution_count": 16,
     "metadata": {},
     "output_type": "execute_result"
    }
   ],
   "source": [
    "abs(test_predictions['Error']).describe()"
   ]
  },
  {
   "cell_type": "markdown",
   "metadata": {},
   "source": [
    "-------------------------------------------------------------------------------------------------------------------------------"
   ]
  },
  {
   "cell_type": "markdown",
   "metadata": {},
   "source": [
    "# European cars predictions"
   ]
  },
  {
   "cell_type": "code",
   "execution_count": 17,
   "metadata": {},
   "outputs": [],
   "source": [
    "y_pred_eu = gbr.predict(X_eu)\n",
    "d = {'Price':y_eu, 'Predictions':y_pred_eu}\n",
    "EU = pd.DataFrame(data=d)\n",
    "EU['Predictions'] = EU['Predictions'].astype(np.int64)\n",
    "EU['Error']=EU['Price']-EU['Predictions']\n",
    "EU['Brand']=df.loc[EU.index,'Brand']\n",
    "EU['Model']=df.loc[EU.index,'Model']\n",
    "EU['Year']=df.loc[EU.index,'Year']\n",
    "EU['Km']=df.loc[EU.index,'Km']\n",
    "EU['Power']=df.loc[EU.index,'Power']\n",
    "EU['Fuel_type']=df.loc[EU.index,'Fuel_type']\n",
    "EU=EU[['Brand', 'Model', 'Year', 'Km', 'Power','Fuel_type', 'Price','Predictions', 'Error']]"
   ]
  },
  {
   "cell_type": "code",
   "execution_count": 18,
   "metadata": {},
   "outputs": [
    {
     "name": "stdout",
     "output_type": "stream",
     "text": [
      "<class 'pandas.core.frame.DataFrame'>\n",
      "RangeIndex: 4478 entries, 13094 to 17571\n",
      "Data columns (total 9 columns):\n",
      " #   Column       Non-Null Count  Dtype \n",
      "---  ------       --------------  ----- \n",
      " 0   Brand        4478 non-null   object\n",
      " 1   Model        4478 non-null   object\n",
      " 2   Year         4478 non-null   int64 \n",
      " 3   Km           4478 non-null   int64 \n",
      " 4   Power        4478 non-null   int64 \n",
      " 5   Fuel_type    4478 non-null   object\n",
      " 6   Price        4478 non-null   int64 \n",
      " 7   Predictions  4478 non-null   int64 \n",
      " 8   Error        4478 non-null   int64 \n",
      "dtypes: int64(6), object(3)\n",
      "memory usage: 315.0+ KB\n"
     ]
    }
   ],
   "source": [
    "EU.info()"
   ]
  },
  {
   "cell_type": "markdown",
   "metadata": {},
   "source": [
    "## Absolute best import opportunities"
   ]
  },
  {
   "cell_type": "code",
   "execution_count": 19,
   "metadata": {},
   "outputs": [
    {
     "data": {
      "text/html": [
       "<div>\n",
       "<style scoped>\n",
       "    .dataframe tbody tr th:only-of-type {\n",
       "        vertical-align: middle;\n",
       "    }\n",
       "\n",
       "    .dataframe tbody tr th {\n",
       "        vertical-align: top;\n",
       "    }\n",
       "\n",
       "    .dataframe thead th {\n",
       "        text-align: right;\n",
       "    }\n",
       "</style>\n",
       "<table border=\"1\" class=\"dataframe\">\n",
       "  <thead>\n",
       "    <tr style=\"text-align: right;\">\n",
       "      <th></th>\n",
       "      <th>Brand</th>\n",
       "      <th>Model</th>\n",
       "      <th>Year</th>\n",
       "      <th>Km</th>\n",
       "      <th>Power</th>\n",
       "      <th>Fuel_type</th>\n",
       "      <th>Price</th>\n",
       "      <th>Predictions</th>\n",
       "      <th>Error</th>\n",
       "    </tr>\n",
       "  </thead>\n",
       "  <tbody>\n",
       "    <tr>\n",
       "      <th>17383</th>\n",
       "      <td>Porsche</td>\n",
       "      <td>Cayenne</td>\n",
       "      <td>2017</td>\n",
       "      <td>89200</td>\n",
       "      <td>420</td>\n",
       "      <td>Gasolina</td>\n",
       "      <td>29500</td>\n",
       "      <td>63941</td>\n",
       "      <td>-34441</td>\n",
       "    </tr>\n",
       "    <tr>\n",
       "      <th>15622</th>\n",
       "      <td>LandRover</td>\n",
       "      <td>RangeRoverSport</td>\n",
       "      <td>2016</td>\n",
       "      <td>33407</td>\n",
       "      <td>551</td>\n",
       "      <td>Gasolina</td>\n",
       "      <td>46463</td>\n",
       "      <td>78569</td>\n",
       "      <td>-32106</td>\n",
       "    </tr>\n",
       "    <tr>\n",
       "      <th>15611</th>\n",
       "      <td>LandRover</td>\n",
       "      <td>RangeRoverSport</td>\n",
       "      <td>2016</td>\n",
       "      <td>33932</td>\n",
       "      <td>551</td>\n",
       "      <td>Gasolina</td>\n",
       "      <td>46205</td>\n",
       "      <td>77907</td>\n",
       "      <td>-31702</td>\n",
       "    </tr>\n",
       "    <tr>\n",
       "      <th>14318</th>\n",
       "      <td>Audi</td>\n",
       "      <td>Q7</td>\n",
       "      <td>2015</td>\n",
       "      <td>142000</td>\n",
       "      <td>272</td>\n",
       "      <td>Diesel</td>\n",
       "      <td>3500</td>\n",
       "      <td>32481</td>\n",
       "      <td>-28981</td>\n",
       "    </tr>\n",
       "    <tr>\n",
       "      <th>17566</th>\n",
       "      <td>Porsche</td>\n",
       "      <td>Cayenne</td>\n",
       "      <td>2017</td>\n",
       "      <td>39193</td>\n",
       "      <td>441</td>\n",
       "      <td>Gasolina</td>\n",
       "      <td>58960</td>\n",
       "      <td>85877</td>\n",
       "      <td>-26917</td>\n",
       "    </tr>\n",
       "    <tr>\n",
       "      <th>14696</th>\n",
       "      <td>Audi</td>\n",
       "      <td>SQ7</td>\n",
       "      <td>2018</td>\n",
       "      <td>83000</td>\n",
       "      <td>435</td>\n",
       "      <td>Diesel</td>\n",
       "      <td>55000</td>\n",
       "      <td>80702</td>\n",
       "      <td>-25702</td>\n",
       "    </tr>\n",
       "    <tr>\n",
       "      <th>15602</th>\n",
       "      <td>LandRover</td>\n",
       "      <td>RangeRoverVelar</td>\n",
       "      <td>2018</td>\n",
       "      <td>32963</td>\n",
       "      <td>300</td>\n",
       "      <td>Diesel</td>\n",
       "      <td>40244</td>\n",
       "      <td>65772</td>\n",
       "      <td>-25528</td>\n",
       "    </tr>\n",
       "    <tr>\n",
       "      <th>15562</th>\n",
       "      <td>LandRover</td>\n",
       "      <td>RangeRoverVelar</td>\n",
       "      <td>2018</td>\n",
       "      <td>32995</td>\n",
       "      <td>300</td>\n",
       "      <td>Diesel</td>\n",
       "      <td>40557</td>\n",
       "      <td>65772</td>\n",
       "      <td>-25215</td>\n",
       "    </tr>\n",
       "    <tr>\n",
       "      <th>15698</th>\n",
       "      <td>LandRover</td>\n",
       "      <td>DiscoverySport</td>\n",
       "      <td>2018</td>\n",
       "      <td>22000</td>\n",
       "      <td>241</td>\n",
       "      <td>Gasolina</td>\n",
       "      <td>25000</td>\n",
       "      <td>49483</td>\n",
       "      <td>-24483</td>\n",
       "    </tr>\n",
       "    <tr>\n",
       "      <th>17456</th>\n",
       "      <td>Porsche</td>\n",
       "      <td>Macan</td>\n",
       "      <td>2017</td>\n",
       "      <td>57800</td>\n",
       "      <td>258</td>\n",
       "      <td>Diesel</td>\n",
       "      <td>28890</td>\n",
       "      <td>53184</td>\n",
       "      <td>-24294</td>\n",
       "    </tr>\n",
       "  </tbody>\n",
       "</table>\n",
       "</div>"
      ],
      "text/plain": [
       "           Brand            Model  Year      Km  Power Fuel_type  Price  \\\n",
       "17383    Porsche          Cayenne  2017   89200    420  Gasolina  29500   \n",
       "15622  LandRover  RangeRoverSport  2016   33407    551  Gasolina  46463   \n",
       "15611  LandRover  RangeRoverSport  2016   33932    551  Gasolina  46205   \n",
       "14318       Audi               Q7  2015  142000    272    Diesel   3500   \n",
       "17566    Porsche          Cayenne  2017   39193    441  Gasolina  58960   \n",
       "14696       Audi              SQ7  2018   83000    435    Diesel  55000   \n",
       "15602  LandRover  RangeRoverVelar  2018   32963    300    Diesel  40244   \n",
       "15562  LandRover  RangeRoverVelar  2018   32995    300    Diesel  40557   \n",
       "15698  LandRover   DiscoverySport  2018   22000    241  Gasolina  25000   \n",
       "17456    Porsche            Macan  2017   57800    258    Diesel  28890   \n",
       "\n",
       "       Predictions  Error  \n",
       "17383        63941 -34441  \n",
       "15622        78569 -32106  \n",
       "15611        77907 -31702  \n",
       "14318        32481 -28981  \n",
       "17566        85877 -26917  \n",
       "14696        80702 -25702  \n",
       "15602        65772 -25528  \n",
       "15562        65772 -25215  \n",
       "15698        49483 -24483  \n",
       "17456        53184 -24294  "
      ]
     },
     "execution_count": 19,
     "metadata": {},
     "output_type": "execute_result"
    }
   ],
   "source": [
    "EU.sort_values(by='Error',ascending=True).head(10)"
   ]
  },
  {
   "cell_type": "code",
   "execution_count": 20,
   "metadata": {},
   "outputs": [],
   "source": [
    "EU.sort_values(by='Error',ascending=True).head(50).to_csv ('Absolute_opportunities.csv', index = False, header=True,sep=';')"
   ]
  },
  {
   "cell_type": "markdown",
   "metadata": {},
   "source": [
    "##  Best import opportunities [25K - 30K] "
   ]
  },
  {
   "cell_type": "code",
   "execution_count": 21,
   "metadata": {
    "scrolled": true
   },
   "outputs": [
    {
     "data": {
      "text/html": [
       "<div>\n",
       "<style scoped>\n",
       "    .dataframe tbody tr th:only-of-type {\n",
       "        vertical-align: middle;\n",
       "    }\n",
       "\n",
       "    .dataframe tbody tr th {\n",
       "        vertical-align: top;\n",
       "    }\n",
       "\n",
       "    .dataframe thead th {\n",
       "        text-align: right;\n",
       "    }\n",
       "</style>\n",
       "<table border=\"1\" class=\"dataframe\">\n",
       "  <thead>\n",
       "    <tr style=\"text-align: right;\">\n",
       "      <th></th>\n",
       "      <th>Brand</th>\n",
       "      <th>Model</th>\n",
       "      <th>Year</th>\n",
       "      <th>Km</th>\n",
       "      <th>Power</th>\n",
       "      <th>Fuel_type</th>\n",
       "      <th>Price</th>\n",
       "      <th>Predictions</th>\n",
       "      <th>Error</th>\n",
       "    </tr>\n",
       "  </thead>\n",
       "  <tbody>\n",
       "    <tr>\n",
       "      <th>17383</th>\n",
       "      <td>Porsche</td>\n",
       "      <td>Cayenne</td>\n",
       "      <td>2017</td>\n",
       "      <td>89200</td>\n",
       "      <td>420</td>\n",
       "      <td>Gasolina</td>\n",
       "      <td>29500</td>\n",
       "      <td>63941</td>\n",
       "      <td>-34441</td>\n",
       "    </tr>\n",
       "    <tr>\n",
       "      <th>17456</th>\n",
       "      <td>Porsche</td>\n",
       "      <td>Macan</td>\n",
       "      <td>2017</td>\n",
       "      <td>57800</td>\n",
       "      <td>258</td>\n",
       "      <td>Diesel</td>\n",
       "      <td>28890</td>\n",
       "      <td>53184</td>\n",
       "      <td>-24294</td>\n",
       "    </tr>\n",
       "    <tr>\n",
       "      <th>17403</th>\n",
       "      <td>Porsche</td>\n",
       "      <td>Macan</td>\n",
       "      <td>2016</td>\n",
       "      <td>67200</td>\n",
       "      <td>340</td>\n",
       "      <td>Gasolina</td>\n",
       "      <td>29500</td>\n",
       "      <td>53406</td>\n",
       "      <td>-23906</td>\n",
       "    </tr>\n",
       "    <tr>\n",
       "      <th>16451</th>\n",
       "      <td>BMW</td>\n",
       "      <td>Serie4</td>\n",
       "      <td>2015</td>\n",
       "      <td>99500</td>\n",
       "      <td>404</td>\n",
       "      <td>Diesel</td>\n",
       "      <td>28000</td>\n",
       "      <td>48580</td>\n",
       "      <td>-20580</td>\n",
       "    </tr>\n",
       "    <tr>\n",
       "      <th>13664</th>\n",
       "      <td>Mercedes-Benz</td>\n",
       "      <td>E</td>\n",
       "      <td>2014</td>\n",
       "      <td>100000</td>\n",
       "      <td>408</td>\n",
       "      <td>Gasolina</td>\n",
       "      <td>28300</td>\n",
       "      <td>43212</td>\n",
       "      <td>-14912</td>\n",
       "    </tr>\n",
       "    <tr>\n",
       "      <th>17070</th>\n",
       "      <td>Porsche</td>\n",
       "      <td>Cayman</td>\n",
       "      <td>2012</td>\n",
       "      <td>50000</td>\n",
       "      <td>265</td>\n",
       "      <td>Gasolina</td>\n",
       "      <td>29499</td>\n",
       "      <td>42864</td>\n",
       "      <td>-13365</td>\n",
       "    </tr>\n",
       "    <tr>\n",
       "      <th>14704</th>\n",
       "      <td>Audi</td>\n",
       "      <td>S1</td>\n",
       "      <td>2017</td>\n",
       "      <td>13400</td>\n",
       "      <td>231</td>\n",
       "      <td>Gasolina</td>\n",
       "      <td>26500</td>\n",
       "      <td>39735</td>\n",
       "      <td>-13235</td>\n",
       "    </tr>\n",
       "    <tr>\n",
       "      <th>13684</th>\n",
       "      <td>Mercedes-Benz</td>\n",
       "      <td>GLC</td>\n",
       "      <td>2017</td>\n",
       "      <td>105963</td>\n",
       "      <td>204</td>\n",
       "      <td>Diesel</td>\n",
       "      <td>25990</td>\n",
       "      <td>38617</td>\n",
       "      <td>-12627</td>\n",
       "    </tr>\n",
       "    <tr>\n",
       "      <th>16654</th>\n",
       "      <td>BMW</td>\n",
       "      <td>Serie2</td>\n",
       "      <td>2018</td>\n",
       "      <td>57723</td>\n",
       "      <td>340</td>\n",
       "      <td>Gasolina</td>\n",
       "      <td>29900</td>\n",
       "      <td>42111</td>\n",
       "      <td>-12211</td>\n",
       "    </tr>\n",
       "    <tr>\n",
       "      <th>17162</th>\n",
       "      <td>Porsche</td>\n",
       "      <td>Cayenne</td>\n",
       "      <td>2014</td>\n",
       "      <td>129000</td>\n",
       "      <td>245</td>\n",
       "      <td>Diesel</td>\n",
       "      <td>28500</td>\n",
       "      <td>39538</td>\n",
       "      <td>-11038</td>\n",
       "    </tr>\n",
       "  </tbody>\n",
       "</table>\n",
       "</div>"
      ],
      "text/plain": [
       "               Brand    Model  Year      Km  Power Fuel_type  Price  \\\n",
       "17383        Porsche  Cayenne  2017   89200    420  Gasolina  29500   \n",
       "17456        Porsche    Macan  2017   57800    258    Diesel  28890   \n",
       "17403        Porsche    Macan  2016   67200    340  Gasolina  29500   \n",
       "16451            BMW   Serie4  2015   99500    404    Diesel  28000   \n",
       "13664  Mercedes-Benz        E  2014  100000    408  Gasolina  28300   \n",
       "17070        Porsche   Cayman  2012   50000    265  Gasolina  29499   \n",
       "14704           Audi       S1  2017   13400    231  Gasolina  26500   \n",
       "13684  Mercedes-Benz      GLC  2017  105963    204    Diesel  25990   \n",
       "16654            BMW   Serie2  2018   57723    340  Gasolina  29900   \n",
       "17162        Porsche  Cayenne  2014  129000    245    Diesel  28500   \n",
       "\n",
       "       Predictions  Error  \n",
       "17383        63941 -34441  \n",
       "17456        53184 -24294  \n",
       "17403        53406 -23906  \n",
       "16451        48580 -20580  \n",
       "13664        43212 -14912  \n",
       "17070        42864 -13365  \n",
       "14704        39735 -13235  \n",
       "13684        38617 -12627  \n",
       "16654        42111 -12211  \n",
       "17162        39538 -11038  "
      ]
     },
     "execution_count": 21,
     "metadata": {},
     "output_type": "execute_result"
    }
   ],
   "source": [
    "EU[(EU['Price']>25000) &(EU['Price']<30000)].sort_values(by='Error',ascending=True).head(10)"
   ]
  },
  {
   "cell_type": "code",
   "execution_count": 22,
   "metadata": {},
   "outputs": [],
   "source": [
    "EU[(EU['Price']>25000) &(EU['Price']<30000)].sort_values(by='Error',ascending=True).head(25).to_csv ('Opportunities_25k_30K.csv', index = False, header=True,sep=';')"
   ]
  },
  {
   "cell_type": "markdown",
   "metadata": {},
   "source": [
    "##  Best import opportunities [20K - 25K] "
   ]
  },
  {
   "cell_type": "code",
   "execution_count": 23,
   "metadata": {
    "scrolled": true
   },
   "outputs": [
    {
     "data": {
      "text/html": [
       "<div>\n",
       "<style scoped>\n",
       "    .dataframe tbody tr th:only-of-type {\n",
       "        vertical-align: middle;\n",
       "    }\n",
       "\n",
       "    .dataframe tbody tr th {\n",
       "        vertical-align: top;\n",
       "    }\n",
       "\n",
       "    .dataframe thead th {\n",
       "        text-align: right;\n",
       "    }\n",
       "</style>\n",
       "<table border=\"1\" class=\"dataframe\">\n",
       "  <thead>\n",
       "    <tr style=\"text-align: right;\">\n",
       "      <th></th>\n",
       "      <th>Brand</th>\n",
       "      <th>Model</th>\n",
       "      <th>Year</th>\n",
       "      <th>Km</th>\n",
       "      <th>Power</th>\n",
       "      <th>Fuel_type</th>\n",
       "      <th>Price</th>\n",
       "      <th>Predictions</th>\n",
       "      <th>Error</th>\n",
       "    </tr>\n",
       "  </thead>\n",
       "  <tbody>\n",
       "    <tr>\n",
       "      <th>13890</th>\n",
       "      <td>Mercedes-Benz</td>\n",
       "      <td>GLC</td>\n",
       "      <td>2017</td>\n",
       "      <td>41000</td>\n",
       "      <td>211</td>\n",
       "      <td>Gasolina</td>\n",
       "      <td>21500</td>\n",
       "      <td>41766</td>\n",
       "      <td>-20266</td>\n",
       "    </tr>\n",
       "    <tr>\n",
       "      <th>15372</th>\n",
       "      <td>LandRover</td>\n",
       "      <td>RangeRover</td>\n",
       "      <td>2013</td>\n",
       "      <td>144000</td>\n",
       "      <td>249</td>\n",
       "      <td>Diesel</td>\n",
       "      <td>23500</td>\n",
       "      <td>43472</td>\n",
       "      <td>-19972</td>\n",
       "    </tr>\n",
       "    <tr>\n",
       "      <th>15801</th>\n",
       "      <td>LandRover</td>\n",
       "      <td>DiscoverySport</td>\n",
       "      <td>2018</td>\n",
       "      <td>67894</td>\n",
       "      <td>179</td>\n",
       "      <td>Diesel</td>\n",
       "      <td>23990</td>\n",
       "      <td>40778</td>\n",
       "      <td>-16788</td>\n",
       "    </tr>\n",
       "    <tr>\n",
       "      <th>15405</th>\n",
       "      <td>LandRover</td>\n",
       "      <td>RangeRoverSport</td>\n",
       "      <td>2014</td>\n",
       "      <td>57287</td>\n",
       "      <td>258</td>\n",
       "      <td>Diesel</td>\n",
       "      <td>24000</td>\n",
       "      <td>38986</td>\n",
       "      <td>-14986</td>\n",
       "    </tr>\n",
       "    <tr>\n",
       "      <th>15462</th>\n",
       "      <td>LandRover</td>\n",
       "      <td>Discovery</td>\n",
       "      <td>2015</td>\n",
       "      <td>179000</td>\n",
       "      <td>340</td>\n",
       "      <td>Gasolina</td>\n",
       "      <td>22500</td>\n",
       "      <td>36484</td>\n",
       "      <td>-13984</td>\n",
       "    </tr>\n",
       "    <tr>\n",
       "      <th>15208</th>\n",
       "      <td>LandRover</td>\n",
       "      <td>RangeRoverSport</td>\n",
       "      <td>2011</td>\n",
       "      <td>111790</td>\n",
       "      <td>510</td>\n",
       "      <td>Gasolina</td>\n",
       "      <td>21500</td>\n",
       "      <td>35136</td>\n",
       "      <td>-13636</td>\n",
       "    </tr>\n",
       "    <tr>\n",
       "      <th>17102</th>\n",
       "      <td>Porsche</td>\n",
       "      <td>Cayenne</td>\n",
       "      <td>2012</td>\n",
       "      <td>203874</td>\n",
       "      <td>420</td>\n",
       "      <td>Gasolina</td>\n",
       "      <td>22290</td>\n",
       "      <td>34887</td>\n",
       "      <td>-12597</td>\n",
       "    </tr>\n",
       "    <tr>\n",
       "      <th>16923</th>\n",
       "      <td>Porsche</td>\n",
       "      <td>Cayenne</td>\n",
       "      <td>2011</td>\n",
       "      <td>148000</td>\n",
       "      <td>400</td>\n",
       "      <td>Gasolina</td>\n",
       "      <td>23850</td>\n",
       "      <td>34883</td>\n",
       "      <td>-11033</td>\n",
       "    </tr>\n",
       "    <tr>\n",
       "      <th>16953</th>\n",
       "      <td>Porsche</td>\n",
       "      <td>Cayenne</td>\n",
       "      <td>2011</td>\n",
       "      <td>97000</td>\n",
       "      <td>290</td>\n",
       "      <td>Gasolina</td>\n",
       "      <td>21999</td>\n",
       "      <td>32723</td>\n",
       "      <td>-10724</td>\n",
       "    </tr>\n",
       "    <tr>\n",
       "      <th>15086</th>\n",
       "      <td>LandRover</td>\n",
       "      <td>RangeRover</td>\n",
       "      <td>2011</td>\n",
       "      <td>110000</td>\n",
       "      <td>313</td>\n",
       "      <td>Diesel</td>\n",
       "      <td>22900</td>\n",
       "      <td>33373</td>\n",
       "      <td>-10473</td>\n",
       "    </tr>\n",
       "  </tbody>\n",
       "</table>\n",
       "</div>"
      ],
      "text/plain": [
       "               Brand            Model  Year      Km  Power Fuel_type  Price  \\\n",
       "13890  Mercedes-Benz              GLC  2017   41000    211  Gasolina  21500   \n",
       "15372      LandRover       RangeRover  2013  144000    249    Diesel  23500   \n",
       "15801      LandRover   DiscoverySport  2018   67894    179    Diesel  23990   \n",
       "15405      LandRover  RangeRoverSport  2014   57287    258    Diesel  24000   \n",
       "15462      LandRover        Discovery  2015  179000    340  Gasolina  22500   \n",
       "15208      LandRover  RangeRoverSport  2011  111790    510  Gasolina  21500   \n",
       "17102        Porsche          Cayenne  2012  203874    420  Gasolina  22290   \n",
       "16923        Porsche          Cayenne  2011  148000    400  Gasolina  23850   \n",
       "16953        Porsche          Cayenne  2011   97000    290  Gasolina  21999   \n",
       "15086      LandRover       RangeRover  2011  110000    313    Diesel  22900   \n",
       "\n",
       "       Predictions  Error  \n",
       "13890        41766 -20266  \n",
       "15372        43472 -19972  \n",
       "15801        40778 -16788  \n",
       "15405        38986 -14986  \n",
       "15462        36484 -13984  \n",
       "15208        35136 -13636  \n",
       "17102        34887 -12597  \n",
       "16923        34883 -11033  \n",
       "16953        32723 -10724  \n",
       "15086        33373 -10473  "
      ]
     },
     "execution_count": 23,
     "metadata": {},
     "output_type": "execute_result"
    }
   ],
   "source": [
    "EU[(EU['Price']>20000) &(EU['Price']<25000)].sort_values(by='Error',ascending=True).head(10)"
   ]
  },
  {
   "cell_type": "code",
   "execution_count": 24,
   "metadata": {},
   "outputs": [],
   "source": [
    "EU[(EU['Price']>20000) &(EU['Price']<25000)].sort_values(by='Error',ascending=True).head(25).to_csv ('Opportunities_20k_25K.csv', index = False, header=True,sep=';')"
   ]
  },
  {
   "cell_type": "markdown",
   "metadata": {},
   "source": [
    "##  Best import opportunities < 20K"
   ]
  },
  {
   "cell_type": "code",
   "execution_count": 25,
   "metadata": {
    "scrolled": true
   },
   "outputs": [
    {
     "data": {
      "text/html": [
       "<div>\n",
       "<style scoped>\n",
       "    .dataframe tbody tr th:only-of-type {\n",
       "        vertical-align: middle;\n",
       "    }\n",
       "\n",
       "    .dataframe tbody tr th {\n",
       "        vertical-align: top;\n",
       "    }\n",
       "\n",
       "    .dataframe thead th {\n",
       "        text-align: right;\n",
       "    }\n",
       "</style>\n",
       "<table border=\"1\" class=\"dataframe\">\n",
       "  <thead>\n",
       "    <tr style=\"text-align: right;\">\n",
       "      <th></th>\n",
       "      <th>Brand</th>\n",
       "      <th>Model</th>\n",
       "      <th>Year</th>\n",
       "      <th>Km</th>\n",
       "      <th>Power</th>\n",
       "      <th>Fuel_type</th>\n",
       "      <th>Price</th>\n",
       "      <th>Predictions</th>\n",
       "      <th>Error</th>\n",
       "    </tr>\n",
       "  </thead>\n",
       "  <tbody>\n",
       "    <tr>\n",
       "      <th>14318</th>\n",
       "      <td>Audi</td>\n",
       "      <td>Q7</td>\n",
       "      <td>2015</td>\n",
       "      <td>142000</td>\n",
       "      <td>272</td>\n",
       "      <td>Diesel</td>\n",
       "      <td>3500</td>\n",
       "      <td>32481</td>\n",
       "      <td>-28981</td>\n",
       "    </tr>\n",
       "    <tr>\n",
       "      <th>16227</th>\n",
       "      <td>BMW</td>\n",
       "      <td>Serie1</td>\n",
       "      <td>2015</td>\n",
       "      <td>68914</td>\n",
       "      <td>320</td>\n",
       "      <td>Gasolina</td>\n",
       "      <td>10200</td>\n",
       "      <td>29909</td>\n",
       "      <td>-19709</td>\n",
       "    </tr>\n",
       "    <tr>\n",
       "      <th>16919</th>\n",
       "      <td>Porsche</td>\n",
       "      <td>Cayenne</td>\n",
       "      <td>2011</td>\n",
       "      <td>135000</td>\n",
       "      <td>400</td>\n",
       "      <td>Gasolina</td>\n",
       "      <td>16900</td>\n",
       "      <td>36534</td>\n",
       "      <td>-19634</td>\n",
       "    </tr>\n",
       "    <tr>\n",
       "      <th>17109</th>\n",
       "      <td>Porsche</td>\n",
       "      <td>Boxster</td>\n",
       "      <td>2013</td>\n",
       "      <td>89211</td>\n",
       "      <td>265</td>\n",
       "      <td>Gasolina</td>\n",
       "      <td>18000</td>\n",
       "      <td>36406</td>\n",
       "      <td>-18406</td>\n",
       "    </tr>\n",
       "    <tr>\n",
       "      <th>15114</th>\n",
       "      <td>LandRover</td>\n",
       "      <td>RangeRoverSport</td>\n",
       "      <td>2011</td>\n",
       "      <td>114000</td>\n",
       "      <td>510</td>\n",
       "      <td>Gasolina</td>\n",
       "      <td>17000</td>\n",
       "      <td>35136</td>\n",
       "      <td>-18136</td>\n",
       "    </tr>\n",
       "    <tr>\n",
       "      <th>13776</th>\n",
       "      <td>Mercedes-Benz</td>\n",
       "      <td>GL</td>\n",
       "      <td>2017</td>\n",
       "      <td>229000</td>\n",
       "      <td>250</td>\n",
       "      <td>Gasolina</td>\n",
       "      <td>11000</td>\n",
       "      <td>28886</td>\n",
       "      <td>-17886</td>\n",
       "    </tr>\n",
       "    <tr>\n",
       "      <th>13677</th>\n",
       "      <td>Mercedes-Benz</td>\n",
       "      <td>C</td>\n",
       "      <td>2016</td>\n",
       "      <td>27000</td>\n",
       "      <td>136</td>\n",
       "      <td>Diesel</td>\n",
       "      <td>7999</td>\n",
       "      <td>23946</td>\n",
       "      <td>-15947</td>\n",
       "    </tr>\n",
       "    <tr>\n",
       "      <th>14056</th>\n",
       "      <td>Audi</td>\n",
       "      <td>A7</td>\n",
       "      <td>2012</td>\n",
       "      <td>151000</td>\n",
       "      <td>299</td>\n",
       "      <td>Gasolina</td>\n",
       "      <td>10300</td>\n",
       "      <td>25869</td>\n",
       "      <td>-15569</td>\n",
       "    </tr>\n",
       "    <tr>\n",
       "      <th>16381</th>\n",
       "      <td>BMW</td>\n",
       "      <td>X5</td>\n",
       "      <td>2015</td>\n",
       "      <td>145399</td>\n",
       "      <td>258</td>\n",
       "      <td>Diesel</td>\n",
       "      <td>13576</td>\n",
       "      <td>28275</td>\n",
       "      <td>-14699</td>\n",
       "    </tr>\n",
       "    <tr>\n",
       "      <th>15166</th>\n",
       "      <td>LandRover</td>\n",
       "      <td>RangeRover</td>\n",
       "      <td>2012</td>\n",
       "      <td>300000</td>\n",
       "      <td>313</td>\n",
       "      <td>Diesel</td>\n",
       "      <td>8500</td>\n",
       "      <td>22041</td>\n",
       "      <td>-13541</td>\n",
       "    </tr>\n",
       "  </tbody>\n",
       "</table>\n",
       "</div>"
      ],
      "text/plain": [
       "               Brand            Model  Year      Km  Power Fuel_type  Price  \\\n",
       "14318           Audi               Q7  2015  142000    272    Diesel   3500   \n",
       "16227            BMW           Serie1  2015   68914    320  Gasolina  10200   \n",
       "16919        Porsche          Cayenne  2011  135000    400  Gasolina  16900   \n",
       "17109        Porsche          Boxster  2013   89211    265  Gasolina  18000   \n",
       "15114      LandRover  RangeRoverSport  2011  114000    510  Gasolina  17000   \n",
       "13776  Mercedes-Benz               GL  2017  229000    250  Gasolina  11000   \n",
       "13677  Mercedes-Benz                C  2016   27000    136    Diesel   7999   \n",
       "14056           Audi               A7  2012  151000    299  Gasolina  10300   \n",
       "16381            BMW               X5  2015  145399    258    Diesel  13576   \n",
       "15166      LandRover       RangeRover  2012  300000    313    Diesel   8500   \n",
       "\n",
       "       Predictions  Error  \n",
       "14318        32481 -28981  \n",
       "16227        29909 -19709  \n",
       "16919        36534 -19634  \n",
       "17109        36406 -18406  \n",
       "15114        35136 -18136  \n",
       "13776        28886 -17886  \n",
       "13677        23946 -15947  \n",
       "14056        25869 -15569  \n",
       "16381        28275 -14699  \n",
       "15166        22041 -13541  "
      ]
     },
     "execution_count": 25,
     "metadata": {},
     "output_type": "execute_result"
    }
   ],
   "source": [
    "EU[(EU['Price']<20000)].sort_values(by='Error',ascending=True).head(10)"
   ]
  },
  {
   "cell_type": "code",
   "execution_count": 27,
   "metadata": {},
   "outputs": [],
   "source": [
    "EU[(EU['Price']<20000)].sort_values(by='Error',ascending=True).head(40).to_csv ('Opportunities_under_20k.csv', index = False, header=True,sep=';')"
   ]
  }
 ],
 "metadata": {
  "kernelspec": {
   "display_name": "Python 3",
   "language": "python",
   "name": "python3"
  },
  "language_info": {
   "codemirror_mode": {
    "name": "ipython",
    "version": 3
   },
   "file_extension": ".py",
   "mimetype": "text/x-python",
   "name": "python",
   "nbconvert_exporter": "python",
   "pygments_lexer": "ipython3",
   "version": "3.7.6"
  }
 },
 "nbformat": 4,
 "nbformat_minor": 4
}
