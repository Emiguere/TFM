{
 "cells": [
  {
   "cell_type": "markdown",
   "metadata": {},
   "source": [
    "# <div align=\"center\"> Data Manipulation"
   ]
  },
  {
   "cell_type": "markdown",
   "metadata": {},
   "source": [
    "##### Imports"
   ]
  },
  {
   "cell_type": "code",
   "execution_count": 1,
   "metadata": {},
   "outputs": [],
   "source": [
    "import pandas as pd\n",
    "pd.set_option('display.max_rows',2000)"
   ]
  },
  {
   "cell_type": "markdown",
   "metadata": {},
   "source": [
    "##### Reading csv's"
   ]
  },
  {
   "cell_type": "code",
   "execution_count": 2,
   "metadata": {},
   "outputs": [],
   "source": [
    "df_10_12 = pd.read_csv('porsche_2010_2012.csv',sep=';',encoding='latin-1')\n",
    "df_13_15 = pd.read_csv('porsche_2013_2015.csv',sep=';',encoding='latin-1')\n",
    "df_16_17 = pd.read_csv('porsche_2016_2017.csv',sep=';',encoding='latin-1')\n",
    "df_18_19 = pd.read_csv('porsche_2018_2019.csv',sep=';',encoding='latin-1')\n",
    "df_20 = pd.read_csv('porsche_2020.csv',sep=';',encoding='latin-1')"
   ]
  },
  {
   "cell_type": "code",
   "execution_count": 3,
   "metadata": {},
   "outputs": [],
   "source": [
    "df = pd.concat([df_10_12,df_13_15,df_16_17,df_18_19,df_20],axis = 0)\n",
    "df=df.reset_index()"
   ]
  },
  {
   "cell_type": "markdown",
   "metadata": {},
   "source": [
    "##### Creating new features"
   ]
  },
  {
   "cell_type": "code",
   "execution_count": 4,
   "metadata": {},
   "outputs": [],
   "source": [
    "df['Brand']= df['vehicle'].str.split().str[0]\n",
    "df['Model']=df['vehicle'].str.split().str[1]\n",
    "df['Km'] = df['  km'].str.split().str[0].str.replace('.','')\n",
    "df['Power'] = df[' power'].str.split().str[2].str[1:]\n",
    "df['Price'] = df['price '].str.split().str[1].str.replace(',','').str.replace('.','')"
   ]
  },
  {
   "cell_type": "code",
   "execution_count": 5,
   "metadata": {},
   "outputs": [
    {
     "data": {
      "text/plain": [
       "Index(['index', 'vehicle', '  km', ' year', ' power', ' transmision',\n",
       "       ' fuel_type', ' consume', ' country', 'emisions', 'price ', 'Brand',\n",
       "       'Model', 'Km', 'Power', 'Price'],\n",
       "      dtype='object')"
      ]
     },
     "execution_count": 5,
     "metadata": {},
     "output_type": "execute_result"
    }
   ],
   "source": [
    "df.columns"
   ]
  },
  {
   "cell_type": "markdown",
   "metadata": {},
   "source": [
    "#### Removing unnecessary columns"
   ]
  },
  {
   "cell_type": "code",
   "execution_count": 6,
   "metadata": {},
   "outputs": [],
   "source": [
    "df['Transmision']=df[' transmision']\n",
    "df['Fuel_type']=df[' fuel_type']\n",
    "df = df.drop(columns=[' consume',' country',' transmision','emisions',' fuel_type','price ',' power','  km','vehicle'])\n",
    "df= df[['Brand', 'Model',' year','Km','Power','Transmision', 'Fuel_type', 'Price']]"
   ]
  },
  {
   "cell_type": "markdown",
   "metadata": {},
   "source": [
    "##### Filtering the dataframe"
   ]
  },
  {
   "cell_type": "code",
   "execution_count": 7,
   "metadata": {},
   "outputs": [
    {
     "data": {
      "text/plain": [
       "(1378, 8)"
      ]
     },
     "execution_count": 7,
     "metadata": {},
     "output_type": "execute_result"
    }
   ],
   "source": [
    "df.shape"
   ]
  },
  {
   "cell_type": "code",
   "execution_count": 8,
   "metadata": {},
   "outputs": [
    {
     "data": {
      "text/plain": [
       "(1343, 8)"
      ]
     },
     "execution_count": 8,
     "metadata": {},
     "output_type": "execute_result"
    }
   ],
   "source": [
    "#droping duplicates\n",
    "df = df.drop_duplicates(keep='first')\n",
    "df = df.dropna()\n",
    "df.shape"
   ]
  },
  {
   "cell_type": "markdown",
   "metadata": {},
   "source": [
    "#### Models"
   ]
  },
  {
   "cell_type": "code",
   "execution_count": 9,
   "metadata": {},
   "outputs": [
    {
     "name": "stdout",
     "output_type": "stream",
     "text": [
      "['Panamera' 'Cayenne' '997' '991' '911' 'Boxster' 'Cayman' '992' 'Macan'\n",
      " 'Targa' '718' 'Taycan']\n"
     ]
    }
   ],
   "source": [
    "unique_values_model = df['Model'].unique()\n",
    "print(unique_values_model)"
   ]
  },
  {
   "cell_type": "code",
   "execution_count": 10,
   "metadata": {},
   "outputs": [],
   "source": [
    "#Removing wrong models or not interesting models\n",
    "df = df[df['Model']!='718']\n",
    "df['Model'] = df['Model'].replace(['997','991','992','Targa'],'911')\n",
    "df = df[df['Model']!='911']\n",
    "df = df[df['Model']!='Taycan']"
   ]
  },
  {
   "cell_type": "code",
   "execution_count": 11,
   "metadata": {},
   "outputs": [
    {
     "name": "stdout",
     "output_type": "stream",
     "text": [
      "['Panamera' 'Cayenne' 'Boxster' 'Cayman' 'Macan']\n"
     ]
    }
   ],
   "source": [
    "#Porsche models\n",
    "unique_values_model = df['Model'].unique()\n",
    "print(unique_values_model)"
   ]
  },
  {
   "cell_type": "markdown",
   "metadata": {},
   "source": [
    "#### Brand"
   ]
  },
  {
   "cell_type": "code",
   "execution_count": 12,
   "metadata": {},
   "outputs": [
    {
     "name": "stdout",
     "output_type": "stream",
     "text": [
      "['Porsche']\n"
     ]
    }
   ],
   "source": [
    "#Porsche check\n",
    "unique_values = df['Brand'].unique()\n",
    "print(unique_values)"
   ]
  },
  {
   "cell_type": "code",
   "execution_count": 13,
   "metadata": {},
   "outputs": [
    {
     "data": {
      "text/plain": [
       "(992, 8)"
      ]
     },
     "execution_count": 13,
     "metadata": {},
     "output_type": "execute_result"
    }
   ],
   "source": [
    "df.shape"
   ]
  },
  {
   "cell_type": "markdown",
   "metadata": {},
   "source": [
    "#### Years"
   ]
  },
  {
   "cell_type": "code",
   "execution_count": 14,
   "metadata": {},
   "outputs": [],
   "source": [
    "#Years\n",
    "df = df[df[' year']!='-/- (Año)']"
   ]
  },
  {
   "cell_type": "code",
   "execution_count": 15,
   "metadata": {},
   "outputs": [],
   "source": [
    "df['Year'] = '20'+df[' year'].str[-2:]\n",
    "df['Year']=df['Year'].apply(pd.to_numeric)\n",
    "df = df.drop(columns=[' year'])"
   ]
  },
  {
   "cell_type": "code",
   "execution_count": 16,
   "metadata": {},
   "outputs": [
    {
     "name": "stdout",
     "output_type": "stream",
     "text": [
      "[2011 2010 2012 2015 2014 2013 2016 2017 2018 2019 2020]\n"
     ]
    }
   ],
   "source": [
    "#Year check\n",
    "unique_values = df['Year'].unique()\n",
    "print(unique_values)"
   ]
  },
  {
   "cell_type": "markdown",
   "metadata": {},
   "source": [
    "#### Km"
   ]
  },
  {
   "cell_type": "code",
   "execution_count": 17,
   "metadata": {},
   "outputs": [],
   "source": [
    "df = df[df['Km']!='-']\n",
    "df = df[df['Km']!='#¿NOMBRE?']"
   ]
  },
  {
   "cell_type": "code",
   "execution_count": 18,
   "metadata": {},
   "outputs": [],
   "source": [
    "df['Km']=df['Km'].apply(pd.to_numeric)\n",
    "df = df[df['Km']<400000]\n",
    "df = df[df['Km']>5000]"
   ]
  },
  {
   "cell_type": "code",
   "execution_count": 19,
   "metadata": {},
   "outputs": [
    {
     "data": {
      "text/plain": [
       "(865, 8)"
      ]
     },
     "execution_count": 19,
     "metadata": {},
     "output_type": "execute_result"
    }
   ],
   "source": [
    "df.shape"
   ]
  },
  {
   "cell_type": "markdown",
   "metadata": {},
   "source": [
    "#### Power"
   ]
  },
  {
   "cell_type": "code",
   "execution_count": 20,
   "metadata": {},
   "outputs": [
    {
     "name": "stdout",
     "output_type": "stream",
     "text": [
      "[400 500 245 250 239 299 315 290 379 265 551 310 300 405 430 420 256 385\n",
      " 262 416 340 258 325 382 275 375 441 519 570 383 320 421 349 680 462 549\n",
      " 252 360 355 401 330 354 460 366]\n"
     ]
    }
   ],
   "source": [
    "#Porsche power\n",
    "df = df[df['Power']!='1']\n",
    "df = df[df['Power']!='-']\n",
    "df['Power']=df['Power'].apply(pd.to_numeric)\n",
    "unique_values = df['Power'].unique()\n",
    "print(unique_values)"
   ]
  },
  {
   "cell_type": "code",
   "execution_count": 21,
   "metadata": {},
   "outputs": [
    {
     "data": {
      "text/plain": [
       "(864, 8)"
      ]
     },
     "execution_count": 21,
     "metadata": {},
     "output_type": "execute_result"
    }
   ],
   "source": [
    "df.shape"
   ]
  },
  {
   "cell_type": "markdown",
   "metadata": {},
   "source": [
    "#### Fuel"
   ]
  },
  {
   "cell_type": "code",
   "execution_count": 22,
   "metadata": {},
   "outputs": [
    {
     "name": "stdout",
     "output_type": "stream",
     "text": [
      "['Gasolina' 'Diesel' 'Electro/Gasolina' '-/- (Combustible)']\n"
     ]
    }
   ],
   "source": [
    "#Porsche power\n",
    "df['Fuel_type'] = df['Fuel_type'].replace(['Eléctrico'],'Electrico')\n",
    "df['Fuel_type'] = df['Fuel_type'].replace(['Diésel'],'Diesel')\n",
    "df['Fuel_type'] = df['Fuel_type'].replace(['Electro/Diésel'],'Electro/Diesel')\n",
    "unique_values = df['Fuel_type'].unique()\n",
    "print(unique_values)"
   ]
  },
  {
   "cell_type": "code",
   "execution_count": 23,
   "metadata": {},
   "outputs": [],
   "source": [
    "df = df[df['Fuel_type']!='-/- (Combustible)']"
   ]
  },
  {
   "cell_type": "code",
   "execution_count": 24,
   "metadata": {},
   "outputs": [
    {
     "name": "stdout",
     "output_type": "stream",
     "text": [
      "['Gasolina' 'Diesel' 'Electro/Gasolina']\n"
     ]
    }
   ],
   "source": [
    "#Porsche power\n",
    "unique_values = df['Fuel_type'].unique()\n",
    "print(unique_values)"
   ]
  },
  {
   "cell_type": "markdown",
   "metadata": {},
   "source": [
    "#### Price"
   ]
  },
  {
   "cell_type": "code",
   "execution_count": 25,
   "metadata": {},
   "outputs": [],
   "source": [
    "df['Price'] = df['Price'].apply(pd.to_numeric)"
   ]
  },
  {
   "cell_type": "code",
   "execution_count": 26,
   "metadata": {},
   "outputs": [
    {
     "data": {
      "text/plain": [
       "57775.17345750873"
      ]
     },
     "execution_count": 26,
     "metadata": {},
     "output_type": "execute_result"
    }
   ],
   "source": [
    "df['Price'].mean()"
   ]
  },
  {
   "cell_type": "code",
   "execution_count": 27,
   "metadata": {},
   "outputs": [],
   "source": [
    "#Droping extremly high prices\n",
    "df = df[df['Price']<100000]"
   ]
  },
  {
   "cell_type": "code",
   "execution_count": 28,
   "metadata": {},
   "outputs": [],
   "source": [
    "df=df[['Brand', 'Model','Year','Km','Power','Fuel_type', 'Price']]\n",
    "df=df.reset_index(drop=True)"
   ]
  },
  {
   "cell_type": "code",
   "execution_count": 29,
   "metadata": {},
   "outputs": [],
   "source": [
    "porsche_esp = df[['Brand', 'Model','Year','Km','Power','Fuel_type', 'Price']]"
   ]
  },
  {
   "cell_type": "code",
   "execution_count": 30,
   "metadata": {},
   "outputs": [
    {
     "name": "stdout",
     "output_type": "stream",
     "text": [
      "<class 'pandas.core.frame.DataFrame'>\n",
      "RangeIndex: 779 entries, 0 to 778\n",
      "Data columns (total 7 columns):\n",
      " #   Column     Non-Null Count  Dtype \n",
      "---  ------     --------------  ----- \n",
      " 0   Brand      779 non-null    object\n",
      " 1   Model      779 non-null    object\n",
      " 2   Year       779 non-null    int64 \n",
      " 3   Km         779 non-null    int64 \n",
      " 4   Power      779 non-null    int64 \n",
      " 5   Fuel_type  779 non-null    object\n",
      " 6   Price      779 non-null    int64 \n",
      "dtypes: int64(4), object(3)\n",
      "memory usage: 42.7+ KB\n"
     ]
    }
   ],
   "source": [
    "porsche_esp.info()"
   ]
  },
  {
   "cell_type": "code",
   "execution_count": 31,
   "metadata": {},
   "outputs": [
    {
     "data": {
      "text/plain": [
       "array(['Panamera', 'Cayenne', 'Boxster', 'Cayman', 'Macan'], dtype=object)"
      ]
     },
     "execution_count": 31,
     "metadata": {},
     "output_type": "execute_result"
    }
   ],
   "source": [
    "porsche_esp['Model'].unique()"
   ]
  },
  {
   "cell_type": "code",
   "execution_count": 32,
   "metadata": {},
   "outputs": [
    {
     "data": {
      "text/plain": [
       "(779, 7)"
      ]
     },
     "execution_count": 32,
     "metadata": {},
     "output_type": "execute_result"
    }
   ],
   "source": [
    "porsche_esp.shape"
   ]
  },
  {
   "cell_type": "code",
   "execution_count": 33,
   "metadata": {},
   "outputs": [],
   "source": [
    "df.to_csv ('porsche_esp.csv', index = False, header=True)"
   ]
  },
  {
   "cell_type": "markdown",
   "metadata": {},
   "source": [
    "------------------------------------------------------------------------------------------------------------------------"
   ]
  },
  {
   "cell_type": "markdown",
   "metadata": {},
   "source": [
    "# <div align=\"center\"> Data Manipulation UE"
   ]
  },
  {
   "cell_type": "markdown",
   "metadata": {},
   "source": [
    "##### Reading csv's"
   ]
  },
  {
   "cell_type": "code",
   "execution_count": 34,
   "metadata": {},
   "outputs": [],
   "source": [
    "df_10_12 = pd.read_csv('porsche_EU_2010_2012.csv',sep=';',encoding='latin-1')\n",
    "df_13_15 = pd.read_csv('porsche_EU_2013_2015.csv',sep=';',encoding='latin-1')\n",
    "df_16_18 = pd.read_csv('porsche_EU_2016_2018.csv',sep=';',encoding='latin-1')\n",
    "df_19_20 = pd.read_csv('porsche_EU_2019_2020.csv',sep=';',encoding='latin-1')"
   ]
  },
  {
   "cell_type": "code",
   "execution_count": 35,
   "metadata": {
    "scrolled": true
   },
   "outputs": [],
   "source": [
    "df_ue = pd.concat([df_10_12,df_13_15,df_16_18,df_19_20],axis = 0)\n",
    "df_ue=df_ue.reset_index()"
   ]
  },
  {
   "cell_type": "markdown",
   "metadata": {},
   "source": [
    "##### Creating new features"
   ]
  },
  {
   "cell_type": "code",
   "execution_count": 36,
   "metadata": {},
   "outputs": [],
   "source": [
    "df_ue['Brand']= df_ue['vehicle'].str.split().str[0]\n",
    "df_ue['Model']=df_ue['vehicle'].str.split().str[1]\n",
    "df_ue['Km'] = df_ue['  km'].str.split().str[0].str.replace('.','')\n",
    "df_ue['Power'] = df_ue[' power'].str.split().str[2].str[1:]\n",
    "df_ue['Price'] = df_ue['price '].str.split().str[1].str.replace(',','').str.replace('.','')"
   ]
  },
  {
   "cell_type": "code",
   "execution_count": 37,
   "metadata": {},
   "outputs": [
    {
     "data": {
      "text/plain": [
       "Index(['index', 'vehicle', '  km', ' year', ' power', ' transmision',\n",
       "       ' fuel_type', ' consume', ' country', 'emisions', 'price ', 'Brand',\n",
       "       'Model', 'Km', 'Power', 'Price'],\n",
       "      dtype='object')"
      ]
     },
     "execution_count": 37,
     "metadata": {},
     "output_type": "execute_result"
    }
   ],
   "source": [
    "df_ue.columns"
   ]
  },
  {
   "cell_type": "markdown",
   "metadata": {},
   "source": [
    "#### Removing unnecessary columns"
   ]
  },
  {
   "cell_type": "code",
   "execution_count": 38,
   "metadata": {},
   "outputs": [],
   "source": [
    "df_ue['Transmision']=df_ue[' transmision']\n",
    "df_ue['Fuel_type']=df_ue[' fuel_type']\n",
    "df_ue = df_ue.drop(columns=[' consume',' country',' transmision','emisions',' fuel_type','price ',' power','  km','vehicle'])\n",
    "df_ue= df_ue[['Brand', 'Model',' year','Km','Power','Transmision', 'Fuel_type', 'Price']]"
   ]
  },
  {
   "cell_type": "markdown",
   "metadata": {},
   "source": [
    "##### Filtering the dataframe"
   ]
  },
  {
   "cell_type": "code",
   "execution_count": 39,
   "metadata": {},
   "outputs": [
    {
     "data": {
      "text/plain": [
       "(1596, 8)"
      ]
     },
     "execution_count": 39,
     "metadata": {},
     "output_type": "execute_result"
    }
   ],
   "source": [
    "df_ue.shape"
   ]
  },
  {
   "cell_type": "code",
   "execution_count": 40,
   "metadata": {},
   "outputs": [
    {
     "data": {
      "text/plain": [
       "(1171, 8)"
      ]
     },
     "execution_count": 40,
     "metadata": {},
     "output_type": "execute_result"
    }
   ],
   "source": [
    "#droping duplicates\n",
    "df_ue = df_ue.drop_duplicates(keep='first')\n",
    "df_ue = df_ue.dropna()\n",
    "df_ue.shape"
   ]
  },
  {
   "cell_type": "markdown",
   "metadata": {},
   "source": [
    "#### Models"
   ]
  },
  {
   "cell_type": "code",
   "execution_count": 41,
   "metadata": {},
   "outputs": [
    {
     "name": "stdout",
     "output_type": "stream",
     "text": [
      "['997' 'Cayenne' '911' 'Panamera' 'Cayman' '991' 'Boxster' 'Macan' 'Targa'\n",
      " '992' 'Taycan']\n"
     ]
    }
   ],
   "source": [
    "unique_values_ue = df_ue['Model'].unique()\n",
    "print(unique_values_ue)"
   ]
  },
  {
   "cell_type": "code",
   "execution_count": 42,
   "metadata": {},
   "outputs": [],
   "source": [
    "#Removing wrong models or not interesting models\n",
    "df_ue = df_ue[df_ue['Model']!='718']\n",
    "df_ue['Model'] = df_ue['Model'].replace(['997','991','992','Targa'],'911')\n",
    "df_ue = df_ue[df_ue['Model']!='911']\n",
    "df_ue = df_ue[df_ue['Model']!='Taycan']"
   ]
  },
  {
   "cell_type": "code",
   "execution_count": 43,
   "metadata": {},
   "outputs": [],
   "source": [
    "df_ue=df_ue[df_ue['Model'].isin(unique_values_model)]"
   ]
  },
  {
   "cell_type": "code",
   "execution_count": 44,
   "metadata": {},
   "outputs": [
    {
     "name": "stdout",
     "output_type": "stream",
     "text": [
      "['Cayenne' 'Panamera' 'Cayman' 'Boxster' 'Macan']\n"
     ]
    }
   ],
   "source": [
    "#Porsche models\n",
    "unique_values = df_ue['Model'].unique()\n",
    "print(unique_values)"
   ]
  },
  {
   "cell_type": "markdown",
   "metadata": {},
   "source": [
    "#### Brand"
   ]
  },
  {
   "cell_type": "code",
   "execution_count": 45,
   "metadata": {},
   "outputs": [
    {
     "name": "stdout",
     "output_type": "stream",
     "text": [
      "['Porsche']\n"
     ]
    }
   ],
   "source": [
    "#Porsche check\n",
    "unique_values = df_ue['Brand'].unique()\n",
    "print(unique_values)"
   ]
  },
  {
   "cell_type": "code",
   "execution_count": 46,
   "metadata": {},
   "outputs": [
    {
     "data": {
      "text/plain": [
       "(845, 8)"
      ]
     },
     "execution_count": 46,
     "metadata": {},
     "output_type": "execute_result"
    }
   ],
   "source": [
    "df_ue.shape"
   ]
  },
  {
   "cell_type": "markdown",
   "metadata": {},
   "source": [
    "#### Years"
   ]
  },
  {
   "cell_type": "code",
   "execution_count": 47,
   "metadata": {},
   "outputs": [],
   "source": [
    "#Years\n",
    "df_ue = df_ue[df_ue[' year']!='-/- (Año)']"
   ]
  },
  {
   "cell_type": "code",
   "execution_count": 48,
   "metadata": {},
   "outputs": [],
   "source": [
    "df_ue['Year'] = '20'+df_ue[' year'].str[-2:]\n",
    "df_ue['Year']=df_ue['Year'].apply(pd.to_numeric)\n",
    "df_ue = df_ue.drop(columns=[' year'])"
   ]
  },
  {
   "cell_type": "code",
   "execution_count": 49,
   "metadata": {},
   "outputs": [
    {
     "name": "stdout",
     "output_type": "stream",
     "text": [
      "[2012 2011 2010 2013 2015 2014 2017 2018 2016 2019 2020]\n"
     ]
    }
   ],
   "source": [
    "#Year check\n",
    "unique_values = df_ue['Year'].unique()\n",
    "print(unique_values)"
   ]
  },
  {
   "cell_type": "markdown",
   "metadata": {},
   "source": [
    "#### Km"
   ]
  },
  {
   "cell_type": "code",
   "execution_count": 50,
   "metadata": {},
   "outputs": [],
   "source": [
    "df_ue = df_ue[df_ue['Km']!='-']\n",
    "df_ue = df_ue[df_ue['Km']!='#¿NOMBRE?']"
   ]
  },
  {
   "cell_type": "code",
   "execution_count": 51,
   "metadata": {},
   "outputs": [],
   "source": [
    "df_ue['Km']=df_ue['Km'].apply(pd.to_numeric)\n",
    "df_ue = df_ue[df_ue['Km']<400000]\n",
    "df_ue = df_ue[df_ue['Km']>5000]"
   ]
  },
  {
   "cell_type": "code",
   "execution_count": 52,
   "metadata": {},
   "outputs": [
    {
     "data": {
      "text/plain": [
       "(838, 8)"
      ]
     },
     "execution_count": 52,
     "metadata": {},
     "output_type": "execute_result"
    }
   ],
   "source": [
    "df_ue.shape"
   ]
  },
  {
   "cell_type": "markdown",
   "metadata": {},
   "source": [
    "#### Power"
   ]
  },
  {
   "cell_type": "code",
   "execution_count": 53,
   "metadata": {},
   "outputs": [
    {
     "name": "stdout",
     "output_type": "stream",
     "text": [
      "[245 500 400 239 333 430 549 299 320 211 379 250 315 290 398 300 265 310\n",
      " 256 420 540 330 246 269 334 266 314 551 241 258 382 262 340 325 518 407\n",
      " 441 416 528 385 519 275 446 421 375 383 462 252 451 349 557 460 366 305\n",
      " 360 257 680 570 362 390 447 364 354 381]\n"
     ]
    }
   ],
   "source": [
    "#Porsche power\n",
    "df_ue = df_ue[df_ue['Power']!='1']\n",
    "df_ue = df_ue[df_ue['Power']!='-']\n",
    "df_ue['Power']=df_ue['Power'].apply(pd.to_numeric)\n",
    "unique_values = df_ue['Power'].unique()\n",
    "print(unique_values)"
   ]
  },
  {
   "cell_type": "code",
   "execution_count": 54,
   "metadata": {},
   "outputs": [
    {
     "data": {
      "text/plain": [
       "(824, 8)"
      ]
     },
     "execution_count": 54,
     "metadata": {},
     "output_type": "execute_result"
    }
   ],
   "source": [
    "df_ue.shape"
   ]
  },
  {
   "cell_type": "markdown",
   "metadata": {},
   "source": [
    "#### Fuel"
   ]
  },
  {
   "cell_type": "code",
   "execution_count": 55,
   "metadata": {},
   "outputs": [
    {
     "name": "stdout",
     "output_type": "stream",
     "text": [
      "['Diesel' 'Gasolina' 'Electro/Gasolina' 'Otros' '-/- (Combustible)']\n"
     ]
    }
   ],
   "source": [
    "#Porsche power\n",
    "df_ue['Fuel_type'] = df_ue['Fuel_type'].replace(['Eléctrico'],'Electrico')\n",
    "df_ue['Fuel_type'] = df_ue['Fuel_type'].replace(['Diésel'],'Diesel')\n",
    "df_ue['Fuel_type'] = df_ue['Fuel_type'].replace(['Electro/Diésel'],'Electro/Diesel')\n",
    "unique_values = df_ue['Fuel_type'].unique()\n",
    "print(unique_values)"
   ]
  },
  {
   "cell_type": "code",
   "execution_count": 56,
   "metadata": {},
   "outputs": [],
   "source": [
    "df_ue = df_ue[df_ue['Fuel_type']!='-/- (Combustible)']\n",
    "df_ue = df_ue[df_ue['Fuel_type']!='Otros']"
   ]
  },
  {
   "cell_type": "code",
   "execution_count": 57,
   "metadata": {},
   "outputs": [
    {
     "name": "stdout",
     "output_type": "stream",
     "text": [
      "['Diesel' 'Gasolina' 'Electro/Gasolina']\n"
     ]
    }
   ],
   "source": [
    "#Porsche power\n",
    "unique_values = df_ue['Fuel_type'].unique()\n",
    "print(unique_values)"
   ]
  },
  {
   "cell_type": "markdown",
   "metadata": {},
   "source": [
    "#### Price"
   ]
  },
  {
   "cell_type": "code",
   "execution_count": 58,
   "metadata": {},
   "outputs": [],
   "source": [
    "df_ue['Price'] = df_ue['Price'].apply(pd.to_numeric)"
   ]
  },
  {
   "cell_type": "code",
   "execution_count": 59,
   "metadata": {},
   "outputs": [
    {
     "data": {
      "text/plain": [
       "47113.34107579462"
      ]
     },
     "execution_count": 59,
     "metadata": {},
     "output_type": "execute_result"
    }
   ],
   "source": [
    "df_ue['Price'].mean()"
   ]
  },
  {
   "cell_type": "code",
   "execution_count": 60,
   "metadata": {},
   "outputs": [],
   "source": [
    "#Droping extremly high prices\n",
    "df_ue = df_ue[df_ue['Price']<70000]"
   ]
  },
  {
   "cell_type": "code",
   "execution_count": 61,
   "metadata": {},
   "outputs": [],
   "source": [
    "df_ue=df_ue[['Brand', 'Model','Year','Km','Power','Fuel_type', 'Price']]\n",
    "df_ue=df_ue.reset_index(drop=True)"
   ]
  },
  {
   "cell_type": "code",
   "execution_count": 62,
   "metadata": {},
   "outputs": [],
   "source": [
    "porsche_ue = df_ue[['Brand', 'Model','Year','Km','Power','Fuel_type', 'Price']]"
   ]
  },
  {
   "cell_type": "code",
   "execution_count": 63,
   "metadata": {},
   "outputs": [
    {
     "name": "stdout",
     "output_type": "stream",
     "text": [
      "<class 'pandas.core.frame.DataFrame'>\n",
      "RangeIndex: 728 entries, 0 to 727\n",
      "Data columns (total 7 columns):\n",
      " #   Column     Non-Null Count  Dtype \n",
      "---  ------     --------------  ----- \n",
      " 0   Brand      728 non-null    object\n",
      " 1   Model      728 non-null    object\n",
      " 2   Year       728 non-null    int64 \n",
      " 3   Km         728 non-null    int64 \n",
      " 4   Power      728 non-null    int64 \n",
      " 5   Fuel_type  728 non-null    object\n",
      " 6   Price      728 non-null    int64 \n",
      "dtypes: int64(4), object(3)\n",
      "memory usage: 39.9+ KB\n"
     ]
    }
   ],
   "source": [
    "porsche_ue.info()"
   ]
  },
  {
   "cell_type": "code",
   "execution_count": 64,
   "metadata": {},
   "outputs": [
    {
     "data": {
      "text/plain": [
       "array(['Cayenne', 'Panamera', 'Cayman', 'Boxster', 'Macan'], dtype=object)"
      ]
     },
     "execution_count": 64,
     "metadata": {},
     "output_type": "execute_result"
    }
   ],
   "source": [
    "porsche_ue['Model'].unique()"
   ]
  },
  {
   "cell_type": "code",
   "execution_count": 65,
   "metadata": {},
   "outputs": [
    {
     "data": {
      "text/plain": [
       "(728, 7)"
      ]
     },
     "execution_count": 65,
     "metadata": {},
     "output_type": "execute_result"
    }
   ],
   "source": [
    "porsche_ue.shape"
   ]
  },
  {
   "cell_type": "code",
   "execution_count": 66,
   "metadata": {},
   "outputs": [],
   "source": [
    "df_ue.to_csv ('porsche_ue.csv', index = False, header=True)"
   ]
  }
 ],
 "metadata": {
  "kernelspec": {
   "display_name": "Python 3",
   "language": "python",
   "name": "python3"
  },
  "language_info": {
   "codemirror_mode": {
    "name": "ipython",
    "version": 3
   },
   "file_extension": ".py",
   "mimetype": "text/x-python",
   "name": "python",
   "nbconvert_exporter": "python",
   "pygments_lexer": "ipython3",
   "version": "3.7.6"
  }
 },
 "nbformat": 4,
 "nbformat_minor": 4
}
