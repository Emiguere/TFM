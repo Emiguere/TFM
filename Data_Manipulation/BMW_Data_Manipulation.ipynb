{
 "cells": [
  {
   "cell_type": "markdown",
   "metadata": {},
   "source": [
    "# <div align=\"center\"> Data Manipulation"
   ]
  },
  {
   "cell_type": "markdown",
   "metadata": {},
   "source": [
    "##### Imports"
   ]
  },
  {
   "cell_type": "code",
   "execution_count": 1,
   "metadata": {},
   "outputs": [],
   "source": [
    "import pandas as pd\n",
    "import numpy as np"
   ]
  },
  {
   "cell_type": "code",
   "execution_count": 2,
   "metadata": {},
   "outputs": [],
   "source": [
    "pd.set_option('display.max_rows',10000)"
   ]
  },
  {
   "cell_type": "markdown",
   "metadata": {},
   "source": [
    "##### Reading csv's"
   ]
  },
  {
   "cell_type": "code",
   "execution_count": 3,
   "metadata": {},
   "outputs": [],
   "source": [
    "df_10 = pd.read_csv('../Raw_Data/bmw_2010.csv',sep=';',encoding='latin-1')\n",
    "df_11 = pd.read_csv('../Raw_Data/bmw_2011.csv',sep=';',encoding='latin-1')\n",
    "df_12 = pd.read_csv('../Raw_Data/bmw_2012.csv',sep=';',encoding='latin-1')\n",
    "df_13 = pd.read_csv('../Raw_Data/bmw_2013.csv',sep=';',encoding='latin-1')\n",
    "df_14_r = pd.read_csv('../Raw_Data/bmw_2014_r.csv',sep=';',encoding='latin-1')\n",
    "df_14_d = pd.read_csv('../Raw_Data/bmw_2014_d.csv',sep=';',encoding='latin-1')\n",
    "df_15_r = pd.read_csv('../Raw_Data/bmw_2015_r.csv',sep=';',encoding='latin-1')\n",
    "df_15_d = pd.read_csv('../Raw_Data/bmw_2015_d.csv',sep=';',encoding='latin-1')\n",
    "df_16_r = pd.read_csv('../Raw_Data/bmw_2016_r.csv',sep=';',encoding='latin-1')\n",
    "df_16_d = pd.read_csv('../Raw_Data/bmw_2016_d.csv',sep=';',encoding='latin-1')\n",
    "df_17_r = pd.read_csv('../Raw_Data/bmw_2017_r.csv',sep=';',encoding='latin-1')\n",
    "df_17_d = pd.read_csv('../Raw_Data/bmw_2017_d.csv',sep=';',encoding='latin-1')\n",
    "df_18_r = pd.read_csv('../Raw_Data/bmw_2018_r.csv',sep=';',encoding='latin-1')\n",
    "df_18_d = pd.read_csv('../Raw_Data/bmw_2018_d.csv',sep=';',encoding='latin-1')\n",
    "df_19_r = pd.read_csv('../Raw_Data/bmw_2019_r.csv',sep=';',encoding='latin-1')\n",
    "df_19_d = pd.read_csv('../Raw_Data/bmw_2019_d.csv',sep=';',encoding='latin-1')\n",
    "df_20_r = pd.read_csv('../Raw_Data/bmw_2020_r.csv',sep=';',encoding='latin-1')\n",
    "df_20_d = pd.read_csv('../Raw_Data/bmw_2020_d.csv',sep=';',encoding='latin-1')"
   ]
  },
  {
   "cell_type": "code",
   "execution_count": 4,
   "metadata": {
    "scrolled": true
   },
   "outputs": [],
   "source": [
    "df = pd.concat([df_10,df_11,df_12,df_13,df_14_d,df_14_r,df_15_d,df_15_r,df_16_d,df_16_r,df_17_d,df_17_r,df_18_r,df_18_d,df_19_r,df_19_d,df_20_r,df_20_d],axis = 0)\n",
    "df = df.drop(columns=['Unnamed: 10', 'Unnamed: 11', 'Unnamed: 12'])\n",
    "df=df.reset_index()"
   ]
  },
  {
   "cell_type": "markdown",
   "metadata": {},
   "source": [
    "##### Creating new features"
   ]
  },
  {
   "cell_type": "code",
   "execution_count": 5,
   "metadata": {},
   "outputs": [],
   "source": [
    "df['Brand']= df['vehicle'].str.split().str[0]\n",
    "df['Model']=df['vehicle'].str.split().str[1:].str.join(sep=',').str.replace(',',' ')\n",
    "df['Km'] = df['  km'].str.split().str[0].str.replace('.','')\n",
    "df['Power'] = df[' power'].str.split().str[2].str[1:]\n",
    "df['Price'] = df['price '].str.split().str[1].str.replace(',','').str.replace('.','')"
   ]
  },
  {
   "cell_type": "code",
   "execution_count": 6,
   "metadata": {
    "scrolled": true
   },
   "outputs": [
    {
     "data": {
      "text/plain": [
       "Index(['index', 'vehicle', '  km', ' year', ' power', ' transmision',\n",
       "       ' fuel_type', ' consume', ' country', 'emisions', 'price ', 'Brand',\n",
       "       'Model', 'Km', 'Power', 'Price'],\n",
       "      dtype='object')"
      ]
     },
     "execution_count": 6,
     "metadata": {},
     "output_type": "execute_result"
    }
   ],
   "source": [
    "df.columns"
   ]
  },
  {
   "cell_type": "markdown",
   "metadata": {},
   "source": [
    "#### Removing unnecessary columns"
   ]
  },
  {
   "cell_type": "code",
   "execution_count": 7,
   "metadata": {},
   "outputs": [],
   "source": [
    "df['Transmision']=df[' transmision']\n",
    "df['Fuel_type']=df[' fuel_type']\n",
    "df = df.drop(columns=[' consume',' country',' transmision','emisions',' fuel_type','price ',' power','  km','vehicle'])\n",
    "df= df[['Brand', 'Model',' year','Km','Power','Transmision', 'Fuel_type', 'Price']]"
   ]
  },
  {
   "cell_type": "markdown",
   "metadata": {},
   "source": [
    "##### Filtering the dataframe"
   ]
  },
  {
   "cell_type": "code",
   "execution_count": 8,
   "metadata": {},
   "outputs": [
    {
     "data": {
      "text/plain": [
       "(5751, 8)"
      ]
     },
     "execution_count": 8,
     "metadata": {},
     "output_type": "execute_result"
    }
   ],
   "source": [
    "df.shape"
   ]
  },
  {
   "cell_type": "code",
   "execution_count": 9,
   "metadata": {},
   "outputs": [
    {
     "data": {
      "text/plain": [
       "(4645, 8)"
      ]
     },
     "execution_count": 9,
     "metadata": {},
     "output_type": "execute_result"
    }
   ],
   "source": [
    "#droping duplicates\n",
    "df = df.drop_duplicates(keep='first')\n",
    "df = df.dropna()\n",
    "df.shape"
   ]
  },
  {
   "cell_type": "markdown",
   "metadata": {},
   "source": [
    "#### Models"
   ]
  },
  {
   "cell_type": "code",
   "execution_count": 10,
   "metadata": {
    "scrolled": true
   },
   "outputs": [
    {
     "name": "stdout",
     "output_type": "stream",
     "text": [
      "['320' 'X5' '528' '116' '118' '530' 'Z4' 'X3' '318' '520' '335' '330'\n",
      " '525' 'X6' '745' 'X1' '325' '316' '120' 'Active Hybrid 7' '523' '740'\n",
      " 'M3' '' '535' '750' '123' 'X6 M' '730' 'Active Hybrid X6' 'X5 M' 'Z4 M'\n",
      " '125' '640' 'BMW' '1er M Coupé' '650' 'M6' '328' '114' '135'\n",
      " 'Active Hybrid 5' 'M5' '550' '420' '435' '428' 'X4' '218' '418' '518'\n",
      " '430' '220' '425' 'i3' 'M4' 'i8' '235' '216' '225' '228' '645' 'M2' '230'\n",
      " '540' '140' '440' 'X4 M' 'X2' '240' 'M850' '850' '630' '620' '840' 'X2 M'\n",
      " 'M8' 'X7' 'X7 M' 'X3 M' '340']\n"
     ]
    }
   ],
   "source": [
    "unique_values = df['Model'].unique()\n",
    "print(unique_values)"
   ]
  },
  {
   "cell_type": "code",
   "execution_count": 11,
   "metadata": {},
   "outputs": [],
   "source": [
    "#df['column name'] = df['column name'].replace(['1st old value','2nd old value',...],'new value')\n",
    "df['Model'] = df['Model'].replace(['116','118','125','120','123','114','135','140'],'Serie 1')\n",
    "df['Model'] = df['Model'].replace(['218','220','235','216','225','228','230','240'],'Serie 2')\n",
    "df['Model'] = df['Model'].replace(['316','318','320','335','330','325','328','330','340'],'Serie 3')\n",
    "df['Model'] = df['Model'].replace(['420','435','428','418','430','425','440'],'Serie 4')\n",
    "df['Model'] = df['Model'].replace(['518','520','523','528','535','530','525','540','550'],'Serie 5')\n",
    "df['Model'] = df['Model'].replace(['620','630','640','645','650'],'Serie 6')\n",
    "df['Model'] = df['Model'].replace(['730','740','745','750'],'Serie 7')\n",
    "df['Model'] = df['Model'].replace(['840','850','M850'],'Serie 8')\n",
    "df['Model'] = df['Model'].replace(['1er M Coupé'],'M1')\n",
    "df['Model'] = df['Model'].str.replace(' ','')"
   ]
  },
  {
   "cell_type": "code",
   "execution_count": 12,
   "metadata": {},
   "outputs": [],
   "source": [
    "#Removing wrong models or not interesting models\n",
    "df = df[df['Model']!='ActiveHybrid5']\n",
    "df = df[df['Model']!='ActiveHybrid7']\n",
    "df = df[df['Model']!='ActiveHybridX6']\n",
    "df = df[df['Model']!='BMW']\n",
    "df = df[df['Model']!='i8']\n",
    "df = df[df['Model']!='M1']\n",
    "df = df[df['Model']!='M2']\n",
    "df = df[df['Model']!='M3']\n",
    "df = df[df['Model']!='M4']\n",
    "df = df[df['Model']!='M5']\n",
    "df = df[df['Model']!='M6']\n",
    "df = df[df['Model']!='M8']\n",
    "df = df[df['Model']!='X2M']\n",
    "df = df[df['Model']!='X3M']\n",
    "df = df[df['Model']!='X4M']\n",
    "df = df[df['Model']!='X5M']\n",
    "df = df[df['Model']!='X6M']\n",
    "df = df[df['Model']!='X7']\n",
    "df = df[df['Model']!='X7M']\n",
    "df = df[df['Model']!='Z4M']\n",
    "df = df[df['Model']!='']\n"
   ]
  },
  {
   "cell_type": "code",
   "execution_count": 13,
   "metadata": {},
   "outputs": [
    {
     "name": "stdout",
     "output_type": "stream",
     "text": [
      "['Serie3' 'X5' 'Serie5' 'Serie1' 'Z4' 'X3' 'X6' 'Serie7' 'X1' 'Serie6'\n",
      " 'Serie4' 'X4' 'Serie2' 'i3' 'X2' 'Serie8']\n"
     ]
    }
   ],
   "source": [
    "# models\n",
    "unique_values_model = df['Model'].unique()\n",
    "print(unique_values_model)"
   ]
  },
  {
   "cell_type": "markdown",
   "metadata": {},
   "source": [
    "#### Brand"
   ]
  },
  {
   "cell_type": "code",
   "execution_count": 14,
   "metadata": {},
   "outputs": [
    {
     "name": "stdout",
     "output_type": "stream",
     "text": [
      "['BMW']\n"
     ]
    }
   ],
   "source": [
    "#BMW check\n",
    "unique_values = df['Brand'].unique()\n",
    "print(unique_values)"
   ]
  },
  {
   "cell_type": "code",
   "execution_count": 15,
   "metadata": {},
   "outputs": [
    {
     "data": {
      "text/plain": [
       "(4268, 8)"
      ]
     },
     "execution_count": 15,
     "metadata": {},
     "output_type": "execute_result"
    }
   ],
   "source": [
    "df.shape"
   ]
  },
  {
   "cell_type": "markdown",
   "metadata": {},
   "source": [
    "#### Years"
   ]
  },
  {
   "cell_type": "code",
   "execution_count": 16,
   "metadata": {},
   "outputs": [],
   "source": [
    "#Years\n",
    "df = df[df[' year']!='-/- (Año)']"
   ]
  },
  {
   "cell_type": "code",
   "execution_count": 17,
   "metadata": {},
   "outputs": [],
   "source": [
    "df['Year'] = '20'+df[' year'].str[-2:]\n",
    "df['Year']=df['Year'].apply(pd.to_numeric)\n",
    "df = df.drop(columns=[' year'])"
   ]
  },
  {
   "cell_type": "code",
   "execution_count": 18,
   "metadata": {},
   "outputs": [
    {
     "name": "stdout",
     "output_type": "stream",
     "text": [
      "[2010 2011 2012 2013 2014 2015 2016 2017 2018 2019 2020]\n"
     ]
    }
   ],
   "source": [
    "#Year check\n",
    "unique_values = df['Year'].unique()\n",
    "print(unique_values)"
   ]
  },
  {
   "cell_type": "markdown",
   "metadata": {},
   "source": [
    "#### Km"
   ]
  },
  {
   "cell_type": "code",
   "execution_count": 19,
   "metadata": {},
   "outputs": [],
   "source": [
    "#KM check\n",
    "df = df[df['Km']!='-']\n",
    "df = df[df['Km']!='#¿NOMBRE?']\n",
    "df['Km']=df['Km'].apply(pd.to_numeric)\n",
    "df = df[df['Km']<400000]\n",
    "df = df[df['Km']>5000]"
   ]
  },
  {
   "cell_type": "code",
   "execution_count": 20,
   "metadata": {},
   "outputs": [
    {
     "data": {
      "text/plain": [
       "(3987, 8)"
      ]
     },
     "execution_count": 20,
     "metadata": {},
     "output_type": "execute_result"
    }
   ],
   "source": [
    "df.shape"
   ]
  },
  {
   "cell_type": "markdown",
   "metadata": {},
   "source": [
    "#### Power"
   ]
  },
  {
   "cell_type": "code",
   "execution_count": 21,
   "metadata": {},
   "outputs": [
    {
     "data": {
      "text/plain": [
       "(3963, 8)"
      ]
     },
     "execution_count": 21,
     "metadata": {},
     "output_type": "execute_result"
    }
   ],
   "source": [
    "df = df[df['Power']!='1']\n",
    "df = df[df['Power']!='-']\n",
    "df['Power'] = df['Power'].apply(pd.to_numeric)\n",
    "df.shape"
   ]
  },
  {
   "cell_type": "markdown",
   "metadata": {},
   "source": [
    "#### Fuel"
   ]
  },
  {
   "cell_type": "code",
   "execution_count": 22,
   "metadata": {},
   "outputs": [
    {
     "name": "stdout",
     "output_type": "stream",
     "text": [
      "['Gasolina' 'Diesel' 'Electro/Gasolina' 'Electrico']\n"
     ]
    }
   ],
   "source": [
    "df['Fuel_type'] = df['Fuel_type'].replace(['Diésel'],'Diesel')\n",
    "df['Fuel_type'] = df['Fuel_type'].replace(['Electro/Diésel'],'Electro/Diesel')\n",
    "df['Fuel_type'] = df['Fuel_type'].replace(['Eléctrico'],'Electrico')\n",
    "unique_values = df['Fuel_type'].unique()\n",
    "print(unique_values)"
   ]
  },
  {
   "cell_type": "code",
   "execution_count": 23,
   "metadata": {},
   "outputs": [],
   "source": [
    "df = df[df['Fuel_type']!='-/- (Combustible)']\n",
    "df = df[df['Fuel_type']!='Otros']\n",
    "df = df[df['Fuel_type']!='Gas natural (CNG)']"
   ]
  },
  {
   "cell_type": "code",
   "execution_count": 24,
   "metadata": {},
   "outputs": [
    {
     "name": "stdout",
     "output_type": "stream",
     "text": [
      "['Gasolina' 'Diesel' 'Electro/Gasolina' 'Electrico']\n"
     ]
    }
   ],
   "source": [
    "unique_values = df['Fuel_type'].unique()\n",
    "print(unique_values)"
   ]
  },
  {
   "cell_type": "markdown",
   "metadata": {},
   "source": [
    "#### Price"
   ]
  },
  {
   "cell_type": "code",
   "execution_count": 25,
   "metadata": {},
   "outputs": [],
   "source": [
    "#Audi price\n",
    "df['Price'] = df['Price'].apply(pd.to_numeric)\n",
    "#Droping extremly high prices\n",
    "df = df[df['Price']<70000]"
   ]
  },
  {
   "cell_type": "code",
   "execution_count": 26,
   "metadata": {},
   "outputs": [],
   "source": [
    "df=df.reset_index(drop=True)"
   ]
  },
  {
   "cell_type": "markdown",
   "metadata": {},
   "source": [
    "-------------------------------------------------------------------------------------------------------------------------------"
   ]
  },
  {
   "cell_type": "code",
   "execution_count": 27,
   "metadata": {},
   "outputs": [],
   "source": [
    "df=df[['Brand', 'Model','Year','Km','Power','Fuel_type', 'Price']]\n",
    "df=df.reset_index(drop=True)"
   ]
  },
  {
   "cell_type": "code",
   "execution_count": 28,
   "metadata": {},
   "outputs": [],
   "source": [
    "BMW_esp = df[['Brand', 'Model','Year','Km','Power','Fuel_type', 'Price']]"
   ]
  },
  {
   "cell_type": "code",
   "execution_count": 29,
   "metadata": {},
   "outputs": [
    {
     "data": {
      "text/plain": [
       "15"
      ]
     },
     "execution_count": 29,
     "metadata": {},
     "output_type": "execute_result"
    }
   ],
   "source": [
    "BMW_esp['Model'].nunique()"
   ]
  },
  {
   "cell_type": "code",
   "execution_count": 30,
   "metadata": {},
   "outputs": [
    {
     "data": {
      "text/plain": [
       "(3919, 7)"
      ]
     },
     "execution_count": 30,
     "metadata": {},
     "output_type": "execute_result"
    }
   ],
   "source": [
    "BMW_esp.shape"
   ]
  },
  {
   "cell_type": "code",
   "execution_count": 31,
   "metadata": {},
   "outputs": [],
   "source": [
    "df.to_csv ('BMW_esp.csv', index = False, header=True)"
   ]
  },
  {
   "cell_type": "markdown",
   "metadata": {},
   "source": [
    "-------------------------------------------------------------------------------------------------------------------------------"
   ]
  },
  {
   "cell_type": "markdown",
   "metadata": {},
   "source": [
    "# <div align=\"center\"> Data Manipulation UE"
   ]
  },
  {
   "cell_type": "markdown",
   "metadata": {},
   "source": [
    "##### Reading csv's"
   ]
  },
  {
   "cell_type": "code",
   "execution_count": 32,
   "metadata": {},
   "outputs": [],
   "source": [
    "df_10_12 = pd.read_csv('../Raw_Data/bmw_EU_2010_2012.csv',sep=';',encoding='latin-1')\n",
    "df_13_15 = pd.read_csv('../Raw_Data/bmw_EU_2013_2015.csv',sep=';',encoding='latin-1')\n",
    "df_16_18 = pd.read_csv('../Raw_Data/bmw_EU_2016_2018.csv',sep=';',encoding='latin-1')\n",
    "df_19_20 = pd.read_csv('../Raw_Data/bmw_EU_2019_2020.csv',sep=';',encoding='latin-1')"
   ]
  },
  {
   "cell_type": "code",
   "execution_count": 33,
   "metadata": {
    "scrolled": true
   },
   "outputs": [],
   "source": [
    "df_ue = pd.concat([df_10_12,df_13_15,df_16_18,df_19_20],axis = 0)\n",
    "df_ue=df_ue.reset_index()"
   ]
  },
  {
   "cell_type": "markdown",
   "metadata": {},
   "source": [
    "##### Creating new features"
   ]
  },
  {
   "cell_type": "code",
   "execution_count": 34,
   "metadata": {},
   "outputs": [],
   "source": [
    "df_ue['Brand']= df_ue['vehicle'].str.split().str[0]\n",
    "df_ue['Model']=df_ue['vehicle'].str.split().str[1:].str.join(sep=',').str.replace(',',' ')\n",
    "df_ue['Km'] = df_ue['  km'].str.split().str[0].str.replace('.','')\n",
    "df_ue['Power'] = df_ue[' power'].str.split().str[2].str[1:]\n",
    "df_ue['Price'] = df_ue['price '].str.split().str[1].str.replace(',','').str.replace('.','')"
   ]
  },
  {
   "cell_type": "code",
   "execution_count": 35,
   "metadata": {
    "scrolled": true
   },
   "outputs": [
    {
     "data": {
      "text/plain": [
       "Index(['index', 'vehicle', '  km', ' year', ' power', ' transmision',\n",
       "       ' fuel_type', ' consume', ' country', 'emisions', 'price ',\n",
       "       'Unnamed: 10', 'Unnamed: 11', 'Unnamed: 12', 'Brand', 'Model', 'Km',\n",
       "       'Power', 'Price'],\n",
       "      dtype='object')"
      ]
     },
     "execution_count": 35,
     "metadata": {},
     "output_type": "execute_result"
    }
   ],
   "source": [
    "df_ue.columns"
   ]
  },
  {
   "cell_type": "markdown",
   "metadata": {},
   "source": [
    "#### Removing unnecessary columns"
   ]
  },
  {
   "cell_type": "code",
   "execution_count": 36,
   "metadata": {},
   "outputs": [],
   "source": [
    "df_ue['Transmision']=df_ue[' transmision']\n",
    "df_ue['Fuel_type']=df_ue[' fuel_type']\n",
    "df_ue = df_ue[df_ue[' country']!='ES']\n",
    "df_ue = df_ue.drop(columns=[' consume',' country','Unnamed: 10', 'Unnamed: 11', 'Unnamed: 12',' transmision','emisions',' fuel_type','price ',' power','  km','vehicle'])\n",
    "df_ue= df_ue[['Brand', 'Model',' year','Km','Power','Transmision', 'Fuel_type', 'Price']]"
   ]
  },
  {
   "cell_type": "markdown",
   "metadata": {},
   "source": [
    "##### Filtering the dataframe"
   ]
  },
  {
   "cell_type": "code",
   "execution_count": 37,
   "metadata": {},
   "outputs": [
    {
     "data": {
      "text/plain": [
       "(1241, 8)"
      ]
     },
     "execution_count": 37,
     "metadata": {},
     "output_type": "execute_result"
    }
   ],
   "source": [
    "df_ue.shape"
   ]
  },
  {
   "cell_type": "code",
   "execution_count": 38,
   "metadata": {},
   "outputs": [
    {
     "data": {
      "text/plain": [
       "(1103, 8)"
      ]
     },
     "execution_count": 38,
     "metadata": {},
     "output_type": "execute_result"
    }
   ],
   "source": [
    "#droping duplicates\n",
    "df_ue = df_ue.drop_duplicates(keep='first')\n",
    "df_ue = df_ue.dropna()\n",
    "df_ue.shape"
   ]
  },
  {
   "cell_type": "markdown",
   "metadata": {},
   "source": [
    "#### Models"
   ]
  },
  {
   "cell_type": "code",
   "execution_count": 39,
   "metadata": {
    "scrolled": true
   },
   "outputs": [
    {
     "name": "stdout",
     "output_type": "stream",
     "text": [
      "['120' 'X1' '125' '530' '116' 'X3' '335' 'Z4' '118' '320' '318' '330'\n",
      " '730' '525' '650' '520' '316' '535' 'Active Hybrid 5' '325' 'X6 M' '640'\n",
      " '550' 'X5' '' 'M3' '1er M Coupé' '135' '114' 'X6' '750' '740' '523'\n",
      " 'X5 M' '528' 'M6' '328' 'Active Hybrid 7' '218' '435' '216' '420' 'i3'\n",
      " '430' '220' '214' '428' '518' '235' '225' 'X4' '418' 'M4' 'M5' '425'\n",
      " '630' 'X3 M' '540' '240' 'i8' 'M2' '140' 'X2' 'X4 M' '228' '340' 'M8']\n"
     ]
    }
   ],
   "source": [
    "unique_values = df_ue['Model'].unique()\n",
    "print(unique_values)"
   ]
  },
  {
   "cell_type": "code",
   "execution_count": 40,
   "metadata": {},
   "outputs": [],
   "source": [
    "#df['column name'] = df['column name'].replace(['1st old value','2nd old value',...],'new value')\n",
    "df_ue['Model'] = df_ue['Model'].replace(['116','118','125','120','123','114','135','140'],'Serie 1')\n",
    "df_ue['Model'] = df_ue['Model'].replace(['214','218','220','235','216','225','228','230','240'],'Serie 2')\n",
    "df_ue['Model'] = df_ue['Model'].replace(['316','318','320','335','330','325','328','330','340'],'Serie 3')\n",
    "df_ue['Model'] = df_ue['Model'].replace(['420','435','428','418','430','425','440'],'Serie 4')\n",
    "df_ue['Model'] = df_ue['Model'].replace(['518','520','523','528','535','530','525','540','550'],'Serie 5')\n",
    "df_ue['Model'] = df_ue['Model'].replace(['620','630','640','645','650'],'Serie 6')\n",
    "df_ue['Model'] = df_ue['Model'].replace(['730','740','745','750'],'Serie 7')\n",
    "df_ue['Model'] = df_ue['Model'].replace(['840','850','M850'],'Serie 8')\n",
    "df_ue['Model'] = df_ue['Model'].replace(['1er M Coupé'],'M1')\n",
    "df_ue['Model'] = df_ue['Model'].str.replace(' ','')"
   ]
  },
  {
   "cell_type": "code",
   "execution_count": 41,
   "metadata": {},
   "outputs": [],
   "source": [
    "#Removing wrong models or not interesting models\n",
    "df_ue = df_ue[df_ue['Model']!='ActiveHybrid5']\n",
    "df_ue = df_ue[df_ue['Model']!='ActiveHybrid7']\n",
    "df_ue = df_ue[df_ue['Model']!='ActiveHybridX6']\n",
    "df_ue = df_ue[df_ue['Model']!='BMW']\n",
    "df_ue = df_ue[df_ue['Model']!='i8']\n",
    "df_ue = df_ue[df_ue['Model']!='M1']\n",
    "df_ue = df_ue[df_ue['Model']!='M2']\n",
    "df_ue = df_ue[df_ue['Model']!='M3']\n",
    "df_ue = df_ue[df_ue['Model']!='M4']\n",
    "df_ue = df_ue[df_ue['Model']!='M5']\n",
    "df_ue = df_ue[df_ue['Model']!='M6']\n",
    "df_ue = df_ue[df_ue['Model']!='M8']\n",
    "df_ue = df_ue[df_ue['Model']!='X2M']\n",
    "df_ue = df_ue[df_ue['Model']!='X3M']\n",
    "df_ue = df_ue[df_ue['Model']!='X4M']\n",
    "df_ue = df_ue[df_ue['Model']!='X5M']\n",
    "df_ue = df_ue[df_ue['Model']!='X6M']\n",
    "df_ue = df_ue[df_ue['Model']!='X7']\n",
    "df_ue = df_ue[df_ue['Model']!='X7M']\n",
    "df_ue = df_ue[df_ue['Model']!='Z4M']\n",
    "df_ue = df_ue[df_ue['Model']!='']\n"
   ]
  },
  {
   "cell_type": "code",
   "execution_count": 42,
   "metadata": {},
   "outputs": [],
   "source": [
    "df_ue=df_ue[df_ue['Model'].isin(unique_values_model)]"
   ]
  },
  {
   "cell_type": "code",
   "execution_count": 43,
   "metadata": {},
   "outputs": [
    {
     "name": "stdout",
     "output_type": "stream",
     "text": [
      "['Serie1' 'Serie2' 'Serie3' 'Serie4' 'Serie5' 'Serie6' 'Serie7' 'X1' 'X2'\n",
      " 'X3' 'X4' 'X5' 'X6' 'Z4' 'i3']\n"
     ]
    }
   ],
   "source": [
    "# models\n",
    "unique_values = df_ue['Model'].unique()\n",
    "unique_values = np.sort(unique_values)\n",
    "print(unique_values)"
   ]
  },
  {
   "cell_type": "markdown",
   "metadata": {},
   "source": [
    "#### Brand"
   ]
  },
  {
   "cell_type": "code",
   "execution_count": 44,
   "metadata": {},
   "outputs": [
    {
     "name": "stdout",
     "output_type": "stream",
     "text": [
      "['BMW']\n"
     ]
    }
   ],
   "source": [
    "#BMW check\n",
    "unique_values = df_ue['Brand'].unique()\n",
    "print(unique_values)"
   ]
  },
  {
   "cell_type": "code",
   "execution_count": 45,
   "metadata": {},
   "outputs": [
    {
     "data": {
      "text/plain": [
       "(1029, 8)"
      ]
     },
     "execution_count": 45,
     "metadata": {},
     "output_type": "execute_result"
    }
   ],
   "source": [
    "df_ue.shape"
   ]
  },
  {
   "cell_type": "markdown",
   "metadata": {},
   "source": [
    "#### Years"
   ]
  },
  {
   "cell_type": "code",
   "execution_count": 46,
   "metadata": {},
   "outputs": [],
   "source": [
    "#Years\n",
    "df_ue = df_ue[df_ue[' year']!='-/- (Año)']"
   ]
  },
  {
   "cell_type": "code",
   "execution_count": 47,
   "metadata": {},
   "outputs": [],
   "source": [
    "df_ue['Year'] = '20'+df_ue[' year'].str[-2:]\n",
    "df_ue['Year']=df_ue['Year'].apply(pd.to_numeric)\n",
    "df_ue = df_ue.drop(columns=[' year'])"
   ]
  },
  {
   "cell_type": "code",
   "execution_count": 48,
   "metadata": {},
   "outputs": [
    {
     "name": "stdout",
     "output_type": "stream",
     "text": [
      "[2012 2011 2010 2013 2015 2014 2017 2016 2018 2019 2020]\n"
     ]
    }
   ],
   "source": [
    "#Year check\n",
    "unique_values = df_ue['Year'].unique()\n",
    "print(unique_values)"
   ]
  },
  {
   "cell_type": "markdown",
   "metadata": {},
   "source": [
    "#### Km"
   ]
  },
  {
   "cell_type": "code",
   "execution_count": 49,
   "metadata": {},
   "outputs": [],
   "source": [
    "#KM check\n",
    "df_ue = df_ue[df_ue['Km']!='-']\n",
    "df_ue = df_ue[df_ue['Km']!='#¿NOMBRE?']\n",
    "df_ue['Km']=df_ue['Km'].apply(pd.to_numeric)\n",
    "df_ue = df_ue[df_ue['Km']<400000]\n",
    "df_ue = df_ue[df_ue['Km']>5000]"
   ]
  },
  {
   "cell_type": "code",
   "execution_count": 50,
   "metadata": {},
   "outputs": [
    {
     "data": {
      "text/plain": [
       "(1026, 8)"
      ]
     },
     "execution_count": 50,
     "metadata": {},
     "output_type": "execute_result"
    }
   ],
   "source": [
    "df_ue.shape"
   ]
  },
  {
   "cell_type": "markdown",
   "metadata": {},
   "source": [
    "#### Power"
   ]
  },
  {
   "cell_type": "code",
   "execution_count": 51,
   "metadata": {},
   "outputs": [
    {
     "data": {
      "text/plain": [
       "(1022, 8)"
      ]
     },
     "execution_count": 51,
     "metadata": {},
     "output_type": "execute_result"
    }
   ],
   "source": [
    "df_ue = df_ue[df_ue['Power']!='1']\n",
    "df_ue = df_ue[df_ue['Power']!='-']\n",
    "df_ue['Power'] = df_ue['Power'].apply(pd.to_numeric)\n",
    "df_ue.shape"
   ]
  },
  {
   "cell_type": "markdown",
   "metadata": {},
   "source": [
    "#### Fuel"
   ]
  },
  {
   "cell_type": "code",
   "execution_count": 52,
   "metadata": {},
   "outputs": [
    {
     "name": "stdout",
     "output_type": "stream",
     "text": [
      "['Diesel' 'Gasolina' 'Electro/Gasolina' 'Electrico' '-/- (Combustible)'\n",
      " 'Otros']\n"
     ]
    }
   ],
   "source": [
    "df_ue['Fuel_type'] = df_ue['Fuel_type'].replace(['Diésel'],'Diesel')\n",
    "df_ue['Fuel_type'] = df_ue['Fuel_type'].replace(['Electro/Diésel'],'Electro/Diesel')\n",
    "df_ue['Fuel_type'] = df_ue['Fuel_type'].replace(['Eléctrico'],'Electrico')\n",
    "unique_values = df_ue['Fuel_type'].unique()\n",
    "print(unique_values)"
   ]
  },
  {
   "cell_type": "code",
   "execution_count": 53,
   "metadata": {},
   "outputs": [],
   "source": [
    "df_ue = df_ue[df_ue['Fuel_type']!='-/- (Combustible)']\n",
    "df_ue = df_ue[df_ue['Fuel_type']!='Otros']\n",
    "df_ue = df_ue[df_ue['Fuel_type']!='Gas natural (CNG)']"
   ]
  },
  {
   "cell_type": "code",
   "execution_count": 54,
   "metadata": {},
   "outputs": [
    {
     "name": "stdout",
     "output_type": "stream",
     "text": [
      "['Diesel' 'Gasolina' 'Electro/Gasolina' 'Electrico']\n"
     ]
    }
   ],
   "source": [
    "unique_values = df_ue['Fuel_type'].unique()\n",
    "print(unique_values)"
   ]
  },
  {
   "cell_type": "markdown",
   "metadata": {},
   "source": [
    "#### Price"
   ]
  },
  {
   "cell_type": "code",
   "execution_count": 55,
   "metadata": {},
   "outputs": [],
   "source": [
    "# price\n",
    "df_ue['Price'] = df_ue['Price'].apply(pd.to_numeric)\n",
    "#Droping extremly high prices\n",
    "df_ue = df_ue[df_ue['Price']<70000]"
   ]
  },
  {
   "cell_type": "code",
   "execution_count": 56,
   "metadata": {},
   "outputs": [],
   "source": [
    "df_ue=df_ue.reset_index(drop=True)"
   ]
  },
  {
   "cell_type": "markdown",
   "metadata": {},
   "source": [
    "-------------------------------------------------------------------------------------------------------------------------------"
   ]
  },
  {
   "cell_type": "code",
   "execution_count": 57,
   "metadata": {},
   "outputs": [],
   "source": [
    "df_ue=df_ue[['Brand', 'Model','Year','Km','Power','Fuel_type', 'Price']]\n",
    "df_ue=df_ue.reset_index(drop=True)"
   ]
  },
  {
   "cell_type": "code",
   "execution_count": 58,
   "metadata": {},
   "outputs": [],
   "source": [
    "BMW_ue = df_ue[['Brand', 'Model','Year','Km','Power','Fuel_type', 'Price']]"
   ]
  },
  {
   "cell_type": "code",
   "execution_count": 59,
   "metadata": {},
   "outputs": [
    {
     "data": {
      "text/plain": [
       "15"
      ]
     },
     "execution_count": 59,
     "metadata": {},
     "output_type": "execute_result"
    }
   ],
   "source": [
    "BMW_ue['Model'].nunique()"
   ]
  },
  {
   "cell_type": "code",
   "execution_count": 60,
   "metadata": {},
   "outputs": [
    {
     "data": {
      "text/plain": [
       "(1018, 7)"
      ]
     },
     "execution_count": 60,
     "metadata": {},
     "output_type": "execute_result"
    }
   ],
   "source": [
    "BMW_ue.shape"
   ]
  },
  {
   "cell_type": "code",
   "execution_count": 61,
   "metadata": {},
   "outputs": [],
   "source": [
    "df_ue.to_csv ('BMW_ue.csv', index = False, header=True)"
   ]
  },
  {
   "cell_type": "markdown",
   "metadata": {},
   "source": [
    "-------------------------------------------------------------------------------------------------------------------------------"
   ]
  }
 ],
 "metadata": {
  "kernelspec": {
   "display_name": "Python 3",
   "language": "python",
   "name": "python3"
  },
  "language_info": {
   "codemirror_mode": {
    "name": "ipython",
    "version": 3
   },
   "file_extension": ".py",
   "mimetype": "text/x-python",
   "name": "python",
   "nbconvert_exporter": "python",
   "pygments_lexer": "ipython3",
   "version": "3.7.6"
  }
 },
 "nbformat": 4,
 "nbformat_minor": 4
}
