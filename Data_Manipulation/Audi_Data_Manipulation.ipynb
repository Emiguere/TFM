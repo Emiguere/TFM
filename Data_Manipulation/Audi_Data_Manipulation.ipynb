{
 "cells": [
  {
   "cell_type": "markdown",
   "metadata": {},
   "source": [
    "# <div align=\"center\"> Data Manipulation"
   ]
  },
  {
   "cell_type": "markdown",
   "metadata": {},
   "source": [
    "##### Imports"
   ]
  },
  {
   "cell_type": "code",
   "execution_count": 1,
   "metadata": {},
   "outputs": [],
   "source": [
    "import pandas as pd"
   ]
  },
  {
   "cell_type": "code",
   "execution_count": 2,
   "metadata": {},
   "outputs": [],
   "source": [
    "pd.set_option('display.max_rows',10000)"
   ]
  },
  {
   "cell_type": "markdown",
   "metadata": {},
   "source": [
    "##### Reading csv's"
   ]
  },
  {
   "cell_type": "code",
   "execution_count": 3,
   "metadata": {},
   "outputs": [],
   "source": [
    "df_10 = pd.read_csv('../Raw_Data/audi_2010.csv',sep=';',encoding='latin-1')\n",
    "df_11 = pd.read_csv('../Raw_Data/audi_2011.csv',sep=';',encoding='latin-1')\n",
    "df_12 = pd.read_csv('../Raw_Data/audi_2012.csv',sep=';',encoding='latin-1')\n",
    "df_13 = pd.read_csv('../Raw_Data/audi_2013.csv',sep=';',encoding='latin-1')\n",
    "df_14_r = pd.read_csv('../Raw_Data/audi_2014_r.csv',sep=';',encoding='latin-1')\n",
    "df_14_d = pd.read_csv('../Raw_Data/audi_2014_d.csv',sep=';',encoding='latin-1')\n",
    "df_15_r = pd.read_csv('../Raw_Data/audi_2015_r.csv',sep=';',encoding='latin-1')\n",
    "df_15_d = pd.read_csv('../Raw_Data/audi_2015_d.csv',sep=';',encoding='latin-1')\n",
    "df_16_r = pd.read_csv('../Raw_Data/audi_2016_r.csv',sep=';',encoding='latin-1')\n",
    "df_16_d = pd.read_csv('../Raw_Data/audi_2016_d.csv',sep=';',encoding='latin-1')\n",
    "df_17_r = pd.read_csv('../Raw_Data/audi_2017_r.csv',sep=';',encoding='latin-1')\n",
    "df_17_d = pd.read_csv('../Raw_Data/audi_2017_d.csv',sep=';',encoding='latin-1')\n",
    "df_18_r = pd.read_csv('../Raw_Data/audi_2018_r.csv',sep=';',encoding='latin-1')\n",
    "df_18_d = pd.read_csv('../Raw_Data/audi_2018_d.csv',sep=';',encoding='latin-1')\n",
    "df_19_r = pd.read_csv('../Raw_Data/audi_2019_r.csv',sep=';',encoding='latin-1')\n",
    "df_19_d = pd.read_csv('../Raw_Data/audi_2019_d.csv',sep=';',encoding='latin-1')\n",
    "df_20 = pd.read_csv('../Raw_Data/audi_2020.csv',sep=';',encoding='latin-1')"
   ]
  },
  {
   "cell_type": "code",
   "execution_count": 4,
   "metadata": {
    "scrolled": true
   },
   "outputs": [],
   "source": [
    "df = pd.concat([df_10,df_11,df_12,df_13,df_14_d,df_14_r,df_15_d,df_15_r,df_16_d,df_16_r,df_17_d,df_17_r,df_18_r,df_18_d,df_19_r,df_19_d,df_20],axis = 0)\n",
    "df=df.reset_index()"
   ]
  },
  {
   "cell_type": "markdown",
   "metadata": {},
   "source": [
    "##### Creating new features"
   ]
  },
  {
   "cell_type": "code",
   "execution_count": 5,
   "metadata": {},
   "outputs": [],
   "source": [
    "df['Brand']= df['vehicle'].str.split().str[0]\n",
    "df['Model']=df['vehicle'].str.split().str[1:].str.join(sep=',').str.replace(',',' ')\n",
    "df['Km'] = df['  km'].str.split().str[0].str.replace('.','')\n",
    "df['Power'] = df[' power'].str.split().str[2].str[1:]\n",
    "df['Price'] = df['price '].str.split().str[1].str.replace(',','').str.replace('.','')"
   ]
  },
  {
   "cell_type": "code",
   "execution_count": 6,
   "metadata": {},
   "outputs": [
    {
     "data": {
      "text/plain": [
       "Index(['index', 'vehicle', '  km', ' year', ' power', ' transmision',\n",
       "       ' fuel_type', ' consume', ' country', 'emisions', 'price ', 'Brand',\n",
       "       'Model', 'Km', 'Power', 'Price'],\n",
       "      dtype='object')"
      ]
     },
     "execution_count": 6,
     "metadata": {},
     "output_type": "execute_result"
    }
   ],
   "source": [
    "df.columns"
   ]
  },
  {
   "cell_type": "markdown",
   "metadata": {},
   "source": [
    "#### Removing unnecessary columns"
   ]
  },
  {
   "cell_type": "code",
   "execution_count": 7,
   "metadata": {},
   "outputs": [],
   "source": [
    "df['Transmision']=df[' transmision']\n",
    "df['Fuel_type']=df[' fuel_type']\n",
    "df = df.drop(columns=[' consume',' country',' transmision','emisions',' fuel_type','price ',' power','  km','vehicle'])\n",
    "df= df[['Brand', 'Model',' year','Km','Power','Transmision', 'Fuel_type', 'Price']]"
   ]
  },
  {
   "cell_type": "markdown",
   "metadata": {},
   "source": [
    "##### Filtering the dataframe"
   ]
  },
  {
   "cell_type": "code",
   "execution_count": 8,
   "metadata": {},
   "outputs": [
    {
     "data": {
      "text/plain": [
       "(5382, 8)"
      ]
     },
     "execution_count": 8,
     "metadata": {},
     "output_type": "execute_result"
    }
   ],
   "source": [
    "df.shape"
   ]
  },
  {
   "cell_type": "code",
   "execution_count": 9,
   "metadata": {},
   "outputs": [
    {
     "data": {
      "text/plain": [
       "(4615, 8)"
      ]
     },
     "execution_count": 9,
     "metadata": {},
     "output_type": "execute_result"
    }
   ],
   "source": [
    "#droping duplicates\n",
    "df = df.drop_duplicates(keep='first')\n",
    "df = df.dropna()\n",
    "df.shape"
   ]
  },
  {
   "cell_type": "markdown",
   "metadata": {},
   "source": [
    "#### Models"
   ]
  },
  {
   "cell_type": "code",
   "execution_count": 10,
   "metadata": {
    "scrolled": true
   },
   "outputs": [
    {
     "name": "stdout",
     "output_type": "stream",
     "text": [
      "['A4' 'Q7' 'A6' 'A3' 'S5' 'R8' 'A5' 'Q5' 'A4allroad' 'TT' 'S3' 'A1' 'RS6'\n",
      " 'S4' 'A8' 'RS5' 'TTS' 'A7' 'RS3' 'Q3' 'RS4' 'A6allroad' 'SQ7' 'S7' 'SQ5'\n",
      " 'Coupe' 'S8' '100' 'RSQ3' 'RS7' 'S1' 'S6' 'Q2' 'QUATTRO' 'Q8' 'e-tron'\n",
      " 'SQ2' 'RSQ8' 'SQ8']\n"
     ]
    }
   ],
   "source": [
    "df['Model'] = df['Model'].str.replace(' ','')\n",
    "unique_values = df['Model'].unique()\n",
    "print(unique_values)"
   ]
  },
  {
   "cell_type": "code",
   "execution_count": 11,
   "metadata": {},
   "outputs": [],
   "source": [
    "#Removing wrong models or not interesting models\n",
    "df = df[df['Model']!='TTS']\n",
    "df = df[df['Model']!='Coupe']\n",
    "df = df[df['Model']!='100']\n",
    "df = df[df['Model']!='QUATTRO']\n",
    "df = df[df['Model']!='RS5']\n",
    "df = df[df['Model']!='R8']\n",
    "df = df[df['Model']!='RSQ8']\n",
    "df = df[df['Model']!='RS6']\n",
    "df = df[df['Model']!='RS5']\n",
    "df = df[df['Model']!='RS7']"
   ]
  },
  {
   "cell_type": "code",
   "execution_count": 12,
   "metadata": {},
   "outputs": [
    {
     "name": "stdout",
     "output_type": "stream",
     "text": [
      "['A4' 'Q7' 'A6' 'A3' 'S5' 'A5' 'Q5' 'A4allroad' 'TT' 'S3' 'A1' 'S4' 'A8'\n",
      " 'A7' 'RS3' 'Q3' 'RS4' 'A6allroad' 'SQ7' 'S7' 'SQ5' 'S8' 'RSQ3' 'S1' 'S6'\n",
      " 'Q2' 'Q8' 'e-tron' 'SQ2' 'SQ8']\n"
     ]
    }
   ],
   "source": [
    "#Audi models\n",
    "unique_values_model = df['Model'].unique()\n",
    "print(unique_values_model)"
   ]
  },
  {
   "cell_type": "markdown",
   "metadata": {},
   "source": [
    "#### Brand"
   ]
  },
  {
   "cell_type": "code",
   "execution_count": 13,
   "metadata": {},
   "outputs": [
    {
     "name": "stdout",
     "output_type": "stream",
     "text": [
      "['Audi']\n"
     ]
    }
   ],
   "source": [
    "unique_values = df['Brand'].unique()\n",
    "print(unique_values)"
   ]
  },
  {
   "cell_type": "code",
   "execution_count": 14,
   "metadata": {
    "scrolled": true
   },
   "outputs": [
    {
     "data": {
      "text/plain": [
       "(4445, 8)"
      ]
     },
     "execution_count": 14,
     "metadata": {},
     "output_type": "execute_result"
    }
   ],
   "source": [
    "df.shape"
   ]
  },
  {
   "cell_type": "markdown",
   "metadata": {},
   "source": [
    "#### Years"
   ]
  },
  {
   "cell_type": "code",
   "execution_count": 15,
   "metadata": {},
   "outputs": [],
   "source": [
    "#Years\n",
    "df = df[df[' year']!='-/- (Año)']"
   ]
  },
  {
   "cell_type": "code",
   "execution_count": 16,
   "metadata": {},
   "outputs": [],
   "source": [
    "df['Year'] = '20'+df[' year'].str[-2:]\n",
    "df['Year']=df['Year'].apply(pd.to_numeric)\n",
    "df = df.drop(columns=[' year'])"
   ]
  },
  {
   "cell_type": "code",
   "execution_count": 17,
   "metadata": {},
   "outputs": [
    {
     "name": "stdout",
     "output_type": "stream",
     "text": [
      "[2010 2011 2012 2013 2014 2015 2016 2017 2018 2019 2020]\n"
     ]
    }
   ],
   "source": [
    "#Year check\n",
    "unique_values = df['Year'].unique()\n",
    "print(unique_values)"
   ]
  },
  {
   "cell_type": "markdown",
   "metadata": {},
   "source": [
    "#### Km"
   ]
  },
  {
   "cell_type": "code",
   "execution_count": 18,
   "metadata": {},
   "outputs": [],
   "source": [
    "#KM check\n",
    "df = df[df['Km']!='-']\n",
    "df = df[df['Km']!='#¿NOMBRE?']\n",
    "df['Km']=df['Km'].apply(pd.to_numeric)\n",
    "df = df[df['Km']<400000]\n",
    "df = df[df['Km']>5000]"
   ]
  },
  {
   "cell_type": "code",
   "execution_count": 19,
   "metadata": {},
   "outputs": [
    {
     "data": {
      "text/plain": [
       "(4091, 8)"
      ]
     },
     "execution_count": 19,
     "metadata": {},
     "output_type": "execute_result"
    }
   ],
   "source": [
    "df.shape"
   ]
  },
  {
   "cell_type": "markdown",
   "metadata": {},
   "source": [
    "#### Power"
   ]
  },
  {
   "cell_type": "code",
   "execution_count": 20,
   "metadata": {},
   "outputs": [
    {
     "name": "stdout",
     "output_type": "stream",
     "text": [
      "['160' '500' '170' '105' '239' '333' '140' '190' '143' '136' '354' '179'\n",
      " '241' '290' '265' '211' '120' '237' '125' '271' '349' '450' '250' '280'\n",
      " '272' '373' '200' '340' '245' '299' '122' '204' '163' '177' '86' '300'\n",
      " '102' '326' '220' '150' '90' '169' '385' '185' '310' '360' '313' '420'\n",
      " '351' '184' '224' '258' '519' '389' '110' '314' '151' '320' '231' '218'\n",
      " '116' '148' '262' '95' '367' '435' '230' '192' '252' '560' '215' '605'\n",
      " '124' '286' '158' '400' '374' '201' '408' '571' '347']\n"
     ]
    }
   ],
   "source": [
    "#Audi power\n",
    "df = df[df['Power']!='1']\n",
    "df = df[df['Power']!='-']\n",
    "unique_values = df['Power'].unique()\n",
    "print(unique_values)"
   ]
  },
  {
   "cell_type": "code",
   "execution_count": 21,
   "metadata": {},
   "outputs": [
    {
     "data": {
      "text/plain": [
       "(4064, 8)"
      ]
     },
     "execution_count": 21,
     "metadata": {},
     "output_type": "execute_result"
    }
   ],
   "source": [
    "df.shape"
   ]
  },
  {
   "cell_type": "markdown",
   "metadata": {},
   "source": [
    "#### Fuel"
   ]
  },
  {
   "cell_type": "code",
   "execution_count": 22,
   "metadata": {},
   "outputs": [
    {
     "name": "stdout",
     "output_type": "stream",
     "text": [
      "['Gasolina' 'Diesel' 'Electro/Gasolina' 'Gas natural (CNG)'\n",
      " 'Electro/Diesel' 'Electrico']\n"
     ]
    }
   ],
   "source": [
    "df['Fuel_type'] = df['Fuel_type'].replace(['Diésel'],'Diesel')\n",
    "df['Fuel_type'] = df['Fuel_type'].replace(['Electro/Diésel'],'Electro/Diesel')\n",
    "df['Fuel_type'] = df['Fuel_type'].replace(['Eléctrico'],'Electrico')\n",
    "unique_values = df['Fuel_type'].unique()\n",
    "print(unique_values)"
   ]
  },
  {
   "cell_type": "code",
   "execution_count": 23,
   "metadata": {},
   "outputs": [],
   "source": [
    "df = df[df['Fuel_type']!='-/- (Combustible)']\n",
    "df = df[df['Fuel_type']!='Otros']\n",
    "df = df[df['Fuel_type']!='Gas natural (CNG)']"
   ]
  },
  {
   "cell_type": "code",
   "execution_count": 23,
   "metadata": {},
   "outputs": [
    {
     "name": "stdout",
     "output_type": "stream",
     "text": [
      "['Gasolina' 'Diesel' 'Electro/Gasolina' 'Gas natural (CNG)'\n",
      " 'Electro/Diesel' 'Electrico']\n"
     ]
    }
   ],
   "source": [
    "unique_values = df['Fuel_type'].unique()\n",
    "print(unique_values)"
   ]
  },
  {
   "cell_type": "markdown",
   "metadata": {},
   "source": [
    "#### Price"
   ]
  },
  {
   "cell_type": "code",
   "execution_count": 24,
   "metadata": {},
   "outputs": [],
   "source": [
    "#Audi price\n",
    "df['Price'] = df['Price'].apply(pd.to_numeric)"
   ]
  },
  {
   "cell_type": "code",
   "execution_count": 25,
   "metadata": {},
   "outputs": [],
   "source": [
    "#Droping extremly high prices\n",
    "df = df[df['Price']<90000]"
   ]
  },
  {
   "cell_type": "code",
   "execution_count": 26,
   "metadata": {},
   "outputs": [],
   "source": [
    "df=df[['Brand', 'Model','Year','Km','Power','Fuel_type', 'Price']]\n",
    "df=df.reset_index(drop=True)"
   ]
  },
  {
   "cell_type": "code",
   "execution_count": 27,
   "metadata": {},
   "outputs": [],
   "source": [
    "Audi_esp=df[['Brand', 'Model','Year','Km','Power','Fuel_type', 'Price']]"
   ]
  },
  {
   "cell_type": "code",
   "execution_count": 28,
   "metadata": {},
   "outputs": [
    {
     "data": {
      "text/plain": [
       "array(['A4', 'Q7', 'A6', 'A3', 'S5', 'A5', 'Q5', 'A4allroad', 'TT', 'S3',\n",
       "       'A1', 'S4', 'A8', 'A7', 'RS3', 'Q3', 'RS4', 'A6allroad', 'SQ7',\n",
       "       'S7', 'SQ5', 'S8', 'RSQ3', 'S1', 'S6', 'Q2', 'Q8', 'SQ2', 'e-tron'],\n",
       "      dtype=object)"
      ]
     },
     "execution_count": 28,
     "metadata": {},
     "output_type": "execute_result"
    }
   ],
   "source": [
    "Audi_esp['Model'].unique()"
   ]
  },
  {
   "cell_type": "code",
   "execution_count": 29,
   "metadata": {
    "scrolled": true
   },
   "outputs": [
    {
     "data": {
      "text/plain": [
       "(4048, 7)"
      ]
     },
     "execution_count": 29,
     "metadata": {},
     "output_type": "execute_result"
    }
   ],
   "source": [
    "Audi_esp.shape"
   ]
  },
  {
   "cell_type": "code",
   "execution_count": 30,
   "metadata": {},
   "outputs": [],
   "source": [
    "df.to_csv ('audi_esp.csv', index = False, header=True)"
   ]
  },
  {
   "cell_type": "markdown",
   "metadata": {},
   "source": [
    "-------------------------------------------------------------------------------------------------------------------------------"
   ]
  },
  {
   "cell_type": "markdown",
   "metadata": {},
   "source": [
    "# <div align=\"center\"> Data Manipulation UE"
   ]
  },
  {
   "cell_type": "markdown",
   "metadata": {},
   "source": [
    "##### Reading csv's"
   ]
  },
  {
   "cell_type": "code",
   "execution_count": 31,
   "metadata": {},
   "outputs": [],
   "source": [
    "df_10_12 = pd.read_csv('../Raw_Data/audi_EU_2010_2012.csv',sep=';',encoding='latin-1')\n",
    "df_13_15 = pd.read_csv('../Raw_Data/audi_EU_2013_2015.csv',sep=';',encoding='latin-1')\n",
    "df_16_18 = pd.read_csv('../Raw_Data/audi_EU_2016_2018.csv',sep=';',encoding='latin-1')\n",
    "df_19_20 = pd.read_csv('../Raw_Data/audi_EU_2019_2020.csv',sep=';',encoding='latin-1')"
   ]
  },
  {
   "cell_type": "code",
   "execution_count": 32,
   "metadata": {
    "scrolled": true
   },
   "outputs": [],
   "source": [
    "df_ue = pd.concat([df_10_12,df_13_15,df_16_18,df_19_20],axis = 0)\n",
    "df_ue=df_ue.reset_index()"
   ]
  },
  {
   "cell_type": "markdown",
   "metadata": {},
   "source": [
    "##### Creating new features"
   ]
  },
  {
   "cell_type": "code",
   "execution_count": 33,
   "metadata": {},
   "outputs": [],
   "source": [
    "df_ue['Brand']= df_ue['vehicle'].str.split().str[0]\n",
    "df_ue['Model']=df_ue['vehicle'].str.split().str[1:].str.join(sep=',').str.replace(',',' ')\n",
    "df_ue['Km'] = df_ue['  km'].str.split().str[0].str.replace('.','')\n",
    "df_ue['Power'] = df_ue[' power'].str.split().str[2].str[1:]\n",
    "df_ue['Price'] = df_ue['price '].str.split().str[1].str.replace(',','').str.replace('.','')"
   ]
  },
  {
   "cell_type": "code",
   "execution_count": 34,
   "metadata": {},
   "outputs": [
    {
     "data": {
      "text/plain": [
       "Index(['index', 'vehicle', '  km', ' year', ' power', ' transmision',\n",
       "       ' fuel_type', ' consume', ' country', 'emisions', 'price ',\n",
       "       'Unnamed: 10', 'Brand', 'Model', 'Km', 'Power', 'Price'],\n",
       "      dtype='object')"
      ]
     },
     "execution_count": 34,
     "metadata": {},
     "output_type": "execute_result"
    }
   ],
   "source": [
    "df_ue.columns"
   ]
  },
  {
   "cell_type": "markdown",
   "metadata": {},
   "source": [
    "#### Removing unnecessary columns"
   ]
  },
  {
   "cell_type": "code",
   "execution_count": 35,
   "metadata": {},
   "outputs": [],
   "source": [
    "df_ue['Transmision']=df_ue[' transmision']\n",
    "df_ue['Fuel_type']=df_ue[' fuel_type']\n",
    "df_ue = df_ue[df_ue[' country']!='ES']\n",
    "df_ue = df_ue.drop(columns=[' consume',' country',' transmision','emisions',' fuel_type','price ',' power','  km','vehicle'])\n",
    "df_ue= df_ue[['Brand', 'Model',' year','Km','Power','Transmision', 'Fuel_type', 'Price']]"
   ]
  },
  {
   "cell_type": "markdown",
   "metadata": {},
   "source": [
    "##### Filtering the dataframe"
   ]
  },
  {
   "cell_type": "code",
   "execution_count": 36,
   "metadata": {},
   "outputs": [
    {
     "data": {
      "text/plain": [
       "(1543, 8)"
      ]
     },
     "execution_count": 36,
     "metadata": {},
     "output_type": "execute_result"
    }
   ],
   "source": [
    "df_ue.shape"
   ]
  },
  {
   "cell_type": "code",
   "execution_count": 37,
   "metadata": {},
   "outputs": [
    {
     "data": {
      "text/plain": [
       "(1144, 8)"
      ]
     },
     "execution_count": 37,
     "metadata": {},
     "output_type": "execute_result"
    }
   ],
   "source": [
    "#droping duplicates\n",
    "df_ue = df_ue.drop_duplicates(keep='first')\n",
    "df_ue = df_ue.dropna()\n",
    "df_ue.shape"
   ]
  },
  {
   "cell_type": "markdown",
   "metadata": {},
   "source": [
    "#### Models"
   ]
  },
  {
   "cell_type": "code",
   "execution_count": 38,
   "metadata": {
    "scrolled": true
   },
   "outputs": [
    {
     "name": "stdout",
     "output_type": "stream",
     "text": [
      "['A4' 'Q7' 'A6' 'A3' 'S5' 'A5' 'Q5' 'A4allroad' 'TT' 'S3' 'A1' 'S4' 'A8'\n",
      " 'A7' 'RS3' 'Q3' 'RS4' 'A6allroad' 'SQ7' 'S7' 'SQ5' 'S8' 'RSQ3' 'S1' 'S6'\n",
      " 'Q2' 'Q8' 'SQ2' 'e-tron']\n"
     ]
    }
   ],
   "source": [
    "df_ue['Model'] = df_ue['Model'].str.replace(' ','')\n",
    "unique_values = df['Model'].unique()\n",
    "print(unique_values)"
   ]
  },
  {
   "cell_type": "code",
   "execution_count": 39,
   "metadata": {},
   "outputs": [],
   "source": [
    "#Removing wrong models or not interesting models\n",
    "df_ue = df_ue[df_ue['Model']!='TTS']\n",
    "df_ue = df_ue[df_ue['Model']!='Coupe']\n",
    "df_ue = df_ue[df_ue['Model']!='100']\n",
    "df_ue = df_ue[df_ue['Model']!='QUATTRO']\n",
    "df_ue = df_ue[df_ue['Model']!='RS5']\n",
    "df_ue = df_ue[df_ue['Model']!='R8']\n",
    "df_ue = df_ue[df_ue['Model']!='RSQ8']\n",
    "df_ue = df_ue[df_ue['Model']!='RS6']\n",
    "df_ue = df_ue[df_ue['Model']!='RS5']\n",
    "df_ue = df_ue[df_ue['Model']!='RS7']"
   ]
  },
  {
   "cell_type": "code",
   "execution_count": 40,
   "metadata": {},
   "outputs": [],
   "source": [
    "df_ue=df_ue[df_ue['Model'].isin(unique_values_model)]"
   ]
  },
  {
   "cell_type": "code",
   "execution_count": 41,
   "metadata": {},
   "outputs": [
    {
     "name": "stdout",
     "output_type": "stream",
     "text": [
      "29\n"
     ]
    }
   ],
   "source": [
    "#Audi models\n",
    "unique_values = df_ue['Model'].nunique()\n",
    "print(unique_values)"
   ]
  },
  {
   "cell_type": "markdown",
   "metadata": {},
   "source": [
    "#### Brand"
   ]
  },
  {
   "cell_type": "code",
   "execution_count": 42,
   "metadata": {},
   "outputs": [
    {
     "name": "stdout",
     "output_type": "stream",
     "text": [
      "['Audi']\n"
     ]
    }
   ],
   "source": [
    "df_ue = df_ue[df_ue['Brand']!='Unknown']\n",
    "unique_values = df_ue['Brand'].unique()\n",
    "print(unique_values)"
   ]
  },
  {
   "cell_type": "code",
   "execution_count": 43,
   "metadata": {
    "scrolled": true
   },
   "outputs": [
    {
     "data": {
      "text/plain": [
       "(1099, 8)"
      ]
     },
     "execution_count": 43,
     "metadata": {},
     "output_type": "execute_result"
    }
   ],
   "source": [
    "df_ue.shape"
   ]
  },
  {
   "cell_type": "markdown",
   "metadata": {},
   "source": [
    "#### Years"
   ]
  },
  {
   "cell_type": "code",
   "execution_count": 44,
   "metadata": {},
   "outputs": [],
   "source": [
    "#Years\n",
    "df_ue = df_ue[df_ue[' year']!='-/- (Año)']"
   ]
  },
  {
   "cell_type": "code",
   "execution_count": 45,
   "metadata": {},
   "outputs": [],
   "source": [
    "df_ue['Year'] = '20'+df_ue[' year'].str[-2:]\n",
    "df_ue['Year']=df_ue['Year'].apply(pd.to_numeric)\n",
    "df_ue = df_ue.drop(columns=[' year'])"
   ]
  },
  {
   "cell_type": "code",
   "execution_count": 46,
   "metadata": {},
   "outputs": [
    {
     "name": "stdout",
     "output_type": "stream",
     "text": [
      "[2012 2010 2011 2013 2015 2014 2018 2017 2016 2019 2020]\n"
     ]
    }
   ],
   "source": [
    "#Year check\n",
    "unique_values = df_ue['Year'].unique()\n",
    "print(unique_values)"
   ]
  },
  {
   "cell_type": "markdown",
   "metadata": {},
   "source": [
    "#### Km"
   ]
  },
  {
   "cell_type": "code",
   "execution_count": 47,
   "metadata": {},
   "outputs": [],
   "source": [
    "#KM check\n",
    "df_ue = df_ue[df_ue['Km']!='-']\n",
    "df_ue = df_ue[df_ue['Km']!='#¿NOMBRE?']\n",
    "df_ue['Km']=df_ue['Km'].apply(pd.to_numeric)\n",
    "df_ue = df_ue[df_ue['Km']<400000]\n",
    "df_ue = df_ue[df_ue['Km']>5000]"
   ]
  },
  {
   "cell_type": "code",
   "execution_count": 48,
   "metadata": {},
   "outputs": [
    {
     "data": {
      "text/plain": [
       "(1078, 8)"
      ]
     },
     "execution_count": 48,
     "metadata": {},
     "output_type": "execute_result"
    }
   ],
   "source": [
    "df_ue.shape"
   ]
  },
  {
   "cell_type": "markdown",
   "metadata": {},
   "source": [
    "#### Power"
   ]
  },
  {
   "cell_type": "code",
   "execution_count": 49,
   "metadata": {},
   "outputs": [
    {
     "name": "stdout",
     "output_type": "stream",
     "text": [
      "['122' '211' '143' '185' '150' '333' '86' '125' '140' '170' '105' '239'\n",
      " '136' '90' '163' '245' '250' '190' '340' '271' '120' '450' '177' '160'\n",
      " '179' '204' '265' '300' '299' '290' '420' '313' '354' '241' '102' '141'\n",
      " '560' '272' '144' '116' '95' '184' '224' '218' '230' '326' '110' '152'\n",
      " '320' '367' '314' '390' '276' '8' '385' '310' '131' '286' '605' '258'\n",
      " '231' '435' '252' '200' '97' '111' '262' '151' '519' '500' '334' '400'\n",
      " '349' '360']\n"
     ]
    }
   ],
   "source": [
    "#Audi power\n",
    "df_ue = df_ue[df_ue['Power']!='1']\n",
    "df_ue = df_ue[df_ue['Power']!='-']\n",
    "unique_values = df_ue['Power'].unique()\n",
    "print(unique_values)"
   ]
  },
  {
   "cell_type": "code",
   "execution_count": 50,
   "metadata": {},
   "outputs": [
    {
     "data": {
      "text/plain": [
       "(1073, 8)"
      ]
     },
     "execution_count": 50,
     "metadata": {},
     "output_type": "execute_result"
    }
   ],
   "source": [
    "df_ue.shape"
   ]
  },
  {
   "cell_type": "markdown",
   "metadata": {},
   "source": [
    "#### Fuel"
   ]
  },
  {
   "cell_type": "code",
   "execution_count": 51,
   "metadata": {},
   "outputs": [
    {
     "name": "stdout",
     "output_type": "stream",
     "text": [
      "['Gasolina' 'Diesel' '-/- (Combustible)' 'Electro/Gasolina'\n",
      " 'Gas natural (CNG)' 'Otros' 'Electro/Diesel' 'Electrico']\n"
     ]
    }
   ],
   "source": [
    "df_ue['Fuel_type'] = df_ue['Fuel_type'].replace(['Diésel'],'Diesel')\n",
    "df_ue['Fuel_type'] = df_ue['Fuel_type'].replace(['Electro/Diésel'],'Electro/Diesel')\n",
    "df_ue['Fuel_type'] = df_ue['Fuel_type'].replace(['Eléctrico'],'Electrico')\n",
    "unique_values = df_ue['Fuel_type'].unique()\n",
    "print(unique_values)"
   ]
  },
  {
   "cell_type": "code",
   "execution_count": 52,
   "metadata": {},
   "outputs": [],
   "source": [
    "df_ue = df_ue[df_ue['Fuel_type']!='-/- (Combustible)']\n",
    "df_ue = df_ue[df_ue['Fuel_type']!='Otros']\n",
    "df_ue = df_ue[df_ue['Fuel_type']!='Gas natural (CNG)']"
   ]
  },
  {
   "cell_type": "code",
   "execution_count": 53,
   "metadata": {},
   "outputs": [
    {
     "name": "stdout",
     "output_type": "stream",
     "text": [
      "['Gasolina' 'Diesel' 'Electro/Gasolina' 'Electro/Diesel' 'Electrico']\n"
     ]
    }
   ],
   "source": [
    "unique_values = df_ue['Fuel_type'].unique()\n",
    "print(unique_values)"
   ]
  },
  {
   "cell_type": "markdown",
   "metadata": {},
   "source": [
    "#### Price"
   ]
  },
  {
   "cell_type": "code",
   "execution_count": 54,
   "metadata": {},
   "outputs": [],
   "source": [
    "#Audi price\n",
    "df_ue['Price'] = df_ue['Price'].apply(pd.to_numeric)"
   ]
  },
  {
   "cell_type": "code",
   "execution_count": 55,
   "metadata": {},
   "outputs": [],
   "source": [
    "#Droping extremly high prices\n",
    "df_ue = df_ue[df_ue['Price']<70000]"
   ]
  },
  {
   "cell_type": "code",
   "execution_count": 56,
   "metadata": {},
   "outputs": [],
   "source": [
    "df_ue=df_ue[['Brand', 'Model','Year','Km','Power','Fuel_type', 'Price']]\n",
    "df_ue=df_ue.reset_index(drop=True)"
   ]
  },
  {
   "cell_type": "code",
   "execution_count": 57,
   "metadata": {},
   "outputs": [],
   "source": [
    "Audi_ue=df_ue[['Brand', 'Model','Year','Km','Power','Fuel_type', 'Price']]"
   ]
  },
  {
   "cell_type": "code",
   "execution_count": 58,
   "metadata": {},
   "outputs": [
    {
     "data": {
      "text/plain": [
       "26"
      ]
     },
     "execution_count": 58,
     "metadata": {},
     "output_type": "execute_result"
    }
   ],
   "source": [
    "Audi_ue['Model'].nunique()"
   ]
  },
  {
   "cell_type": "code",
   "execution_count": 59,
   "metadata": {
    "scrolled": true
   },
   "outputs": [
    {
     "data": {
      "text/plain": [
       "(1057, 7)"
      ]
     },
     "execution_count": 59,
     "metadata": {},
     "output_type": "execute_result"
    }
   ],
   "source": [
    "Audi_ue.shape"
   ]
  },
  {
   "cell_type": "code",
   "execution_count": 60,
   "metadata": {},
   "outputs": [],
   "source": [
    "df_ue.to_csv ('audi_ue.csv', index = False, header=True)"
   ]
  },
  {
   "cell_type": "markdown",
   "metadata": {},
   "source": [
    "-------------------------------------------------------------------------------------------------------------------------------"
   ]
  }
 ],
 "metadata": {
  "kernelspec": {
   "display_name": "Python 3",
   "language": "python",
   "name": "python3"
  },
  "language_info": {
   "codemirror_mode": {
    "name": "ipython",
    "version": 3
   },
   "file_extension": ".py",
   "mimetype": "text/x-python",
   "name": "python",
   "nbconvert_exporter": "python",
   "pygments_lexer": "ipython3",
   "version": "3.7.6"
  }
 },
 "nbformat": 4,
 "nbformat_minor": 4
}
