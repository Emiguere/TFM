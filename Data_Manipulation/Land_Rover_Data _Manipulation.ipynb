{
 "cells": [
  {
   "cell_type": "markdown",
   "metadata": {},
   "source": [
    "# <div align=\"center\"> Data Manipulation"
   ]
  },
  {
   "cell_type": "markdown",
   "metadata": {},
   "source": [
    "##### Imports"
   ]
  },
  {
   "cell_type": "code",
   "execution_count": 1,
   "metadata": {},
   "outputs": [],
   "source": [
    "import pandas as pd\n",
    "pd.set_option('display.max_rows',3000)"
   ]
  },
  {
   "cell_type": "markdown",
   "metadata": {},
   "source": [
    "##### Reading csv's"
   ]
  },
  {
   "cell_type": "code",
   "execution_count": 2,
   "metadata": {},
   "outputs": [],
   "source": [
    "df_10_13 = pd.read_csv('../Raw_Data/land_rover_2010_2013.csv',sep=';',encoding='latin-1')\n",
    "df_14_15 = pd.read_csv('../Raw_Data/land_rover_2014_2015.csv',sep=';',encoding='latin-1')\n",
    "df_16 = pd.read_csv('../Raw_Data/land_rover_2016.csv',sep=';',encoding='latin-1')\n",
    "df_17 = pd.read_csv('../Raw_Data/land_rover_2017.csv',sep=';',encoding='latin-1')\n",
    "df_18_19 = pd.read_csv('../Raw_Data/land_rover_2018_2019.csv',sep=';',encoding='latin-1')\n",
    "df_20 = pd.read_csv('../Raw_Data/land_rover_2020.csv',sep=';',encoding='latin-1')"
   ]
  },
  {
   "cell_type": "code",
   "execution_count": 3,
   "metadata": {},
   "outputs": [],
   "source": [
    "df = pd.concat([df_10_13,df_14_15,df_16,df_17,df_18_19,df_20],axis = 0)\n",
    "df=df.reset_index(drop=True)"
   ]
  },
  {
   "cell_type": "markdown",
   "metadata": {},
   "source": [
    "##### Creating new features"
   ]
  },
  {
   "cell_type": "code",
   "execution_count": 4,
   "metadata": {},
   "outputs": [],
   "source": [
    "df['Brand']= df['vehicle'].str.split().str[0]+ ' '+df['vehicle'].str.split().str[1]\n",
    "df['Model']=df['vehicle'].str.split().str[2:].str.join(sep=',').str.replace(',',' ')\n",
    "df['Km'] = df['  km'].str.split().str[0].str.replace('.','')\n",
    "df['Power'] = df[' power'].str.split().str[2].str[1:]\n",
    "df['Price'] = df['price '].str.split().str[1].str.replace(',','').str.replace('.','')"
   ]
  },
  {
   "cell_type": "markdown",
   "metadata": {},
   "source": [
    "#### Removing unnecessary columns"
   ]
  },
  {
   "cell_type": "code",
   "execution_count": 5,
   "metadata": {},
   "outputs": [],
   "source": [
    "df['Transmision']=df[' transmision']\n",
    "df['Fuel_type']=df[' fuel_type']\n",
    "df = df.drop(columns=[' consume',' country',' transmision','emisions',' fuel_type','price ',' power','  km','vehicle'])\n",
    "df= df[['Brand', 'Model',' year','Km','Power','Transmision', 'Fuel_type', 'Price']]"
   ]
  },
  {
   "cell_type": "markdown",
   "metadata": {},
   "source": [
    "##### Filtering the dataframe"
   ]
  },
  {
   "cell_type": "code",
   "execution_count": 6,
   "metadata": {},
   "outputs": [
    {
     "data": {
      "text/plain": [
       "(1943, 8)"
      ]
     },
     "execution_count": 6,
     "metadata": {},
     "output_type": "execute_result"
    }
   ],
   "source": [
    "df.shape"
   ]
  },
  {
   "cell_type": "code",
   "execution_count": 7,
   "metadata": {},
   "outputs": [
    {
     "data": {
      "text/plain": [
       "(1633, 8)"
      ]
     },
     "execution_count": 7,
     "metadata": {},
     "output_type": "execute_result"
    }
   ],
   "source": [
    "#droping duplicates\n",
    "df = df.drop_duplicates(keep='first')\n",
    "df = df.dropna()\n",
    "df.shape"
   ]
  },
  {
   "cell_type": "markdown",
   "metadata": {},
   "source": [
    "#### Models"
   ]
  },
  {
   "cell_type": "code",
   "execution_count": 8,
   "metadata": {},
   "outputs": [
    {
     "name": "stdout",
     "output_type": "stream",
     "text": [
      "['Freelander' 'RangeRover' 'RangeRoverEvoque' 'RangeRoverSport'\n",
      " 'Discovery' 'Defender' 'DiscoverySport' 'Series' '' 'RangeRoverVelar']\n"
     ]
    }
   ],
   "source": [
    "df['Model'] = df['Model'].str.replace(' ','')\n",
    "unique_values_model = df['Model'].unique()\n",
    "print(unique_values_model)"
   ]
  },
  {
   "cell_type": "code",
   "execution_count": 9,
   "metadata": {},
   "outputs": [],
   "source": [
    "#Removing wrong models or not interesting models\n",
    "df = df[df['Model']!='']\n",
    "df = df[df['Model']!='Series']\n",
    "df = df[df['Model']!='Freelander']\n",
    "df = df[df['Model']!='Defender']"
   ]
  },
  {
   "cell_type": "code",
   "execution_count": 10,
   "metadata": {},
   "outputs": [
    {
     "name": "stdout",
     "output_type": "stream",
     "text": [
      "['RangeRover' 'RangeRoverEvoque' 'RangeRoverSport' 'Discovery'\n",
      " 'DiscoverySport' 'RangeRoverVelar']\n"
     ]
    }
   ],
   "source": [
    "#Land Rover models\n",
    "unique_values_model = df['Model'].unique()\n",
    "print(unique_values_model)"
   ]
  },
  {
   "cell_type": "markdown",
   "metadata": {},
   "source": [
    "#### Brand"
   ]
  },
  {
   "cell_type": "code",
   "execution_count": 11,
   "metadata": {},
   "outputs": [
    {
     "name": "stdout",
     "output_type": "stream",
     "text": [
      "['LandRover']\n"
     ]
    }
   ],
   "source": [
    "#Land Rover check\n",
    "df['Brand'] = df['Brand'].str.replace(' ','')\n",
    "unique_values = df['Brand'].unique()\n",
    "print(unique_values)"
   ]
  },
  {
   "cell_type": "markdown",
   "metadata": {},
   "source": [
    "#### Years"
   ]
  },
  {
   "cell_type": "code",
   "execution_count": 12,
   "metadata": {},
   "outputs": [],
   "source": [
    "df = df[df[' year']!='-/- (Año)']"
   ]
  },
  {
   "cell_type": "code",
   "execution_count": 13,
   "metadata": {},
   "outputs": [],
   "source": [
    "df['Year'] = '20'+df[' year'].str[-2:]\n",
    "df['Year']=df['Year'].apply(pd.to_numeric)\n",
    "df = df.drop(columns=[' year'])"
   ]
  },
  {
   "cell_type": "code",
   "execution_count": 14,
   "metadata": {},
   "outputs": [
    {
     "name": "stdout",
     "output_type": "stream",
     "text": [
      "[2013 2012 2011 2010 2015 2014 2016 2017 2019 2018 2020]\n"
     ]
    }
   ],
   "source": [
    "unique_values = df['Year'].unique()\n",
    "print(unique_values)"
   ]
  },
  {
   "cell_type": "markdown",
   "metadata": {},
   "source": [
    "#### Km"
   ]
  },
  {
   "cell_type": "code",
   "execution_count": 15,
   "metadata": {},
   "outputs": [],
   "source": [
    "#Land Rover check\n",
    "df = df[df['Km']!='-']\n",
    "df = df[df['Km']!='#¿NOMBRE?']\n",
    "df['Km']=df['Km'].apply(pd.to_numeric)\n",
    "df = df[df['Km']<400000]\n",
    "df = df[df['Km']>5000]"
   ]
  },
  {
   "cell_type": "code",
   "execution_count": 16,
   "metadata": {},
   "outputs": [
    {
     "data": {
      "text/plain": [
       "(1142, 8)"
      ]
     },
     "execution_count": 16,
     "metadata": {},
     "output_type": "execute_result"
    }
   ],
   "source": [
    "df.shape"
   ]
  },
  {
   "cell_type": "markdown",
   "metadata": {},
   "source": [
    "#### Power"
   ]
  },
  {
   "cell_type": "code",
   "execution_count": 17,
   "metadata": {},
   "outputs": [
    {
     "name": "stdout",
     "output_type": "stream",
     "text": [
      "['340' '190' '256' '150' '211' '510' '313' '245' '258' '239' '272' '1'\n",
      " '294' '241' '292' '-' '339' '224' '295' '306' '179' '551' '249' '110'\n",
      " '181' '300' '237' '148' '566' '575' '200' '275' '250' '381' '404' '252'\n",
      " '525' '177']\n"
     ]
    }
   ],
   "source": [
    "#Land Rover power\n",
    "unique_values = df['Power'].unique()\n",
    "print(unique_values)"
   ]
  },
  {
   "cell_type": "code",
   "execution_count": 18,
   "metadata": {},
   "outputs": [
    {
     "data": {
      "text/plain": [
       "(1137, 8)"
      ]
     },
     "execution_count": 18,
     "metadata": {},
     "output_type": "execute_result"
    }
   ],
   "source": [
    "df = df[df['Power']!='1']\n",
    "df = df[df['Power']!='-']\n",
    "df['Power'] = df['Power'].apply(pd.to_numeric)\n",
    "df.shape"
   ]
  },
  {
   "cell_type": "markdown",
   "metadata": {},
   "source": [
    "#### Fuel"
   ]
  },
  {
   "cell_type": "code",
   "execution_count": 19,
   "metadata": {},
   "outputs": [
    {
     "name": "stdout",
     "output_type": "stream",
     "text": [
      "['Diésel' 'Gasolina' '-/- (Combustible)' 'Electro/Gasolina' 'Eléctrico'\n",
      " 'Electro/Diésel']\n"
     ]
    }
   ],
   "source": [
    "#Land Rover power\n",
    "unique_values = df['Fuel_type'].unique()\n",
    "print(unique_values)"
   ]
  },
  {
   "cell_type": "code",
   "execution_count": 20,
   "metadata": {},
   "outputs": [],
   "source": [
    "df['Fuel_type'] = df['Fuel_type'].replace(['Diésel'],'Diesel')\n",
    "df = df[df['Fuel_type']!='-/- (Combustible)']\n",
    "df = df[df['Fuel_type']!='Eléctrico']\n",
    "df = df[df['Fuel_type']!='Electro/Gasolina']\n",
    "df = df[df['Fuel_type']!='Electro/Diésel']"
   ]
  },
  {
   "cell_type": "code",
   "execution_count": 21,
   "metadata": {},
   "outputs": [
    {
     "name": "stdout",
     "output_type": "stream",
     "text": [
      "['Diesel' 'Gasolina']\n"
     ]
    }
   ],
   "source": [
    "#Land Rover power\n",
    "unique_values = df['Fuel_type'].unique()\n",
    "print(unique_values)"
   ]
  },
  {
   "cell_type": "markdown",
   "metadata": {},
   "source": [
    "#### Price"
   ]
  },
  {
   "cell_type": "code",
   "execution_count": 22,
   "metadata": {},
   "outputs": [],
   "source": [
    "#Land Rover price\n",
    "df['Price'] = df['Price'].apply(pd.to_numeric)\n",
    "#Droping extremly high prices\n",
    "df = df[df['Price']<90000]"
   ]
  },
  {
   "cell_type": "code",
   "execution_count": 23,
   "metadata": {},
   "outputs": [],
   "source": [
    "df=df.reset_index(drop=True)"
   ]
  },
  {
   "cell_type": "code",
   "execution_count": 24,
   "metadata": {},
   "outputs": [],
   "source": [
    "df=df[['Brand', 'Model','Year','Km','Power','Fuel_type', 'Price']]"
   ]
  },
  {
   "cell_type": "code",
   "execution_count": 25,
   "metadata": {},
   "outputs": [],
   "source": [
    "land_rover_esp = df"
   ]
  },
  {
   "cell_type": "code",
   "execution_count": 26,
   "metadata": {},
   "outputs": [
    {
     "data": {
      "text/plain": [
       "6"
      ]
     },
     "execution_count": 26,
     "metadata": {},
     "output_type": "execute_result"
    }
   ],
   "source": [
    "land_rover_esp['Model'].nunique()"
   ]
  },
  {
   "cell_type": "code",
   "execution_count": 27,
   "metadata": {},
   "outputs": [
    {
     "data": {
      "text/plain": [
       "(1102, 7)"
      ]
     },
     "execution_count": 27,
     "metadata": {},
     "output_type": "execute_result"
    }
   ],
   "source": [
    "land_rover_esp.shape"
   ]
  },
  {
   "cell_type": "code",
   "execution_count": 28,
   "metadata": {},
   "outputs": [],
   "source": [
    "df.to_csv ('land_rover_esp.csv', index = False, header=True)"
   ]
  },
  {
   "cell_type": "markdown",
   "metadata": {},
   "source": [
    "-------------------------------------------------------------------------------------------------------------------------------"
   ]
  },
  {
   "cell_type": "markdown",
   "metadata": {},
   "source": [
    "# <div align=\"center\"> Data Manipulation UE"
   ]
  },
  {
   "cell_type": "markdown",
   "metadata": {},
   "source": [
    "##### Reading csv's"
   ]
  },
  {
   "cell_type": "code",
   "execution_count": 29,
   "metadata": {},
   "outputs": [],
   "source": [
    "df_10_12 = pd.read_csv('../Raw_Data/Land_Rover_EU_2010_2012.csv',sep=';',encoding='latin-1')\n",
    "df_13_15 = pd.read_csv('../Raw_Data/Land_Rover_EU_2013_2015.csv',sep=';',encoding='latin-1')\n",
    "df_16_18 = pd.read_csv('../Raw_Data/Land_Rover_EU_2016_2018.csv',sep=';',encoding='latin-1')\n",
    "df_19_20 = pd.read_csv('../Raw_Data/Land_Rover_EU_2019_2020.csv',sep=';',encoding='latin-1')"
   ]
  },
  {
   "cell_type": "code",
   "execution_count": 30,
   "metadata": {
    "scrolled": true
   },
   "outputs": [],
   "source": [
    "df_ue = pd.concat([df_10_12,df_13_15,df_16_18,df_19_20],axis = 0)\n",
    "df_ue=df_ue.reset_index()"
   ]
  },
  {
   "cell_type": "markdown",
   "metadata": {},
   "source": [
    "##### Creating new features"
   ]
  },
  {
   "cell_type": "code",
   "execution_count": 31,
   "metadata": {},
   "outputs": [],
   "source": [
    "df_ue['Brand']= df_ue['vehicle'].str.split().str[0]+ ' '+df_ue['vehicle'].str.split().str[1]\n",
    "df_ue['Model']=df_ue['vehicle'].str.split().str[2:].str.join(sep=',').str.replace(',',' ')\n",
    "df_ue['Km'] = df_ue['  km'].str.split().str[0].str.replace('.','')\n",
    "df_ue['Power'] = df_ue[' power'].str.split().str[2].str[1:]\n",
    "df_ue['Price'] = df_ue['price '].str.split().str[1].str.replace(',','').str.replace('.','')"
   ]
  },
  {
   "cell_type": "markdown",
   "metadata": {},
   "source": [
    "#### Removing unnecessary columns"
   ]
  },
  {
   "cell_type": "code",
   "execution_count": 32,
   "metadata": {},
   "outputs": [],
   "source": [
    "df_ue['Transmision']=df_ue[' transmision']\n",
    "df_ue['Fuel_type']=df_ue[' fuel_type']\n",
    "df_ue = df_ue[df_ue[' country']!='ES']\n",
    "df_ue = df_ue.drop(columns=[' consume',' country',' transmision','emisions',' fuel_type','price ',' power','  km','vehicle'])\n",
    "df_ue= df_ue[['Brand', 'Model',' year','Km','Power','Transmision', 'Fuel_type', 'Price']]"
   ]
  },
  {
   "cell_type": "markdown",
   "metadata": {},
   "source": [
    "##### Filtering the dataframe"
   ]
  },
  {
   "cell_type": "code",
   "execution_count": 33,
   "metadata": {},
   "outputs": [
    {
     "data": {
      "text/plain": [
       "(1431, 8)"
      ]
     },
     "execution_count": 33,
     "metadata": {},
     "output_type": "execute_result"
    }
   ],
   "source": [
    "df_ue.shape"
   ]
  },
  {
   "cell_type": "code",
   "execution_count": 34,
   "metadata": {},
   "outputs": [
    {
     "data": {
      "text/plain": [
       "(1022, 8)"
      ]
     },
     "execution_count": 34,
     "metadata": {},
     "output_type": "execute_result"
    }
   ],
   "source": [
    "#droping duplicates\n",
    "df_ue = df_ue.drop_duplicates(keep='first')\n",
    "df_ue = df_ue.dropna()\n",
    "df_ue.shape"
   ]
  },
  {
   "cell_type": "markdown",
   "metadata": {},
   "source": [
    "#### Models"
   ]
  },
  {
   "cell_type": "code",
   "execution_count": 35,
   "metadata": {},
   "outputs": [
    {
     "name": "stdout",
     "output_type": "stream",
     "text": [
      "['Discovery' 'RangeRover' 'RangeRoverSport' 'Freelander'\n",
      " 'RangeRoverEvoque' 'Defender' '' 'DiscoverySport' 'RangeRoverVelar']\n"
     ]
    }
   ],
   "source": [
    "df_ue['Model'] = df_ue['Model'].str.replace(' ','')\n",
    "unique_values = df_ue['Model'].unique()\n",
    "print(unique_values)"
   ]
  },
  {
   "cell_type": "code",
   "execution_count": 36,
   "metadata": {},
   "outputs": [],
   "source": [
    "#Removing wrong models or not interesting models\n",
    "df_ue = df_ue[df_ue['Model']!='']\n",
    "df_ue = df_ue[df_ue['Model']!='Series']\n",
    "df_ue = df_ue[df_ue['Model']!='Freelander']\n",
    "df_ue = df_ue[df_ue['Model']!='Defender']"
   ]
  },
  {
   "cell_type": "code",
   "execution_count": 37,
   "metadata": {},
   "outputs": [],
   "source": [
    "df_ue=df_ue[df_ue['Model'].isin(unique_values_model)]"
   ]
  },
  {
   "cell_type": "code",
   "execution_count": 38,
   "metadata": {},
   "outputs": [
    {
     "name": "stdout",
     "output_type": "stream",
     "text": [
      "['Discovery' 'RangeRover' 'RangeRoverSport' 'RangeRoverEvoque'\n",
      " 'DiscoverySport' 'RangeRoverVelar']\n"
     ]
    }
   ],
   "source": [
    "#Land Rover models\n",
    "unique_values = df_ue['Model'].unique()\n",
    "print(unique_values)"
   ]
  },
  {
   "cell_type": "markdown",
   "metadata": {},
   "source": [
    "#### Brand"
   ]
  },
  {
   "cell_type": "code",
   "execution_count": 39,
   "metadata": {},
   "outputs": [
    {
     "name": "stdout",
     "output_type": "stream",
     "text": [
      "['LandRover']\n"
     ]
    }
   ],
   "source": [
    "#Land Rover check\n",
    "df_ue['Brand'] = df_ue['Brand'].str.replace(' ','')\n",
    "unique_values = df_ue['Brand'].unique()\n",
    "print(unique_values)"
   ]
  },
  {
   "cell_type": "markdown",
   "metadata": {},
   "source": [
    "#### Years"
   ]
  },
  {
   "cell_type": "code",
   "execution_count": 40,
   "metadata": {},
   "outputs": [],
   "source": [
    "df_ue = df_ue[df_ue[' year']!='-/- (Año)']"
   ]
  },
  {
   "cell_type": "code",
   "execution_count": 41,
   "metadata": {},
   "outputs": [],
   "source": [
    "df_ue['Year'] = '20'+df_ue[' year'].str[-2:]\n",
    "df_ue['Year']=df_ue['Year'].apply(pd.to_numeric)\n",
    "df_ue = df_ue.drop(columns=[' year'])"
   ]
  },
  {
   "cell_type": "code",
   "execution_count": 42,
   "metadata": {},
   "outputs": [
    {
     "name": "stdout",
     "output_type": "stream",
     "text": [
      "[2010 2011 2012 2015 2014 2013 2018 2017 2016 2020 2019]\n"
     ]
    }
   ],
   "source": [
    "unique_values = df_ue['Year'].unique()\n",
    "print(unique_values)"
   ]
  },
  {
   "cell_type": "markdown",
   "metadata": {},
   "source": [
    "#### Km"
   ]
  },
  {
   "cell_type": "code",
   "execution_count": 43,
   "metadata": {},
   "outputs": [],
   "source": [
    "#Land Rover check\n",
    "df_ue = df_ue[df_ue['Km']!='-']\n",
    "df_ue = df_ue[df_ue['Km']!='#¿NOMBRE?']\n",
    "df_ue['Km']=df_ue['Km'].apply(pd.to_numeric)\n",
    "df_ue = df_ue[df_ue['Km']<400000]\n",
    "df_ue = df_ue[df_ue['Km']>5000]"
   ]
  },
  {
   "cell_type": "code",
   "execution_count": 44,
   "metadata": {},
   "outputs": [
    {
     "data": {
      "text/plain": [
       "(854, 8)"
      ]
     },
     "execution_count": 44,
     "metadata": {},
     "output_type": "execute_result"
    }
   ],
   "source": [
    "df_ue.shape"
   ]
  },
  {
   "cell_type": "markdown",
   "metadata": {},
   "source": [
    "#### Power"
   ]
  },
  {
   "cell_type": "code",
   "execution_count": 45,
   "metadata": {},
   "outputs": [
    {
     "name": "stdout",
     "output_type": "stream",
     "text": [
      "['245' '272' '256' '190' '150' '211' '510' '209' '241' '249' '313' '243'\n",
      " '258' '318' '179' '340' '292' '306' '551' '152' '239' '296' '339' '294'\n",
      " '345' '189' '300' '250' '184' '252' '182' '-' '402' '566' '381' '525'\n",
      " '379' '354' '200']\n"
     ]
    }
   ],
   "source": [
    "#Land Rover power\n",
    "unique_values = df_ue['Power'].unique()\n",
    "print(unique_values)"
   ]
  },
  {
   "cell_type": "code",
   "execution_count": 46,
   "metadata": {},
   "outputs": [
    {
     "data": {
      "text/plain": [
       "(851, 8)"
      ]
     },
     "execution_count": 46,
     "metadata": {},
     "output_type": "execute_result"
    }
   ],
   "source": [
    "df_ue = df_ue[df_ue['Power']!='1']\n",
    "df_ue = df_ue[df_ue['Power']!='-']\n",
    "df_ue['Power'] = df_ue['Power'].apply(pd.to_numeric)\n",
    "df_ue.shape"
   ]
  },
  {
   "cell_type": "markdown",
   "metadata": {},
   "source": [
    "#### Fuel"
   ]
  },
  {
   "cell_type": "code",
   "execution_count": 47,
   "metadata": {},
   "outputs": [
    {
     "name": "stdout",
     "output_type": "stream",
     "text": [
      "['Diésel' 'Gasolina' 'Electro/Diésel' 'Electro/Gasolina']\n"
     ]
    }
   ],
   "source": [
    "#Land Rover power\n",
    "unique_values = df_ue['Fuel_type'].unique()\n",
    "print(unique_values)"
   ]
  },
  {
   "cell_type": "code",
   "execution_count": 48,
   "metadata": {},
   "outputs": [],
   "source": [
    "df_ue['Fuel_type'] = df_ue['Fuel_type'].replace(['Diésel'],'Diesel')\n",
    "df_ue = df_ue[df_ue['Fuel_type']!='-/- (Combustible)']\n",
    "df_ue = df_ue[df_ue['Fuel_type']!='Eléctrico']\n",
    "df_ue = df_ue[df_ue['Fuel_type']!='Electro/Gasolina']\n",
    "df_ue = df_ue[df_ue['Fuel_type']!='Electro/Diésel']"
   ]
  },
  {
   "cell_type": "code",
   "execution_count": 49,
   "metadata": {},
   "outputs": [
    {
     "name": "stdout",
     "output_type": "stream",
     "text": [
      "['Diesel' 'Gasolina']\n"
     ]
    }
   ],
   "source": [
    "#Land Rover power\n",
    "unique_values = df_ue['Fuel_type'].unique()\n",
    "print(unique_values)"
   ]
  },
  {
   "cell_type": "markdown",
   "metadata": {},
   "source": [
    "#### Price"
   ]
  },
  {
   "cell_type": "code",
   "execution_count": 50,
   "metadata": {},
   "outputs": [],
   "source": [
    "#Land Rover price\n",
    "df_ue['Price'] = df_ue['Price'].apply(pd.to_numeric)\n",
    "#Droping extremly high prices\n",
    "df_ue = df_ue[df_ue['Price']<70000]"
   ]
  },
  {
   "cell_type": "code",
   "execution_count": 51,
   "metadata": {},
   "outputs": [],
   "source": [
    "df_ue=df_ue.reset_index(drop=True)"
   ]
  },
  {
   "cell_type": "code",
   "execution_count": 52,
   "metadata": {},
   "outputs": [],
   "source": [
    "df_ue=df_ue[['Brand', 'Model','Year','Km','Power','Fuel_type', 'Price']]"
   ]
  },
  {
   "cell_type": "code",
   "execution_count": 53,
   "metadata": {},
   "outputs": [],
   "source": [
    "land_rover_ue = df_ue"
   ]
  },
  {
   "cell_type": "code",
   "execution_count": 54,
   "metadata": {},
   "outputs": [
    {
     "data": {
      "text/plain": [
       "6"
      ]
     },
     "execution_count": 54,
     "metadata": {},
     "output_type": "execute_result"
    }
   ],
   "source": [
    "land_rover_ue['Model'].nunique()"
   ]
  },
  {
   "cell_type": "code",
   "execution_count": 55,
   "metadata": {},
   "outputs": [
    {
     "data": {
      "text/plain": [
       "(830, 7)"
      ]
     },
     "execution_count": 55,
     "metadata": {},
     "output_type": "execute_result"
    }
   ],
   "source": [
    "land_rover_ue.shape"
   ]
  },
  {
   "cell_type": "code",
   "execution_count": 56,
   "metadata": {},
   "outputs": [],
   "source": [
    "df_ue.to_csv ('land_rover_eu.csv', index = False, header=True)"
   ]
  },
  {
   "cell_type": "markdown",
   "metadata": {},
   "source": [
    "-------------------------------------------------------------------------------------------------------------------------------"
   ]
  }
 ],
 "metadata": {
  "kernelspec": {
   "display_name": "Python 3",
   "language": "python",
   "name": "python3"
  },
  "language_info": {
   "codemirror_mode": {
    "name": "ipython",
    "version": 3
   },
   "file_extension": ".py",
   "mimetype": "text/x-python",
   "name": "python",
   "nbconvert_exporter": "python",
   "pygments_lexer": "ipython3",
   "version": "3.7.6"
  }
 },
 "nbformat": 4,
 "nbformat_minor": 4
}
