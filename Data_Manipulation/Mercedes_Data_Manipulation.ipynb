{
 "cells": [
  {
   "cell_type": "markdown",
   "metadata": {},
   "source": [
    "# <div align=\"center\"> Data Manipulation"
   ]
  },
  {
   "cell_type": "markdown",
   "metadata": {},
   "source": [
    "##### Imports"
   ]
  },
  {
   "cell_type": "code",
   "execution_count": 1,
   "metadata": {},
   "outputs": [],
   "source": [
    "import pandas as pd"
   ]
  },
  {
   "cell_type": "code",
   "execution_count": 2,
   "metadata": {},
   "outputs": [],
   "source": [
    "pd.set_option('display.max_rows',10000)"
   ]
  },
  {
   "cell_type": "markdown",
   "metadata": {},
   "source": [
    "##### Reading csv's"
   ]
  },
  {
   "cell_type": "code",
   "execution_count": 3,
   "metadata": {},
   "outputs": [],
   "source": [
    "df_10 = pd.read_csv('../Raw_Data/mercedes_2010.csv',sep=';',encoding='latin-1')\n",
    "df_11 = pd.read_csv('../Raw_Data/mercedes_2011.csv',sep=';',encoding='latin-1')\n",
    "df_12 = pd.read_csv('../Raw_Data/mercedes_2012.csv',sep=';',encoding='latin-1')\n",
    "df_13 = pd.read_csv('../Raw_Data/mercedes_2013.csv',sep=';',encoding='latin-1')\n",
    "df_14_r = pd.read_csv('../Raw_Data/mercedes_2014_r.csv',sep=';',encoding='latin-1')\n",
    "df_14_d = pd.read_csv('../Raw_Data/mercedes_2014_d.csv',sep=';',encoding='latin-1')\n",
    "df_15_r = pd.read_csv('../Raw_Data/mercedes_2015_r.csv',sep=';',encoding='latin-1')\n",
    "df_15_d = pd.read_csv('../Raw_Data/mercedes_2015_d.csv',sep=';',encoding='latin-1')\n",
    "df_16_r = pd.read_csv('../Raw_Data/mercedes_2016_r.csv',sep=';',encoding='latin-1')\n",
    "df_16_d = pd.read_csv('../Raw_Data/mercedes_2016_d.csv',sep=';',encoding='latin-1')\n",
    "df_17_r = pd.read_csv('../Raw_Data/mercedes_2017_r.csv',sep=';',encoding='latin-1')\n",
    "df_17_d = pd.read_csv('../Raw_Data/mercedes_2017_d.csv',sep=';',encoding='latin-1')\n",
    "df_18_r = pd.read_csv('../Raw_Data/mercedes_2018_r.csv',sep=';',encoding='latin-1')\n",
    "df_18_d = pd.read_csv('../Raw_Data/mercedes_2018_d.csv',sep=';',encoding='latin-1')\n",
    "df_19_r = pd.read_csv('../Raw_Data/mercedes_2019_r.csv',sep=';',encoding='latin-1')\n",
    "df_19_d = pd.read_csv('../Raw_Data/mercedes_2019_d.csv',sep=';',encoding='latin-1')\n",
    "df_20_r = pd.read_csv('../Raw_Data/mercedes_2020_r.csv',sep=';',encoding='latin-1')\n",
    "df_20_d = pd.read_csv('../Raw_Data/mercedes_2020_d.csv',sep=';',encoding='latin-1')"
   ]
  },
  {
   "cell_type": "code",
   "execution_count": 4,
   "metadata": {
    "scrolled": true
   },
   "outputs": [],
   "source": [
    "df = pd.concat([df_10,df_11,df_12,df_13,df_14_d,df_14_r,df_15_d,df_15_r,df_16_d,df_16_r,df_17_d,df_17_r,df_18_r,df_18_d,df_19_r,df_19_d,df_20_d,df_20_r],axis = 0)\n",
    "df=df.reset_index()"
   ]
  },
  {
   "cell_type": "markdown",
   "metadata": {},
   "source": [
    "##### Creating new features"
   ]
  },
  {
   "cell_type": "code",
   "execution_count": 5,
   "metadata": {},
   "outputs": [],
   "source": [
    "df['Brand']= df['vehicle'].str.split().str[0]\n",
    "df['Model']=df['vehicle'].str.split().str[1:].str.join(sep=',').str.replace(' ','').str.replace(',','')\n",
    "df['Km'] = df['  km'].str.split().str[0].str.replace('.','')\n",
    "df['Power'] = df[' power'].str.split().str[2].str[1:]\n",
    "df['Price'] = df['price '].str.split().str[1].str.replace(',','').str.replace('.','')"
   ]
  },
  {
   "cell_type": "code",
   "execution_count": 6,
   "metadata": {},
   "outputs": [
    {
     "data": {
      "text/plain": [
       "Index(['index', 'vehicle', '  km', ' year', ' power', ' transmision',\n",
       "       ' fuel_type', ' consume', ' country', 'emisions', 'price ', 'Brand',\n",
       "       'Model', 'Km', 'Power', 'Price'],\n",
       "      dtype='object')"
      ]
     },
     "execution_count": 6,
     "metadata": {},
     "output_type": "execute_result"
    }
   ],
   "source": [
    "df.columns"
   ]
  },
  {
   "cell_type": "markdown",
   "metadata": {},
   "source": [
    "#### Removing unnecessary columns"
   ]
  },
  {
   "cell_type": "code",
   "execution_count": 7,
   "metadata": {},
   "outputs": [],
   "source": [
    "df['Transmision']=df[' transmision']\n",
    "df['Fuel_type']=df[' fuel_type']\n",
    "df = df.drop(columns=[' consume',' country',' transmision','emisions',' fuel_type','price ',' power','  km','vehicle'])\n",
    "df= df[['Brand', 'Model',' year','Km','Power','Transmision', 'Fuel_type', 'Price']]"
   ]
  },
  {
   "cell_type": "markdown",
   "metadata": {},
   "source": [
    "##### Filtering the dataframe"
   ]
  },
  {
   "cell_type": "code",
   "execution_count": 8,
   "metadata": {},
   "outputs": [
    {
     "data": {
      "text/plain": [
       "(5227, 8)"
      ]
     },
     "execution_count": 8,
     "metadata": {},
     "output_type": "execute_result"
    }
   ],
   "source": [
    "df.shape"
   ]
  },
  {
   "cell_type": "code",
   "execution_count": 9,
   "metadata": {},
   "outputs": [
    {
     "data": {
      "text/plain": [
       "(4694, 8)"
      ]
     },
     "execution_count": 9,
     "metadata": {},
     "output_type": "execute_result"
    }
   ],
   "source": [
    "#droping duplicates\n",
    "df = df.drop_duplicates(keep='first')\n",
    "df = df.dropna()\n",
    "df.shape"
   ]
  },
  {
   "cell_type": "markdown",
   "metadata": {},
   "source": [
    "#### Models"
   ]
  },
  {
   "cell_type": "code",
   "execution_count": 10,
   "metadata": {},
   "outputs": [
    {
     "data": {
      "text/plain": [
       "array(['E250', 'B150', 'SL300', 'CLS', 'E300', 'SLS', 'CLC', 'E350',\n",
       "       'SLK200', 'C220', 'ML300', 'B180', 'C200', 'A180', 'ML350',\n",
       "       'E63AMG', 'CLS350', 'Viano', 'GLK220', 'E220', 'E200', 'SL500',\n",
       "       '350', 'A160', 'SL600', '', 'S350', 'Sprinter', 'C180', 'B200',\n",
       "       'Vito', 'GLK250', 'B160', 'R300', 'C63AMG', 'A200', 'ML450', '180',\n",
       "       'R350', 'C350', 'GLK350', 'GLK300', 'SLK', 'ML250', 'ML63AMG',\n",
       "       'C250', 'GL350', 'S400', 'ML320', 'E500', 'CL', 'GLK200', '200',\n",
       "       'S250', 'SLK250', 'SL350', 'S63AMG', 'CLS63AMG', 'G350', 'G55AMG',\n",
       "       'S500', '300', 'A250', '250', 'A220', 'G500', 'CLA220', 'G',\n",
       "       'CLA200', 'CLA180', 'B220', 'Citan', 'A45AMG', 'G63AMG', 'SL63AMG',\n",
       "       'GL63AMG', 'GLA45AMG', 'CLA250', 'CLA45AMG', '220', 'C300',\n",
       "       'GLA200', 'GLA220', 'V220', 'V', 'CLS250', 'GLA250', 'B250',\n",
       "       'GL500', 'E400', 'GLE250', 'GLE350', 'GLC220', 'GLC250', 'GLA180',\n",
       "       'GLE63AMG', 'AMGGT', 'C400', 'S65AMG', 'C320', 'E320', 'SL400',\n",
       "       'GLE500', 'CLS400', 'CE200', 'SLC250', 'C450', 'GLE450', 'C43AMG',\n",
       "       'GLE43AMG', '500', 'ML400', 'SLC43AMG', 'GLS400', 'GLC350',\n",
       "       'GLS63AMG', 'GLC43AMG', 'SLC200', 'GLS500', 'BElectricDrive',\n",
       "       'V250', 'X250', 'CE220', 'GLS350', 'GLC63AMG', 'E43AMG', 'S450',\n",
       "       'S560', 'E53AMG', 'CLS53AMG', 'X350', 'E280', 'A35AMG', 'E450',\n",
       "       'EQC400', 'GLC200', 'SL65AMG', 'MarcoPolo', 'V300', 'GLE400',\n",
       "       'GLB200', 'GLE300', 'GLC300', 'GLB220', 'G400', 'GLE53AMG',\n",
       "       'GLB250'], dtype=object)"
      ]
     },
     "execution_count": 10,
     "metadata": {},
     "output_type": "execute_result"
    }
   ],
   "source": [
    "unique_values = df['Model'].unique()\n",
    "#print(unique_values)\n",
    "unique_values"
   ]
  },
  {
   "cell_type": "code",
   "execution_count": 11,
   "metadata": {},
   "outputs": [],
   "source": [
    "df['Model'] = df['Model'].replace(['A160','A180', 'A200', 'A220', 'A250'],'A')\n",
    "df['Model'] = df['Model'].replace(['A35AMG','A45AMG'],'A_AMG')\n",
    "df['Model'] = df['Model'].replace(['B150', 'B160', 'B180', 'B200','B220', 'B250', 'BElectricDrive',],'B')\n",
    "df['Model'] = df['Model'].replace(['C180','C200', 'C220','C250', 'C300','C320','C350','C400', 'C450'],'C')\n",
    "df['Model'] = df['Model'].replace(['C43AMG','C63AMG'],'C_AMG')\n",
    "df['Model'] = df['Model'].replace(['CLA180','CLA200','CLA220','CLA250'],'CLA')\n",
    "df['Model'] = df['Model'].replace(['CLS','CLS250', 'CLS350', 'CLS400',],'CLS')\n",
    "df['Model'] = df['Model'].replace(['CLS53AMG','CLS63AMG'],'CLS_AMG')\n",
    "df['Model'] = df['Model'].replace(['E250','E300','E350','E220','E200','E500','E400','E320','E280','E450'],'E')\n",
    "df['Model'] = df['Model'].replace(['E43AMG', 'E53AMG', 'E63AMG'],'E_AMG')\n",
    "df['Model'] = df['Model'].replace(['G350','G400','G500',],'G')\n",
    "df['Model'] = df['Model'].replace(['G55AMG','G63AMG' ],'G_AMG')\n",
    "df['Model'] = df['Model'].replace(['GL350','GL500',],'GL')\n",
    "df['Model'] = df['Model'].replace(['GL63AMG'],'GL_AMG')\n",
    "df['Model'] = df['Model'].replace(['GLA180','GLA200', 'GLA220','GLA250',],'GLA')\n",
    "df['Model'] = df['Model'].replace(['GLA45AMG'],'GLA_AMG')\n",
    "df['Model'] = df['Model'].replace(['GLB200','GLB220', 'GLB250',],'GLB')\n",
    "df['Model'] = df['Model'].replace(['GLC200','GLC220', 'GLC250','GLC300', 'GLC350'],'GLC')\n",
    "df['Model'] = df['Model'].replace(['GLC43AMG','GLC63AMG'],'GLC_AMG')\n",
    "df['Model'] = df['Model'].replace(['GLE250', 'GLE300', 'GLE350', 'GLE400', 'GLE43AMG', 'GLE450', 'GLE500',],'GLE')\n",
    "df['Model'] = df['Model'].replace(['GLE53AMG', 'GLE63AMG'],'GLE_AMG')\n",
    "df['Model'] = df['Model'].replace(['GLK200', 'GLK220', 'GLK250', 'GLK300', 'GLK350'],'GLK')\n",
    "df['Model'] = df['Model'].replace(['GLS350', 'GLS400', 'GLS500',],'GLS')\n",
    "df['Model'] = df['Model'].replace(['ML250','ML300','ML320','ML350','ML400','ML450',],'ML')\n",
    "df['Model'] = df['Model'].replace(['R300','R350'],'R')\n",
    "df['Model'] = df['Model'].replace(['S250','S350', 'S400','S450', 'S500','S560'],'S')\n",
    "df['Model'] = df['Model'].replace(['S63AMG','S65AMG'],'S_AMG')\n",
    "df['Model'] = df['Model'].replace(['SL300','SL350','SL400','SL500','SL600'],'SL')\n",
    "df['Model'] = df['Model'].replace(['SL63AMG','SL65AMG'],'SL_AMG')\n",
    "df['Model'] = df['Model'].replace(['SLC200', 'SLC250', 'SLC43AMG'],'SLC')\n",
    "df['Model'] = df['Model'].replace(['SLK','SLK200','SLK250'],'SLK')\n",
    "df['Model'] = df['Model'].replace(['V220','V250','V300'],'V')\n",
    "df['Model'] = df['Model'].replace(['X250','X350'],'X')"
   ]
  },
  {
   "cell_type": "code",
   "execution_count": 12,
   "metadata": {},
   "outputs": [],
   "source": [
    "#Removing wrong models or not interesting models\n",
    "df = df[df['Model']!='180']\n",
    "df = df[df['Model']!='200']\n",
    "df = df[df['Model']!='300']\n",
    "df = df[df['Model']!='220']\n",
    "df = df[df['Model']!='250']\n",
    "df = df[df['Model']!='500']\n",
    "df = df[df['Model']!='350']\n",
    "df = df[df['Model']!='Marco']\n",
    "df = df[df['Model']!='X']\n",
    "df = df[df['Model']!='CE']\n",
    "df = df[df['Model']!='CE200']\n",
    "df = df[df['Model']!='CE220']\n",
    "df = df[df['Model']!='']\n",
    "df = df[df['Model']!='Sprinter']\n",
    "df = df[df['Model']!='Vito']\n",
    "df = df[df['Model']!='V']\n",
    "df = df[df['Model']!='AMGGT']\n",
    "df = df[df['Model']!='A_AMG']\n",
    "df = df[df['Model']!='ML63AMG']\n",
    "df = df[df['Model']!='C_AMG']\n",
    "df = df[df['Model']!='CLA45AMG']\n",
    "df = df[df['Model']!='CLS_AMG']\n",
    "df = df[df['Model']!='E_AMG']\n",
    "df = df[df['Model']!='G_AMG']\n",
    "df = df[df['Model']!='GL_AMG']\n",
    "df = df[df['Model']!='GLA_AMG']\n",
    "df = df[df['Model']!='GLC_AMG']\n",
    "df = df[df['Model']!='GLE_AMG']\n",
    "df = df[df['Model']!='GLS63AMG']\n",
    "df = df[df['Model']!='S_AMG']\n",
    "df = df[df['Model']!='SL_AMG']"
   ]
  },
  {
   "cell_type": "code",
   "execution_count": 13,
   "metadata": {
    "scrolled": true
   },
   "outputs": [
    {
     "name": "stdout",
     "output_type": "stream",
     "text": [
      "['E' 'B' 'SL' 'CLS' 'SLS' 'CLC' 'SLK' 'C' 'ML' 'A' 'Viano' 'GLK' 'S' 'R'\n",
      " 'GL' 'CL' 'G' 'CLA' 'Citan' 'GLA' 'GLE' 'GLC' 'SLC' 'GLS' 'EQC400'\n",
      " 'MarcoPolo' 'GLB']\n"
     ]
    }
   ],
   "source": [
    "#Mercedes models\n",
    "unique_values_model = df['Model'].unique()\n",
    "print(unique_values_model)"
   ]
  },
  {
   "cell_type": "markdown",
   "metadata": {},
   "source": [
    "#### Brand"
   ]
  },
  {
   "cell_type": "code",
   "execution_count": 14,
   "metadata": {},
   "outputs": [
    {
     "name": "stdout",
     "output_type": "stream",
     "text": [
      "['Mercedes-Benz']\n"
     ]
    }
   ],
   "source": [
    "#Mercedes check\n",
    "unique_values = df['Brand'].unique()\n",
    "print(unique_values)"
   ]
  },
  {
   "cell_type": "code",
   "execution_count": 15,
   "metadata": {},
   "outputs": [
    {
     "data": {
      "text/plain": [
       "(3651, 8)"
      ]
     },
     "execution_count": 15,
     "metadata": {},
     "output_type": "execute_result"
    }
   ],
   "source": [
    "df.shape"
   ]
  },
  {
   "cell_type": "markdown",
   "metadata": {},
   "source": [
    "#### Years"
   ]
  },
  {
   "cell_type": "code",
   "execution_count": 16,
   "metadata": {},
   "outputs": [],
   "source": [
    "#Years\n",
    "df = df[df[' year']!='-/- (Año)']"
   ]
  },
  {
   "cell_type": "code",
   "execution_count": 17,
   "metadata": {
    "scrolled": true
   },
   "outputs": [],
   "source": [
    "df['Year'] = '20'+df[' year'].str[-2:]\n",
    "df['Year']=df['Year'].apply(pd.to_numeric)\n",
    "df = df.drop(columns=[' year'])"
   ]
  },
  {
   "cell_type": "code",
   "execution_count": 18,
   "metadata": {},
   "outputs": [
    {
     "name": "stdout",
     "output_type": "stream",
     "text": [
      "[2010 2011 2012 2013 2014 2015 2016 2017 2018 2019 2020]\n"
     ]
    }
   ],
   "source": [
    "#Year check\n",
    "unique_values = df['Year'].unique()\n",
    "print(unique_values)"
   ]
  },
  {
   "cell_type": "markdown",
   "metadata": {},
   "source": [
    "#### Km"
   ]
  },
  {
   "cell_type": "code",
   "execution_count": 19,
   "metadata": {},
   "outputs": [],
   "source": [
    "#Mercedes check\n",
    "df = df[df['Km']!='-']\n",
    "df = df[df['Km']!='#¿NOMBRE?']\n",
    "df['Km']=df['Km'].apply(pd.to_numeric)\n",
    "df = df[df['Km']<400000]\n",
    "df = df[df['Km']>5000]"
   ]
  },
  {
   "cell_type": "code",
   "execution_count": 20,
   "metadata": {},
   "outputs": [
    {
     "data": {
      "text/plain": [
       "(3322, 8)"
      ]
     },
     "execution_count": 20,
     "metadata": {},
     "output_type": "execute_result"
    }
   ],
   "source": [
    "df.shape"
   ]
  },
  {
   "cell_type": "markdown",
   "metadata": {},
   "source": [
    "#### Power"
   ]
  },
  {
   "cell_type": "code",
   "execution_count": 21,
   "metadata": {},
   "outputs": [
    {
     "name": "stdout",
     "output_type": "stream",
     "text": [
      "['204' '95' '231' '265' '571' '184' '170' '109' '136' '224' '211' '387'\n",
      " '82' '517' '272' '156' '193' '292' '258' '140' '150' '190' '129' '306'\n",
      " '143' '179' '299' '435' '122' '163' '116' '315' '120' '192' '257' '408'\n",
      " '252' '177' '455' '75' '333' '194' '421' '90' '260' '174' '245' '256'\n",
      " '442' '279' '218' '449' '135' '367' '381' '320' '500' '330' '169' '185'\n",
      " '469' '400' '197' '300' '189' '286' '476' '585' '160' '110' '114']\n"
     ]
    }
   ],
   "source": [
    "#Mercedes power\n",
    "df = df[df['Power']!='1']\n",
    "df = df[df['Power']!='-']\n",
    "unique_values = df['Power'].unique()\n",
    "print(unique_values)"
   ]
  },
  {
   "cell_type": "code",
   "execution_count": 22,
   "metadata": {},
   "outputs": [
    {
     "data": {
      "text/plain": [
       "(3299, 8)"
      ]
     },
     "execution_count": 22,
     "metadata": {},
     "output_type": "execute_result"
    }
   ],
   "source": [
    "df.shape"
   ]
  },
  {
   "cell_type": "markdown",
   "metadata": {},
   "source": [
    "#### Fuel"
   ]
  },
  {
   "cell_type": "code",
   "execution_count": 23,
   "metadata": {},
   "outputs": [
    {
     "name": "stdout",
     "output_type": "stream",
     "text": [
      "['Diesel' 'Gasolina' 'Electro/Gasolina' 'Otros' 'Electro/Diesel'\n",
      " 'Electrico']\n"
     ]
    }
   ],
   "source": [
    "#Mercedes power\n",
    "df['Fuel_type'] = df['Fuel_type'].replace(['Eléctrico'],'Electrico')\n",
    "df['Fuel_type'] = df['Fuel_type'].replace(['Diésel'],'Diesel')\n",
    "df['Fuel_type'] = df['Fuel_type'].replace(['Electro/Diésel'],'Electro/Diesel')\n",
    "unique_values = df['Fuel_type'].unique()\n",
    "print(unique_values)"
   ]
  },
  {
   "cell_type": "code",
   "execution_count": 24,
   "metadata": {},
   "outputs": [],
   "source": [
    "df = df[df['Fuel_type']!='-/- (Combustible)']\n",
    "df = df[df['Fuel_type']!='Otros']"
   ]
  },
  {
   "cell_type": "code",
   "execution_count": 25,
   "metadata": {},
   "outputs": [
    {
     "name": "stdout",
     "output_type": "stream",
     "text": [
      "['Diesel' 'Gasolina' 'Electro/Gasolina' 'Electro/Diesel' 'Electrico']\n"
     ]
    }
   ],
   "source": [
    "#Mercedes power\n",
    "unique_values = df['Fuel_type'].unique()\n",
    "print(unique_values)"
   ]
  },
  {
   "cell_type": "markdown",
   "metadata": {},
   "source": [
    "#### Price"
   ]
  },
  {
   "cell_type": "code",
   "execution_count": 26,
   "metadata": {},
   "outputs": [],
   "source": [
    "#Merdedes price\n",
    "df['Price'] = df['Price'].apply(pd.to_numeric)"
   ]
  },
  {
   "cell_type": "code",
   "execution_count": 27,
   "metadata": {},
   "outputs": [
    {
     "data": {
      "text/plain": [
       "30236.60824742268"
      ]
     },
     "execution_count": 27,
     "metadata": {},
     "output_type": "execute_result"
    }
   ],
   "source": [
    "df['Price'].mean()"
   ]
  },
  {
   "cell_type": "code",
   "execution_count": 28,
   "metadata": {},
   "outputs": [],
   "source": [
    "#Droping extremly high prices\n",
    "df = df[df['Price']<90000]"
   ]
  },
  {
   "cell_type": "code",
   "execution_count": 29,
   "metadata": {},
   "outputs": [],
   "source": [
    "df=df[['Brand', 'Model','Year','Km','Power','Fuel_type', 'Price']]\n",
    "df=df.reset_index(drop=True)"
   ]
  },
  {
   "cell_type": "code",
   "execution_count": 30,
   "metadata": {},
   "outputs": [],
   "source": [
    "mercedes_esp=df[['Brand', 'Model','Year','Km','Power','Fuel_type', 'Price']]"
   ]
  },
  {
   "cell_type": "code",
   "execution_count": 31,
   "metadata": {},
   "outputs": [
    {
     "data": {
      "text/plain": [
       "26"
      ]
     },
     "execution_count": 31,
     "metadata": {},
     "output_type": "execute_result"
    }
   ],
   "source": [
    "mercedes_esp['Model'].nunique()"
   ]
  },
  {
   "cell_type": "code",
   "execution_count": 32,
   "metadata": {},
   "outputs": [
    {
     "data": {
      "text/plain": [
       "(3247, 7)"
      ]
     },
     "execution_count": 32,
     "metadata": {},
     "output_type": "execute_result"
    }
   ],
   "source": [
    "mercedes_esp.shape"
   ]
  },
  {
   "cell_type": "code",
   "execution_count": 33,
   "metadata": {},
   "outputs": [],
   "source": [
    "df.to_csv ('mercedes_esp.csv', index = False, header=True)"
   ]
  },
  {
   "cell_type": "markdown",
   "metadata": {},
   "source": [
    "-------------------------------------------------------------------------------------------------------------------------------"
   ]
  },
  {
   "cell_type": "markdown",
   "metadata": {},
   "source": [
    "# <div align=\"center\"> Data Manipulation UE"
   ]
  },
  {
   "cell_type": "markdown",
   "metadata": {},
   "source": [
    "##### Reading csv's"
   ]
  },
  {
   "cell_type": "code",
   "execution_count": 35,
   "metadata": {},
   "outputs": [],
   "source": [
    "df_10_12 = pd.read_csv('../Raw_Data/mercedes_EU_2010_2012.csv',sep=';',encoding='latin-1')\n",
    "df_13_15 = pd.read_csv('../Raw_Data/mercedes_EU_2013_2015.csv',sep=';',encoding='latin-1')\n",
    "df_16_18 = pd.read_csv('../Raw_Data/mercedes-benz_EU_2016_2018.csv',sep=';',encoding='latin-1')\n",
    "df_19_20 = pd.read_csv('../Raw_Data/mercedes-benz_EU_2019_2020.csv',sep=';',encoding='latin-1')"
   ]
  },
  {
   "cell_type": "code",
   "execution_count": 36,
   "metadata": {
    "scrolled": true
   },
   "outputs": [],
   "source": [
    "df_ue = pd.concat([df_10_12,df_13_15,df_16_18,df_19_20],axis = 0)\n",
    "df_ue=df_ue.reset_index()"
   ]
  },
  {
   "cell_type": "markdown",
   "metadata": {},
   "source": [
    "##### Creating new features"
   ]
  },
  {
   "cell_type": "code",
   "execution_count": 37,
   "metadata": {},
   "outputs": [],
   "source": [
    "df_ue['Brand']= df_ue['vehicle'].str.split().str[0]\n",
    "df_ue['Model']=df_ue['vehicle'].str.split().str[1:].str.join(sep=',').str.replace(' ','').str.replace(',','')\n",
    "df_ue['Km'] = df_ue['  km'].str.split().str[0].str.replace('.','')\n",
    "df_ue['Power'] = df_ue[' power'].str.split().str[2].str[1:]\n",
    "df_ue['Price'] = df_ue['price '].str.split().str[1].str.replace(',','').str.replace('.','')"
   ]
  },
  {
   "cell_type": "code",
   "execution_count": 38,
   "metadata": {},
   "outputs": [
    {
     "data": {
      "text/plain": [
       "Index(['index', 'vehicle', '  km', ' year', ' power', ' transmision',\n",
       "       ' fuel_type', ' consume', ' country', 'emisions', 'price ', 'Brand',\n",
       "       'Model', 'Km', 'Power', 'Price'],\n",
       "      dtype='object')"
      ]
     },
     "execution_count": 38,
     "metadata": {},
     "output_type": "execute_result"
    }
   ],
   "source": [
    "df_ue.columns"
   ]
  },
  {
   "cell_type": "markdown",
   "metadata": {},
   "source": [
    "#### Removing unnecessary columns"
   ]
  },
  {
   "cell_type": "code",
   "execution_count": 39,
   "metadata": {},
   "outputs": [],
   "source": [
    "df_ue['Transmision']=df_ue[' transmision']\n",
    "df_ue['Fuel_type']=df_ue[' fuel_type']\n",
    "df_ue = df_ue[df_ue[' country']!='ES']\n",
    "df_ue = df_ue.drop(columns=[' consume',' country',' transmision','emisions',' fuel_type','price ',' power','  km','vehicle'])\n",
    "df_ue= df_ue[['Brand', 'Model',' year','Km','Power','Transmision', 'Fuel_type', 'Price']]"
   ]
  },
  {
   "cell_type": "markdown",
   "metadata": {},
   "source": [
    "##### Filtering the dataframe"
   ]
  },
  {
   "cell_type": "code",
   "execution_count": 40,
   "metadata": {},
   "outputs": [
    {
     "data": {
      "text/plain": [
       "(1498, 8)"
      ]
     },
     "execution_count": 40,
     "metadata": {},
     "output_type": "execute_result"
    }
   ],
   "source": [
    "df_ue.shape"
   ]
  },
  {
   "cell_type": "code",
   "execution_count": 41,
   "metadata": {},
   "outputs": [
    {
     "data": {
      "text/plain": [
       "(1105, 8)"
      ]
     },
     "execution_count": 41,
     "metadata": {},
     "output_type": "execute_result"
    }
   ],
   "source": [
    "#droping duplicates\n",
    "df_ue = df_ue.drop_duplicates(keep='first')\n",
    "df_ue = df_ue.dropna()\n",
    "df_ue.shape"
   ]
  },
  {
   "cell_type": "markdown",
   "metadata": {},
   "source": [
    "#### Models"
   ]
  },
  {
   "cell_type": "code",
   "execution_count": 42,
   "metadata": {},
   "outputs": [
    {
     "data": {
      "text/plain": [
       "array(['GLK220', 'A200', 'SL350', 'B180', 'E350', 'E220', 'Viano', 'E250',\n",
       "       'Sprinter', 'R350', 'B200', 'E200', 'C180', 'SLK200', 'A160',\n",
       "       'C350', 'S350', 'E500', 'A180', 'ML250', '', 'C250', 'C220',\n",
       "       'Vito', 'SL63AMG', 'GLK200', 'GLK350', 'CLS350', 'ML350', 'S250',\n",
       "       'Atego', 'C200', 'G500', 'B160', 'C300', '350', 'E63AMG', 'GLK250',\n",
       "       'A150', 'GL350', 'S500', 'SLK250', 'C63AMG', '200', '220', 'CLS',\n",
       "       'ML300', 'R300', 'CLS63AMG', 'ML63AMG', 'ML280', 'CLC', 'S65AMG',\n",
       "       'E300', 'CLS250', 'GLA200', 'E320', 'CLA180', 'CLA200', 'CLA250',\n",
       "       'B220', 'V200', 'V220', 'Citan', 'GLA250', 'GLE350', 'GLA220',\n",
       "       'CLA220', 'V250', 'GLC250', 'GLE400', 'GLC220', 'CLA45AMG',\n",
       "       'A45AMG', 'A250', 'C450', 'B250', '300', '180', 'SLS', 'GLE63AMG',\n",
       "       'GLC43AMG', 'CLS400', 'C43AMG', 'GLA180', 'C400', 'SLC180',\n",
       "       'GLS63AMG', 'E400', 'GLE500', 'GL450', 'A220', 'GLE250', 'GLC350',\n",
       "       'GLS350', 'S400', 'E43AMG', 'GLE43AMG', 'BElectricDrive', 'SLC300',\n",
       "       'V300', 'GLB200', 'AMGGT'], dtype=object)"
      ]
     },
     "execution_count": 42,
     "metadata": {},
     "output_type": "execute_result"
    }
   ],
   "source": [
    "unique_values = df_ue['Model'].unique()\n",
    "#print(unique_values)\n",
    "unique_values"
   ]
  },
  {
   "cell_type": "code",
   "execution_count": 43,
   "metadata": {},
   "outputs": [],
   "source": [
    "df_ue['Model'] = df_ue['Model'].replace(['A150','A160','A180', 'A200', 'A220', 'A250'],'A')\n",
    "df_ue['Model'] = df_ue['Model'].replace(['A35AMG','A45AMG'],'A_AMG')\n",
    "df_ue['Model'] = df_ue['Model'].replace(['B150', 'B160', 'B180', 'B200','B220', 'B250', 'BElectricDrive',],'B')\n",
    "df_ue['Model'] = df_ue['Model'].replace(['C180','C200', 'C220','C250', 'C300','C320','C350','C400', 'C450'],'C')\n",
    "df_ue['Model'] = df_ue['Model'].replace(['C43AMG','C63AMG'],'C_AMG')\n",
    "df_ue['Model'] = df_ue['Model'].replace(['CLA180','CLA200','CLA220','CLA250'],'CLA')\n",
    "df_ue['Model'] = df_ue['Model'].replace(['CLS','CLS250', 'CLS350', 'CLS400',],'CLS')\n",
    "df_ue['Model'] = df_ue['Model'].replace(['CLS53AMG','CLS63AMG'],'CLS_AMG')\n",
    "df_ue['Model'] = df_ue['Model'].replace(['E250','E300','E350','E220','E200','E500','E400','E320','E280','E450'],'E')\n",
    "df_ue['Model'] = df_ue['Model'].replace(['E43AMG', 'E53AMG', 'E63AMG'],'E_AMG')\n",
    "df_ue['Model'] = df_ue['Model'].replace(['G350','G400','G500',],'G')\n",
    "df_ue['Model'] = df_ue['Model'].replace(['G55AMG','G63AMG' ],'G_AMG')\n",
    "df_ue['Model'] = df_ue['Model'].replace(['GL350','GL450','GL500',],'GL')\n",
    "df_ue['Model'] = df_ue['Model'].replace(['GL63AMG'],'GL_AMG')\n",
    "df_ue['Model'] = df_ue['Model'].replace(['GLA180','GLA200', 'GLA220','GLA250',],'GLA')\n",
    "df_ue['Model'] = df_ue['Model'].replace(['GLA45AMG'],'GLA_AMG')\n",
    "df_ue['Model'] = df_ue['Model'].replace(['GLB200','GLB220', 'GLB250',],'GLB')\n",
    "df_ue['Model'] = df_ue['Model'].replace(['GLC200','GLC220', 'GLC250','GLC300', 'GLC350'],'GLC')\n",
    "df_ue['Model'] = df_ue['Model'].replace(['GLC43AMG','GLC63AMG'],'GLC_AMG')\n",
    "df_ue['Model'] = df_ue['Model'].replace(['GLE250', 'GLE300', 'GLE350', 'GLE400', 'GLE43AMG', 'GLE450', 'GLE500',],'GLE')\n",
    "df_ue['Model'] = df_ue['Model'].replace(['GLE53AMG', 'GLE63AMG'],'GLE_AMG')\n",
    "df_ue['Model'] = df_ue['Model'].replace(['GLK200', 'GLK220', 'GLK250', 'GLK300', 'GLK350'],'GLK')\n",
    "df_ue['Model'] = df_ue['Model'].replace(['GLS350', 'GLS400', 'GLS500',],'GLS')\n",
    "df_ue['Model'] = df_ue['Model'].replace(['ML250','ML280','ML300','ML320','ML350','ML400','ML450',],'ML')\n",
    "df_ue['Model'] = df_ue['Model'].replace(['R300','R350'],'R')\n",
    "df_ue['Model'] = df_ue['Model'].replace(['S250','S350', 'S400','S450', 'S500','S560'],'S')\n",
    "df_ue['Model'] = df_ue['Model'].replace(['S63AMG','S65AMG'],'S_AMG')\n",
    "df_ue['Model'] = df_ue['Model'].replace(['SL300','SL350','SL400','SL500','SL600'],'SL')\n",
    "df_ue['Model'] = df_ue['Model'].replace(['SL63AMG','SL65AMG'],'SL_AMG')\n",
    "df_ue['Model'] = df_ue['Model'].replace(['SLC200','SLC180','SLC300','SLC350', 'SLC250', 'SLC43AMG'],'SLC')\n",
    "df_ue['Model'] = df_ue['Model'].replace(['SLK','SLK200','SLK250'],'SLK')\n",
    "df_ue['Model'] = df_ue['Model'].replace(['V200','V220','V250','V300'],'V')\n",
    "df_ue['Model'] = df_ue['Model'].replace(['X250','X350'],'X')"
   ]
  },
  {
   "cell_type": "code",
   "execution_count": 44,
   "metadata": {},
   "outputs": [],
   "source": [
    "#Removing wrong models or not interesting models\n",
    "df_ue = df_ue[df_ue['Model']!='180']\n",
    "df_ue = df_ue[df_ue['Model']!='200']\n",
    "df_ue = df_ue[df_ue['Model']!='300']\n",
    "df_ue = df_ue[df_ue['Model']!='220']\n",
    "df_ue = df_ue[df_ue['Model']!='250']\n",
    "df_ue = df_ue[df_ue['Model']!='500']\n",
    "df_ue = df_ue[df_ue['Model']!='350']\n",
    "df_ue = df_ue[df_ue['Model']!='Marco']\n",
    "df_ue = df_ue[df_ue['Model']!='X']\n",
    "df_ue = df_ue[df_ue['Model']!='CE']\n",
    "df_ue = df_ue[df_ue['Model']!='CE200']\n",
    "df_ue = df_ue[df_ue['Model']!='CE220']\n",
    "df_ue = df_ue[df_ue['Model']!='']\n",
    "df_ue = df_ue[df_ue['Model']!='Sprinter']\n",
    "df_ue = df_ue[df_ue['Model']!='Vito']\n",
    "df_ue = df_ue[df_ue['Model']!='V']\n",
    "df_ue = df_ue[df_ue['Model']!='AMGGT']\n",
    "df_ue = df_ue[df_ue['Model']!='A_AMG']\n",
    "df_ue = df_ue[df_ue['Model']!='ML63AMG']\n",
    "df_ue = df_ue[df_ue['Model']!='C_AMG']\n",
    "df_ue = df_ue[df_ue['Model']!='CLA45AMG']\n",
    "df_ue = df_ue[df_ue['Model']!='CLS_AMG']\n",
    "df_ue = df_ue[df_ue['Model']!='E_AMG']\n",
    "df_ue = df_ue[df_ue['Model']!='G_AMG']\n",
    "df_ue = df_ue[df_ue['Model']!='GL_AMG']\n",
    "df_ue = df_ue[df_ue['Model']!='GLA_AMG']\n",
    "df_ue = df_ue[df_ue['Model']!='GLC_AMG']\n",
    "df_ue = df_ue[df_ue['Model']!='GLE_AMG']\n",
    "df_ue = df_ue[df_ue['Model']!='GLS63AMG']\n",
    "df_ue = df_ue[df_ue['Model']!='S_AMG']\n",
    "df_ue = df_ue[df_ue['Model']!='SL_AMG']\n",
    "df_ue = df_ue[df_ue['Model']!='Atego']"
   ]
  },
  {
   "cell_type": "code",
   "execution_count": 45,
   "metadata": {},
   "outputs": [],
   "source": [
    "df_ue=df_ue[df_ue['Model'].isin(unique_values_model)]"
   ]
  },
  {
   "cell_type": "code",
   "execution_count": 46,
   "metadata": {
    "scrolled": true
   },
   "outputs": [
    {
     "name": "stdout",
     "output_type": "stream",
     "text": [
      "['GLK' 'A' 'SL' 'B' 'E' 'Viano' 'R' 'C' 'SLK' 'S' 'ML' 'CLS' 'G' 'GL'\n",
      " 'CLC' 'GLA' 'CLA' 'Citan' 'GLE' 'GLC' 'SLS' 'SLC' 'GLS' 'GLB']\n"
     ]
    }
   ],
   "source": [
    "#Mercedes models\n",
    "unique_values = df_ue['Model'].unique()\n",
    "print(unique_values)"
   ]
  },
  {
   "cell_type": "markdown",
   "metadata": {},
   "source": [
    "#### Brand"
   ]
  },
  {
   "cell_type": "code",
   "execution_count": 47,
   "metadata": {},
   "outputs": [
    {
     "name": "stdout",
     "output_type": "stream",
     "text": [
      "['Mercedes-Benz']\n"
     ]
    }
   ],
   "source": [
    "#Mercedes check\n",
    "unique_values = df_ue['Brand'].unique()\n",
    "print(unique_values)"
   ]
  },
  {
   "cell_type": "code",
   "execution_count": 48,
   "metadata": {},
   "outputs": [
    {
     "data": {
      "text/plain": [
       "(866, 8)"
      ]
     },
     "execution_count": 48,
     "metadata": {},
     "output_type": "execute_result"
    }
   ],
   "source": [
    "df_ue.shape"
   ]
  },
  {
   "cell_type": "markdown",
   "metadata": {},
   "source": [
    "#### Years"
   ]
  },
  {
   "cell_type": "code",
   "execution_count": 49,
   "metadata": {},
   "outputs": [],
   "source": [
    "#Years\n",
    "df_ue = df_ue[df_ue[' year']!='-/- (Año)']"
   ]
  },
  {
   "cell_type": "code",
   "execution_count": 50,
   "metadata": {
    "scrolled": true
   },
   "outputs": [],
   "source": [
    "df_ue['Year'] = '20'+df_ue[' year'].str[-2:]\n",
    "df_ue['Year']=df_ue['Year'].apply(pd.to_numeric)\n",
    "df_ue = df_ue.drop(columns=[' year'])"
   ]
  },
  {
   "cell_type": "code",
   "execution_count": 51,
   "metadata": {},
   "outputs": [
    {
     "name": "stdout",
     "output_type": "stream",
     "text": [
      "[2012 2011 2010 2015 2013 2014 2016 2017 2018 2019]\n"
     ]
    }
   ],
   "source": [
    "#Year check\n",
    "unique_values = df_ue['Year'].unique()\n",
    "print(unique_values)"
   ]
  },
  {
   "cell_type": "markdown",
   "metadata": {},
   "source": [
    "#### Km"
   ]
  },
  {
   "cell_type": "code",
   "execution_count": 52,
   "metadata": {},
   "outputs": [],
   "source": [
    "#Mercedes check\n",
    "df_ue = df_ue[df_ue['Km']!='-']\n",
    "df_ue = df_ue[df_ue['Km']!='#¿NOMBRE?']\n",
    "df_ue['Km']=df_ue['Km'].apply(pd.to_numeric)\n",
    "df_ue = df_ue[df_ue['Km']<400000]\n",
    "df_ue = df_ue[df_ue['Km']>5000]"
   ]
  },
  {
   "cell_type": "code",
   "execution_count": 53,
   "metadata": {},
   "outputs": [
    {
     "data": {
      "text/plain": [
       "(858, 8)"
      ]
     },
     "execution_count": 53,
     "metadata": {},
     "output_type": "execute_result"
    }
   ],
   "source": [
    "df_ue.shape"
   ]
  },
  {
   "cell_type": "markdown",
   "metadata": {},
   "source": [
    "#### Power"
   ]
  },
  {
   "cell_type": "code",
   "execution_count": 54,
   "metadata": {},
   "outputs": [
    {
     "name": "stdout",
     "output_type": "stream",
     "text": [
      "['170' '136' '306' '109' '231' '163' '116' '204' '211' '156' '184' '95'\n",
      " '122' '258' '408' '315' '292' '265' '185' '120' '143' '82' '387' '224'\n",
      " '97' '193' '435' '235' '230' '190' '173' '140' '272' '252' '177' '90'\n",
      " '333' '279' '245' '367' '179' '110' '571' '194' '340' '150' '286' '455'\n",
      " '75' '250' '102' '421' '160']\n"
     ]
    }
   ],
   "source": [
    "#Mercedes power\n",
    "df_ue = df_ue[df_ue['Power']!='1']\n",
    "df_ue = df_ue[df_ue['Power']!='-']\n",
    "unique_values = df_ue['Power'].unique()\n",
    "print(unique_values)"
   ]
  },
  {
   "cell_type": "code",
   "execution_count": 55,
   "metadata": {},
   "outputs": [
    {
     "data": {
      "text/plain": [
       "(851, 8)"
      ]
     },
     "execution_count": 55,
     "metadata": {},
     "output_type": "execute_result"
    }
   ],
   "source": [
    "df_ue.shape"
   ]
  },
  {
   "cell_type": "markdown",
   "metadata": {},
   "source": [
    "#### Fuel"
   ]
  },
  {
   "cell_type": "code",
   "execution_count": 56,
   "metadata": {},
   "outputs": [
    {
     "name": "stdout",
     "output_type": "stream",
     "text": [
      "['Diesel' 'Gasolina' 'Gas licuado (GLP)' 'Gas natural (CNG)'\n",
      " 'Electro/Diesel' 'Electro/Gasolina' 'Electrico']\n"
     ]
    }
   ],
   "source": [
    "#Mercedes power\n",
    "df_ue['Fuel_type'] = df_ue['Fuel_type'].replace(['Eléctrico'],'Electrico')\n",
    "df_ue['Fuel_type'] =df_ue['Fuel_type'].replace(['Diésel'],'Diesel')\n",
    "df_ue['Fuel_type'] =df_ue['Fuel_type'].replace(['Electro/Diésel'],'Electro/Diesel')\n",
    "unique_values = df_ue['Fuel_type'].unique()\n",
    "print(unique_values)"
   ]
  },
  {
   "cell_type": "code",
   "execution_count": 57,
   "metadata": {},
   "outputs": [],
   "source": [
    "df_ue = df_ue[df_ue['Fuel_type']!='-/- (Combustible)']\n",
    "df_ue = df_ue[df_ue['Fuel_type']!='Otros']"
   ]
  },
  {
   "cell_type": "code",
   "execution_count": 58,
   "metadata": {},
   "outputs": [
    {
     "name": "stdout",
     "output_type": "stream",
     "text": [
      "['Diesel' 'Gasolina' 'Gas licuado (GLP)' 'Gas natural (CNG)'\n",
      " 'Electro/Diesel' 'Electro/Gasolina' 'Electrico']\n"
     ]
    }
   ],
   "source": [
    "#Mercedes power\n",
    "unique_values = df_ue['Fuel_type'].unique()\n",
    "print(unique_values)"
   ]
  },
  {
   "cell_type": "markdown",
   "metadata": {},
   "source": [
    "#### Transmision"
   ]
  },
  {
   "cell_type": "code",
   "execution_count": 59,
   "metadata": {},
   "outputs": [
    {
     "name": "stdout",
     "output_type": "stream",
     "text": [
      "['Automático' 'Manual' 'Semiautomático' '-/- (Cambio)']\n"
     ]
    }
   ],
   "source": [
    "#Mercedes transmision\n",
    "unique_values = df_ue['Transmision'].unique()\n",
    "print(unique_values)"
   ]
  },
  {
   "cell_type": "markdown",
   "metadata": {},
   "source": [
    "#### Price"
   ]
  },
  {
   "cell_type": "code",
   "execution_count": 60,
   "metadata": {},
   "outputs": [],
   "source": [
    "#Merdedes price\n",
    "df_ue['Price'] = df_ue['Price'].apply(pd.to_numeric)"
   ]
  },
  {
   "cell_type": "code",
   "execution_count": 61,
   "metadata": {},
   "outputs": [],
   "source": [
    "#Droping extremly high prices\n",
    "df_ue = df_ue[df_ue['Price']<70000]"
   ]
  },
  {
   "cell_type": "code",
   "execution_count": 62,
   "metadata": {},
   "outputs": [],
   "source": [
    "df_ue=df_ue[['Brand', 'Model','Year','Km','Power','Fuel_type', 'Price']]\n",
    "df_ue=df_ue.reset_index(drop=True)"
   ]
  },
  {
   "cell_type": "code",
   "execution_count": 63,
   "metadata": {},
   "outputs": [],
   "source": [
    "mercedes_ue=df_ue[['Brand', 'Model','Year','Km','Power','Fuel_type', 'Price']]"
   ]
  },
  {
   "cell_type": "code",
   "execution_count": 64,
   "metadata": {},
   "outputs": [
    {
     "data": {
      "text/plain": [
       "22"
      ]
     },
     "execution_count": 64,
     "metadata": {},
     "output_type": "execute_result"
    }
   ],
   "source": [
    "mercedes_ue['Model'].nunique()"
   ]
  },
  {
   "cell_type": "code",
   "execution_count": 65,
   "metadata": {},
   "outputs": [
    {
     "data": {
      "text/plain": [
       "(845, 7)"
      ]
     },
     "execution_count": 65,
     "metadata": {},
     "output_type": "execute_result"
    }
   ],
   "source": [
    "mercedes_ue.shape"
   ]
  },
  {
   "cell_type": "code",
   "execution_count": 66,
   "metadata": {},
   "outputs": [],
   "source": [
    "df_ue.to_csv ('mercedes_ue.csv', index = False, header=True)"
   ]
  },
  {
   "cell_type": "markdown",
   "metadata": {},
   "source": [
    "-------------------------------------------------------------------------------------------------------------------------------"
   ]
  }
 ],
 "metadata": {
  "kernelspec": {
   "display_name": "Python 3",
   "language": "python",
   "name": "python3"
  },
  "language_info": {
   "codemirror_mode": {
    "name": "ipython",
    "version": 3
   },
   "file_extension": ".py",
   "mimetype": "text/x-python",
   "name": "python",
   "nbconvert_exporter": "python",
   "pygments_lexer": "ipython3",
   "version": "3.7.6"
  }
 },
 "nbformat": 4,
 "nbformat_minor": 4
}
